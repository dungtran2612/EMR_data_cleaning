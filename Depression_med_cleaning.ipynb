{
 "cells": [
  {
   "cell_type": "code",
   "execution_count": null,
   "id": "96c4e0a6",
   "metadata": {},
   "outputs": [],
   "source": [
    "# load R packages\n",
    "library(readxl)\n",
    "packageVersion('readxl')\n",
    "library(dplyr)\n",
    "packageVersion('dplyr')\n",
    "library(stringr)\n",
    "packageVersion('stringr')\n",
    "library(fastDummies)\n",
    "packageVersion('fastDummies')\n",
    "library(tidyr)\n",
    "packageVersion('tidyr')\n",
    "library(lubridate)\n",
    "packageVersion('lubridate')\n",
    "library(ggplot2)\n",
    "packageVersion('ggplot2')"
   ]
  },
  {
   "cell_type": "code",
   "execution_count": null,
   "id": "c3c9cdda",
   "metadata": {},
   "outputs": [],
   "source": [
    "# set directory\n",
    "project.dir = '...'\n",
    "data.dir = '...'\n",
    "regeps.dir = '...'\n",
    "raw.rpdr.dir = file.path(regeps.dir, '...')\n",
    "cleaned.rpdr.dir = file.path(regeps.dir, '...')\n",
    "Qingwen.data.dir = file.path(regeps.dir, '...')"
   ]
  },
  {
   "cell_type": "code",
   "execution_count": null,
   "id": "828ec8f3",
   "metadata": {},
   "outputs": [],
   "source": [
    "# check med file to see how many rows\n",
    "med.lines <-readLines(file.path(raw.rpdr.dir, \"Med.txt\"))\n",
    "length(med.lines)"
   ]
  },
  {
   "cell_type": "code",
   "execution_count": null,
   "id": "c7a26672",
   "metadata": {},
   "outputs": [],
   "source": [
    "# load med file\n",
    "med.data <- read.delim(file.path(raw.rpdr.dir, \"Med.txt\"), sep = '|', quote=\"\", fill=FALSE)\n",
    "dim(med.data)\n",
    "length(unique(med.data$EMPI))\n",
    "head(med.data)"
   ]
  },
  {
   "cell_type": "code",
   "execution_count": null,
   "id": "59c223c9",
   "metadata": {},
   "outputs": [],
   "source": [
    "# change format of med date\n",
    "med.data$Medication_Date <- as.Date(med.data$Medication_Date, format = \"%m/%d/%Y\")\n",
    "typeof(med.data$Medication_Date)"
   ]
  },
  {
   "cell_type": "code",
   "execution_count": null,
   "id": "09a67a94",
   "metadata": {},
   "outputs": [],
   "source": [
    "table(med.data$Medication_Date_Detail) # check medication date detail"
   ]
  },
  {
   "cell_type": "code",
   "execution_count": null,
   "id": "85c99597",
   "metadata": {},
   "outputs": [],
   "source": [
    "# The 'Removed' value denotes that a medication was removed from a patient's medication list -> exclude 'Removed'\n",
    "med.listed <- med.data %>% filter(Medication_Date_Detail != 'Removed')\n",
    "dim(med.listed) # from 1463941 to 1415384"
   ]
  },
  {
   "cell_type": "code",
   "execution_count": null,
   "id": "16cef25e",
   "metadata": {},
   "outputs": [],
   "source": [
    "table(med.listed$Medication_Date_Detail) # check after removing"
   ]
  },
  {
   "cell_type": "code",
   "execution_count": null,
   "id": "9c18da64",
   "metadata": {
    "scrolled": false
   },
   "outputs": [],
   "source": [
    "# extract biobank ID\n",
    "data.id <- read.csv(file.path(cleaned.rpdr.dir, 'Subject_Id.csv'))\n",
    "dim(data.id)\n",
    "# merge biobank.ID and med.data file\n",
    "med.data.ID <- merge(med.listed,  data.id[,c('Subject_Id', 'EMPI')], by = 'EMPI')\n",
    "dim(med.data.ID)"
   ]
  },
  {
   "cell_type": "code",
   "execution_count": null,
   "id": "f73b2816",
   "metadata": {},
   "outputs": [],
   "source": [
    "head(med.data.ID)"
   ]
  },
  {
   "cell_type": "markdown",
   "id": "4be64522",
   "metadata": {},
   "source": [
    "## 1. SRRI: Selective serotonin reuptake inhibitors"
   ]
  },
  {
   "cell_type": "markdown",
   "id": "989dfb25",
   "metadata": {},
   "source": [
    "- Citalopram (Celexa).\n",
    "- Escitalopram (Lexapro).\n",
    "- Fluoxetine (Prozac).\n",
    "- Paroxetine (Paxil).\n",
    "- Sertraline (Zoloft).\n",
    "- Fluvoxamine (Luvox)"
   ]
  },
  {
   "cell_type": "code",
   "execution_count": null,
   "id": "baafcba8",
   "metadata": {},
   "outputs": [],
   "source": [
    "# string: Citalopram or Celexa\n",
    "citalopram.string <- med.data.ID %>% filter(str_detect(Medication, 'Citalopram|citalopram|Celexa|celexa')) %>%\n",
    "                                    filter(!str_detect(Medication, 'Escitalopram'))\n",
    "length(unique(citalopram.string$Medication))\n",
    "citalopram.string$Medication_name <- 'Citalopram'"
   ]
  },
  {
   "cell_type": "code",
   "execution_count": null,
   "id": "5d5ea7c9",
   "metadata": {},
   "outputs": [],
   "source": [
    "# string: escitalopram\n",
    "escitalopram.string <- med.data.ID %>% filter(str_detect(Medication, 'Escitalopram|escitalopram|Lexapro|lexapro'))\n",
    "length(unique(escitalopram.string$Medication))\n",
    "escitalopram.string$Medication_name <- 'Escitalopram'"
   ]
  },
  {
   "cell_type": "code",
   "execution_count": null,
   "id": "8b99c6af",
   "metadata": {},
   "outputs": [],
   "source": [
    "# string: fluoxetine\n",
    "fluoxetine.string <- med.data.ID %>% filter(str_detect(Medication, 'Fluoxetine|fluoxetine|Prozac|prozac'))\n",
    "length(unique(fluoxetine.string$Medication))\n",
    "fluoxetine.string$Medication_name <- 'Fluoxetine'"
   ]
  },
  {
   "cell_type": "code",
   "execution_count": null,
   "id": "c2683823",
   "metadata": {},
   "outputs": [],
   "source": [
    "# string: Paroxetine\n",
    "paroxetine.string <- med.data.ID %>% filter(str_detect(Medication, 'paroxetine|Paxil|paxil|Paroxetine'))\n",
    "length(unique(paroxetine.string$Medication))\n",
    "paroxetine.string$Medication_name <- 'Paroxetine'"
   ]
  },
  {
   "cell_type": "code",
   "execution_count": null,
   "id": "cf824587",
   "metadata": {},
   "outputs": [],
   "source": [
    "# string: sertraline\n",
    "sertraline.string <- med.data.ID %>% filter(str_detect(Medication, 'sertraline|Sertraline|Zolof|zolof'))\n",
    "length(unique(sertraline.string$Medication))\n",
    "sertraline.string$Medication_name <- 'Sertraline'"
   ]
  },
  {
   "cell_type": "code",
   "execution_count": null,
   "id": "88c2f560",
   "metadata": {},
   "outputs": [],
   "source": [
    "# string: fluvoxamine\n",
    "fluvoxamine.string <- med.data.ID %>% filter(str_detect(Medication, 'fluvoxamine|Fluvoxamine|Luvox|luvox'))\n",
    "length(unique(fluvoxamine.string$Medication))\n",
    "fluvoxamine.string$Medication_name <- 'Fluvoxamine'"
   ]
  },
  {
   "cell_type": "code",
   "execution_count": null,
   "id": "18c445f0",
   "metadata": {},
   "outputs": [],
   "source": [
    "dim(fluvoxamine.string)\n",
    "dim(sertraline.string)\n",
    "dim(paroxetine.string)\n",
    "dim(fluoxetine.string)\n",
    "dim(escitalopram.string)\n",
    "dim(citalopram.string)"
   ]
  },
  {
   "cell_type": "code",
   "execution_count": null,
   "id": "7b45dcf2",
   "metadata": {},
   "outputs": [],
   "source": [
    "srri.med <- rbind(fluvoxamine.string, sertraline.string, paroxetine.string,\n",
    "                  fluoxetine.string, escitalopram.string, citalopram.string)\n",
    "srri.med$Medication_group <- 'Selective_serotonin_reuptake_inhibitors'\n",
    "dim(srri.med)\n",
    "head(srri.med)"
   ]
  },
  {
   "cell_type": "markdown",
   "id": "3e504593",
   "metadata": {},
   "source": [
    "## 2. Serotonin-norepinephrine reuptake inhibitors (SNRIs)"
   ]
  },
  {
   "cell_type": "markdown",
   "id": "9c5b19f4",
   "metadata": {},
   "source": [
    "- Desvenlafaxine (Pristiq)\n",
    "- Duloxetine (Cymbalta) — also approved to treat anxiety and certain types of chronic pain\n",
    "- Levomilnacipran (Fetzima)\n",
    "- Venlafaxine (Effexor XR) — also approved to treat certain anxiety disorders and panic disorder\n",
    "- Milnacipran (Savella)"
   ]
  },
  {
   "cell_type": "code",
   "execution_count": null,
   "id": "6f8c410a",
   "metadata": {},
   "outputs": [],
   "source": [
    "# string: Desvenlafaxine\n",
    "desvenlafaxine.string <- med.data.ID %>% filter(str_detect(Medication, 'desvenlafaxine|Desvenlafaxine|Pristiq|pristiq'))\n",
    "length(unique(desvenlafaxine.string$Medication))\n",
    "unique(desvenlafaxine.string$Medication)\n",
    "desvenlafaxine.string$Medication_name <- 'Desvenlafaxine'"
   ]
  },
  {
   "cell_type": "code",
   "execution_count": null,
   "id": "3d94be4a",
   "metadata": {},
   "outputs": [],
   "source": [
    "# string: duloxetine\n",
    "duloxetine.string <- med.data.ID %>% filter(str_detect(Medication, 'Duloxetine|duloxetine|Cymbalta|cymbalta'))\n",
    "length(unique(duloxetine.string$Medication))\n",
    "unique(duloxetine.string$Medication)\n",
    "duloxetine.string$Medication_name <- 'Duloxetine'"
   ]
  },
  {
   "cell_type": "code",
   "execution_count": null,
   "id": "7e005d70",
   "metadata": {},
   "outputs": [],
   "source": [
    "# string: Levomilnacipran\n",
    "levomilnacipran.string <- med.data.ID %>% filter(str_detect(Medication, 'levomilnacipran|Levomilnacipran|fetzima|Fetzima'))\n",
    "length(unique(levomilnacipran.string$Medication))\n",
    "unique(levomilnacipran.string$Medication)\n",
    "levomilnacipran.string$Medication_name <- 'Levomilnacipran'"
   ]
  },
  {
   "cell_type": "code",
   "execution_count": null,
   "id": "53967e96",
   "metadata": {},
   "outputs": [],
   "source": [
    "# string: Venlafaxine\n",
    "venlafaxine.string <- med.data.ID %>% filter(str_detect(Medication, 'Venlafaxine|venlafaxine|Effexor XR|EffexorXR|effecxor|Effecxor|Effexor-oncall|Effexorxr|EffexorXr|Effexor Xr')) %>%\n",
    "filter(!str_detect(Medication, 'Desvenlafaxine|desvenlafaxine'))\n",
    "length(unique(venlafaxine.string$Medication))\n",
    "unique(venlafaxine.string$Medication)\n",
    "venlafaxine.string$Medication_name <- 'Venlafaxine'"
   ]
  },
  {
   "cell_type": "code",
   "execution_count": null,
   "id": "a544be60",
   "metadata": {},
   "outputs": [],
   "source": [
    "# string: Milnacipran\n",
    "milnacipran.string <- med.data.ID %>% filter(str_detect(Medication, 'Milnacipran|milnacipran|Savella|savella')) %>%\n",
    "filter(!str_detect(Medication, 'Levomilnacipran'))\n",
    "length(unique(milnacipran.string$Medication))\n",
    "unique(milnacipran.string$Medication)\n",
    "milnacipran.string$Medication_name <- 'Milnacipran'"
   ]
  },
  {
   "cell_type": "code",
   "execution_count": null,
   "id": "93cfdc04",
   "metadata": {},
   "outputs": [],
   "source": [
    "snri.med <- rbind(desvenlafaxine.string, duloxetine.string,\n",
    "                  levomilnacipran.string, venlafaxine.string, \n",
    "                  milnacipran.string)\n",
    "snri.med$Medication_group <- 'Serotonin_norepinephrine_reuptake_inhibitors'\n",
    "dim(snri.med)\n",
    "head(snri.med)"
   ]
  },
  {
   "cell_type": "markdown",
   "id": "b9cc0e7a",
   "metadata": {},
   "source": [
    "## 3. Atypical antidepressants"
   ]
  },
  {
   "cell_type": "markdown",
   "id": "9e231527",
   "metadata": {},
   "source": [
    "- Agomelatine (not available in the United States)\n",
    "- Bupropion (Aplenzin; Forfivo XL; Wellbutrin SR; Wellbutrin XL)\n",
    "- Mirtazapine (Remeron)"
   ]
  },
  {
   "cell_type": "code",
   "execution_count": null,
   "id": "9fc129bd",
   "metadata": {},
   "outputs": [],
   "source": [
    "# string: Bupropion\n",
    "bupropion.string <- med.data.ID %>% filter(str_detect(Medication, 'Bupropion|bupropion|Aplenzin|aplenzin|Forfivo|forfivo|Wellbutrin|wellbutrin|Fent |Zyban-oncall')) %>%\n",
    "filter(!str_detect(Medication, 'Naltrexone')) \n",
    "length(unique(bupropion.string$Medication))\n",
    "unique(bupropion.string$Medication)\n",
    "bupropion.string$Medication_name <- 'Bupropion'"
   ]
  },
  {
   "cell_type": "code",
   "execution_count": null,
   "id": "71227704",
   "metadata": {},
   "outputs": [],
   "source": [
    "# string: Mirtazapine\n",
    "mirtazapine.string <- med.data.ID %>% filter(str_detect(Medication, 'Mirtazapine|mirtazapine|Remeron|remeron'))\n",
    "length(unique(mirtazapine.string$Medication))\n",
    "unique(mirtazapine.string$Medication)\n",
    "mirtazapine.string$Medication_name <- 'Mirtazapine'"
   ]
  },
  {
   "cell_type": "code",
   "execution_count": null,
   "id": "03ab9915",
   "metadata": {},
   "outputs": [],
   "source": [
    "atypical.anti.med <- rbind(bupropion.string, mirtazapine.string)\n",
    "atypical.anti.med$Medication_group <- 'Atypical_antidepressants'\n",
    "dim(atypical.anti.med)\n",
    "head(atypical.anti.med)"
   ]
  },
  {
   "cell_type": "markdown",
   "id": "83a9089c",
   "metadata": {},
   "source": [
    "## 4. Serotonin modulators"
   ]
  },
  {
   "cell_type": "markdown",
   "id": "9b8962a6",
   "metadata": {},
   "source": [
    "- Nefazodone (Serzone)\n",
    "- Trazodone (Desyrel)\n",
    "- Vilazodone (Viibryd)\n",
    "- Vortioxetine (Trintellix)"
   ]
  },
  {
   "cell_type": "code",
   "execution_count": null,
   "id": "6e73a93f",
   "metadata": {},
   "outputs": [],
   "source": [
    "# string: Nefazodone \n",
    "nefazodone.string <- med.data.ID %>% filter(str_detect(Medication, 'Nefazodone|nefazodone|Serzone|serzone'))\n",
    "length(unique(nefazodone.string$Medication))\n",
    "unique(nefazodone.string$Medication)\n",
    "nefazodone.string$Medication_name <- 'Nefazodone'"
   ]
  },
  {
   "cell_type": "code",
   "execution_count": null,
   "id": "d6e84128",
   "metadata": {},
   "outputs": [],
   "source": [
    "# string: Trazodone\n",
    "trazodone.string <- med.data.ID %>% filter(str_detect(Medication, 'Trazodone|trazodone|Desyrel|desyrel'))\n",
    "length(unique(trazodone.string$Medication))\n",
    "unique(trazodone.string$Medication)\n",
    "trazodone.string$Medication_name <- 'Trazodone'"
   ]
  },
  {
   "cell_type": "code",
   "execution_count": null,
   "id": "13e3a356",
   "metadata": {},
   "outputs": [],
   "source": [
    "# string: Vilazodone\n",
    "vilazodone.string <- med.data.ID %>% filter(str_detect(Medication, 'Vilazodone|vilazodone|Viibryd|viibryd'))\n",
    "length(unique(vilazodone.string$Medication))\n",
    "unique(vilazodone.string$Medication)\n",
    "vilazodone.string$Medication_name <- 'Vilazodone'"
   ]
  },
  {
   "cell_type": "code",
   "execution_count": null,
   "id": "eb4f5d3a",
   "metadata": {},
   "outputs": [],
   "source": [
    "# Vortioxetine (Trintellix)\n",
    "vortioxetine.string <- med.data.ID %>% filter(str_detect(Medication, 'Vortioxetine|vortioxetine|Trintellix|trintellix'))\n",
    "length(unique(vortioxetine.string$Medication))\n",
    "unique(vortioxetine.string$Medication)\n",
    "vortioxetine.string$Medication_name <- 'Vortioxetine'"
   ]
  },
  {
   "cell_type": "code",
   "execution_count": null,
   "id": "a7df6214",
   "metadata": {},
   "outputs": [],
   "source": [
    "sero.mod.med <- rbind(nefazodone.string, trazodone.string, \n",
    "                      vilazodone.string, vortioxetine.string)\n",
    "sero.mod.med$Medication_group <- 'Serotonin_modulators'\n",
    "dim(sero.mod.med)\n",
    "head(sero.mod.med)"
   ]
  },
  {
   "cell_type": "markdown",
   "id": "a8f8515d",
   "metadata": {},
   "source": [
    "## 5. Tricyclic and tetracyclic antidepressants (\"TCAs\")"
   ]
  },
  {
   "cell_type": "markdown",
   "id": "934f1a28",
   "metadata": {},
   "source": [
    "- Amitriptyline (Elavil)\n",
    "- Amoxapine\n",
    "- Clomipramine (Anafranil)\n",
    "- Desipramine (Norpramin)\n",
    "- Doxepin (Silenor)\n",
    "- Imipramine (Tofranil)\n",
    "- Nortriptyline (Pamelor)\n",
    "- Protriptyline\n",
    "- Trimipramine (Surmontil)"
   ]
  },
  {
   "cell_type": "code",
   "execution_count": null,
   "id": "e7d264ce",
   "metadata": {},
   "outputs": [],
   "source": [
    "# Amitriptyline (Elavil)\n",
    "amitriptyline.string <- med.data.ID %>% filter(str_detect(Medication, 'Amitriptyline|amitriptyline|Elavil|elavil')) %>%\n",
    "filter(Medication != 'Amitriptyline Halftab 12.5 mg Tablet Cmpd BWF')\n",
    "length(unique(amitriptyline.string$Medication))\n",
    "unique(amitriptyline.string$Medication)\n",
    "amitriptyline.string$Medication_name <- 'Amitriptyline'"
   ]
  },
  {
   "cell_type": "code",
   "execution_count": null,
   "id": "55123b8a",
   "metadata": {},
   "outputs": [],
   "source": [
    "# Amoxapine\n",
    "amoxapine.string <- med.data.ID %>% filter(str_detect(Medication, 'Amoxapine|amoxapine'))\n",
    "length(unique(amoxapine.string$Medication))\n",
    "unique(amoxapine.string$Medication)\n",
    "#amoxapine.string$Medication_name <- 'Amoxapine'"
   ]
  },
  {
   "cell_type": "code",
   "execution_count": null,
   "id": "318df851",
   "metadata": {},
   "outputs": [],
   "source": [
    "# Clomipramine (Anafranil)\n",
    "clomipramine.string <- med.data.ID %>% filter(str_detect(Medication, 'Clomipramine|clomipramine|Anafranil|anafranil'))\n",
    "length(unique(clomipramine.string$Medication))\n",
    "unique(clomipramine.string$Medication)\n",
    "clomipramine.string$Medication_name <- 'Clomipramine'"
   ]
  },
  {
   "cell_type": "code",
   "execution_count": null,
   "id": "2e12f7b6",
   "metadata": {},
   "outputs": [],
   "source": [
    "# Desipramine (Norpramin)\n",
    "desipramine.string <- med.data.ID %>% filter(str_detect(Medication, 'Desipramine|desipramine|Norpramin|norpramin'))\n",
    "length(unique(desipramine.string$Medication))\n",
    "unique(desipramine.string$Medication)\n",
    "desipramine.string$Medication_name <- 'Desipramine'"
   ]
  },
  {
   "cell_type": "code",
   "execution_count": null,
   "id": "469c2315",
   "metadata": {},
   "outputs": [],
   "source": [
    "# Doxepin (Silenor)\n",
    "doxepin.string <- med.data.ID %>% filter(str_detect(Medication, 'Doxepin|doxepin|Silenor|silenor')) %>%\n",
    "filter(Medication != 'Doxepin 5 % Topical Cream')\n",
    "length(unique(doxepin.string$Medication))\n",
    "unique(doxepin.string$Medication)\n",
    "doxepin.string$Medication_name <- 'Doxepin'"
   ]
  },
  {
   "cell_type": "code",
   "execution_count": null,
   "id": "9c903059",
   "metadata": {},
   "outputs": [],
   "source": [
    "# Imipramine (Tofranil)\n",
    "imipramine.string <- med.data.ID %>% filter(str_detect(Medication, 'Imipramine|imipramine|Tofranil|tofranil'))\n",
    "length(unique(imipramine.string$Medication))\n",
    "unique(imipramine.string$Medication)\n",
    "imipramine.string$Medication_name <- 'Imipramine' "
   ]
  },
  {
   "cell_type": "code",
   "execution_count": null,
   "id": "5d8965de",
   "metadata": {},
   "outputs": [],
   "source": [
    "# Nortriptyline (Pamelor)\n",
    "nortriptyline.string <- med.data.ID %>% filter(str_detect(Medication, 'Nortriptyline|nortriptyline|Pamelor|pamelor'))\n",
    "length(unique(nortriptyline.string$Medication))\n",
    "unique(nortriptyline.string$Medication)\n",
    "nortriptyline.string$Medication_name <- 'Nortriptyline'"
   ]
  },
  {
   "cell_type": "code",
   "execution_count": null,
   "id": "c4356258",
   "metadata": {},
   "outputs": [],
   "source": [
    "# Protriptyline\n",
    "protriptyline.string <- med.data.ID %>% filter(str_detect(Medication, 'Protriptyline|protriptyline'))\n",
    "length(unique(protriptyline.string$Medication))\n",
    "unique(protriptyline.string$Medication)\n",
    "protriptyline.string$Medication_name <- 'Protriptyline'"
   ]
  },
  {
   "cell_type": "code",
   "execution_count": null,
   "id": "a9cbcc33",
   "metadata": {},
   "outputs": [],
   "source": [
    "# Trimipramine (Surmontil)\n",
    "trimipramine.string <- med.data.ID %>% filter(str_detect(Medication, 'Trimipramine|trimipramine|Surmontil|surmontil'))\n",
    "length(unique(trimipramine.string$Medication))\n",
    "unique(trimipramine.string$Medication)\n",
    "#trimipramine.string$Medication_name <- 'Trimipramine'"
   ]
  },
  {
   "cell_type": "code",
   "execution_count": null,
   "id": "e74b81ee",
   "metadata": {},
   "outputs": [],
   "source": [
    "# Tricyclic_and_tetracyclic_antidepressants\n",
    "tca.med <- rbind(protriptyline.string, nortriptyline.string,\n",
    "                 imipramine.string, doxepin.string, \n",
    "                 desipramine.string, clomipramine.string,\n",
    "                 amitriptyline.string)\n",
    "tca.med$Medication_group <- 'Tricyclic_and_tetracyclic_antidepressants'\n",
    "dim(tca.med)\n",
    "head(tca.med)"
   ]
  },
  {
   "cell_type": "markdown",
   "id": "1fdaca1a",
   "metadata": {},
   "source": [
    "## 6. Monoamine oxidase inhibitors (\"MAOIs\") "
   ]
  },
  {
   "cell_type": "markdown",
   "id": "a7bd9473",
   "metadata": {},
   "source": [
    "- Isocarboxazid (Marplan)\n",
    "- Moclobemide (not available in the United States)\n",
    "- Phenelzine (Nardil)\n",
    "- Selegiline (oral and transdermal formulations) (Emsam; Zelapar)\n",
    "- Tranylcypromine (Parnate)"
   ]
  },
  {
   "cell_type": "code",
   "execution_count": null,
   "id": "c4f71749",
   "metadata": {},
   "outputs": [],
   "source": [
    "isocarboxazid.string <- med.data.ID %>% filter(str_detect(Medication, 'Isocarboxazid|isocarboxazid|Marplan|marplan'))\n",
    "length(unique(isocarboxazid.string$Medication))\n",
    "unique(isocarboxazid.string$Medication)\n",
    "#isocarboxazid.string$Medication_name <- 'Isocarboxazid'"
   ]
  },
  {
   "cell_type": "code",
   "execution_count": null,
   "id": "8103a5b8",
   "metadata": {},
   "outputs": [],
   "source": [
    "phenelzine.string <- med.data.ID %>% filter(str_detect(Medication, 'Phenelzine|phenelzine|Nardil|nardil'))\n",
    "length(unique(phenelzine.string$Medication))\n",
    "unique(phenelzine.string$Medication)\n",
    "phenelzine.string$Medication_name <- 'Phenelzine'"
   ]
  },
  {
   "cell_type": "code",
   "execution_count": null,
   "id": "956f3aec",
   "metadata": {},
   "outputs": [],
   "source": [
    "selegiline.string <- med.data.ID %>% filter(str_detect(Medication, 'Selegiline|selegiline|Emsam|emsam|Zelapar|zelapar'))\n",
    "length(unique(selegiline.string$Medication))\n",
    "unique(selegiline.string$Medication)\n",
    "selegiline.string$Medication_name <- 'Selegiline'"
   ]
  },
  {
   "cell_type": "code",
   "execution_count": null,
   "id": "15964eb7",
   "metadata": {},
   "outputs": [],
   "source": [
    "# Tranylcypromine (Parnate)\n",
    "tranylcypromine.string <- med.data.ID %>% filter(str_detect(Medication, 'Tranylcypromine|tranylcypromine|Parnate|parnate'))\n",
    "length(unique(tranylcypromine.string$Medication))\n",
    "unique(tranylcypromine.string$Medication)\n",
    "tranylcypromine.string$Medication_name <- 'Tranylcypromine'"
   ]
  },
  {
   "cell_type": "code",
   "execution_count": null,
   "id": "da343833",
   "metadata": {},
   "outputs": [],
   "source": [
    "# Monoamine oxidase inhibitors (\"MAOIs\") \n",
    "maois.med <- rbind(tranylcypromine.string, selegiline.string, phenelzine.string)\n",
    "maois.med$Medication_group <- 'Monoamine_oxidase_inhibitors'\n",
    "dim(maois.med)\n",
    "head(maois.med)"
   ]
  },
  {
   "cell_type": "code",
   "execution_count": null,
   "id": "52c602c7",
   "metadata": {},
   "outputs": [],
   "source": [
    "## merge all files\n",
    "dim(maois.med)\n",
    "dim(tca.med)\n",
    "dim(sero.mod.med)\n",
    "dim(atypical.anti.med)\n",
    "dim(snri.med)\n",
    "dim(srri.med)"
   ]
  },
  {
   "cell_type": "code",
   "execution_count": null,
   "id": "cd43d420",
   "metadata": {},
   "outputs": [],
   "source": [
    "anti.depress.med <- rbind(maois.med, tca.med, sero.mod.med, atypical.anti.med, \n",
    "                         snri.med, srri.med)\n",
    "dim(anti.depress.med)\n",
    "head(anti.depress.med)"
   ]
  },
  {
   "cell_type": "markdown",
   "id": "582f2f0c",
   "metadata": {},
   "source": [
    "# Remove duplication"
   ]
  },
  {
   "cell_type": "code",
   "execution_count": null,
   "id": "bb1ce95e",
   "metadata": {},
   "outputs": [],
   "source": [
    "colnames(anti.depress.med)"
   ]
  },
  {
   "cell_type": "code",
   "execution_count": null,
   "id": "7391ddf8",
   "metadata": {},
   "outputs": [],
   "source": [
    "# selected columns\n",
    "anti.depress.med.selected.cols <- anti.depress.med %>% select(Subject_Id,Medication_Date, Medication, \n",
    "                                                   Additional_Info, Medication_name, \n",
    "                                                   Medication_group) %>%\n",
    "                                            arrange(Subject_Id, Medication_Date)\n",
    "dim(anti.depress.med.selected.cols)\n",
    "length(unique(anti.depress.med.selected.cols$Subject_Id)) # 772\n",
    "head(anti.depress.med.selected.cols, 10)"
   ]
  },
  {
   "cell_type": "code",
   "execution_count": null,
   "id": "0376cd57",
   "metadata": {},
   "outputs": [],
   "source": [
    "# extract ROUTE infomation from Additional info\n",
    "anti.depress.med.selected.cols$Route <- str_extract(anti.depress.med.selected.cols$Additional_Info, \"ROUTE=[^;]+\")\n",
    "# check route\n",
    "table(anti.depress.med.selected.cols$Route)"
   ]
  },
  {
   "cell_type": "code",
   "execution_count": null,
   "id": "9a6cf7a1",
   "metadata": {},
   "outputs": [],
   "source": [
    "dim(anti.depress.med.selected.cols[duplicated(anti.depress.med.selected.cols),]) # dup rows"
   ]
  },
  {
   "cell_type": "code",
   "execution_count": null,
   "id": "63b236ff",
   "metadata": {},
   "outputs": [],
   "source": [
    "# remove dup rows\n",
    "dim(anti.depress.med.selected.cols)\n",
    "anti.depress.no.dup.rows <- anti.depress.med.selected.cols[!duplicated(anti.depress.med.selected.cols),]\n",
    "dim(anti.depress.no.dup.rows)"
   ]
  },
  {
   "cell_type": "code",
   "execution_count": null,
   "id": "eb9023df",
   "metadata": {},
   "outputs": [],
   "source": [
    "anti.depress.med.group <- anti.depress.no.dup.rows %>% select(Subject_Id, Medication_Date, Medication_group)\n",
    "dim(anti.depress.med.group[duplicated(anti.depress.med.group),]) "
   ]
  },
  {
   "cell_type": "code",
   "execution_count": null,
   "id": "e89b6079",
   "metadata": {},
   "outputs": [],
   "source": [
    "dim(anti.depress.med.group)\n",
    "anti.depress.no.dup <- anti.depress.med.group[!duplicated(anti.depress.med.group),]\n",
    "dim(anti.depress.no.dup)"
   ]
  },
  {
   "cell_type": "code",
   "execution_count": null,
   "id": "a3e4ec26",
   "metadata": {},
   "outputs": [],
   "source": [
    "anti.depress.no.dup$Prescription <- 1 # assign 1 for a prescription\n",
    "head(anti.depress.no.dup)"
   ]
  },
  {
   "cell_type": "code",
   "execution_count": null,
   "id": "45f19ce0",
   "metadata": {},
   "outputs": [],
   "source": [
    "# Total number of prescription\n",
    "# Group by Subject_Id and sum of medication using dplyr\n",
    "anti.depress.prescr.counts.per.ind <- anti.depress.no.dup %>% group_by(Subject_Id) %>% \n",
    "  summarise(Antidepressants_total_number_of_prescriptions = sum(Prescription),\n",
    "            .groups = 'drop')\n",
    "dim(anti.depress.prescr.counts.per.ind)"
   ]
  },
  {
   "cell_type": "code",
   "execution_count": null,
   "id": "d2d1a3ab",
   "metadata": {},
   "outputs": [],
   "source": [
    "# summary statistic\n",
    "summary(anti.depress.prescr.counts.per.ind$Antidepressants_total_number_of_prescriptions)\n",
    "hist(anti.depress.prescr.counts.per.ind$Antidepressants_total_number_of_prescriptions)"
   ]
  },
  {
   "cell_type": "code",
   "execution_count": null,
   "id": "b281b898",
   "metadata": {},
   "outputs": [],
   "source": [
    "anti.depress.prescr.counts.per.ind %>% filter(Antidepressants_total_number_of_prescriptions == 780)"
   ]
  },
  {
   "cell_type": "code",
   "execution_count": null,
   "id": "f2439885",
   "metadata": {},
   "outputs": [],
   "source": [
    "# Calculate date difference based on plasma collection date\n",
    "anti.depress.group.w.date <- merge(anti.depress.no.dup , data.id[,c('Subject_Id', 'Plasma_collect_date')], \n",
    "                              by = 'Subject_Id')\n",
    "dim(anti.depress.group.w.date)"
   ]
  },
  {
   "cell_type": "code",
   "execution_count": null,
   "id": "61d20ec7",
   "metadata": {},
   "outputs": [],
   "source": [
    "# convert the date column to the Y-M-D format\n",
    "anti.depress.group.w.date$Medication_Date <- as.Date(anti.depress.group.w.date$Medication_Date, format = \"%m/%d/%Y\")\n",
    "typeof(anti.depress.group.w.date$Medication_Date)\n",
    "head(anti.depress.group.w.date$Medication_Date)\n",
    "\n",
    "# plasma collect date\n",
    "anti.depress.group.w.date$Plasma_collect_date <- as.Date(anti.depress.group.w.date$Plasma_collect_date, format = \"%Y -%m -%d\")\n",
    "typeof(anti.depress.group.w.date$Plasma_collect_date)\n",
    "head(anti.depress.group.w.date$Plasma_collect_date)"
   ]
  },
  {
   "cell_type": "code",
   "execution_count": null,
   "id": "38dfb056",
   "metadata": {},
   "outputs": [],
   "source": [
    "# substract collect date and diag date\n",
    "anti.depress.group.w.date[\"Days_Difference\"] <- difftime(anti.depress.group.w.date$Plasma_collect_date, \n",
    "                                                    anti.depress.group.w.date$Medication_Date, units = \"days\")\n",
    "anti.depress.group.w.date$Days_Difference <- as.numeric(anti.depress.group.w.date$Days_Difference)\n",
    "head(anti.depress.group.w.date$Days_Difference,10)\n",
    "# absolute values\n",
    "anti.depress.group.w.date[\"Days_Difference_Abs\"] <- as.numeric(abs(anti.depress.group.w.date$Days_Difference))\n",
    "head(anti.depress.group.w.date$Days_Difference_Abs,10)"
   ]
  },
  {
   "cell_type": "code",
   "execution_count": null,
   "id": "3142fc6b",
   "metadata": {},
   "outputs": [],
   "source": [
    "typeof(anti.depress.group.w.date$Days_Difference)\n",
    "typeof(anti.depress.group.w.date$Days_Difference_Abs)"
   ]
  },
  {
   "cell_type": "code",
   "execution_count": null,
   "id": "7c1a8473",
   "metadata": {},
   "outputs": [],
   "source": [
    "# create a dataset of no of prescriptions within 5 years based on sample collection date\n",
    "anti.depress.5y <- anti.depress.group.w.date %>% filter(Days_Difference_Abs <= 1826)\n",
    "dim(anti.depress.5y)\n",
    "\n",
    "# check how many individuals have ICS prescriptions within the last 5 years based on sample collection date\n",
    "length(unique(anti.depress.5y$Subject_Id)) # 704 individuals"
   ]
  },
  {
   "cell_type": "code",
   "execution_count": null,
   "id": "4b197e11",
   "metadata": {},
   "outputs": [],
   "source": [
    "summary(as.numeric(anti.depress.5y$Days_Difference))"
   ]
  },
  {
   "cell_type": "code",
   "execution_count": null,
   "id": "887d13ad",
   "metadata": {},
   "outputs": [],
   "source": [
    "# Group by Subject_Id and sum of medication date using dplyr\n",
    "anti.depress.5y.counts.per.ind <- anti.depress.5y %>% group_by(Subject_Id) %>% \n",
    "  summarise(Antidpressants_total_number_of_prescriptions_within_5y = sum(Prescription),\n",
    "            .groups = 'drop')\n",
    "dim(anti.depress.5y.counts.per.ind)"
   ]
  },
  {
   "cell_type": "code",
   "execution_count": null,
   "id": "8422b1c7",
   "metadata": {},
   "outputs": [],
   "source": [
    "summary(anti.depress.5y.counts.per.ind$Antidpressants_total_number_of_prescriptions_within_5y)\n",
    "plot(anti.depress.5y.counts.per.ind$Antidpressants_total_number_of_prescriptions_within_5y)"
   ]
  },
  {
   "cell_type": "code",
   "execution_count": null,
   "id": "3bfdaa94",
   "metadata": {},
   "outputs": [],
   "source": [
    "# check 467\n",
    "anti.depress.5y.counts.per.ind %>% filter(Antidpressants_total_number_of_prescriptions_within_5y == 467)"
   ]
  },
  {
   "cell_type": "code",
   "execution_count": null,
   "id": "fe039281",
   "metadata": {},
   "outputs": [],
   "source": [
    "anti.depress.no.dup %>% filter(Subject_Id == '10028225') %>% arrange(Medication_Date)"
   ]
  },
  {
   "cell_type": "markdown",
   "id": "9f20d153",
   "metadata": {},
   "source": [
    "## Check oral"
   ]
  },
  {
   "cell_type": "code",
   "execution_count": null,
   "id": "c51b60fe",
   "metadata": {},
   "outputs": [],
   "source": [
    "# select only oral vs PO\n",
    "antidepress.oral <- anti.depress.med.selected.cols %>% filter(Route == 'ROUTE=PO' | Route == 'ROUTE=Oral')"
   ]
  },
  {
   "cell_type": "code",
   "execution_count": null,
   "id": "0dbea7e6",
   "metadata": {},
   "outputs": [],
   "source": [
    "# remove dup rows\n",
    "dim(antidepress.oral)\n",
    "antidepress.oral.no.dup.rows <- antidepress.oral[!duplicated(antidepress.oral),]\n",
    "dim(antidepress.oral.no.dup.rows)"
   ]
  },
  {
   "cell_type": "code",
   "execution_count": null,
   "id": "0091e35b",
   "metadata": {},
   "outputs": [],
   "source": [
    "antidepress.oral.med.group <- antidepress.oral.no.dup.rows %>% select(Subject_Id, Medication_Date, Medication_group)\n",
    "dim(antidepress.oral.med.group[duplicated(antidepress.oral.med.group),]) "
   ]
  },
  {
   "cell_type": "code",
   "execution_count": null,
   "id": "40134cbf",
   "metadata": {},
   "outputs": [],
   "source": [
    "dim(antidepress.oral.med.group)\n",
    "antidepress.oral.no.dup <- antidepress.oral.med.group[!duplicated(antidepress.oral.med.group),]\n",
    "dim(antidepress.oral.no.dup)"
   ]
  },
  {
   "cell_type": "code",
   "execution_count": null,
   "id": "1b5c7846",
   "metadata": {},
   "outputs": [],
   "source": [
    "antidepress.oral.no.dup$Prescription <- 1 # assign 1 for a prescription\n",
    "head(antidepress.oral.no.dup)"
   ]
  },
  {
   "cell_type": "code",
   "execution_count": null,
   "id": "02f7aa6f",
   "metadata": {},
   "outputs": [],
   "source": [
    "# Total number of prescription\n",
    "# Group by Subject_Id and sum of medication using dplyr\n",
    "antidepress.oral.prescr.counts.per.ind <- antidepress.oral.no.dup %>% group_by(Subject_Id) %>% \n",
    "  summarise(Antidepressants_oral_total_number_of_prescriptions = sum(Prescription),\n",
    "            .groups = 'drop')\n",
    "dim(antidepress.oral.prescr.counts.per.ind)"
   ]
  },
  {
   "cell_type": "code",
   "execution_count": null,
   "id": "1bdd7366",
   "metadata": {},
   "outputs": [],
   "source": [
    "# summary statistic\n",
    "summary(antidepress.oral.prescr.counts.per.ind$Antidepressants_oral_total_number_of_prescriptions)\n",
    "hist(antidepress.oral.prescr.counts.per.ind$Antidepressants_oral_total_number_of_prescriptions)"
   ]
  },
  {
   "cell_type": "code",
   "execution_count": null,
   "id": "5857449c",
   "metadata": {},
   "outputs": [],
   "source": [
    "# Calculate date difference based on plasma collection date\n",
    "antidepress.oral.group.w.date <- merge(antidepress.oral.no.dup , data.id[,c('Subject_Id', 'Plasma_collect_date')], \n",
    "                              by = 'Subject_Id')\n",
    "dim(antidepress.oral.group.w.date)"
   ]
  },
  {
   "cell_type": "code",
   "execution_count": null,
   "id": "5c13f96d",
   "metadata": {},
   "outputs": [],
   "source": [
    "# convert the date column to the Y-M-D format\n",
    "antidepress.oral.group.w.date$Medication_Date <- as.Date(antidepress.oral.group.w.date$Medication_Date, format = \"%m/%d/%Y\")\n",
    "typeof(antidepress.oral.group.w.date$Medication_Date)\n",
    "head(antidepress.oral.group.w.date$Medication_Date)\n",
    "\n",
    "# plasma collect date\n",
    "antidepress.oral.group.w.date$Plasma_collect_date <- as.Date(antidepress.oral.group.w.date$Plasma_collect_date, format = \"%Y -%m -%d\")\n",
    "typeof(antidepress.oral.group.w.date$Plasma_collect_date)\n",
    "head(antidepress.oral.group.w.date$Plasma_collect_date)"
   ]
  },
  {
   "cell_type": "code",
   "execution_count": null,
   "id": "7f673900",
   "metadata": {},
   "outputs": [],
   "source": [
    "# substract collect date and diag date\n",
    "antidepress.oral.group.w.date[\"Days_Difference\"] <- difftime(antidepress.oral.group.w.date$Plasma_collect_date, \n",
    "                                                    antidepress.oral.group.w.date$Medication_Date, units = \"days\")\n",
    "antidepress.oral.group.w.date$Days_Difference <- as.numeric(antidepress.oral.group.w.date$Days_Difference)\n",
    "head(antidepress.oral.group.w.date$Days_Difference,10)\n",
    "# absolute values\n",
    "antidepress.oral.group.w.date[\"Days_Difference_Abs\"] <- as.numeric(abs(antidepress.oral.group.w.date$Days_Difference))\n",
    "head(antidepress.oral.group.w.date$Days_Difference_Abs,10)"
   ]
  },
  {
   "cell_type": "code",
   "execution_count": null,
   "id": "2639eb99",
   "metadata": {},
   "outputs": [],
   "source": [
    "typeof(antidepress.oral.group.w.date$Days_Difference)\n",
    "typeof(antidepress.oral.group.w.date$Days_Difference_Abs)"
   ]
  },
  {
   "cell_type": "code",
   "execution_count": null,
   "id": "7376cf2c",
   "metadata": {},
   "outputs": [],
   "source": [
    "# create a dataset of no of prescriptions within 5 years based on sample collection date\n",
    "antidepress.oral.5y <- antidepress.oral.group.w.date %>% filter(Days_Difference_Abs <= 1826)\n",
    "dim(antidepress.oral.5y)\n",
    "\n",
    "# check how many individuals have ICS prescriptions within the last 5 years based on sample collection date\n",
    "length(unique(antidepress.oral.5y$Subject_Id)) # 641 individuals"
   ]
  },
  {
   "cell_type": "code",
   "execution_count": null,
   "id": "3297cf27",
   "metadata": {},
   "outputs": [],
   "source": [
    "summary(as.numeric(antidepress.oral.5y$Days_Difference))"
   ]
  },
  {
   "cell_type": "code",
   "execution_count": null,
   "id": "8860ec96",
   "metadata": {},
   "outputs": [],
   "source": [
    "# Group by Subject_Id and sum of medication date using dplyr\n",
    "antidepress.oral.5y.counts.per.ind <- antidepress.oral.5y %>% group_by(Subject_Id) %>% \n",
    "  summarise(Antidepressants_oral_total_number_of_prescriptions_within_5y = sum(Prescription),\n",
    "            .groups = 'drop')\n",
    "dim(antidepress.oral.5y.counts.per.ind)"
   ]
  },
  {
   "cell_type": "code",
   "execution_count": null,
   "id": "7f262991",
   "metadata": {},
   "outputs": [],
   "source": [
    "summary(antidepress.oral.5y.counts.per.ind$Antidepressants_oral_total_number_of_prescriptions_within_5y)\n",
    "plot(antidepress.oral.5y.counts.per.ind$Antidepressants_oral_total_number_of_prescriptions_within_5y)"
   ]
  },
  {
   "cell_type": "markdown",
   "id": "bfb72189",
   "metadata": {},
   "source": [
    "## Depression PPV"
   ]
  },
  {
   "cell_type": "code",
   "execution_count": null,
   "id": "55d6cd15",
   "metadata": {},
   "outputs": [],
   "source": [
    "# PPV data from biobank portal\n",
    "depression.biobank <- read.csv(file.path(data.dir,'Diabetes_PPV.csv'))\n",
    "dim(depression.biobank)\n",
    "head(depression.biobank)"
   ]
  },
  {
   "cell_type": "code",
   "execution_count": null,
   "id": "8453b37f",
   "metadata": {},
   "outputs": [],
   "source": [
    "# change name of column\n",
    "colnames(depression.biobank) <- c('Subject_Id', 'Gender', 'Age', 'Race', 'Ethnicity', 'Vital_status',\n",
    "                               'Depression_current_or_past_history_PPV_090_Existence_Yes_No',\n",
    "                               'T1DM_current_or_past_history_PPV_080_Existence_Yes_No',\n",
    "                               'T1DM_current_or_past_history_PPV_090_Existence_Yes_No',\n",
    "                               'T2DM_current_or_past_history_PPV_080_Existence_Yes_No',\n",
    "                               'T2DM_current_or_past_history_PPV_090_Existence_Yes_No')\n",
    "head(depression.biobank)"
   ]
  },
  {
   "cell_type": "code",
   "execution_count": null,
   "id": "ff0c58f5",
   "metadata": {},
   "outputs": [],
   "source": [
    "table(depression.biobank$Depression_current_or_past_history_PPV_090_Existence_Yes_No)"
   ]
  },
  {
   "cell_type": "code",
   "execution_count": null,
   "id": "36b9c163",
   "metadata": {},
   "outputs": [],
   "source": [
    "depression.ppv.yes <- depression.biobank %>% filter(Depression_current_or_past_history_PPV_090_Existence_Yes_No == 'Yes')"
   ]
  },
  {
   "cell_type": "code",
   "execution_count": null,
   "id": "df561163",
   "metadata": {},
   "outputs": [],
   "source": [
    "depression.ppv.yes %>% filter(Subject_Id %in% antidepress.oral.5y.counts.per.ind$Subject_Id) # 358 of 388"
   ]
  },
  {
   "cell_type": "code",
   "execution_count": null,
   "id": "a94c663e",
   "metadata": {},
   "outputs": [],
   "source": [
    "head(antidepress.oral.5y.counts.per.ind)\n",
    "head(anti.depress.5y.counts.per.ind)"
   ]
  },
  {
   "cell_type": "markdown",
   "id": "0fdfc6f1",
   "metadata": {},
   "source": [
    "## Antidepressant oral: Count number of prescription of each medication group in 5 years"
   ]
  },
  {
   "cell_type": "code",
   "execution_count": null,
   "id": "069fa59f",
   "metadata": {
    "scrolled": true
   },
   "outputs": [],
   "source": [
    "# create dummy variables for each diag category in antidepress.oral.5y\n",
    "antidepress.oral.category.no.dup.dummy <- dummy_cols(antidepress.oral.5y,\n",
    "                   select_columns = \"Medication_group\")\n",
    "dim(antidepress.oral.category.no.dup.dummy)"
   ]
  },
  {
   "cell_type": "code",
   "execution_count": null,
   "id": "13d95a03",
   "metadata": {},
   "outputs": [],
   "source": [
    "head(antidepress.oral.category.no.dup.dummy)"
   ]
  },
  {
   "cell_type": "code",
   "execution_count": null,
   "id": "f8bbfb80",
   "metadata": {},
   "outputs": [],
   "source": [
    "which(colnames(antidepress.oral.category.no.dup.dummy) == 'Medication_group_Atypical_antidepressants')"
   ]
  },
  {
   "cell_type": "code",
   "execution_count": null,
   "id": "08152559",
   "metadata": {},
   "outputs": [],
   "source": [
    "# check how many counts in each columns\n",
    "antidepress.oral.category.cols <- colnames(antidepress.oral.category.no.dup.dummy)[8:ncol(antidepress.oral.category.no.dup.dummy)]\n",
    "for (i in c(1:length(antidepress.oral.category.cols))){\n",
    "  print(antidepress.oral.category.cols[i])\n",
    "  print(table(antidepress.oral.category.no.dup.dummy[, antidepress.oral.category.cols[i]]))\n",
    "}"
   ]
  },
  {
   "cell_type": "code",
   "execution_count": null,
   "id": "a2da099e",
   "metadata": {},
   "outputs": [],
   "source": [
    "# group by Subject_Id and sum all columns\n",
    "antidepress.oral.category.no.dup.dummy.group <- antidepress.oral.category.no.dup.dummy[,-2:-7] # remove un-neccesary columns\n",
    "sum.antidepress.oral.category <- antidepress.oral.category.no.dup.dummy.group %>% group_by(Subject_Id) %>% \n",
    "                                                summarise(across(everything(), sum), .groups = 'drop') %>%\n",
    "                                                as.data.frame()\n",
    "dim(sum.antidepress.oral.category)\n",
    "head(sum.antidepress.oral.category)"
   ]
  },
  {
   "cell_type": "code",
   "execution_count": null,
   "id": "8898e6a0",
   "metadata": {},
   "outputs": [],
   "source": [
    "# add column: Yes or No for each medication type\n",
    "exist.sum.antidepress.oral.category <- sum.antidepress.oral.category\n",
    "exist.sum.antidepress.oral.category[,-1] <- ifelse(exist.sum.antidepress.oral.category[,-1] > 0, 'Yes', 'No')\n",
    "colnames(exist.sum.antidepress.oral.category)[-1] <- paste(colnames(exist.sum.antidepress.oral.category[,-1]),'_Existence_5Y_Yes_No', sep = '')"
   ]
  },
  {
   "cell_type": "code",
   "execution_count": null,
   "id": "713a1be7",
   "metadata": {},
   "outputs": [],
   "source": [
    "# add suffix count after each medication\n",
    "colnames(sum.antidepress.oral.category)[-1]<- paste(colnames(sum.antidepress.oral.category[,-1]),\"total_prescription_5Y\",sep=\"_\")"
   ]
  },
  {
   "cell_type": "code",
   "execution_count": null,
   "id": "bfb2ece7",
   "metadata": {},
   "outputs": [],
   "source": [
    "# merge\n",
    "sum.antidepress.oral.category.final <- merge(sum.antidepress.oral.category, exist.sum.antidepress.oral.category, by = 'Subject_Id')\n",
    "dim(sum.antidepress.oral.category.final)"
   ]
  },
  {
   "cell_type": "code",
   "execution_count": null,
   "id": "9f6850bd",
   "metadata": {},
   "outputs": [],
   "source": [
    "# Remove the \"Medication_group_\" prefix from all column names\n",
    "names(sum.antidepress.oral.category.final) <- gsub(\"Medication_group_\", \"\", names(sum.antidepress.oral.category.final))\n",
    "dim(sum.antidepress.oral.category.final)"
   ]
  },
  {
   "cell_type": "code",
   "execution_count": null,
   "id": "8703c16b",
   "metadata": {},
   "outputs": [],
   "source": [
    "# add column: Yes or No for antidepress.oral prescp total\n",
    "sum.antidepress.oral.category.final$Any_antidepress.oral_Medication_Existence_Yes_No <- 'Yes' # yes for antidepress.oral prescp\n",
    "head(sum.antidepress.oral.category.final)"
   ]
  },
  {
   "cell_type": "code",
   "execution_count": null,
   "id": "f4b6db27",
   "metadata": {},
   "outputs": [],
   "source": [
    "dim(sum.antidepress.oral.category.final)\n",
    "dim(anti.depress.5y.counts.per.ind)\n",
    "dim(antidepress.oral.5y.counts.per.ind)\n",
    "dim(depression.biobank)"
   ]
  },
  {
   "cell_type": "code",
   "execution_count": null,
   "id": "a5b4cd86",
   "metadata": {},
   "outputs": [],
   "source": [
    "# merge files\n",
    "depression.data <- depression.biobank[,c('Subject_Id', 'Depression_current_or_past_history_PPV_090_Existence_Yes_No')] %>%\n",
    "left_join(antidepress.oral.5y.counts.per.ind, by = 'Subject_Id') %>%\n",
    "left_join(anti.depress.5y.counts.per.ind, by = 'Subject_Id') %>% \n",
    "left_join(sum.antidepress.oral.category.final, by = 'Subject_Id')\n",
    "head(depression.data)"
   ]
  },
  {
   "cell_type": "code",
   "execution_count": null,
   "id": "189be9ff",
   "metadata": {},
   "outputs": [],
   "source": [
    "dim(depression.data)"
   ]
  },
  {
   "cell_type": "code",
   "execution_count": null,
   "id": "7cf9bd18",
   "metadata": {},
   "outputs": [],
   "source": [
    "met.dir = '...'\n",
    "write.csv(depression.data, file.path(met.dir, 'Antidepressants_prescription_summary.csv'), row.names = FALSE)"
   ]
  },
  {
   "cell_type": "code",
   "execution_count": null,
   "id": "878298c3",
   "metadata": {},
   "outputs": [],
   "source": []
  }
 ],
 "metadata": {
  "kernelspec": {
   "display_name": "R",
   "language": "R",
   "name": "ir"
  },
  "language_info": {
   "codemirror_mode": "r",
   "file_extension": ".r",
   "mimetype": "text/x-r-source",
   "name": "R",
   "pygments_lexer": "r",
   "version": "4.1.0"
  }
 },
 "nbformat": 4,
 "nbformat_minor": 5
}
