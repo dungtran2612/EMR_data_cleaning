{
 "cells": [
  {
   "cell_type": "code",
   "execution_count": null,
   "id": "dca31305",
   "metadata": {
    "scrolled": true
   },
   "outputs": [],
   "source": [
    "# load R packages\n",
    "library(readxl)\n",
    "packageVersion('readxl')\n",
    "library(dplyr)\n",
    "packageVersion('dplyr')\n",
    "library(stringr)\n",
    "packageVersion('stringr')\n",
    "library(fastDummies)\n",
    "packageVersion('fastDummies')\n",
    "library(tidyr)\n",
    "packageVersion('tidyr')\n",
    "library(lubridate)\n",
    "packageVersion('lubridate')\n",
    "library(ggplot2)\n",
    "packageVersion('ggplot2')"
   ]
  },
  {
   "cell_type": "code",
   "execution_count": null,
   "id": "629b1f0e",
   "metadata": {},
   "outputs": [],
   "source": [
    "# set directory\n",
    "project.dir = '...'\n",
    "data.dir = '...'\n",
    "regeps.dir = '...'\n",
    "raw.rpdr.dir = file.path(regeps.dir, '...')\n",
    "cleaned.rpdr.dir = file.path(regeps.dir, '...')"
   ]
  },
  {
   "cell_type": "code",
   "execution_count": null,
   "id": "4393bb78",
   "metadata": {},
   "outputs": [],
   "source": [
    "# check lab file to see how many rows\n",
    "lab.lines <-readLines(file.path(raw.rpdr.dir, \"Lab.txt\"))\n",
    "length(lab.lines)"
   ]
  },
  {
   "cell_type": "code",
   "execution_count": null,
   "id": "d09d8498",
   "metadata": {},
   "outputs": [],
   "source": [
    "# load lab file\n",
    "lab.data <- read.delim(file.path(raw.rpdr.dir, \"Lab.txt\"), sep = '|')\n",
    "dim(lab.data)\n",
    "length(unique(lab.data$EMPI)) # only 902 indviduals\n",
    "head(lab.data)"
   ]
  },
  {
   "cell_type": "code",
   "execution_count": null,
   "id": "d437aa7f",
   "metadata": {},
   "outputs": [],
   "source": [
    "# extract biobank ID from Subject_Id.csv\n",
    "data.id <- read.csv(file.path(cleaned.rpdr.dir, 'Subject_Id.csv'))\n",
    "dim(data.id)"
   ]
  },
  {
   "cell_type": "code",
   "execution_count": null,
   "id": "0f073bab",
   "metadata": {},
   "outputs": [],
   "source": [
    "# merge biobank.ID and phy.data file\n",
    "lab.data.ID <- merge(lab.data, data.id[,c('Subject_Id', 'EMPI')], by = 'EMPI')\n",
    "dim(lab.data.ID)\n",
    "colSums(is.na(lab.data.ID))\n",
    "head(lab.data.ID)"
   ]
  },
  {
   "cell_type": "code",
   "execution_count": null,
   "id": "b712f07b",
   "metadata": {},
   "outputs": [],
   "source": [
    "table(lab.data.ID$Group_Id)"
   ]
  },
  {
   "cell_type": "code",
   "execution_count": null,
   "id": "e9a2f093",
   "metadata": {},
   "outputs": [],
   "source": [
    "acth.data <- lab.data.ID %>% filter(str_detect(Group_Id, 'ACTH'))\n",
    "table(acth.data $Group_Id)\n",
    "length(unique(acth.data$Subject_Id)) # only 269 patients having ACTH --> use cortisol data"
   ]
  },
  {
   "cell_type": "code",
   "execution_count": null,
   "id": "bb5fc084",
   "metadata": {},
   "outputs": [],
   "source": [
    "# subset data with CORTISOL/Cortisol.cortisol in Test_Description\n",
    "cor.data <- lab.data.ID %>% filter(str_detect(Test_Description, 'CORTISOL|Cortisol|cortisol'))\n",
    "dim(cor.data)\n",
    "\n",
    "# make sure Test_Description has only cortisol\n",
    "unique(cor.data$Test_Description)"
   ]
  },
  {
   "cell_type": "code",
   "execution_count": null,
   "id": "536844b7",
   "metadata": {},
   "outputs": [],
   "source": [
    "table(cor.data$Group_Id) # remove ACTH"
   ]
  },
  {
   "cell_type": "code",
   "execution_count": null,
   "id": "e28e224f",
   "metadata": {},
   "outputs": [],
   "source": [
    "# select only cortisol, no ACTH\n",
    "CORT.group.id <- cor.data %>% filter(Group_Id != 'CORT-ACTH30')\n",
    "dim(CORT.group.id)\n",
    "head(CORT.group.id)\n",
    "\n",
    "unique(CORT.group.id$Test_Description)"
   ]
  },
  {
   "cell_type": "code",
   "execution_count": null,
   "id": "2eb7a819",
   "metadata": {},
   "outputs": [],
   "source": [
    "# select columns\n",
    "CORT.group.id.selected.cols <- CORT.group.id %>% select(Subject_Id, Seq_Date_Time, \n",
    "                                                        Group_Id, Result, Reference_Units, \n",
    "                                                        Result_Text, Reference_Range, Abnormal_Flag)\n",
    "dim(CORT.group.id.selected.cols)"
   ]
  },
  {
   "cell_type": "code",
   "execution_count": null,
   "id": "8102534b",
   "metadata": {},
   "outputs": [],
   "source": [
    "colnames(CORT.group.id.selected.cols)"
   ]
  },
  {
   "cell_type": "code",
   "execution_count": null,
   "id": "ac346809",
   "metadata": {},
   "outputs": [],
   "source": [
    "# check duplication\n",
    "CORT.group.id.selected.cols[duplicated(CORT.group.id.selected.cols), ] "
   ]
  },
  {
   "cell_type": "code",
   "execution_count": null,
   "id": "4ce95ea4",
   "metadata": {},
   "outputs": [],
   "source": [
    "# remove duplicated rows\n",
    "CORT.group.id.no.dup <- CORT.group.id.selected.cols[!duplicated(CORT.group.id.selected.cols), ] \n",
    "dim(CORT.group.id.no.dup) # 5 duplicated rows"
   ]
  },
  {
   "cell_type": "markdown",
   "id": "dd75e258",
   "metadata": {},
   "source": [
    "## Clean cortisol result"
   ]
  },
  {
   "cell_type": "code",
   "execution_count": null,
   "id": "d75d3506",
   "metadata": {},
   "outputs": [],
   "source": [
    "sort(CORT.group.id.no.dup$Result) # result has both string, numeric and less than"
   ]
  },
  {
   "cell_type": "code",
   "execution_count": null,
   "id": "d4b29bd6",
   "metadata": {},
   "outputs": [],
   "source": [
    "# check cortisol value with less than ...\n",
    "result.w.lt <- CORT.group.id.no.dup %>% filter(str_detect(Result, '<')) # a dataset has only less than..in result\n",
    "dim(result.w.lt) # 68\n",
    "head(result.w.lt)"
   ]
  },
  {
   "cell_type": "code",
   "execution_count": null,
   "id": "edfb06c7",
   "metadata": {},
   "outputs": [],
   "source": [
    "# remove less than\n",
    "result.w.lt$Result.new <- gsub('<','',result.w.lt$Result)\n",
    "dim(result.w.lt)\n",
    "head(result.w.lt)"
   ]
  },
  {
   "cell_type": "code",
   "execution_count": null,
   "id": "48edfaa9",
   "metadata": {},
   "outputs": [],
   "source": [
    "# minus 0.01\n",
    "result.w.lt$Result.new <- as.numeric(result.w.lt$Result.new)\n",
    "result.w.lt$Result.new <- result.w.lt$Result.new - 0.01\n",
    "dim(result.w.lt)\n",
    "head(result.w.lt, 10)"
   ]
  },
  {
   "cell_type": "code",
   "execution_count": null,
   "id": "29f833d0",
   "metadata": {},
   "outputs": [],
   "source": [
    "table(result.w.lt$Reference_Units) # 9 samples with ng/dL -> convert values"
   ]
  },
  {
   "cell_type": "code",
   "execution_count": null,
   "id": "6ef83f34",
   "metadata": {},
   "outputs": [],
   "source": [
    "unique((result.w.lt %>% filter(Reference_Units == 'ng/dL'))$Result.new) # all 49.99"
   ]
  },
  {
   "cell_type": "code",
   "execution_count": null,
   "id": "45ffe8b6",
   "metadata": {},
   "outputs": [],
   "source": [
    "result.w.lt$Result.new[result.w.lt$Reference_Units == 'ng/dL'] <- 49.99 * 0.001\n",
    "unique((result.w.lt %>% filter(Reference_Units == 'ng/dL'))$Result.new)"
   ]
  },
  {
   "cell_type": "code",
   "execution_count": null,
   "id": "88bcd182",
   "metadata": {},
   "outputs": [],
   "source": [
    "colnames(result.w.lt)"
   ]
  },
  {
   "cell_type": "code",
   "execution_count": null,
   "id": "585f34f6",
   "metadata": {},
   "outputs": [],
   "source": [
    "# change column name: Result.new to Result.ug.dl\n",
    "colnames(result.w.lt)[9] <- 'Result.ug.dl'\n",
    "dim(result.w.lt)\n",
    "head(result.w.lt)"
   ]
  },
  {
   "cell_type": "code",
   "execution_count": null,
   "id": "adb8518b",
   "metadata": {},
   "outputs": [],
   "source": [
    "# convert string to numeric. auto convert strings to NAs\n",
    "CORT.group.id.no.dup$Result <- as.numeric(CORT.group.id.no.dup$Result)\n",
    "dim(CORT.group.id.no.dup)\n",
    "\n",
    "colSums(is.na(CORT.group.id.no.dup)) # 138 NAs because they are convereted from string to NA\n",
    "summary(CORT.group.id.no.dup$Result) "
   ]
  },
  {
   "cell_type": "code",
   "execution_count": null,
   "id": "99dda6f1",
   "metadata": {},
   "outputs": [],
   "source": [
    "# change unit\n",
    "unique(CORT.group.id.no.dup$Reference_Units) # becareful with different units -> need to convert to ug/dL"
   ]
  },
  {
   "cell_type": "code",
   "execution_count": null,
   "id": "813d6641",
   "metadata": {},
   "outputs": [],
   "source": [
    "# check missing unit values\n",
    "CORT.group.id.no.dup %>% filter(Reference_Units == '') # empty value\n",
    "CORT.group.id.no.dup %>% filter(Reference_Units == 'not reported') # empty value"
   ]
  },
  {
   "cell_type": "code",
   "execution_count": null,
   "id": "a7966611",
   "metadata": {},
   "outputs": [],
   "source": [
    "# convert other units to ug/dL. mcg is same with ug\n",
    "mcg.or.ug.mL <- CORT.group.id.no.dup %>% filter(Reference_Units == 'mcg/mL' | Reference_Units == 'ug/ml' \n",
    "                                                 | Reference_Units == 'ug/mL' | Reference_Units == 'UG/ML')\n",
    "dim(mcg.or.ug.mL) # 9 rows\n",
    "table(mcg.or.ug.mL$Reference_Units)\n",
    "head(mcg.or.ug.mL)\n",
    "\n",
    "mcg.or.ug.mL$Result.ug.dl <- mcg.or.ug.mL$Result * 100  # convert mcg/mL to ug/dL\n",
    "dim(mcg.or.ug.mL)\n",
    "mcg.or.ug.mL"
   ]
  },
  {
   "cell_type": "code",
   "execution_count": null,
   "id": "3acfe747",
   "metadata": {},
   "outputs": [],
   "source": [
    "# convert ng/dl to ug/dl. 1ng/dL to 0.001 ug/dl\n",
    "ng.dl <- CORT.group.id.no.dup %>% filter(Reference_Units == 'ng/dL')\n",
    "dim(ng.dl) # 55\n",
    "head(ng.dl)\n",
    "\n",
    "ng.dl$Result.ug.dl <- ng.dl$Result * 0.001  # convert ng/dl to ug/dL\n",
    "dim(ng.dl)\n",
    "head(ng.dl)"
   ]
  },
  {
   "cell_type": "code",
   "execution_count": null,
   "id": "db598f7c",
   "metadata": {},
   "outputs": [],
   "source": [
    "# combine two files ng/dl and mcg/ml\n",
    "non.ug.dl <- rbind(ng.dl, mcg.or.ug.mL)\n",
    "dim(non.ug.dl)\n",
    "head(non.ug.dl)"
   ]
  },
  {
   "cell_type": "code",
   "execution_count": null,
   "id": "642be289",
   "metadata": {},
   "outputs": [],
   "source": [
    "# select only ud.dl from CORT.group.id.no.dup\n",
    "ug.dl <- CORT.group.id.no.dup %>% filter(Reference_Units == 'ug/dL' | Reference_Units == 'ug/dl' \n",
    "                                           | Reference_Units == 'UG/DL' | Reference_Units == 'mcg/dL' \n",
    "                                           | Reference_Units == 'MCG/DL')\n",
    "\n",
    "table(ug.dl$Reference_Units)\n",
    "ug.dl$Result.ug.dl <- ug.dl$Result\n",
    "dim(ug.dl)\n",
    "head(ug.dl)"
   ]
  },
  {
   "cell_type": "code",
   "execution_count": null,
   "id": "66aadd6f",
   "metadata": {},
   "outputs": [],
   "source": [
    "# combine files after converting units\n",
    "final.cor.values <- rbind(non.ug.dl, ug.dl)\n",
    "head(final.cor.values)\n",
    "dim(final.cor.values)"
   ]
  },
  {
   "cell_type": "code",
   "execution_count": null,
   "id": "9c3b9dac",
   "metadata": {
    "scrolled": true
   },
   "outputs": [],
   "source": [
    "length(unique(final.cor.values$Subject_Id)) # 899 ind\n",
    "colSums(is.na(final.cor.values))"
   ]
  },
  {
   "cell_type": "code",
   "execution_count": null,
   "id": "80f55cc6",
   "metadata": {},
   "outputs": [],
   "source": [
    "final.cor.values.no.missing <- final.cor.values %>% drop_na() # remove 133 missing values\n",
    "dim(final.cor.values.no.missing)\n",
    "head(final.cor.values.no.missing)\n",
    "length(unique(final.cor.values.no.missing$Subject_Id)) # 898 ind"
   ]
  },
  {
   "cell_type": "code",
   "execution_count": null,
   "id": "3ae970f1",
   "metadata": {},
   "outputs": [],
   "source": [
    "# check high in Abnormal Flag\n",
    "flag.high <- final.cor.values.no.missing %>% filter(Abnormal_Flag == 'High') %>% arrange(Result.ug.dl)\n",
    "dim(flag.high) # 131\n",
    "table(flag.high$Reference_Units) # two ng/dL maybe wrong unit because of flag high but small value\n",
    "flag.high"
   ]
  },
  {
   "cell_type": "code",
   "execution_count": null,
   "id": "f301136b",
   "metadata": {},
   "outputs": [],
   "source": [
    "# check high in Abnormal Flag\n",
    "# check UG/ML\n",
    "flag.high %>% filter(Reference_Units == 'UG/ML') # wrong unit"
   ]
  },
  {
   "cell_type": "code",
   "execution_count": null,
   "id": "04c0d1fa",
   "metadata": {},
   "outputs": [],
   "source": [
    "# check high in Abnormal Flag\n",
    "# check UG/DL\n",
    "flag.high %>% filter(Reference_Units != 'UG/ML' & Reference_Units != 'ng/dL') %>% arrange(Result.ug.dl) # fine"
   ]
  },
  {
   "cell_type": "code",
   "execution_count": null,
   "id": "056f1eab",
   "metadata": {},
   "outputs": [],
   "source": [
    "# check flag low\n",
    "flag.low <- final.cor.values.no.missing %>% filter(Abnormal_Flag == 'Low') %>% arrange(Result.ug.dl)\n",
    "dim(flag.low) # 191\n",
    "table(flag.low$Reference_Units) \n",
    "flag.low"
   ]
  },
  {
   "cell_type": "code",
   "execution_count": null,
   "id": "d71353a7",
   "metadata": {},
   "outputs": [],
   "source": [
    "# check outlier\n",
    "summary(final.cor.values.no.missing$Result.ug.dl)\n",
    "quantile(final.cor.values.no.missing$Result.ug.dl, c(.01,.1,.25,.50,.75,.90,.99))\n",
    "hist(final.cor.values.no.missing$Result.ug.dl)\n",
    "\n",
    "plot(x = final.cor.values.no.missing$Subject_Id, y = final.cor.values.no.missing$Result.ug.dl)"
   ]
  },
  {
   "cell_type": "code",
   "execution_count": null,
   "id": "6a7a8c54",
   "metadata": {},
   "outputs": [],
   "source": [
    "# check high values after converting units\n",
    "final.cor.values.no.missing %>% filter(Result.ug.dl > 100) %>% arrange(Result.ug.dl) # decide remove high than 500"
   ]
  },
  {
   "cell_type": "code",
   "execution_count": null,
   "id": "b40e856e",
   "metadata": {},
   "outputs": [],
   "source": [
    "# remove outliers because of some high values after converting units (around 8)\n",
    "cor.less.500 <- final.cor.values.no.missing %>% filter(Result.ug.dl < 500)\n",
    "dim(cor.less.500)\n",
    "head(cor.less.500)"
   ]
  },
  {
   "cell_type": "code",
   "execution_count": null,
   "id": "a3dc754e",
   "metadata": {},
   "outputs": [],
   "source": [
    "# remove ng/dL maybe wrong unit because of flag high but small value\n",
    "table(cor.less.500$Reference_Units)"
   ]
  },
  {
   "cell_type": "code",
   "execution_count": null,
   "id": "295a0781",
   "metadata": {},
   "outputs": [],
   "source": [
    "cor.less.500 %>% filter(Reference_Units == 'ng/dL') # wrong unit -> discard\n",
    "cor.less.500 <- cor.less.500 %>% filter(Reference_Units != 'ng/dL')\n",
    "dim(cor.less.500)\n",
    "table(cor.less.500$Reference_Units)"
   ]
  },
  {
   "cell_type": "code",
   "execution_count": null,
   "id": "1b13ec37",
   "metadata": {
    "scrolled": true
   },
   "outputs": [],
   "source": [
    "# check outlier after removing\n",
    "summary(cor.less.500$Result.ug.dl)\n",
    "quantile(cor.less.500$Result.ug.dl, c(.01,.1,.25,.50,.75,.90,.99))\n",
    "hist(cor.less.500$Result.ug.dl)\n",
    "\n",
    "plot(x = cor.less.500$Subject_Id, y = cor.less.500$Result.ug.dl)"
   ]
  },
  {
   "cell_type": "code",
   "execution_count": null,
   "id": "fd5ef6bc",
   "metadata": {},
   "outputs": [],
   "source": [
    "colnames(cor.less.500)\n",
    "colnames(result.w.lt)"
   ]
  },
  {
   "cell_type": "code",
   "execution_count": null,
   "id": "579a3238",
   "metadata": {},
   "outputs": [],
   "source": [
    "# combine result.w.lt with the cor.less.500\n",
    "final.cor.raw <- rbind(cor.less.500, result.w.lt) # result.w.lt is the final file with no <\n",
    "dim(final.cor.raw)\n",
    "head(final.cor.raw)"
   ]
  },
  {
   "cell_type": "code",
   "execution_count": null,
   "id": "85d5455c",
   "metadata": {
    "scrolled": true
   },
   "outputs": [],
   "source": [
    "# check outlier after combining\n",
    "summary(final.cor.raw$Result.ug.dl)\n",
    "quantile(final.cor.raw$Result.ug.dl, c(.01,.1,.25,.50,.75,.90,.99))\n",
    "hist(final.cor.raw$Result.ug.dl)\n",
    "\n",
    "plot(x = final.cor.raw$Subject_Id, y = final.cor.raw$Result.ug.dl)"
   ]
  },
  {
   "cell_type": "code",
   "execution_count": null,
   "id": "4b9ef177",
   "metadata": {},
   "outputs": [],
   "source": [
    "final.cor.raw[duplicated(final.cor.raw[,c('Subject_Id', 'Seq_Date_Time',\n",
    "                                            'Group_Id', 'Result', 'Reference_Units')]), ] # no dup"
   ]
  },
  {
   "cell_type": "code",
   "execution_count": null,
   "id": "64ed8e8d",
   "metadata": {},
   "outputs": [],
   "source": [
    "# merge collect date by Subject_ID\n",
    "dim(final.cor.raw)\n",
    "final.cor.raw <- merge(final.cor.raw, data.id[,c('Subject_Id', 'Plasma_collect_date')], by = 'Subject_Id')\n",
    "dim(final.cor.raw)\n",
    "head(final.cor.raw)"
   ]
  },
  {
   "cell_type": "code",
   "execution_count": null,
   "id": "c3d21996",
   "metadata": {},
   "outputs": [],
   "source": [
    "# calcualte days difference\n",
    "# convert the date column to the Y-M-D format\n",
    "final.cor.raw$Seq_Date <- as.Date(final.cor.raw$Seq_Date_Time, format = \"%m/%d/%Y\")\n",
    "typeof(final.cor.raw$Seq_Date)\n",
    "head(final.cor.raw$Seq_Date)\n",
    "# plasma collect date\n",
    "final.cor.raw$Plasma_collect_date <- as.Date(final.cor.raw$Plasma_collect_date, format = \"%Y -%m -%d\")\n",
    "head(final.cor.raw$Plasma_collect_date)\n",
    "typeof(final.cor.raw$Plasma_collect_date)"
   ]
  },
  {
   "cell_type": "code",
   "execution_count": null,
   "id": "5d05a118",
   "metadata": {},
   "outputs": [],
   "source": [
    "head(final.cor.raw)"
   ]
  },
  {
   "cell_type": "code",
   "execution_count": null,
   "id": "64045cb5",
   "metadata": {},
   "outputs": [],
   "source": [
    "# substract collect date and diag date\n",
    "final.cor.raw[\"Days_Difference\"] <- as.numeric(difftime(final.cor.raw$Plasma_collect_date, final.cor.raw$Seq_Date, units = \"days\"))\n",
    "final.cor.raw[\"Days_Difference_Abs\"] <- as.numeric(abs(final.cor.raw$Days_Difference))\n",
    "typeof(final.cor.raw$Days_Difference)\n",
    "typeof(final.cor.raw$Days_Difference_Abs)"
   ]
  },
  {
   "cell_type": "code",
   "execution_count": null,
   "id": "91df3449",
   "metadata": {},
   "outputs": [],
   "source": [
    "final.cor.raw$Cortisol_Units <- 'ug/dl'\n",
    "final.cor.raw.1 <- final.cor.raw %>% select(Subject_Id, Plasma_collect_date, Seq_Date, Seq_Date_Time,\n",
    "                                            Days_Difference, Days_Difference_Abs, Group_Id, \n",
    "                                            Result.ug.dl, Reference_Range, Abnormal_Flag, Cortisol_Units)\n",
    "head(final.cor.raw.1)"
   ]
  },
  {
   "cell_type": "markdown",
   "id": "d39bc6c3",
   "metadata": {},
   "source": [
    "# Cortisol"
   ]
  },
  {
   "cell_type": "code",
   "execution_count": null,
   "id": "85dd1d63",
   "metadata": {},
   "outputs": [],
   "source": [
    "# load cortisol file\n",
    "cortisol <- final.cor.raw.1\n",
    "dim(final.cor.raw.1)"
   ]
  },
  {
   "cell_type": "code",
   "execution_count": null,
   "id": "2ac4cfe2",
   "metadata": {},
   "outputs": [],
   "source": [
    "typeof(cortisol$Result.ug.dl)"
   ]
  },
  {
   "cell_type": "code",
   "execution_count": null,
   "id": "0c313627",
   "metadata": {},
   "outputs": [],
   "source": [
    "summary(cortisol$Result.ug.dl)"
   ]
  },
  {
   "cell_type": "code",
   "execution_count": null,
   "id": "282077c5",
   "metadata": {},
   "outputs": [],
   "source": [
    "dim(cortisol[duplicated(cortisol), ]) # no dup"
   ]
  },
  {
   "cell_type": "code",
   "execution_count": null,
   "id": "4ae664d8",
   "metadata": {},
   "outputs": [],
   "source": [
    "colnames(cortisol)"
   ]
  },
  {
   "cell_type": "code",
   "execution_count": null,
   "id": "71645815",
   "metadata": {},
   "outputs": [],
   "source": [
    "colnames(cortisol)[8] <- 'Cortisol_value' # change column name: 'Result.ug.dl'\n",
    "head(cortisol)"
   ]
  },
  {
   "cell_type": "code",
   "execution_count": null,
   "id": "14a4553e",
   "metadata": {},
   "outputs": [],
   "source": [
    "# check duplication\n",
    "dim(cortisol[duplicated(cortisol[,c('Subject_Id', 'Seq_Date', 'Cortisol_value')]), ])"
   ]
  },
  {
   "cell_type": "code",
   "execution_count": null,
   "id": "070c94a7",
   "metadata": {},
   "outputs": [],
   "source": [
    "cortisol %>% filter(Subject_Id == '10124469' & Seq_Date == '2021-01-21')"
   ]
  },
  {
   "cell_type": "code",
   "execution_count": null,
   "id": "a88d8d39",
   "metadata": {},
   "outputs": [],
   "source": [
    "# calculate mean, median, min and max cortisol of each day per individual in final.cor.raw.selected.cols.no.dup\n",
    "cortisol.stats.days <- cortisol %>% group_by(Subject_Id, Seq_Date) %>% \n",
    "                                        summarise_at(vars('Cortisol_value'), c(mean,median,min,max))\n",
    "colnames(cortisol.stats.days) <- c('Subject_Id', 'Seq_Date', \n",
    "                                   'Cortisol_mean_per_day', \n",
    "                                   'Cortisol_median_per_day', \n",
    "                                   'Cortisol_min_per_day', \n",
    "                                   'Cortisol_max_per_day')\n",
    "dim(cortisol.stats.days)\n",
    "length(unique(cortisol.stats.days$Subject_Id))\n",
    "colSums(is.na(cortisol.stats.days))\n",
    "head(cortisol.stats.days)"
   ]
  },
  {
   "cell_type": "code",
   "execution_count": null,
   "id": "fe0c9302",
   "metadata": {},
   "outputs": [],
   "source": [
    "cor.date <- cortisol[,c('Subject_Id', 'Seq_Date', 'Days_Difference', 'Days_Difference_Abs')]\n",
    "dim(cor.date)\n",
    "dim(cor.date[duplicated(cor.date), ])\n",
    "cor.date <- cor.date[!duplicated(cor.date), ]\n",
    "dim(cor.date)"
   ]
  },
  {
   "cell_type": "code",
   "execution_count": null,
   "id": "5e67c0ee",
   "metadata": {},
   "outputs": [],
   "source": [
    "# merge to have days difference (cortisol)\n",
    "cortisol.stats.days.1 <- cortisol.stats.days %>% left_join(cor.date,  by = c('Subject_Id', 'Seq_Date'))\n",
    "dim(cortisol.stats.days.1)\n",
    "head(cortisol.stats.days.1)"
   ]
  },
  {
   "cell_type": "markdown",
   "id": "71ede7dd",
   "metadata": {},
   "source": [
    "## Cortisol: Closest to plasma collection date (before or after)"
   ]
  },
  {
   "cell_type": "code",
   "execution_count": null,
   "id": "ebdda685",
   "metadata": {},
   "outputs": [],
   "source": [
    "# duplication values because of absolute value of days difference\n",
    "# calculate min cortisol of each day per individual\n",
    "cor.abs.date <- cortisol.stats.days.1 %>% group_by(Subject_Id, Days_Difference_Abs) %>% \n",
    "                       summarise_at(vars('Cortisol_min_per_day'), c(min))\n",
    "colnames(cor.abs.date) <- c('Subject_Id', 'Days_Difference_Abs', 'Cortisol_min_abs_date')\n",
    "dim(cor.abs.date)\n",
    "head(cor.abs.date)"
   ]
  },
  {
   "cell_type": "code",
   "execution_count": null,
   "id": "4a56a35b",
   "metadata": {},
   "outputs": [],
   "source": [
    "length(unique(cor.abs.date$Subject_Id)) # how many unique IDs"
   ]
  },
  {
   "cell_type": "code",
   "execution_count": null,
   "id": "8be0587f",
   "metadata": {},
   "outputs": [],
   "source": [
    "cor.abs.date %>% filter(Subject_Id == '10000197')\n",
    "cor.abs.date %>% filter(Subject_Id == '10000201')"
   ]
  },
  {
   "cell_type": "code",
   "execution_count": null,
   "id": "3ca09fe0",
   "metadata": {},
   "outputs": [],
   "source": [
    "# find closest date to collect date (before or after)\n",
    "cor.closest.collect.date <- cor.abs.date %>%                                       # Get min by group\n",
    "  group_by(Subject_Id) %>%\n",
    "  summarise_at(vars(Days_Difference_Abs),\n",
    "               list(Closest_date_collect_date_gap = min))\n",
    "dim(cor.closest.collect.date)\n",
    "head(cor.closest.collect.date)\n",
    "\n",
    "colSums(is.na(cor.closest.collect.date)) # check missing value"
   ]
  },
  {
   "cell_type": "code",
   "execution_count": null,
   "id": "5b16a8d4",
   "metadata": {},
   "outputs": [],
   "source": [
    "cor.abs.date %>% filter(Subject_Id == 10000201) %>% arrange(Days_Difference_Abs)"
   ]
  },
  {
   "cell_type": "code",
   "execution_count": null,
   "id": "7ea15606",
   "metadata": {},
   "outputs": [],
   "source": [
    "# merge to have cortisol values\n",
    "cor.value.closest.collect.date <- merge(cor.closest.collect.date, cor.abs.date, \n",
    "                                      by.x = c('Subject_Id', 'Closest_date_collect_date_gap'),\n",
    "                                      by.y = c('Subject_Id', 'Days_Difference_Abs'))\n",
    "dim(cor.value.closest.collect.date)\n",
    "head(cor.value.closest.collect.date)"
   ]
  },
  {
   "cell_type": "code",
   "execution_count": null,
   "id": "f5bb0a4b",
   "metadata": {},
   "outputs": [],
   "source": [
    "colnames(cor.value.closest.collect.date) <- c('Subject_Id', 'Cortisol_closest_date_collect_date_gap', \n",
    "                                           'Cortisol_min_closest_measure_date_to_collect_date')\n",
    "dim(cor.value.closest.collect.date)\n",
    "head(cor.value.closest.collect.date)"
   ]
  },
  {
   "cell_type": "code",
   "execution_count": null,
   "id": "05394f60",
   "metadata": {},
   "outputs": [],
   "source": [
    "# merge to have time \n",
    "min.cortisol.closest.collect.date <- merge(cor.value.closest.collect.date, cortisol, \n",
    "                                      by.x = c('Subject_Id', 'Cortisol_closest_date_collect_date_gap', \n",
    "                                               'Cortisol_min_closest_measure_date_to_collect_date'),\n",
    "                                      by.y = c('Subject_Id', 'Days_Difference_Abs', 'Cortisol_value'))\n",
    "\n",
    "head(min.cortisol.closest.collect.date)\n",
    "dim(min.cortisol.closest.collect.date)"
   ]
  },
  {
   "cell_type": "code",
   "execution_count": null,
   "id": "ecf223a9",
   "metadata": {},
   "outputs": [],
   "source": [
    "colSums(is.na(min.cortisol.closest.collect.date)) # check missing values"
   ]
  },
  {
   "cell_type": "code",
   "execution_count": null,
   "id": "2e7f882f",
   "metadata": {},
   "outputs": [],
   "source": [
    "dim(min.cortisol.closest.collect.date[duplicated(min.cortisol.closest.collect.date), ]) # no dup"
   ]
  },
  {
   "cell_type": "code",
   "execution_count": null,
   "id": "16f85d58",
   "metadata": {},
   "outputs": [],
   "source": [
    "length(unique(min.cortisol.closest.collect.date$Subject_Id)) # one duplicates"
   ]
  },
  {
   "cell_type": "code",
   "execution_count": null,
   "id": "5f23ce9b",
   "metadata": {},
   "outputs": [],
   "source": [
    "min.cortisol.closest.collect.date[min.cortisol.closest.collect.date$Subject_Id == 10009228, ] # mutiple time record"
   ]
  },
  {
   "cell_type": "code",
   "execution_count": null,
   "id": "a943bc6f",
   "metadata": {},
   "outputs": [],
   "source": [
    "# remove 1 dup\n",
    "min.cortisol.closest.collect.date.final <- min.cortisol.closest.collect.date[!duplicated(min.cortisol.closest.collect.date[,c('Subject_Id', 'Seq_Date')]),]\n",
    "dim(min.cortisol.closest.collect.date.final)"
   ]
  },
  {
   "cell_type": "code",
   "execution_count": null,
   "id": "317844da",
   "metadata": {},
   "outputs": [],
   "source": [
    "# select cols\n",
    "min.cortisol.closest.collect.date.final <- min.cortisol.closest.collect.date.final %>% \n",
    "                                                        select(Subject_Id, Cortisol_closest_date_collect_date_gap,\n",
    "                                                                Cortisol_min_closest_measure_date_to_collect_date,\n",
    "                                                                Seq_Date_Time,\n",
    "                                                                Seq_Date,\n",
    "                                                                Cortisol_Units)"
   ]
  },
  {
   "cell_type": "code",
   "execution_count": null,
   "id": "0597a751",
   "metadata": {},
   "outputs": [],
   "source": [
    "# change colname\n",
    "colnames(min.cortisol.closest.collect.date.final) <- c('Subject_Id','Cortisol_closest_date_collect_date_gap_abs',\n",
    "                                                       'Cortisol_min_value_closest_measure_date_to_collect_date',\n",
    "                                                       'Cortisol_min_closest_measure_date_to_collect_date_time',\n",
    "                                                       'Cortisol_min_closest_measure_date_to_collect_date',\n",
    "                                                       'Cortisol_reference_units')\n",
    "dim(min.cortisol.closest.collect.date.final)\n",
    "head(min.cortisol.closest.collect.date.final)"
   ]
  },
  {
   "cell_type": "markdown",
   "id": "6fd6e70e",
   "metadata": {},
   "source": [
    "## Cortisol value per ind"
   ]
  },
  {
   "cell_type": "code",
   "execution_count": null,
   "id": "91683173",
   "metadata": {},
   "outputs": [],
   "source": [
    "head(cortisol.stats.days.1)"
   ]
  },
  {
   "cell_type": "code",
   "execution_count": null,
   "id": "6606ab96",
   "metadata": {},
   "outputs": [],
   "source": [
    "# calculate median cortisol per individual\n",
    "cortisol.median.ind <- cortisol.stats.days.1 %>% group_by(Subject_Id) %>% summarise_at(vars('Cortisol_median_per_day'), \n",
    "                                                                                       median)\n",
    "dim(cortisol.median.ind) # only 898 have cortisol\n",
    "\n",
    "names(cortisol.median.ind)[2] <- 'Cortisol_median_ind'\n",
    "\n",
    "colSums(is.na(cortisol.median.ind)) # no missing\n",
    "head(cortisol.median.ind)"
   ]
  },
  {
   "cell_type": "code",
   "execution_count": null,
   "id": "b475bbf8",
   "metadata": {},
   "outputs": [],
   "source": [
    "# check median Cortisol result to see outliers\n",
    "summary(cortisol.median.ind$Cortisol_median_ind)\n",
    "quantile(cortisol.median.ind$Cortisol_median_ind, c(.01,.1,.25,.50,.75,.90,.99))\n",
    "hist(cortisol.median.ind$Cortisol_median_ind)\n",
    "\n",
    "plot(x = cortisol.median.ind$Subject_Id, y = cortisol.median.ind$Cortisol_median_ind)"
   ]
  },
  {
   "cell_type": "code",
   "execution_count": null,
   "id": "a528ed28",
   "metadata": {},
   "outputs": [],
   "source": [
    "# calculate mean cortisol per individual\n",
    "cortisol.mean.ind <- cortisol.stats.days.1 %>% group_by(Subject_Id) %>% summarise_at(vars('Cortisol_mean_per_day'), \n",
    "                                                                                     mean)\n",
    "dim(cortisol.mean.ind) # only 898 have cortisol\n",
    "\n",
    "names(cortisol.mean.ind)[2] <- 'Cortisol_mean_ind'\n",
    "\n",
    "colSums(is.na(cortisol.mean.ind)) # no missing\n",
    "head(cortisol.mean.ind)"
   ]
  },
  {
   "cell_type": "code",
   "execution_count": null,
   "id": "1ab624e7",
   "metadata": {},
   "outputs": [],
   "source": [
    "# calculate min cortisol per individual\n",
    "cortisol.min.ind <- cortisol.stats.days.1 %>% group_by(Subject_Id) %>% summarise_at(vars('Cortisol_min_per_day'), min)\n",
    "dim(cortisol.min.ind) # only 898 have cortisol\n",
    "\n",
    "names(cortisol.min.ind)[2] <- 'Cortisol_min_ind'\n",
    "\n",
    "colSums(is.na(cortisol.min.ind)) # no missing\n",
    "head(cortisol.min.ind)"
   ]
  },
  {
   "cell_type": "code",
   "execution_count": null,
   "id": "4ca40816",
   "metadata": {},
   "outputs": [],
   "source": [
    "# calculate max cortisol per individual\n",
    "cortisol.max.ind <- cortisol.stats.days.1 %>% group_by(Subject_Id) %>% summarise_at(vars('Cortisol_max_per_day'), max)\n",
    "dim(cortisol.max.ind) # only 898 have cortisol\n",
    "\n",
    "names(cortisol.max.ind)[2] <- 'Cortisol_max_ind'\n",
    "\n",
    "colSums(is.na(cortisol.max.ind)) # no missing\n",
    "head(cortisol.max.ind)"
   ]
  },
  {
   "cell_type": "code",
   "execution_count": null,
   "id": "1eb4cb46",
   "metadata": {},
   "outputs": [],
   "source": [
    "cortisol.values.ind <- cortisol.mean.ind %>% left_join(cortisol.median.ind, by = 'Subject_Id') %>%\n",
    "                                    left_join(cortisol.min.ind, by = 'Subject_Id') %>%\n",
    "                                    left_join(cortisol.max.ind, by = 'Subject_Id')\n",
    "head(cortisol.values.ind)\n",
    "dim(cortisol.values.ind)"
   ]
  },
  {
   "cell_type": "code",
   "execution_count": null,
   "id": "5ec1a673",
   "metadata": {},
   "outputs": [],
   "source": [
    "# merge files\n",
    "final.cortisol <- cortisol.values.ind %>% left_join(min.cortisol.closest.collect.date.final, by = \"Subject_Id\")\n",
    "head(final.cortisol)\n",
    "dim(final.cortisol)"
   ]
  },
  {
   "cell_type": "code",
   "execution_count": null,
   "id": "2a1ef557",
   "metadata": {},
   "outputs": [],
   "source": [
    "# add column: Yes or No for available cortisol value\n",
    "final.cortisol$Any_Cortisol_no_ACTH_Existence_Yes_No <- 'Yes' # yes for available cortisol value\n",
    "# relocate Any_Cortisol_no_ACTH_Existence_Yes_No to the second column\n",
    "final.cortisol <- final.cortisol %>% relocate(Any_Cortisol_no_ACTH_Existence_Yes_No, .after = Subject_Id)\n",
    "head(final.cortisol)"
   ]
  },
  {
   "cell_type": "markdown",
   "id": "0ab057e1",
   "metadata": {},
   "source": [
    "## Binning time of collecting cortisol"
   ]
  },
  {
   "cell_type": "markdown",
   "id": "2f56d7ea",
   "metadata": {},
   "source": [
    "### Use min cortisol"
   ]
  },
  {
   "cell_type": "code",
   "execution_count": null,
   "id": "c0f157e4",
   "metadata": {},
   "outputs": [],
   "source": [
    "final.cortisol$Min_Cortisol_closest_collect_Date_Time <- as.POSIXct(final.cortisol$Cortisol_min_closest_measure_date_to_collect_date_time, format=\"%m/%d/%Y %H:%M\", tz=\"EST\")\n",
    "final.cortisol$Min_Cortisol_closest_collect_Date_Only <- as.Date(final.cortisol$Min_Cortisol_closest_collect_Date_Time)\n",
    "final.cortisol$Min_Cortisol_closest_collect_Hour_Only <- format(final.cortisol$Min_Cortisol_closest_collect_Date_Time, format = \"%H\")\n",
    "final.cortisol$Min_Cortisol_closest_collect_Minute_Only <- format(final.cortisol$Min_Cortisol_closest_collect_Date_Time, format = \"%M\")\n",
    "final.cortisol$Min_Cortisol_closest_collect_Hour_Decimal <- as.numeric(final.cortisol$Min_Cortisol_closest_collect_Hour_Only) + as.numeric(final.cortisol$Min_Cortisol_closest_collect_Minute_Only)/60\n",
    "head(final.cortisol)"
   ]
  },
  {
   "cell_type": "code",
   "execution_count": null,
   "id": "d6a0d927",
   "metadata": {},
   "outputs": [],
   "source": [
    "#binning\n",
    "#4 AM - 12 PM  equivalent to 4:00 - 11:59                      <== group 1\n",
    "#12 AM - 18 PM equivalent to 12:00 - 17:59                     <== group 2\n",
    "#18 PM – 4 AM equivalent to 18:00 - 23:59 and 00:00 - 3:59     <== group 3"
   ]
  },
  {
   "cell_type": "code",
   "execution_count": null,
   "id": "4f1fde96",
   "metadata": {},
   "outputs": [],
   "source": [
    "final.cortisol$Min_Cortisol_closest_collect_Hour_Group <- NA\n",
    "\n",
    "final.cortisol$Min_Cortisol_closest_collect_Hour_Group[(final.cortisol$Min_Cortisol_closest_collect_Hour_Decimal >= 4) & (final.cortisol$Min_Cortisol_closest_collect_Hour_Decimal < 12)] <- 1\n",
    "final.cortisol$Min_Cortisol_closest_collect_Hour_Group[(final.cortisol$Min_Cortisol_closest_collect_Hour_Decimal >= 12) & (final.cortisol$Min_Cortisol_closest_collect_Hour_Decimal < 18)] <- 2\n",
    "final.cortisol$Min_Cortisol_closest_collect_Hour_Group[(final.cortisol$Min_Cortisol_closest_collect_Hour_Decimal >= 18) | (final.cortisol$Min_Cortisol_closest_collect_Hour_Decimal < 4)] <- 3\n",
    "\n",
    "head(final.cortisol[final.cortisol$Min_Cortisol_closest_collect_Hour_Group == 1, ])\n",
    "head(final.cortisol[final.cortisol$Min_Cortisol_closest_collect_Hour_Group == 2, ])\n",
    "head(final.cortisol[final.cortisol$Min_Cortisol_closest_collect_Hour_Group == 3, ])"
   ]
  },
  {
   "cell_type": "code",
   "execution_count": null,
   "id": "f9a6729c",
   "metadata": {},
   "outputs": [],
   "source": [
    "table(final.cortisol$Min_Cortisol_closest_collect_Hour_Group) # check how many samples per time collection"
   ]
  },
  {
   "cell_type": "code",
   "execution_count": null,
   "id": "fd2ca807",
   "metadata": {},
   "outputs": [],
   "source": [
    "# draw plot\n",
    "library(ggplot2)\n",
    "\n",
    "ggplot(final.cortisol,aes(x=Cortisol_min_value_closest_measure_date_to_collect_date))+ \n",
    "geom_density()+ facet_grid(~Min_Cortisol_closest_collect_Hour_Group)"
   ]
  },
  {
   "cell_type": "code",
   "execution_count": null,
   "id": "dcb54cd4",
   "metadata": {},
   "outputs": [],
   "source": [
    "# anova of time collection\n",
    "res_aov_min <- aov(Cortisol_min_value_closest_measure_date_to_collect_date ~ Min_Cortisol_closest_collect_Hour_Group,\n",
    "  data = final.cortisol\n",
    ")\n",
    "\n",
    "summary(res_aov_min)"
   ]
  },
  {
   "cell_type": "code",
   "execution_count": null,
   "id": "761b7073",
   "metadata": {},
   "outputs": [],
   "source": [
    "tapply(final.cortisol$Cortisol_min_value_closest_measure_date_to_collect_date, final.cortisol$Min_Cortisol_closest_collect_Hour_Group,\n",
    "  function(x) format(summary(x)))"
   ]
  },
  {
   "cell_type": "code",
   "execution_count": null,
   "id": "eb07c1b2",
   "metadata": {},
   "outputs": [],
   "source": [
    "head(final.cortisol)"
   ]
  },
  {
   "cell_type": "markdown",
   "id": "fe78b66e",
   "metadata": {},
   "source": [
    "### Use all cortisol"
   ]
  },
  {
   "cell_type": "code",
   "execution_count": null,
   "id": "e460900b",
   "metadata": {},
   "outputs": [],
   "source": [
    "head(cortisol)"
   ]
  },
  {
   "cell_type": "code",
   "execution_count": null,
   "id": "6fc6eed8",
   "metadata": {},
   "outputs": [],
   "source": [
    "cortisol$Seq_Date_Time <- as.POSIXct(cortisol$Seq_Date_Time, format=\"%m/%d/%Y %H:%M\", tz=\"EST\")\n",
    "cortisol$Seq_Date_Only <- as.Date(cortisol$Seq_Date_Time)\n",
    "cortisol$Seq_Hour_Only <- format(cortisol$Seq_Date_Time, format = \"%H\")\n",
    "cortisol$Seq_Minute_Only <- format(cortisol$Seq_Date_Time, format = \"%M\")\n",
    "cortisol$Seq_Hour_Decimal <- as.numeric(cortisol$Seq_Hour_Only) + as.numeric(cortisol$Seq_Minute_Only)/60\n",
    "head(cortisol)"
   ]
  },
  {
   "cell_type": "code",
   "execution_count": null,
   "id": "c0d74892",
   "metadata": {},
   "outputs": [],
   "source": [
    "cortisol$Seq_Hour_Group <- NA\n",
    "\n",
    "cortisol$Seq_Hour_Group[(cortisol$Seq_Hour_Decimal >= 4) & (cortisol$Seq_Hour_Decimal < 12)] <- 1\n",
    "cortisol$Seq_Hour_Group[(cortisol$Seq_Hour_Decimal >= 12) & (cortisol$Seq_Hour_Decimal < 18)] <- 2\n",
    "cortisol$Seq_Hour_Group[(cortisol$Seq_Hour_Decimal >= 18) | (cortisol$Seq_Hour_Decimal < 4)] <- 3\n",
    "\n",
    "head(cortisol[cortisol$Seq_Hour_Group == 1, ])\n",
    "head(cortisol[cortisol$Seq_Hour_Group == 2, ])\n",
    "head(cortisol[cortisol$Seq_Hour_Group == 3, ])"
   ]
  },
  {
   "cell_type": "code",
   "execution_count": null,
   "id": "b1ffeb36",
   "metadata": {},
   "outputs": [],
   "source": [
    "table(cortisol$Seq_Hour_Group) # check how many samples per time collection"
   ]
  },
  {
   "cell_type": "code",
   "execution_count": null,
   "id": "ca5f73bb",
   "metadata": {},
   "outputs": [],
   "source": [
    "# draw plot\n",
    "library(ggplot2)\n",
    "\n",
    "ggplot(cortisol,aes(x=Cortisol_value))+ \n",
    "geom_density()+ facet_grid(~Seq_Hour_Group)"
   ]
  },
  {
   "cell_type": "code",
   "execution_count": null,
   "id": "1506eefa",
   "metadata": {},
   "outputs": [],
   "source": [
    "# anova of time collection\n",
    "res_aov_min <- aov(Cortisol_value ~ Seq_Hour_Group,\n",
    "  data = cortisol\n",
    ")\n",
    "\n",
    "summary(res_aov_min)"
   ]
  },
  {
   "cell_type": "code",
   "execution_count": null,
   "id": "b5dc4646",
   "metadata": {},
   "outputs": [],
   "source": [
    "tapply(cortisol$Cortisol_value, cortisol$Seq_Hour_Group,\n",
    "  function(x) format(summary(x)))"
   ]
  },
  {
   "cell_type": "code",
   "execution_count": null,
   "id": "7ac5f82a",
   "metadata": {},
   "outputs": [],
   "source": []
  },
  {
   "cell_type": "code",
   "execution_count": null,
   "id": "c608d95b",
   "metadata": {},
   "outputs": [],
   "source": []
  }
 ],
 "metadata": {
  "kernelspec": {
   "display_name": "R",
   "language": "R",
   "name": "ir"
  },
  "language_info": {
   "codemirror_mode": "r",
   "file_extension": ".r",
   "mimetype": "text/x-r-source",
   "name": "R",
   "pygments_lexer": "r",
   "version": "4.1.0"
  }
 },
 "nbformat": 4,
 "nbformat_minor": 5
}
