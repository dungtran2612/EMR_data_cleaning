{
 "cells": [
  {
   "cell_type": "code",
   "execution_count": null,
   "id": "e7d9d87d",
   "metadata": {},
   "outputs": [],
   "source": [
    "# load R packages\n",
    "library(readxl)\n",
    "packageVersion('readxl')\n",
    "library(dplyr)\n",
    "packageVersion('dplyr')\n",
    "library(stringr)\n",
    "packageVersion('stringr')\n",
    "library(fastDummies)\n",
    "packageVersion('fastDummies')\n",
    "library(tidyr)\n",
    "packageVersion('tidyr')\n",
    "library(lubridate)\n",
    "packageVersion('lubridate')\n",
    "library(ggplot2)\n",
    "packageVersion('ggplot2')"
   ]
  },
  {
   "cell_type": "code",
   "execution_count": null,
   "id": "49c3f76a",
   "metadata": {},
   "outputs": [],
   "source": [
    "# set directory\n",
    "project.dir = '...'\n",
    "data.dir = '...'\n",
    "regeps.dir = '...'\n",
    "raw.rpdr.dir = file.path(regeps.dir, '...')\n",
    "cleaned.rpdr.dir = file.path(regeps.dir, '...')"
   ]
  },
  {
   "cell_type": "markdown",
   "id": "0a8ef316",
   "metadata": {},
   "source": [
    "# Demo file"
   ]
  },
  {
   "cell_type": "code",
   "execution_count": null,
   "id": "1828dad9",
   "metadata": {},
   "outputs": [],
   "source": [
    "# check demographic data\n",
    "dem.lines <-readLines(file.path(raw.rpdr.dir, \"Dem.txt\"))\n",
    "length(dem.lines) # 929 includes header\n",
    "\n",
    "dem.data <- read.delim(file.path(raw.rpdr.dir, \"Dem.txt\"), sep = '|')\n",
    "dim(dem.data)\n",
    "head(dem.data)\n",
    "summary(dem.data)"
   ]
  },
  {
   "cell_type": "code",
   "execution_count": null,
   "id": "bb5d16fd",
   "metadata": {},
   "outputs": [],
   "source": [
    "# select columns\n",
    "selected.dem.data <- dem.data %>% select(EMPI, Sex_At_Birth, Gender_Legal_Sex, Gender_Identity, Date_of_Birth, \n",
    "                                       Age, Date_Of_Death, Vital_status, Race1, Race2, Race_Group)"
   ]
  },
  {
   "cell_type": "code",
   "execution_count": null,
   "id": "15bdea2c",
   "metadata": {},
   "outputs": [],
   "source": [
    "# extract biobank ID from Subject_Id.csv\n",
    "data.id <- read.csv(file.path(cleaned.rpdr.dir, 'Subject_Id.csv'))\n",
    "dim(data.id)\n",
    "head(data.id)"
   ]
  },
  {
   "cell_type": "code",
   "execution_count": null,
   "id": "6215f658",
   "metadata": {},
   "outputs": [],
   "source": [
    "data.dem <- merge(selected.dem.data, data.id, by = \"EMPI\")\n",
    "head(data.dem)\n",
    "length(unique(data.dem$Subject_Id))"
   ]
  },
  {
   "cell_type": "code",
   "execution_count": null,
   "id": "30e5f339",
   "metadata": {},
   "outputs": [],
   "source": [
    "# calculage age at collection date\n",
    "date.of.birth <- as.Date(data.dem$Date_of_Birth, format = \"%m /%d /%Y\")\n",
    "plasma.collect.date <- format(as.Date(data.dem$Plasma_collect_date), \"%Y-%m-%d\")\n",
    "age.plasma.collection.date <- difftime(plasma.collect.date,date.of.birth, units = \"days\")\n",
    "age.plasma.collection.date <- as.numeric(age.plasma.collection.date/365.2425)\n",
    "sum(is.na(age.plasma.collection.date))\n",
    "summary(age.plasma.collection.date)\n",
    "data.dem[\"Age_at_plasma_collection_date\"] <- round(age.plasma.collection.date, 2)\n",
    "head(age.plasma.collection.date)\n",
    "head(data.dem$Age_at_plasma_collection_date)"
   ]
  },
  {
   "cell_type": "code",
   "execution_count": null,
   "id": "0153e430",
   "metadata": {},
   "outputs": [],
   "source": [
    "# summary statistic of age\n",
    "summary(age.plasma.collection.date)\n",
    "sd(age.plasma.collection.date)\n",
    "\n",
    "# check individual less than 18\n",
    "length(which(age.plasma.collection.date < 18)) # 2 less than 18\n",
    "\n",
    "data.dem %>% filter(Age_at_plasma_collection_date < 18)"
   ]
  },
  {
   "cell_type": "code",
   "execution_count": null,
   "id": "e02d0476",
   "metadata": {},
   "outputs": [],
   "source": [
    "# select columns\n",
    "data.dem.selected.cols <- data.dem %>% select(Subject_Id, EMPI, Sex_At_Birth, Gender_Legal_Sex, Gender_Identity,\n",
    "                                                  Date_of_Birth, Date_Of_Death, Vital_status, Plasma_collect_date, \n",
    "                                                 Age_at_plasma_collection_date, Race1, Race2, Race_Group)\n",
    "head(data.dem.selected.cols)"
   ]
  },
  {
   "cell_type": "code",
   "execution_count": null,
   "id": "ee4c5950",
   "metadata": {},
   "outputs": [],
   "source": [
    "# change other non white races to non_white\n",
    "data.dem.selected.cols$Race_White <- data.dem.selected.cols$Race_Group\n",
    "\n",
    "data.dem.selected.cols$Race_White[data.dem.selected.cols$Race_White == \"American Indian or Alaska Native\"] <- \"Non_White\"\n",
    "data.dem.selected.cols$Race_White[data.dem.selected.cols$Race_White == \"Black\"] <- \"Non_White\"\n",
    "data.dem.selected.cols$Race_White[data.dem.selected.cols$Race_White == \"Other\"] <- \"Non_White\"\n",
    "data.dem.selected.cols$Race_White[data.dem.selected.cols$Race_White == \"Asian\"] <- \"Non_White\"\n",
    "\n",
    "# other races to unknown\n",
    "data.dem.selected.cols$Race_White[data.dem.selected.cols$Race_White == \"Unknown/Missing\"] <- \"Unknown\"\n",
    "data.dem.selected.cols$Race_White[data.dem.selected.cols$Race_White == \"Declined\"] <- \"Unknown\"\n",
    "data.dem.selected.cols$Race_White[data.dem.selected.cols$Race_White == \"Two or More\"] <- \"Unknown\"\n",
    "\n",
    "table(data.dem.selected.cols$Race_White)"
   ]
  },
  {
   "cell_type": "code",
   "execution_count": null,
   "id": "236c69e5",
   "metadata": {},
   "outputs": [],
   "source": [
    "table(data.dem.selected.cols$Sex_At_Birth)"
   ]
  },
  {
   "cell_type": "code",
   "execution_count": null,
   "id": "da08267b",
   "metadata": {},
   "outputs": [],
   "source": [
    "table(data.dem.selected.cols$Gender_Legal_Sex)"
   ]
  },
  {
   "cell_type": "code",
   "execution_count": null,
   "id": "0603dc16",
   "metadata": {},
   "outputs": [],
   "source": [
    "table(data.dem.selected.cols$Gender_Identity)"
   ]
  },
  {
   "cell_type": "code",
   "execution_count": null,
   "id": "2056d51b",
   "metadata": {},
   "outputs": [],
   "source": [
    "data.dem.selected.cols$sex_at_birth_vs_legal <- ifelse(data.dem.selected.cols$Sex_At_Birth == data.dem.selected.cols$Gender_Legal_Sex,\n",
    "                                                        'TRUE', 'FALSE')\n",
    "table(data.dem.selected.cols$sex_at_birth_vs_legal)"
   ]
  },
  {
   "cell_type": "code",
   "execution_count": null,
   "id": "421db28b",
   "metadata": {},
   "outputs": [],
   "source": [
    "data.dem.selected.cols %>% filter(sex_at_birth_vs_legal == 'FALSE') %>% select(Subject_Id, Sex_At_Birth,\n",
    "                                                                                Gender_Legal_Sex, Gender_Identity)\n",
    "# mostly unknow"
   ]
  },
  {
   "cell_type": "code",
   "execution_count": null,
   "id": "7d7b3d3f",
   "metadata": {},
   "outputs": [],
   "source": [
    "data.dem.selected.cols %>% filter(sex_at_birth_vs_legal == 'FALSE') %>% filter(Sex_At_Birth != 'Unknown' & \n",
    "                                                                                 Sex_At_Birth != 'Chose not to disclose') %>%\n",
    "                            select(Subject_Id, Sex_At_Birth, Gender_Legal_Sex, Gender_Identity)"
   ]
  },
  {
   "cell_type": "code",
   "execution_count": null,
   "id": "6cfa28e8",
   "metadata": {},
   "outputs": [],
   "source": []
  },
  {
   "cell_type": "code",
   "execution_count": null,
   "id": "80b4b2d0",
   "metadata": {},
   "outputs": [],
   "source": []
  }
 ],
 "metadata": {
  "kernelspec": {
   "display_name": "R",
   "language": "R",
   "name": "ir"
  },
  "language_info": {
   "codemirror_mode": "r",
   "file_extension": ".r",
   "mimetype": "text/x-r-source",
   "name": "R",
   "pygments_lexer": "r",
   "version": "4.1.0"
  }
 },
 "nbformat": 4,
 "nbformat_minor": 5
}
