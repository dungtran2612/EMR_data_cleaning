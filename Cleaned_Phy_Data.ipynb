{
 "cells": [
  {
   "cell_type": "code",
   "execution_count": null,
   "id": "4d79cab1",
   "metadata": {},
   "outputs": [],
   "source": [
    "# load R packages\n",
    "library(readxl)\n",
    "packageVersion('readxl')\n",
    "library(dplyr)\n",
    "packageVersion('dplyr')\n",
    "library(stringr)\n",
    "packageVersion('stringr')\n",
    "library(fastDummies)\n",
    "packageVersion('fastDummies')\n",
    "library(tidyr)\n",
    "packageVersion('tidyr')\n",
    "library(lubridate)\n",
    "packageVersion('lubridate')\n",
    "library(ggplot2)\n",
    "packageVersion('ggplot2')"
   ]
  },
  {
   "cell_type": "code",
   "execution_count": null,
   "id": "e07a3d5b",
   "metadata": {},
   "outputs": [],
   "source": [
    "# set directory\n",
    "project.dir = '...'\n",
    "data.dir = '...'\n",
    "regeps.dir = '...'\n",
    "raw.rpdr.dir = file.path(regeps.dir, '...')\n",
    "cleaned.rpdr.dir = file.path(regeps.dir, '...')"
   ]
  },
  {
   "cell_type": "markdown",
   "id": "29f183cc",
   "metadata": {},
   "source": [
    "# Phy file"
   ]
  },
  {
   "cell_type": "code",
   "execution_count": null,
   "id": "3e59d68a",
   "metadata": {},
   "outputs": [],
   "source": [
    "# check phy file to see how many rows\n",
    "phy.lines <-readLines(file.path(raw.rpdr.dir, \"Phy.txt\"))\n",
    "length(phy.lines)\n",
    "\n",
    "# load phy file\n",
    "phy.data <- read.delim(file.path(raw.rpdr.dir, \"Phy.txt\"), sep = '|')\n",
    "dim(phy.data)\n",
    "length(unique(phy.data$EMPI)) # only 927 indviduals"
   ]
  },
  {
   "cell_type": "code",
   "execution_count": null,
   "id": "d224ade5",
   "metadata": {},
   "outputs": [],
   "source": [
    "# extract biobank ID from 00_data_Subject_Id.csv\n",
    "data.id <- read.csv(file.path(cleaned.rpdr.dir, 'Subject_Id.csv'))\n",
    "dim(data.id)"
   ]
  },
  {
   "cell_type": "code",
   "execution_count": null,
   "id": "47fe4373",
   "metadata": {},
   "outputs": [],
   "source": [
    "# merge biobank.ID and phy.data file\n",
    "phy.data.ID <- merge(phy.data, data.id[,c('Subject_Id', 'EMPI')], by = 'EMPI')\n",
    "dim(phy.data.ID)\n",
    "colSums(is.na(phy.data.ID))"
   ]
  },
  {
   "cell_type": "code",
   "execution_count": null,
   "id": "6d51f967",
   "metadata": {},
   "outputs": [],
   "source": [
    "phy.data.ID$Date <- as.Date(phy.data.ID$Date, format = \"%m/%d/%Y\") # change format of date\n",
    "typeof(phy.data.ID$Date)"
   ]
  },
  {
   "cell_type": "code",
   "execution_count": null,
   "id": "6961dc04",
   "metadata": {},
   "outputs": [],
   "source": [
    "# subset data with BMI in Concept_Name\n",
    "bmi.phy <- phy.data.ID %>% filter(str_detect(Concept_Name, 'BMI'))\n",
    "dim(bmi.phy)\n",
    "\n",
    "# make sure Concept_Name has only BMI\n",
    "unique(bmi.phy$Concept_Name)\n",
    "\n",
    "# check how many ind have BMI\n",
    "length(unique(bmi.phy$Subject_Id)) # 923 -> 7 no BMI"
   ]
  },
  {
   "cell_type": "code",
   "execution_count": null,
   "id": "0b13b7d8",
   "metadata": {},
   "outputs": [],
   "source": [
    "# change type of Result column from character to numeric\n",
    "bmi.phy$Result <- as.numeric(bmi.phy$Result)\n",
    "typeof(bmi.phy$Result)\n",
    "\n",
    "# check missing value of result\n",
    "colSums(is.na(bmi.phy)) # no missing"
   ]
  },
  {
   "cell_type": "code",
   "execution_count": null,
   "id": "44bce50a",
   "metadata": {},
   "outputs": [],
   "source": [
    "# check BMI result to see outliers\n",
    "summary(bmi.phy$Result)\n",
    "quantile(bmi.phy$Result, c(.01,.1,.25,.50,.75,.90,.99))\n",
    "hist(bmi.phy$Result)\n",
    "\n",
    "plot(x = bmi.phy$Subject_Id, y = bmi.phy$Result)"
   ]
  },
  {
   "cell_type": "code",
   "execution_count": null,
   "id": "7f9c4821",
   "metadata": {},
   "outputs": [],
   "source": [
    "# select only Subject_Id, Date, Result, Days_Difference\n",
    "bmi.phy.selected.cols <- bmi.phy %>% select(Subject_Id, Date, Result)\n",
    "dim(bmi.phy.selected.cols)\n",
    "\n",
    "# check missing values of each category\n",
    "colSums(is.na(bmi.phy.selected.cols))"
   ]
  },
  {
   "cell_type": "code",
   "execution_count": null,
   "id": "21f736e0",
   "metadata": {},
   "outputs": [],
   "source": [
    "# check individuals with BMI higher than 100\n",
    "bmi.higher.100 <- bmi.phy.selected.cols %>% filter(Result > 100)\n",
    "dim(bmi.higher.100)\n",
    "length(unique(bmi.higher.100$Subject_Id))"
   ]
  },
  {
   "cell_type": "code",
   "execution_count": null,
   "id": "3958cc42",
   "metadata": {},
   "outputs": [],
   "source": [
    "# histogram of all ind with BMI higher than 100\n",
    "id.bmi.higher.100 <- unique(bmi.higher.100$Subject_Id)\n",
    "\n",
    "for (id in id.bmi.higher.100){\n",
    "    bmi.higher.100.data <- bmi.phy.selected.cols %>% filter(Subject_Id == id)\n",
    "    plot <- ggplot(bmi.higher.100.data, aes(x = Result)) + \n",
    "    geom_histogram(bins = 50, color = \"black\", fill = \"white\") + ggtitle(paste(id, median(bmi.higher.100.data$Result))) +\n",
    "    xlab(\"\\nBMI\") + ylab(\"\\nCount\") + theme(\n",
    "        plot.title = element_text(colour = \"black\", size = 18, face = \"bold\", hjust = 0.5),\n",
    "        axis.title.x = element_text(colour = \"black\", size = 14, face = \"bold\"),\n",
    "        axis.title.y = element_text(colour = \"black\", size = 14, face = \"bold\"),\n",
    "        axis.text.x = element_text(colour = \"black\", size = 12),\n",
    "        axis.text.y = element_text(colour = \"black\", size = 12)\n",
    "      )\n",
    "    print(plot)\n",
    "    \n",
    "}"
   ]
  },
  {
   "cell_type": "code",
   "execution_count": null,
   "id": "d4d74f07",
   "metadata": {},
   "outputs": [],
   "source": [
    "# check individuals with BMI lower than 16\n",
    "bmi.lower.16 <- bmi.phy.selected.cols %>% filter(Result < 16)\n",
    "dim(bmi.lower.16)\n",
    "length(unique(bmi.lower.16$Subject_Id)) # 40 ind"
   ]
  },
  {
   "cell_type": "code",
   "execution_count": null,
   "id": "0830074a",
   "metadata": {},
   "outputs": [],
   "source": [
    "# histogram of all ind with BMI lower than 16\n",
    "id.bmi.lower.16 <- unique(bmi.lower.16$Subject_Id)\n",
    "\n",
    "for (id in id.bmi.lower.16){\n",
    "    bmi.lower.16.data <- bmi.phy.selected.cols %>% filter(Subject_Id == id)\n",
    "    plot <- ggplot(bmi.lower.16.data, aes_string(x = 'Result')) + \n",
    "    geom_histogram(bins = 50, color = \"black\", fill = \"white\") + ggtitle(paste(id, median(bmi.lower.16.data$Result))) +\n",
    "    xlab(\"\\nBMI\") + ylab(\"\\nCount\") + theme(\n",
    "        plot.title = element_text(colour = \"black\", size = 18, face = \"bold\", hjust = 0.5),\n",
    "        axis.title.x = element_text(colour = \"black\", size = 14, face = \"bold\"),\n",
    "        axis.title.y = element_text(colour = \"black\", size = 14, face = \"bold\"),\n",
    "        axis.text.x = element_text(colour = \"black\", size = 12),\n",
    "        axis.text.y = element_text(colour = \"black\", size = 12)\n",
    "      )\n",
    "    print(plot)\n",
    "} "
   ]
  },
  {
   "cell_type": "code",
   "execution_count": null,
   "id": "b5629ca5",
   "metadata": {},
   "outputs": [],
   "source": [
    "# remove BMI values higher than 100 and less than 10\n",
    "bmi.no.outlier <-  bmi.phy.selected.cols %>% filter(Result < 100 & Result > 10)\n",
    "dim(bmi.no.outlier)\n",
    "length(unique(bmi.no.outlier$Subject_Id))\n",
    "colSums(is.na(bmi.no.outlier))"
   ]
  },
  {
   "cell_type": "code",
   "execution_count": null,
   "id": "160398e7",
   "metadata": {},
   "outputs": [],
   "source": [
    "summary(bmi.no.outlier$Result) # already remove outliers"
   ]
  },
  {
   "cell_type": "code",
   "execution_count": null,
   "id": "76ba5b7d",
   "metadata": {},
   "outputs": [],
   "source": [
    "dim(bmi.no.outlier[duplicated(bmi.no.outlier), ]) # same values: 968"
   ]
  },
  {
   "cell_type": "code",
   "execution_count": null,
   "id": "bde6a33f",
   "metadata": {},
   "outputs": [],
   "source": [
    "dim(bmi.no.outlier)\n",
    "bmi.no.outlier <- bmi.no.outlier[!duplicated(bmi.no.outlier), ] # remove 968\n",
    "dim(bmi.no.outlier)"
   ]
  },
  {
   "cell_type": "code",
   "execution_count": null,
   "id": "94e49b60",
   "metadata": {},
   "outputs": [],
   "source": [
    "# merge collect date by Subject_ID\n",
    "bmi.w.date <- merge(bmi.no.outlier, data.id[,c('Subject_Id', 'Plasma_collect_date')], by = 'Subject_Id')\n",
    "dim(bmi.w.date)"
   ]
  },
  {
   "cell_type": "code",
   "execution_count": null,
   "id": "c517ff7b",
   "metadata": {},
   "outputs": [],
   "source": [
    "# calculate date difference\n",
    "# convert the date column to the Y-M-D format\n",
    "bmi.w.date$Date <- as.Date(bmi.w.date$Date, format = \"%m/%d/%Y\")\n",
    "typeof(bmi.w.date$Date)\n",
    "head(bmi.w.date$Date)\n",
    "\n",
    "# plasma collect date\n",
    "bmi.w.date$Plasma_collect_date <- as.Date(bmi.w.date$Plasma_collect_date, format = \"%Y -%m -%d\")\n",
    "head(bmi.w.date$Plasma_collect_date)\n",
    "\n",
    "# substract collect date and diag date\n",
    "bmi.w.date[\"Days_Difference\"] <- difftime(bmi.w.date$Plasma_collect_date, bmi.w.date$Date, units = \"days\")"
   ]
  },
  {
   "cell_type": "code",
   "execution_count": null,
   "id": "e4fae335",
   "metadata": {},
   "outputs": [],
   "source": [
    "# absolute values\n",
    "bmi.w.date[\"Days_Difference_Abs\"] <- as.numeric(abs(bmi.w.date$Days_Difference))"
   ]
  },
  {
   "cell_type": "markdown",
   "id": "97b897c9",
   "metadata": {},
   "source": [
    "## BMI median"
   ]
  },
  {
   "cell_type": "code",
   "execution_count": null,
   "id": "b833dad1",
   "metadata": {},
   "outputs": [],
   "source": [
    "# calculate median BMI of each day per individual\n",
    "bmi.median.day <- bmi.w.date %>% group_by(Subject_Id, Date, Days_Difference) %>% \n",
    "                                 summarise_at(vars('Result'), c(median))\n",
    "colnames(bmi.median.day) <- c('Subject_Id', 'Date', 'Days_Difference',\n",
    "                              'BMI_median_per_day')\n",
    "dim(bmi.median.day)\n",
    "length(unique(bmi.median.day$Subject_Id))"
   ]
  },
  {
   "cell_type": "code",
   "execution_count": null,
   "id": "ef077ff4",
   "metadata": {},
   "outputs": [],
   "source": [
    "summary(bmi.median.day$BMI_median_per_day)"
   ]
  },
  {
   "cell_type": "code",
   "execution_count": null,
   "id": "cca323e2",
   "metadata": {},
   "outputs": [],
   "source": [
    "# calculate median BMI of each individual\n",
    "bmi.median.ind <- bmi.median.day %>% group_by(Subject_Id) %>% summarise_at(vars('BMI_median_per_day'), median)\n",
    "dim(bmi.median.ind) # only 923 have BMI\n",
    "\n",
    "names(bmi.median.ind)[2] <- 'BMI_median_ind'\n",
    "\n",
    "colSums(is.na(bmi.median.ind)) # no missing"
   ]
  },
  {
   "cell_type": "code",
   "execution_count": null,
   "id": "2730f075",
   "metadata": {},
   "outputs": [],
   "source": [
    "# check median BMI result to see outliers\n",
    "summary(bmi.median.ind$BMI_median_ind)\n",
    "quantile(bmi.median.ind$BMI_median_ind, c(.01,.1,.25,.50,.75,.90,.99))\n",
    "hist(bmi.median.ind$BMI_median_ind)\n",
    "\n",
    "plot(x = bmi.median.ind$Subject_Id, y = bmi.median.ind$BMI_median_ind)"
   ]
  },
  {
   "cell_type": "markdown",
   "id": "27ed7690",
   "metadata": {},
   "source": [
    "## BMI category based on CDC recommendations using BMI median\n",
    "#### below 18.5 -> Underweight 18.5 - 24.9 -> Healthy Weight 25 - 29.9 -> Overweight 30 and Above -> Obseity"
   ]
  },
  {
   "cell_type": "code",
   "execution_count": null,
   "id": "49f76dc8",
   "metadata": {},
   "outputs": [],
   "source": [
    "bmi.median.ind$BMI_median_category <- NA\n",
    "bmi.median.ind$BMI_median_category[bmi.median.ind$BMI_median_ind < 18.5] <- 'Underweight'\n",
    "bmi.median.ind$BMI_median_category[(bmi.median.ind$BMI_median_ind >= 18.5) & (bmi.median.ind$BMI_median_ind < 25)] <- 'Healthy Weight'\n",
    "bmi.median.ind$BMI_median_category[(bmi.median.ind$BMI_median_ind >= 25) & (bmi.median.ind$BMI_median_ind < 30)] <- 'Overweight'\n",
    "bmi.median.ind$BMI_median_category[bmi.median.ind$BMI_median_ind >= 30] <- 'Obesity'"
   ]
  },
  {
   "cell_type": "code",
   "execution_count": null,
   "id": "da54de01",
   "metadata": {},
   "outputs": [],
   "source": [
    "# group the data frame by 'Subject_Id' and spread the 'BMI_median_category' column\n",
    "BMI.category <- bmi.median.ind %>% group_by(Subject_Id, BMI_median_ind) %>%\n",
    "                                                    pivot_wider(names_from = BMI_median_category, \n",
    "                                                                values_from = BMI_median_category)\n",
    "dim(BMI.category)"
   ]
  },
  {
   "cell_type": "code",
   "execution_count": null,
   "id": "80d4f954",
   "metadata": {},
   "outputs": [],
   "source": [
    "colnames(BMI.category) <- c('Subject_Id', 'BMI_median_ind',\n",
    "                             'BMI_median_Underweight', 'BMI_median_Obesity', 'BMI_median_Healthy_Weight', \n",
    "                             'BMI_median_Overweight')\n",
    "dim(BMI.category)"
   ]
  },
  {
   "cell_type": "code",
   "execution_count": null,
   "id": "0a576726",
   "metadata": {},
   "outputs": [],
   "source": [
    "# set Yes or No in each category\n",
    "BMI.category.cols <- c('BMI_median_Underweight', 'BMI_median_Obesity', 'BMI_median_Healthy_Weight', 'BMI_median_Overweight')\n",
    "\n",
    "for (col in BMI.category.cols){\n",
    "    BMI.category[[col]] <- ifelse(is.na(BMI.category[[col]]), 'No', 'Yes')\n",
    "}"
   ]
  },
  {
   "cell_type": "markdown",
   "id": "5c8b7e68",
   "metadata": {},
   "source": [
    "### BMI window time: 6 months, 12 months, 24 months before and after plasma collection date"
   ]
  },
  {
   "cell_type": "code",
   "execution_count": null,
   "id": "4bb08e68",
   "metadata": {},
   "outputs": [],
   "source": [
    "# BMI 6 months window using bmi.median.day file\n",
    "bmi.6M <- bmi.median.day %>% filter(Days_Difference <= 180 & Days_Difference >= -180)\n",
    "dim(bmi.6M)\n",
    "\n",
    "# check how many individuals have BMI 6 month window\n",
    "length(unique(bmi.6M$Subject_Id)) # only 858 individuals"
   ]
  },
  {
   "cell_type": "code",
   "execution_count": null,
   "id": "b307058e",
   "metadata": {},
   "outputs": [],
   "source": [
    "# create a new dataframe for storing median values of all window times\n",
    "BMI.median.windows <- as.data.frame(unique(bmi.median.day$Subject_Id)) \n",
    "colnames(BMI.median.windows)[1] <- 'Subject_Id'\n",
    "\n",
    "# calculate median BMI of 6 months before and after plasma collection date\n",
    "BMI.median.windows$BMI_median_6M <- NA\n",
    "for (i in BMI.median.windows$Subject_Id){\n",
    "    BMI.median.windows$BMI_median_6M[BMI.median.windows$Subject_Id == i] <- median(bmi.6M$BMI_median_per_day[bmi.6M$Subject_Id == i])\n",
    "}\n",
    "\n",
    "dim(BMI.median.windows)\n",
    "# check missing values of each columns\n",
    "colSums(is.na(BMI.median.windows))"
   ]
  },
  {
   "cell_type": "code",
   "execution_count": null,
   "id": "7c847744",
   "metadata": {},
   "outputs": [],
   "source": [
    "length(unique(BMI.median.windows$Subject_Id))"
   ]
  },
  {
   "cell_type": "code",
   "execution_count": null,
   "id": "2033d9c2",
   "metadata": {},
   "outputs": [],
   "source": [
    "# BMI 12 months window using bmi.median.day file\n",
    "bmi.12M <- bmi.median.day %>% filter(Days_Difference <= 365 & Days_Difference >= -365)\n",
    "dim(bmi.12M)\n",
    "\n",
    "# check how many individuals have BMI 12 month window\n",
    "length(unique(bmi.12M$Subject_Id)) # only 891 individuals"
   ]
  },
  {
   "cell_type": "code",
   "execution_count": null,
   "id": "6f809d75",
   "metadata": {},
   "outputs": [],
   "source": [
    "# calculate median BMI of 12 months before and after plasma collection date\n",
    "BMI.median.windows$BMI_median_12M <- NA\n",
    "for (i in BMI.median.windows$Subject_Id){\n",
    "    BMI.median.windows$BMI_median_12M[BMI.median.windows$Subject_Id == i] <- median(bmi.12M$BMI_median_per_day[bmi.12M$Subject_Id == i])\n",
    "}\n",
    "\n",
    "dim(BMI.median.windows)\n",
    "# check missing values of each columns\n",
    "colSums(is.na(BMI.median.windows))\n",
    "length(unique(BMI.median.windows$Subject_Id))"
   ]
  },
  {
   "cell_type": "code",
   "execution_count": null,
   "id": "1afd4241",
   "metadata": {},
   "outputs": [],
   "source": [
    "# BMI 24 months window using bmi.median.day file\n",
    "bmi.24M <- bmi.median.day %>% filter(Days_Difference <= 730 & Days_Difference >= -730)\n",
    "dim(bmi.24M)\n",
    "\n",
    "# check how many individuals have BMI 24 month window\n",
    "length(unique(bmi.24M$Subject_Id)) # only 910 individuals"
   ]
  },
  {
   "cell_type": "code",
   "execution_count": null,
   "id": "58b6c33c",
   "metadata": {},
   "outputs": [],
   "source": [
    "# calculate median BMI of 24 months before and after plasma collection date\n",
    "BMI.median.windows$BMI_median_24M <- NA\n",
    "for (i in BMI.median.windows$Subject_Id){\n",
    "    BMI.median.windows$BMI_median_24M[BMI.median.windows$Subject_Id == i] <- median(bmi.24M$BMI_median_per_day[bmi.24M$Subject_Id == i])\n",
    "}\n",
    "\n",
    "dim(BMI.median.windows)\n",
    "# check missing values\n",
    "colSums(is.na(BMI.median.windows))"
   ]
  },
  {
   "cell_type": "code",
   "execution_count": null,
   "id": "3ec3eee6",
   "metadata": {},
   "outputs": [],
   "source": [
    "# summary statistic of BMI\n",
    "BMI.values <- c(\"BMI_median_6M\",\"BMI_median_12M\",\"BMI_median_24M\")\n",
    "BMI.col.titles <- c( \"BMI median 6 months\", \"BMI median 12 months\", \"BMI median 24 months\")\n",
    "\n",
    "for (i in c(1:length(BMI.values))){\n",
    "    print(BMI.col.titles[i])\n",
    "    print(summary(BMI.median.windows[,BMI.values[i]]))\n",
    "}"
   ]
  },
  {
   "cell_type": "code",
   "execution_count": null,
   "id": "49d19abe",
   "metadata": {},
   "outputs": [],
   "source": [
    "length(unique(BMI.median.windows$Subject_Id))"
   ]
  },
  {
   "cell_type": "markdown",
   "id": "827dd348",
   "metadata": {},
   "source": [
    "### BMI closest to plasma collection date (before or after)"
   ]
  },
  {
   "cell_type": "code",
   "execution_count": null,
   "id": "fe80a2cd",
   "metadata": {},
   "outputs": [],
   "source": [
    "bmi.median.day$Days_Difference_Abs <- as.numeric(abs(bmi.median.day$Days_Difference))"
   ]
  },
  {
   "cell_type": "code",
   "execution_count": null,
   "id": "e676f1dd",
   "metadata": {},
   "outputs": [],
   "source": [
    "summary(as.numeric(bmi.median.day$Days_Difference))\n",
    "summary(as.numeric(bmi.median.day$Days_Difference_Abs))"
   ]
  },
  {
   "cell_type": "code",
   "execution_count": null,
   "id": "972fd608",
   "metadata": {},
   "outputs": [],
   "source": [
    "# duplication values because of absolute value of days difference\n",
    "bmi.abs_date <- bmi.median.day %>% group_by(Subject_Id, Days_Difference_Abs) %>% \n",
    "                   summarise_at(vars('BMI_median_per_day'), c(median))\n",
    "colnames(bmi.abs_date) <- c('Subject_Id', 'Days_Difference_Abs', \n",
    "                               'BMI_median_per_day_abs')\n",
    "dim(bmi.abs_date)"
   ]
  },
  {
   "cell_type": "code",
   "execution_count": null,
   "id": "cd59552d",
   "metadata": {},
   "outputs": [],
   "source": [
    "length(unique(bmi.abs_date$Subject_Id)) # how many unique IDs\n",
    "colSums(is.na(bmi.abs_date)) # check missing value"
   ]
  },
  {
   "cell_type": "code",
   "execution_count": null,
   "id": "d566ecd1",
   "metadata": {},
   "outputs": [],
   "source": [
    "# find closest date to collect date (before or after)\n",
    "abs.closest.collect.date <- bmi.abs_date %>%                                       # Get min by group\n",
    "  group_by(Subject_Id) %>%\n",
    "  summarise_at(vars(Days_Difference_Abs),\n",
    "               list(abs_closest_date_collect_date = min))\n",
    "dim(abs.closest.collect.date)"
   ]
  },
  {
   "cell_type": "code",
   "execution_count": null,
   "id": "7cf7c102",
   "metadata": {},
   "outputs": [],
   "source": [
    "summary(abs.closest.collect.date$abs_closest_date_collect_date)"
   ]
  },
  {
   "cell_type": "code",
   "execution_count": null,
   "id": "3764ac09",
   "metadata": {},
   "outputs": [],
   "source": [
    "# merge to have BMI values\n",
    "bmi.abs.closest.collect.date <- merge(abs.closest.collect.date, bmi.abs_date, \n",
    "                                      by.x = c('Subject_Id', 'abs_closest_date_collect_date'),\n",
    "                                      by.y = c('Subject_Id', 'Days_Difference_Abs'))\n",
    "dim(bmi.abs.closest.collect.date)"
   ]
  },
  {
   "cell_type": "code",
   "execution_count": null,
   "id": "f93e71bd",
   "metadata": {},
   "outputs": [],
   "source": [
    "colnames(bmi.abs.closest.collect.date) <- c('Subject_Id', 'BMI_closest_date_collect_date_gap', \n",
    "                                            'BMI_median_closest_measure_date_to_collect_date')\n",
    "dim(bmi.abs.closest.collect.date)"
   ]
  },
  {
   "cell_type": "code",
   "execution_count": null,
   "id": "8a0959c0",
   "metadata": {
    "scrolled": true
   },
   "outputs": [],
   "source": [
    "dim(BMI.category)\n",
    "# BMI median within 6, 12, 24 months include plasma collection date\n",
    "dim(BMI.median.windows)\n",
    "\n",
    "# BMI closet to plasma collection date (before and after)\n",
    "dim(bmi.abs.closest.collect.date)"
   ]
  },
  {
   "cell_type": "code",
   "execution_count": null,
   "id": "f70d2597",
   "metadata": {},
   "outputs": [],
   "source": [
    "# merge all files\n",
    "data.bmi <- BMI.category %>% left_join(BMI.median.windows, by = 'Subject_Id') %>%\n",
    "                                     left_join(bmi.abs.closest.collect.date, by = 'Subject_Id')\n",
    "                                        \n",
    "dim(data.bmi)\n",
    "colSums(is.na(data.bmi))"
   ]
  },
  {
   "cell_type": "code",
   "execution_count": null,
   "id": "c9aa5a7f",
   "metadata": {},
   "outputs": [],
   "source": [
    "length(unique(data.bmi$Subject_Id))"
   ]
  },
  {
   "cell_type": "code",
   "execution_count": null,
   "id": "91b97e69",
   "metadata": {},
   "outputs": [],
   "source": [
    "# add column: Yes or No for available BMI value\n",
    "data.bmi$Any_BMI_record_Existence_Yes_No <- 'Yes' # yes for available BMI value"
   ]
  },
  {
   "cell_type": "markdown",
   "id": "14edf52b",
   "metadata": {},
   "source": [
    "# Smoking status"
   ]
  },
  {
   "cell_type": "code",
   "execution_count": null,
   "id": "3cc16ab8",
   "metadata": {},
   "outputs": [],
   "source": [
    "# subset data with smoking status in Concept_Name\n",
    "smoke.data <- phy.data.ID %>% filter(str_detect(Concept_Name, 'Smokeless|smokeless|Tobacco|tobacco|\n",
    "                                                        Smoking|smoking|Smoker|smoker|smoke|Smoke')) %>%\n",
    "filter(!str_detect(Concept_Name, 'Ready to Quit Smoking|quit date|Quit Date|Start Date|start date|\n",
    "                                                        Tobacco Pack|Tobacco Used Years|Smoking status'))\n",
    "dim(smoke.data)\n",
    "\n",
    "# make sure Concept_Name has only smoking status\n",
    "unique(smoke.data$Concept_Name)\n",
    "\n",
    "# check how many ind have smoking status\n",
    "length(unique(smoke.data$Subject_Id)) # 899"
   ]
  },
  {
   "cell_type": "code",
   "execution_count": null,
   "id": "e69e723c",
   "metadata": {},
   "outputs": [],
   "source": [
    "# replace space between the two strings\n",
    "smoke.data$Concept_Name <- gsub(' ', '_', smoke.data$Concept_Name)\n",
    "smoke.data$Concept_Name <- gsub('-', '_', smoke.data$Concept_Name)\n",
    "smoke.data$Concept_Name <- gsub('___', '_', smoke.data$Concept_Name)\n",
    "smoke.data$Concept_Name <- gsub(',', '_', smoke.data$Concept_Name)\n",
    "smoke.data$Concept_Name <- gsub('__', '_', smoke.data$Concept_Name)\n",
    "dim(smoke.data)"
   ]
  },
  {
   "cell_type": "code",
   "execution_count": null,
   "id": "867ed1ee",
   "metadata": {},
   "outputs": [],
   "source": [
    "# make sure Concept_Name has only smoking status with only underscore\n",
    "unique(smoke.data$Concept_Name)"
   ]
  },
  {
   "cell_type": "code",
   "execution_count": null,
   "id": "7b08a0c2",
   "metadata": {},
   "outputs": [],
   "source": [
    "# selected columns\n",
    "smoke.data.selected.cols <- smoke.data %>% select(Subject_Id, Date, Concept_Name, Result)\n",
    "dim(smoke.data.selected.cols)"
   ]
  },
  {
   "cell_type": "code",
   "execution_count": null,
   "id": "24c4f264",
   "metadata": {},
   "outputs": [],
   "source": [
    "dim(smoke.data.selected.cols[duplicated(smoke.data.selected.cols), ]) # 5607"
   ]
  },
  {
   "cell_type": "code",
   "execution_count": null,
   "id": "c2429a8f",
   "metadata": {},
   "outputs": [],
   "source": [
    "# remove duplicated rows\n",
    "smoke.data.no.dup <- smoke.data.selected.cols[!duplicated(smoke.data.selected.cols), ]\n",
    "dim(smoke.data.no.dup)"
   ]
  },
  {
   "cell_type": "markdown",
   "id": "f9a3a100",
   "metadata": {},
   "source": [
    "## Smokeless tobacco"
   ]
  },
  {
   "cell_type": "code",
   "execution_count": null,
   "id": "dd59d9a7",
   "metadata": {},
   "outputs": [],
   "source": [
    "# subset data with smokeless tobacco use in Concept_Name\n",
    "smokeless.tobacco <- smoke.data.no.dup %>% filter(str_detect(Concept_Name, 'Smokeless|Chewing_Tobacco'))\n",
    "dim(smokeless.tobacco)\n",
    "\n",
    "# make sure Concept_Name has only smokeless tobacco use in Concept_Name\n",
    "unique(smokeless.tobacco$Concept_Name)\n",
    "# check missing values\n",
    "colSums(is.na(smokeless.tobacco)) # no missing\n",
    "# check how many ind have only smokeless tobacco use in Concept_Name\n",
    "length(unique(smokeless.tobacco$Subject_Id)) # 899"
   ]
  },
  {
   "cell_type": "code",
   "execution_count": null,
   "id": "8be95b7d",
   "metadata": {},
   "outputs": [],
   "source": [
    "# category in smokeless tobacco use\n",
    "table(smokeless.tobacco$Concept_Name)"
   ]
  },
  {
   "cell_type": "markdown",
   "id": "51487200",
   "metadata": {},
   "source": [
    "## Smoking tobacco"
   ]
  },
  {
   "cell_type": "code",
   "execution_count": null,
   "id": "df778d10",
   "metadata": {},
   "outputs": [],
   "source": [
    "# subset data with smoking tobacco use in Concept_Name\n",
    "smoking.tobacco <- smoke.data.no.dup %>% filter(str_detect(Concept_Name, 'Smoking|smoking|Smoker|smoker|Tobacco_User'))\n",
    "dim(smoking.tobacco)\n",
    "# make sure Concept_Name has only smoking.tobacco use in Concept_Name\n",
    "unique(smoking.tobacco$Concept_Name)\n",
    "# check missing values\n",
    "colSums(is.na(smoking.tobacco)) # no missing\n",
    "# check how many ind have  only smoking tobacco use in Concept_Name\n",
    "length(unique(smoking.tobacco$Subject_Id)) # 899"
   ]
  },
  {
   "cell_type": "code",
   "execution_count": null,
   "id": "01b745ec",
   "metadata": {},
   "outputs": [],
   "source": [
    "# category in smoking tobacco use\n",
    "table(smoking.tobacco$Concept_Name)"
   ]
  },
  {
   "cell_type": "code",
   "execution_count": null,
   "id": "b0cc7960",
   "metadata": {},
   "outputs": [],
   "source": [
    "# show result is no\n",
    "result.no <- smoking.tobacco %>% filter(Result == 'No') # mean no smoker\n",
    "table(result.no$Concept_Name) # only smoker has No in result col"
   ]
  },
  {
   "cell_type": "code",
   "execution_count": null,
   "id": "7d395279",
   "metadata": {},
   "outputs": [],
   "source": [
    "smoking.tobacco$Smoking_category <- NA\n",
    "smoking.tobacco$Smoking_category[smoking.tobacco$Result == 'No'] <- 'Never_Smoker'\n",
    "smoking.tobacco$Smoking_category[smoking.tobacco$Result == 'Yes'] <- 'Current_Smoker'\n",
    "\n",
    "smoking.tobacco$Smoking_category[smoking.tobacco$Concept_Name == 'Smoking_Tobacco_Use_Current_Every_Day_Smoker'] <- 'Current_Smoker'\n",
    "smoking.tobacco$Smoking_category[smoking.tobacco$Concept_Name == 'Smoking_Tobacco_Use_Current_Some_Day_Smoker'] <- 'Current_Smoker'\n",
    "\n",
    "smoking.tobacco$Smoking_category[smoking.tobacco$Concept_Name == 'Smoking_Tobacco_Use_Former_Smoker'] <- 'Former_Smoker'\n",
    "smoking.tobacco$Smoking_category[smoking.tobacco$Concept_Name == 'Smoking_Tobacco_Use_Heavy_Tobacco_Smoker'] <- 'Current_Smoker'\n",
    "\n",
    "smoking.tobacco$Smoking_category[smoking.tobacco$Concept_Name == 'Smoking_Tobacco_Use_Light_Tobacco_Smoker'] <- 'Current_Smoker'\n",
    "smoking.tobacco$Smoking_category[smoking.tobacco$Concept_Name == 'Smoking_Tobacco_Use_Never_Assessed'] <- 'Unknown'\n",
    "\n",
    "smoking.tobacco$Smoking_category[smoking.tobacco$Concept_Name == 'Smoking_Tobacco_Use_Never_Smoker'] <- 'Never_Smoker'\n",
    "smoking.tobacco$Smoking_category[smoking.tobacco$Concept_Name == 'Smoking_Tobacco_Use_Passive_Smoke_Exposure_Never_Smoker'] <- 'Never_Smoker'\n",
    "\n",
    "smoking.tobacco$Smoking_category[smoking.tobacco$Concept_Name == 'Smoking_Tobacco_Use_Smoker_Current_Status_Unknown'] <- 'Unknown'\n",
    "smoking.tobacco$Smoking_category[smoking.tobacco$Concept_Name == 'Smoking_Tobacco_Use_Unknown_if_Ever_Smoked'] <- 'Unknown'\n",
    "\n",
    "smoking.tobacco$Smoking_category[smoking.tobacco$Concept_Name == 'Tobacco_User_Never'] <- 'Never_Smoker'\n",
    "smoking.tobacco$Smoking_category[smoking.tobacco$Concept_Name == 'Tobacco_User_Not_Asked'] <- 'Unknown'\n",
    "smoking.tobacco$Smoking_category[smoking.tobacco$Concept_Name == 'Tobacco_User_Passive'] <- 'Never_Smoker'\n",
    "smoking.tobacco$Smoking_category[smoking.tobacco$Concept_Name == 'Tobacco_User_Quit'] <- 'Former_Smoker'\n",
    "smoking.tobacco$Smoking_category[smoking.tobacco$Concept_Name == 'Tobacco_User_Yes'] <- 'Current_Smoker'"
   ]
  },
  {
   "cell_type": "code",
   "execution_count": null,
   "id": "0ebc5cc6",
   "metadata": {},
   "outputs": [],
   "source": [
    "table(smoking.tobacco$Smoking_category)"
   ]
  },
  {
   "cell_type": "code",
   "execution_count": null,
   "id": "28f323aa",
   "metadata": {},
   "outputs": [],
   "source": [
    "table(smoking.tobacco$Result)"
   ]
  },
  {
   "cell_type": "markdown",
   "id": "e900b102",
   "metadata": {},
   "source": [
    "# Smoking tobacco status"
   ]
  },
  {
   "cell_type": "code",
   "execution_count": null,
   "id": "123df21d",
   "metadata": {},
   "outputs": [],
   "source": [
    "dim(smoking.tobacco[duplicated(smoking.tobacco), ]) "
   ]
  },
  {
   "cell_type": "code",
   "execution_count": null,
   "id": "e61eaf96",
   "metadata": {},
   "outputs": [],
   "source": [
    "# remove result col\n",
    "smoking.tobacco.cat <- smoking.tobacco %>% select(Subject_Id, Date, Smoking_category)\n",
    "dim(smoking.tobacco.cat)"
   ]
  },
  {
   "cell_type": "code",
   "execution_count": null,
   "id": "fc4e08c2",
   "metadata": {},
   "outputs": [],
   "source": [
    "dim(smoking.tobacco.cat[duplicated(smoking.tobacco.cat), ]) # 45261 dup"
   ]
  },
  {
   "cell_type": "code",
   "execution_count": null,
   "id": "9857fe15",
   "metadata": {},
   "outputs": [],
   "source": [
    "# remove duplication\n",
    "smoking.tobacco.no.dup <- smoking.tobacco.cat[!duplicated(smoking.tobacco.cat), ]\n",
    "dim(smoking.tobacco.no.dup)"
   ]
  },
  {
   "cell_type": "code",
   "execution_count": null,
   "id": "b343c60a",
   "metadata": {
    "scrolled": true
   },
   "outputs": [],
   "source": [
    "dim(smoking.tobacco.no.dup[duplicated(smoking.tobacco.no.dup[,c('Subject_Id', 'Date')]), ]) # 28"
   ]
  },
  {
   "cell_type": "code",
   "execution_count": null,
   "id": "3741608b",
   "metadata": {},
   "outputs": [],
   "source": [
    "# rank\n",
    "table(smoking.tobacco.no.dup$Smoking_category)\n",
    "\n",
    "smoking.tobacco.no.dup$Cat_prior <- NA\n",
    "smoking.tobacco.no.dup$Cat_prior[smoking.tobacco.no.dup$Smoking_category == 'Unknown'] <- 0\n",
    "smoking.tobacco.no.dup$Cat_prior[smoking.tobacco.no.dup$Smoking_category == 'Never_Smoker'] <- 1\n",
    "smoking.tobacco.no.dup$Cat_prior[smoking.tobacco.no.dup$Smoking_category == 'Former_Smoker'] <- 2\n",
    "smoking.tobacco.no.dup$Cat_prior[smoking.tobacco.no.dup$Smoking_category == 'Current_Smoker'] <- 3\n",
    "\n",
    "table(smoking.tobacco.no.dup$Cat_prior)"
   ]
  },
  {
   "cell_type": "code",
   "execution_count": null,
   "id": "57a6b8ae",
   "metadata": {},
   "outputs": [],
   "source": [
    "max(smoking.tobacco.no.dup$Cat_prior)"
   ]
  },
  {
   "cell_type": "code",
   "execution_count": null,
   "id": "6c9fc0a7",
   "metadata": {},
   "outputs": [],
   "source": [
    "# priority selecting patients\n",
    "smoking.cat.prior <- smoking.tobacco.no.dup %>%                                 # Get max by group\n",
    "  group_by(Subject_Id, Date) %>%\n",
    "  summarise_at(vars(Cat_prior),\n",
    "               list(Cat_prior = max))\n",
    "dim(smoking.cat.prior)\n",
    "# from 45390 to 45362"
   ]
  },
  {
   "cell_type": "code",
   "execution_count": null,
   "id": "a88bdc32",
   "metadata": {},
   "outputs": [],
   "source": [
    "table(smoking.cat.prior$Cat_prior)"
   ]
  },
  {
   "cell_type": "code",
   "execution_count": null,
   "id": "42d1887f",
   "metadata": {},
   "outputs": [],
   "source": [
    "dim(smoking.cat.prior[duplicated(smoking.cat.prior[,c('Subject_Id', 'Date')]), ]) # no dup"
   ]
  },
  {
   "cell_type": "code",
   "execution_count": null,
   "id": "5856ea1b",
   "metadata": {},
   "outputs": [],
   "source": [
    "# convert Cat_prior to smoking status\n",
    "table(smoking.cat.prior$Cat_prior)\n",
    "smoking.cat.prior$Smoking_category <- NA\n",
    "smoking.cat.prior$Smoking_category[smoking.cat.prior$Cat_prior == 0] <- 'Unknown'\n",
    "smoking.cat.prior$Smoking_category[smoking.cat.prior$Cat_prior == 1] <- 'Never_Smoker'\n",
    "smoking.cat.prior$Smoking_category[smoking.cat.prior$Cat_prior == 2] <- 'Former_Smoker'\n",
    "smoking.cat.prior$Smoking_category[smoking.cat.prior$Cat_prior == 3] <- 'Current_Smoker'\n",
    "\n",
    "table(smoking.cat.prior$Smoking_category)"
   ]
  },
  {
   "cell_type": "markdown",
   "id": "21661daf",
   "metadata": {},
   "source": [
    "### Count number of smoking tobacco counts"
   ]
  },
  {
   "cell_type": "code",
   "execution_count": null,
   "id": "7017c835",
   "metadata": {},
   "outputs": [],
   "source": [
    "# create dummy variables for each category in Concept_Name\n",
    "smoking.tobacco.category.dummy <- dummy_cols(smoking.cat.prior,\n",
    "                   select_columns = \"Smoking_category\")\n",
    "dim(smoking.tobacco.category.dummy)"
   ]
  },
  {
   "cell_type": "code",
   "execution_count": null,
   "id": "f653a34b",
   "metadata": {},
   "outputs": [],
   "source": [
    "which(colnames(smoking.tobacco.category.dummy) == 'Smoking_category_Current_Smoker')"
   ]
  },
  {
   "cell_type": "code",
   "execution_count": null,
   "id": "cc510607",
   "metadata": {},
   "outputs": [],
   "source": [
    "# check how many counts in each columns\n",
    "smoking.tobacco.category.cols <- colnames(smoking.tobacco.category.dummy)[5:ncol(smoking.tobacco.category.dummy)] # start from Current smoker\n",
    "for (i in c(1:length(smoking.tobacco.category.cols))){\n",
    "  print(smoking.tobacco.category.cols[i])\n",
    "  print(table(smoking.tobacco.category.dummy[, smoking.tobacco.category.cols[i]]))\n",
    "}"
   ]
  },
  {
   "cell_type": "code",
   "execution_count": null,
   "id": "09f43341",
   "metadata": {},
   "outputs": [],
   "source": [
    "# group by Subject_Id and sum all columns\n",
    "smoking.tobacco.category.dummy.group <- smoking.tobacco.category.dummy[,-2:-4] # keep only Subject_Id\n",
    "sum.smoking.tobacco.category <- smoking.tobacco.category.dummy.group %>% group_by(Subject_Id) %>% \n",
    "                                                    summarise(across(everything(), sum), .groups = 'drop') %>%\n",
    "                                                    as.data.frame()\n",
    "dim(sum.smoking.tobacco.category)"
   ]
  },
  {
   "cell_type": "code",
   "execution_count": null,
   "id": "faadb66b",
   "metadata": {},
   "outputs": [],
   "source": [
    "# Remove the \"Smoking_category_\" prefix from all column names\n",
    "names(sum.smoking.tobacco.category) <- gsub(\"Smoking_category_\", \"\", names(sum.smoking.tobacco.category))\n",
    "dim(sum.smoking.tobacco.category)"
   ]
  },
  {
   "cell_type": "code",
   "execution_count": null,
   "id": "d1a9c40e",
   "metadata": {},
   "outputs": [],
   "source": [
    "# add suffix count after each category\n",
    "colnames(sum.smoking.tobacco.category) <- paste(colnames(sum.smoking.tobacco.category),\"count\",sep=\"_\")\n",
    "colnames(sum.smoking.tobacco.category)[1] = 'Subject_Id'"
   ]
  },
  {
   "cell_type": "code",
   "execution_count": null,
   "id": "61a0eead",
   "metadata": {},
   "outputs": [],
   "source": [
    "# add column: Yes or No for each diagnosis\n",
    "exist.sum.smoking.tobacco.category <- sum.smoking.tobacco.category\n",
    "exist.sum.smoking.tobacco.category[,-1] <- ifelse(exist.sum.smoking.tobacco.category[,-1] > 0, 'Yes', 'No')\n",
    "colnames(exist.sum.smoking.tobacco.category)[-1] <- str_replace(colnames(exist.sum.smoking.tobacco.category[,-1]),\"_count\", '')\n",
    "colnames(exist.sum.smoking.tobacco.category)[-1] <- paste(colnames(exist.sum.smoking.tobacco.category[,-1]),\"_Existence_Yes_No\", sep = '')"
   ]
  },
  {
   "cell_type": "code",
   "execution_count": null,
   "id": "2ed86dac",
   "metadata": {},
   "outputs": [],
   "source": [
    "# merge files\n",
    "sum.smoking.tobacco.category.final <- merge(sum.smoking.tobacco.category, exist.sum.smoking.tobacco.category, by = 'Subject_Id')\n",
    "head(sum.smoking.tobacco.category.final)\n",
    "dim(sum.smoking.tobacco.category.final)"
   ]
  },
  {
   "cell_type": "code",
   "execution_count": null,
   "id": "9ad269e4",
   "metadata": {},
   "outputs": [],
   "source": [
    "# add column: Yes or No for smoking tobacco record\n",
    "sum.smoking.tobacco.category.final$Any_Smoking_Tobacco_Status_Existence_Yes_No <- 'Yes' # yes for available record"
   ]
  },
  {
   "cell_type": "code",
   "execution_count": null,
   "id": "322d3a02",
   "metadata": {},
   "outputs": [],
   "source": [
    "# find most frequency asthma diagnosis\n",
    "smoking.tobacco.cat.count <- sum.smoking.tobacco.category.final[,c('Current_Smoker_count', \n",
    "                                       'Former_Smoker_count',\n",
    "                                       'Never_Smoker_count',\n",
    "                                       'Unknown_count')]\n",
    "\n",
    "sum.smoking.tobacco.category.final$Most_freq_smoking_status <- colnames(smoking.tobacco.cat.count)[apply(smoking.tobacco.cat.count,1,which.max)]\n",
    "\n",
    "# remove suffix _total_diagnosis\n",
    "sum.smoking.tobacco.category.final <- sum.smoking.tobacco.category.final %>% mutate_at(\"Most_freq_smoking_status\", str_replace, \"_count\", \"\")"
   ]
  },
  {
   "cell_type": "markdown",
   "id": "e3ee7abd",
   "metadata": {},
   "source": [
    "### Calculate days difference"
   ]
  },
  {
   "cell_type": "code",
   "execution_count": null,
   "id": "e5fafe95",
   "metadata": {},
   "outputs": [],
   "source": [
    "# merge collect date by Subject_ID\n",
    "smoking.cat.prior <- merge(smoking.cat.prior, data.id[,c('Subject_Id', 'Plasma_collect_date')], by = 'Subject_Id')\n",
    "dim(smoking.cat.prior)"
   ]
  },
  {
   "cell_type": "code",
   "execution_count": null,
   "id": "3369995c",
   "metadata": {},
   "outputs": [],
   "source": [
    "# calculate date difference\n",
    "# convert the date column to the Y-M-D format\n",
    "smoking.cat.prior$Date <- as.Date(smoking.cat.prior$Date, format = \"%m/%d/%Y\")\n",
    "typeof(smoking.cat.prior$Date)\n",
    "head(smoking.cat.prior$Date)\n",
    "\n",
    "# plasma collect date\n",
    "smoking.cat.prior$Plasma_collect_date <- as.Date(smoking.cat.prior$Plasma_collect_date, format = \"%Y -%m -%d\")\n",
    "head(smoking.cat.prior$Plasma_collect_date)\n",
    "\n",
    "# substract collect date and diag date\n",
    "smoking.cat.prior[\"Days_Difference\"] <- as.numeric(difftime(smoking.cat.prior$Plasma_collect_date, \n",
    "                                                 smoking.cat.prior$Date, units = \"days\"))\n",
    "\n",
    "# absolute values\n",
    "smoking.cat.prior[\"Days_Difference_Abs\"] <- as.numeric(abs(smoking.cat.prior$Days_Difference))"
   ]
  },
  {
   "cell_type": "code",
   "execution_count": null,
   "id": "8f83a7d1",
   "metadata": {},
   "outputs": [],
   "source": [
    "summary(smoking.cat.prior$Days_Difference_Abs)\n",
    "summary(smoking.cat.prior$Days_Difference)"
   ]
  },
  {
   "cell_type": "code",
   "execution_count": null,
   "id": "445f4107",
   "metadata": {},
   "outputs": [],
   "source": [
    "# Find closest date to plasma collect date in smoking.cat.prior\n",
    "smoking.tobacco.date.closest.collect <- smoking.cat.prior %>% select(Subject_Id, Date, \n",
    "                                                                     Days_Difference_Abs, Smoking_category)"
   ]
  },
  {
   "cell_type": "markdown",
   "id": "debad25a",
   "metadata": {},
   "source": [
    "### Closest date before or after plasma collect date"
   ]
  },
  {
   "cell_type": "code",
   "execution_count": null,
   "id": "b0d290ec",
   "metadata": {},
   "outputs": [],
   "source": [
    "# find closest date to plasma collect date in smoking.tobacco.date.closest.collect\n",
    "smoking.tobacco.closest.collect.date <- smoking.tobacco.date.closest.collect %>%                # Get min by group\n",
    "  group_by(Subject_Id, Smoking_category) %>%\n",
    "  summarise_at(vars(Days_Difference_Abs),\n",
    "               list(closest_collect_date_gap = min))\n",
    "dim(smoking.tobacco.closest.collect.date)"
   ]
  },
  {
   "cell_type": "code",
   "execution_count": null,
   "id": "138ee765",
   "metadata": {},
   "outputs": [],
   "source": [
    "dim(smoking.tobacco.closest.collect.date[duplicated(smoking.tobacco.closest.collect.date), ]) # no duplication"
   ]
  },
  {
   "cell_type": "code",
   "execution_count": null,
   "id": "9070cc88",
   "metadata": {},
   "outputs": [],
   "source": [
    "# group the data frame by 'Subject_Id' and spread the 'closet_collect_date' column\n",
    "smoking.tobacco.closest.collect.date.wide <- smoking.tobacco.closest.collect.date %>% group_by(Subject_Id, \n",
    "                                                                                               Smoking_category) %>%\n",
    "                                                                pivot_wider(names_from = Smoking_category, \n",
    "                                                                            values_from = closest_collect_date_gap)\n",
    "dim(smoking.tobacco.closest.collect.date.wide)"
   ]
  },
  {
   "cell_type": "code",
   "execution_count": null,
   "id": "7278499c",
   "metadata": {},
   "outputs": [],
   "source": [
    "# add suffix cloest collect date after each diag\n",
    "colnames(smoking.tobacco.closest.collect.date.wide) <- paste(colnames(smoking.tobacco.closest.collect.date.wide),\n",
    "                                                             \"closest_collect_date_gap\",sep=\"_\")\n",
    "colnames(smoking.tobacco.closest.collect.date.wide)[1] = 'Subject_Id'\n",
    "dim(smoking.tobacco.closest.collect.date.wide)"
   ]
  },
  {
   "cell_type": "code",
   "execution_count": null,
   "id": "5814cb84",
   "metadata": {},
   "outputs": [],
   "source": [
    "# filter for all diagnosis to include diagnosis date for each days difference\n",
    "diag.names <- unique(smoking.tobacco.date.closest.collect$Smoking_category)\n",
    "for (diag.name in diag.names){\n",
    "    smoking.tobacco.date.closest.collect.each <- smoking.tobacco.date.closest.collect %>% filter(Smoking_category == diag.name)\n",
    "\n",
    "\n",
    "    # remove diagnosis_name and Plasma_collect_date\n",
    "    smoking.tobacco.date.closest.collect.each.1 <- smoking.tobacco.date.closest.collect.each %>% select(-c(Smoking_category))\n",
    "\n",
    "\n",
    "    # replace Date name with date + diagnosis\n",
    "    names(smoking.tobacco.date.closest.collect.each.1)[names(smoking.tobacco.date.closest.collect.each.1) == 'Date'] <- paste(diag.name, '_closest_collect_date', sep = '')\n",
    "\n",
    "\n",
    "    # test merge date for diagnosis\n",
    "    smoking.tobacco.closest.collect.date.wide <- merge(smoking.tobacco.closest.collect.date.wide, smoking.tobacco.date.closest.collect.each.1, \n",
    "                                                        by.x = c('Subject_Id', paste(diag.name, '_closest_collect_date_gap', sep = '')), \n",
    "                                                        by.y = c('Subject_Id', 'Days_Difference_Abs'), all.x = TRUE)\n",
    "    }\n",
    "\n",
    "\n",
    "dim(smoking.tobacco.closest.collect.date.wide)"
   ]
  },
  {
   "cell_type": "code",
   "execution_count": null,
   "id": "fc605159",
   "metadata": {},
   "outputs": [],
   "source": [
    "# remove duplication\n",
    "check.unique.smoking.tobacco <- colnames(smoking.tobacco.closest.collect.date.wide)[grepl(\"Subject_Id|date_gap\",colnames(smoking.tobacco.closest.collect.date.wide))]\n",
    "smoking.tobacco.closest.collect.date.wide <- smoking.tobacco.closest.collect.date.wide[!duplicated(smoking.tobacco.closest.collect.date.wide[,check.unique.smoking.tobacco]), ]"
   ]
  },
  {
   "cell_type": "code",
   "execution_count": null,
   "id": "ef3cb314",
   "metadata": {},
   "outputs": [],
   "source": [
    "dim(smoking.tobacco.closest.collect.date.wide)"
   ]
  },
  {
   "cell_type": "code",
   "execution_count": null,
   "id": "f1bd6177",
   "metadata": {},
   "outputs": [],
   "source": [
    "# find closest smoking.status diagnosis to collect date\n",
    "smoking.status.closest.collect.date.cols <- smoking.tobacco.closest.collect.date.wide[,c('Unknown_closest_collect_date_gap', \n",
    "                                                'Current_Smoker_closest_collect_date_gap',\n",
    "                                                'Never_Smoker_closest_collect_date_gap',\n",
    "                                                'Former_Smoker_closest_collect_date_gap')]\n",
    "\n",
    "\n",
    "smoking.tobacco.closest.collect.date.wide$Closest_collect_date_smoking_status <- colnames(smoking.status.closest.collect.date.cols)[apply(data.matrix(smoking.status.closest.collect.date.cols),1,which.min)]\n",
    "\n",
    "# remove suffix _closest_collect_date_gap\n",
    "smoking.tobacco.closest.collect.date.wide <- smoking.tobacco.closest.collect.date.wide %>% mutate_at(\"Closest_collect_date_smoking_status\", str_replace, \"_closest_collect_date_gap\", \"\")"
   ]
  },
  {
   "cell_type": "code",
   "execution_count": null,
   "id": "b9c27a07",
   "metadata": {},
   "outputs": [],
   "source": [
    "# gap between closest date to collect date\n",
    "min.na.rm <- function(x){\n",
    "    min(x, na.rm = TRUE)\n",
    "}\n",
    "\n",
    "smoking.tobacco.closest.collect.date.wide$Closest_collect_date_smoking_status_gap <- apply(data.matrix(smoking.status.closest.collect.date.cols),1,min.na.rm)\n",
    "# relocate \n",
    "smoking.tobacco.closest.collect.date.wide <- smoking.tobacco.closest.collect.date.wide %>% relocate(Closest_collect_date_smoking_status_gap, .after = Closest_collect_date_smoking_status)"
   ]
  },
  {
   "cell_type": "markdown",
   "id": "0b36f08a",
   "metadata": {},
   "source": [
    "### Smoking: First date"
   ]
  },
  {
   "cell_type": "code",
   "execution_count": null,
   "id": "25ddacf4",
   "metadata": {},
   "outputs": [],
   "source": [
    "typeof(smoking.cat.prior$Date)"
   ]
  },
  {
   "cell_type": "code",
   "execution_count": null,
   "id": "f9fef86f",
   "metadata": {},
   "outputs": [],
   "source": [
    "# find first date in smoking.cat.prior\n",
    "first.smoking.tobacco.date <- smoking.cat.prior %>%                                       # Get min by group\n",
    "  group_by(Subject_Id, Smoking_category) %>%\n",
    "  summarise_at(vars(Date),\n",
    "               list(first_date = min))\n",
    "dim(first.smoking.tobacco.date)"
   ]
  },
  {
   "cell_type": "code",
   "execution_count": null,
   "id": "790d9bc9",
   "metadata": {},
   "outputs": [],
   "source": [
    "# group the data frame by 'Subject_Id' and spread the 'min' column\n",
    "first.smoking.tobacco.date.wide <- first.smoking.tobacco.date %>% group_by(Subject_Id, Smoking_category) %>%\n",
    "                                                    pivot_wider(names_from = Smoking_category, \n",
    "                                                                values_from = first_date)\n",
    "dim(first.smoking.tobacco.date.wide)"
   ]
  },
  {
   "cell_type": "code",
   "execution_count": null,
   "id": "600653fc",
   "metadata": {},
   "outputs": [],
   "source": [
    "# add suffix first date after each category\n",
    "colnames(first.smoking.tobacco.date.wide) <- paste(colnames(first.smoking.tobacco.date.wide),\"first_date\",sep=\"_\")\n",
    "colnames(first.smoking.tobacco.date.wide)[1] = 'Subject_Id'\n",
    "dim(first.smoking.tobacco.date.wide)"
   ]
  },
  {
   "cell_type": "markdown",
   "id": "06180b5c",
   "metadata": {},
   "source": [
    "### Smoking: Recent date"
   ]
  },
  {
   "cell_type": "code",
   "execution_count": null,
   "id": "7ae4a663",
   "metadata": {},
   "outputs": [],
   "source": [
    "# find recent date in smoking.cat.prior\n",
    "recent.smoking.tobacco.date <- smoking.cat.prior %>%                                       # Get max by group\n",
    "  group_by(Subject_Id, Smoking_category) %>%\n",
    "  summarise_at(vars(Date),\n",
    "               list(recent_date = max))\n",
    "dim(recent.smoking.tobacco.date)"
   ]
  },
  {
   "cell_type": "code",
   "execution_count": null,
   "id": "1520bd53",
   "metadata": {},
   "outputs": [],
   "source": [
    "# group the data frame by 'Subject_Id' and spread the 'max' column\n",
    "recent.smoking.tobacco.date.wide <- recent.smoking.tobacco.date %>% group_by(Subject_Id, Smoking_category) %>%\n",
    "                                                    pivot_wider(names_from = Smoking_category, \n",
    "                                                                values_from = recent_date)\n",
    "dim(recent.smoking.tobacco.date.wide)"
   ]
  },
  {
   "cell_type": "code",
   "execution_count": null,
   "id": "2b99aae8",
   "metadata": {},
   "outputs": [],
   "source": [
    "# add suffix recent date after each category\n",
    "colnames(recent.smoking.tobacco.date.wide) <- paste(colnames(recent.smoking.tobacco.date.wide),\"recent_date\",sep=\"_\")\n",
    "colnames(recent.smoking.tobacco.date.wide)[1] = 'Subject_Id'\n",
    "dim(recent.smoking.tobacco.date.wide)"
   ]
  },
  {
   "cell_type": "code",
   "execution_count": null,
   "id": "36079d52",
   "metadata": {},
   "outputs": [],
   "source": [
    "# find recent smoking.status diagnosis\n",
    "# because recent date is string -> need to convert date formate\n",
    "smoking.status.recent.date.cols <- recent.smoking.tobacco.date.wide[,c('Never_Smoker_recent_date', \n",
    "                                                'Former_Smoker_recent_date',\n",
    "                                                'Current_Smoker_recent_date')]\n",
    "\n",
    "convert.date <- function(x) as.Date(x, format = \"%Y-%m-%d\")\n",
    "smoking.status.recent.date.cols <- data.frame(lapply(smoking.status.recent.date.cols, convert.date))\n",
    "smoking.status.recent.date.cols[is.na(smoking.status.recent.date.cols)] <- as.Date('1900-01-01', format = \"%Y-%m-%d\")\n",
    "recent.smoking.tobacco.date.wide$Most_recent_smoking_status <- colnames(smoking.status.recent.date.cols)[apply(data.matrix(smoking.status.recent.date.cols),1,which.max)]\n",
    "\n",
    "# remove suffix_recent_diagnosis_date\n",
    "recent.smoking.tobacco.date.wide <- recent.smoking.tobacco.date.wide %>% mutate_at(\"Most_recent_smoking_status\", str_replace, \"_recent_date\", \"\")"
   ]
  },
  {
   "cell_type": "code",
   "execution_count": null,
   "id": "3f7f91e0",
   "metadata": {},
   "outputs": [],
   "source": [
    "# merge all smoking tobacco files\n",
    "# recent date\n",
    "dim(recent.smoking.tobacco.date.wide) # 899\n",
    "\n",
    "# first date \n",
    "dim(first.smoking.tobacco.date.wide) # 899\n",
    "\n",
    "# count\n",
    "dim(sum.smoking.tobacco.category.final) # 899\n",
    "\n",
    "# closest to collect date\n",
    "dim(smoking.tobacco.closest.collect.date.wide)"
   ]
  },
  {
   "cell_type": "code",
   "execution_count": null,
   "id": "7aff0374",
   "metadata": {},
   "outputs": [],
   "source": [
    "# merge all files for smoking tobacco\n",
    "smoking.tobacco.merged <- sum.smoking.tobacco.category.final %>%\n",
    "                                            left_join(first.smoking.tobacco.date.wide, by = 'Subject_Id') %>%\n",
    "                                            left_join(recent.smoking.tobacco.date.wide, by = 'Subject_Id') %>%\n",
    "                                            left_join(smoking.tobacco.closest.collect.date.wide, by = 'Subject_Id')\n",
    "dim(smoking.tobacco.merged)"
   ]
  },
  {
   "cell_type": "code",
   "execution_count": null,
   "id": "bbe80c10",
   "metadata": {},
   "outputs": [],
   "source": [
    "smoking.tobacco.merged <- smoking.tobacco.merged %>% select(Subject_Id,\n",
    "                                    Any_Smoking_Tobacco_Status_Existence_Yes_No,\n",
    "                                    Current_Smoker_Existence_Yes_No,\n",
    "                                    Most_freq_smoking_status,\n",
    "                                    Most_recent_smoking_status,\n",
    "                                    Closest_collect_date_smoking_status,\n",
    "                                    Closest_collect_date_smoking_status_gap,\n",
    "                                    Current_Smoker_count,\n",
    "                                    Current_Smoker_first_date,\n",
    "                                    Current_Smoker_recent_date,\n",
    "                                    Current_Smoker_closest_collect_date,\n",
    "                                    Current_Smoker_closest_collect_date_gap,\n",
    "                                    Former_Smoker_Existence_Yes_No,\n",
    "                                    Former_Smoker_count,\n",
    "                                    Former_Smoker_first_date,\n",
    "                                    Former_Smoker_recent_date,\n",
    "                                    Former_Smoker_closest_collect_date,\n",
    "                                    Former_Smoker_closest_collect_date_gap,\n",
    "                                    Never_Smoker_Existence_Yes_No,\n",
    "                                    Never_Smoker_count,\n",
    "                                    Never_Smoker_first_date,\n",
    "                                    Never_Smoker_recent_date,\n",
    "                                    Never_Smoker_closest_collect_date,\n",
    "                                    Never_Smoker_closest_collect_date_gap,\n",
    "                                    Unknown_Existence_Yes_No,\n",
    "                                    Unknown_count,\n",
    "                                    Unknown_first_date,\n",
    "                                    Unknown_recent_date,\n",
    "                                    Unknown_closest_collect_date,\n",
    "                                    Unknown_closest_collect_date_gap)\n",
    "dim(smoking.tobacco.merged)"
   ]
  },
  {
   "cell_type": "code",
   "execution_count": null,
   "id": "dec3da22",
   "metadata": {},
   "outputs": [],
   "source": []
  }
 ],
 "metadata": {
  "kernelspec": {
   "display_name": "R",
   "language": "R",
   "name": "ir"
  },
  "language_info": {
   "codemirror_mode": "r",
   "file_extension": ".r",
   "mimetype": "text/x-r-source",
   "name": "R",
   "pygments_lexer": "r",
   "version": "4.1.0"
  }
 },
 "nbformat": 4,
 "nbformat_minor": 5
}
