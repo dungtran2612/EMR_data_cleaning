{
 "cells": [
  {
   "cell_type": "code",
   "execution_count": null,
   "id": "0421e4f2",
   "metadata": {},
   "outputs": [],
   "source": [
    "# load R packages\n",
    "library(readxl)\n",
    "packageVersion('readxl')\n",
    "library(dplyr)\n",
    "packageVersion('dplyr')\n",
    "library(stringr)\n",
    "packageVersion('stringr')\n",
    "library(fastDummies)\n",
    "packageVersion('fastDummies')\n",
    "library(tidyr)\n",
    "packageVersion('tidyr')\n",
    "library(lubridate)\n",
    "packageVersion('lubridate')\n",
    "library(ggplot2)\n",
    "packageVersion('ggplot2')"
   ]
  },
  {
   "cell_type": "code",
   "execution_count": null,
   "id": "c3c9cdda",
   "metadata": {},
   "outputs": [],
   "source": [
    "# set directory\n",
    "project.dir = '...'\n",
    "data.dir = '...'\n",
    "regeps.dir = '...'\n",
    "raw.rpdr.dir = file.path(regeps.dir, '...')\n",
    "cleaned.rpdr.dir = file.path(regeps.dir, '...')\n",
    "Qingwen.data.dir = file.path(regeps.dir, '...')"
   ]
  },
  {
   "cell_type": "code",
   "execution_count": null,
   "id": "828ec8f3",
   "metadata": {},
   "outputs": [],
   "source": [
    "# check med file to see how many rows\n",
    "med.lines <-readLines(file.path(raw.rpdr.dir, \"Med.txt\"))\n",
    "length(med.lines)"
   ]
  },
  {
   "cell_type": "code",
   "execution_count": null,
   "id": "c7a26672",
   "metadata": {},
   "outputs": [],
   "source": [
    "# load med file\n",
    "med.data <- read.delim(file.path(raw.rpdr.dir, \"Med.txt\"), sep = '|', quote=\"\", fill=FALSE)\n",
    "dim(med.data)\n",
    "length(unique(med.data$EMPI))\n",
    "head(med.data)"
   ]
  },
  {
   "cell_type": "code",
   "execution_count": null,
   "id": "59c223c9",
   "metadata": {},
   "outputs": [],
   "source": [
    "# change format of med date\n",
    "med.data$Medication_Date <- as.Date(med.data$Medication_Date, format = \"%m/%d/%Y\")\n",
    "typeof(med.data$Medication_Date)"
   ]
  },
  {
   "cell_type": "code",
   "execution_count": null,
   "id": "09a67a94",
   "metadata": {},
   "outputs": [],
   "source": [
    "table(med.data$Medication_Date_Detail) # check medication date detail"
   ]
  },
  {
   "cell_type": "code",
   "execution_count": null,
   "id": "85c99597",
   "metadata": {},
   "outputs": [],
   "source": [
    "# The 'Removed' value denotes that a medication was removed from a patient's medication list -> exclude 'Removed'\n",
    "med.listed <- med.data %>% filter(Medication_Date_Detail != 'Removed')\n",
    "dim(med.listed) # from 1463941 to 1415384"
   ]
  },
  {
   "cell_type": "code",
   "execution_count": null,
   "id": "16cef25e",
   "metadata": {},
   "outputs": [],
   "source": [
    "table(med.listed$Medication_Date_Detail) # check after removing"
   ]
  },
  {
   "cell_type": "code",
   "execution_count": null,
   "id": "9c18da64",
   "metadata": {
    "scrolled": false
   },
   "outputs": [],
   "source": [
    "# extract biobank ID\n",
    "data.id <- read.csv(file.path(cleaned.rpdr.dir, 'Subject_Id.csv'))\n",
    "dim(data.id)\n",
    "# merge biobank.ID and med.data file\n",
    "med.data.ID <- merge(med.listed,  data.id[,c('Subject_Id', 'EMPI')], by = 'EMPI')\n",
    "dim(med.data.ID)"
   ]
  },
  {
   "cell_type": "code",
   "execution_count": null,
   "id": "f73b2816",
   "metadata": {},
   "outputs": [],
   "source": [
    "head(med.data.ID)"
   ]
  },
  {
   "cell_type": "code",
   "execution_count": null,
   "id": "ee703a18",
   "metadata": {},
   "outputs": [],
   "source": [
    "# list medication name in biobank portal\n",
    "met.dir = '...'\n",
    "contraceptives.list <- read.csv(file.path(met.dir, 'Contraceptives_list_biobank.csv'))\n",
    "head(contraceptives.list)"
   ]
  },
  {
   "cell_type": "code",
   "execution_count": null,
   "id": "cc022196",
   "metadata": {},
   "outputs": [],
   "source": [
    "contraceptives.med <- med.data.ID %>% filter(Medication %in% contraceptives.list$Medication_name)\n",
    "dim(contraceptives.med)\n",
    "length(unique(contraceptives.med$Medication)) #168"
   ]
  },
  {
   "cell_type": "code",
   "execution_count": null,
   "id": "1b683b13",
   "metadata": {},
   "outputs": [],
   "source": [
    "# selected columns\n",
    "contraceptives.med.selected.cols <- contraceptives.med %>% select(Subject_Id,Medication_Date, Medication, \n",
    "                                                   Additional_Info) %>%\n",
    "                                            arrange(Subject_Id, Medication_Date)\n",
    "dim(contraceptives.med.selected.cols)\n",
    "length(unique(contraceptives.med.selected.cols$Subject_Id)) # 219\n",
    "head(contraceptives.med.selected.cols, 10)"
   ]
  },
  {
   "cell_type": "code",
   "execution_count": null,
   "id": "ffdd8907",
   "metadata": {},
   "outputs": [],
   "source": [
    "# extract ROUTE infomation from Additional info\n",
    "contraceptives.med.selected.cols$Route <- str_extract(contraceptives.med.selected.cols$Additional_Info, \"ROUTE=[^;]+\")\n",
    "# check route\n",
    "table(contraceptives.med.selected.cols$Route)"
   ]
  },
  {
   "cell_type": "code",
   "execution_count": null,
   "id": "9a6cf7a1",
   "metadata": {},
   "outputs": [],
   "source": [
    "dim(contraceptives.med.selected.cols[duplicated(contraceptives.med.selected.cols),]) # dup rows"
   ]
  },
  {
   "cell_type": "code",
   "execution_count": null,
   "id": "63b236ff",
   "metadata": {},
   "outputs": [],
   "source": [
    "# remove dup rows\n",
    "dim(contraceptives.med.selected.cols)\n",
    "contraceptives.no.dup.rows <- contraceptives.med.selected.cols[!duplicated(contraceptives.med.selected.cols),]\n",
    "dim(contraceptives.no.dup.rows)"
   ]
  },
  {
   "cell_type": "code",
   "execution_count": null,
   "id": "eb9023df",
   "metadata": {},
   "outputs": [],
   "source": [
    "contraceptives.med.group <- contraceptives.no.dup.rows %>% select(Subject_Id, Medication_Date)\n",
    "dim(contraceptives.med.group[duplicated(contraceptives.med.group),]) "
   ]
  },
  {
   "cell_type": "code",
   "execution_count": null,
   "id": "e89b6079",
   "metadata": {},
   "outputs": [],
   "source": [
    "dim(contraceptives.med.group)\n",
    "contraceptives.no.dup <- contraceptives.med.group[!duplicated(contraceptives.med.group),]\n",
    "dim(contraceptives.no.dup)"
   ]
  },
  {
   "cell_type": "code",
   "execution_count": null,
   "id": "a3e4ec26",
   "metadata": {},
   "outputs": [],
   "source": [
    "contraceptives.no.dup$Prescription <- 1 # assign 1 for a prescription\n",
    "head(contraceptives.no.dup)"
   ]
  },
  {
   "cell_type": "code",
   "execution_count": null,
   "id": "45f19ce0",
   "metadata": {},
   "outputs": [],
   "source": [
    "# Total number of prescription\n",
    "# Group by Subject_Id and sum of medication using dplyr\n",
    "contraceptives.prescr.counts.per.ind <- contraceptives.no.dup %>% group_by(Subject_Id) %>% \n",
    "  summarise(Contraceptives_total_number_of_prescriptions = sum(Prescription),\n",
    "            .groups = 'drop')\n",
    "dim(contraceptives.prescr.counts.per.ind)"
   ]
  },
  {
   "cell_type": "code",
   "execution_count": null,
   "id": "d2d1a3ab",
   "metadata": {},
   "outputs": [],
   "source": [
    "# summary statistic\n",
    "summary(contraceptives.prescr.counts.per.ind$Contraceptives_total_number_of_prescriptions)\n",
    "hist(contraceptives.prescr.counts.per.ind$Contraceptives_total_number_of_prescriptions)"
   ]
  },
  {
   "cell_type": "code",
   "execution_count": null,
   "id": "f2439885",
   "metadata": {},
   "outputs": [],
   "source": [
    "# Calculate date difference based on plasma collection date\n",
    "contraceptives.group.w.date <- merge(contraceptives.no.dup , data.id[,c('Subject_Id', 'Plasma_collect_date')], \n",
    "                              by = 'Subject_Id')\n",
    "dim(contraceptives.group.w.date)"
   ]
  },
  {
   "cell_type": "code",
   "execution_count": null,
   "id": "61d20ec7",
   "metadata": {},
   "outputs": [],
   "source": [
    "# convert the date column to the Y-M-D format\n",
    "contraceptives.group.w.date$Medication_Date <- as.Date(contraceptives.group.w.date$Medication_Date, format = \"%m/%d/%Y\")\n",
    "typeof(contraceptives.group.w.date$Medication_Date)\n",
    "head(contraceptives.group.w.date$Medication_Date)\n",
    "\n",
    "# plasma collect date\n",
    "contraceptives.group.w.date$Plasma_collect_date <- as.Date(contraceptives.group.w.date$Plasma_collect_date, format = \"%Y -%m -%d\")\n",
    "typeof(contraceptives.group.w.date$Plasma_collect_date)\n",
    "head(contraceptives.group.w.date$Plasma_collect_date)"
   ]
  },
  {
   "cell_type": "code",
   "execution_count": null,
   "id": "38dfb056",
   "metadata": {},
   "outputs": [],
   "source": [
    "# substract collect date and diag date\n",
    "contraceptives.group.w.date[\"Days_Difference\"] <- difftime(contraceptives.group.w.date$Plasma_collect_date, \n",
    "                                                    contraceptives.group.w.date$Medication_Date, units = \"days\")\n",
    "contraceptives.group.w.date$Days_Difference <- as.numeric(contraceptives.group.w.date$Days_Difference)\n",
    "head(contraceptives.group.w.date$Days_Difference,10)\n",
    "# absolute values\n",
    "contraceptives.group.w.date[\"Days_Difference_Abs\"] <- as.numeric(abs(contraceptives.group.w.date$Days_Difference))\n",
    "head(contraceptives.group.w.date$Days_Difference_Abs,10)"
   ]
  },
  {
   "cell_type": "code",
   "execution_count": null,
   "id": "3142fc6b",
   "metadata": {},
   "outputs": [],
   "source": [
    "typeof(contraceptives.group.w.date$Days_Difference)\n",
    "typeof(contraceptives.group.w.date$Days_Difference_Abs)"
   ]
  },
  {
   "cell_type": "code",
   "execution_count": null,
   "id": "7c1a8473",
   "metadata": {},
   "outputs": [],
   "source": [
    "# create a dataset of no of prescriptions within 5 years based on sample collection date\n",
    "contraceptives.5y <- contraceptives.group.w.date %>% filter(Days_Difference_Abs <= 1826)\n",
    "dim(contraceptives.5y)\n",
    "\n",
    "# check how many individuals have ICS prescriptions within the last 5 years based on sample collection date\n",
    "length(unique(contraceptives.5y$Subject_Id)) # 143 individuals"
   ]
  },
  {
   "cell_type": "code",
   "execution_count": null,
   "id": "4b197e11",
   "metadata": {},
   "outputs": [],
   "source": [
    "summary(as.numeric(contraceptives.5y$Days_Difference))"
   ]
  },
  {
   "cell_type": "code",
   "execution_count": null,
   "id": "887d13ad",
   "metadata": {},
   "outputs": [],
   "source": [
    "# Group by Subject_Id and sum of medication date using dplyr\n",
    "contraceptives.5y.counts.per.ind <- contraceptives.5y %>% group_by(Subject_Id) %>% \n",
    "  summarise(Contraceptives_total_number_of_prescriptions_within_5y = sum(Prescription),\n",
    "            .groups = 'drop')\n",
    "dim(contraceptives.5y.counts.per.ind)"
   ]
  },
  {
   "cell_type": "code",
   "execution_count": null,
   "id": "8422b1c7",
   "metadata": {
    "scrolled": true
   },
   "outputs": [],
   "source": [
    "summary(contraceptives.5y.counts.per.ind$Contraceptives_total_number_of_prescriptions_within_5y)\n",
    "plot(contraceptives.5y.counts.per.ind$Contraceptives_total_number_of_prescriptions_within_5y)"
   ]
  },
  {
   "cell_type": "code",
   "execution_count": null,
   "id": "b8874236",
   "metadata": {},
   "outputs": [],
   "source": [
    "head(contraceptives.5y.counts.per.ind)"
   ]
  },
  {
   "cell_type": "code",
   "execution_count": null,
   "id": "7cf9bd18",
   "metadata": {},
   "outputs": [],
   "source": [
    "met.dir = ''\n",
    "write.csv(contraceptives.5y.counts.per.ind, file.path(met.dir, 'Contraceptives_prescription_5Y.csv'), row.names = FALSE)"
   ]
  },
  {
   "cell_type": "code",
   "execution_count": null,
   "id": "5ca9185d",
   "metadata": {},
   "outputs": [],
   "source": []
  }
 ],
 "metadata": {
  "kernelspec": {
   "display_name": "R",
   "language": "R",
   "name": "ir"
  },
  "language_info": {
   "codemirror_mode": "r",
   "file_extension": ".r",
   "mimetype": "text/x-r-source",
   "name": "R",
   "pygments_lexer": "r",
   "version": "4.1.0"
  }
 },
 "nbformat": 4,
 "nbformat_minor": 5
}
