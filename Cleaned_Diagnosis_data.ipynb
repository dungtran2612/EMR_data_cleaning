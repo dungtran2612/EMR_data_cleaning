{
 "cells": [
  {
   "cell_type": "markdown",
   "id": "745076be",
   "metadata": {},
   "source": [
    "# Cleaning Diagnosis file\n",
    "\n",
    "Diagnosis file includes asthma, COPD, Bronchiectasis, acute exacerbation and adrenal insufficiency diagnosis records."
   ]
  },
  {
   "cell_type": "code",
   "execution_count": 1,
   "id": "e7d9d87d",
   "metadata": {},
   "outputs": [
    {
     "data": {
      "text/plain": [
       "[1] ‘1.4.1’"
      ]
     },
     "metadata": {},
     "output_type": "display_data"
    },
    {
     "name": "stderr",
     "output_type": "stream",
     "text": [
      "\n",
      "Attaching package: ‘dplyr’\n",
      "\n",
      "\n",
      "The following objects are masked from ‘package:stats’:\n",
      "\n",
      "    filter, lag\n",
      "\n",
      "\n",
      "The following objects are masked from ‘package:base’:\n",
      "\n",
      "    intersect, setdiff, setequal, union\n",
      "\n",
      "\n"
     ]
    },
    {
     "data": {
      "text/plain": [
       "[1] ‘1.1.0’"
      ]
     },
     "metadata": {},
     "output_type": "display_data"
    },
    {
     "data": {
      "text/plain": [
       "[1] ‘1.4.1’"
      ]
     },
     "metadata": {},
     "output_type": "display_data"
    },
    {
     "data": {
      "text/plain": [
       "[1] ‘1.6.3’"
      ]
     },
     "metadata": {},
     "output_type": "display_data"
    },
    {
     "data": {
      "text/plain": [
       "[1] ‘1.2.1’"
      ]
     },
     "metadata": {},
     "output_type": "display_data"
    },
    {
     "name": "stderr",
     "output_type": "stream",
     "text": [
      "\n",
      "Attaching package: ‘lubridate’\n",
      "\n",
      "\n",
      "The following objects are masked from ‘package:base’:\n",
      "\n",
      "    date, intersect, setdiff, union\n",
      "\n",
      "\n"
     ]
    },
    {
     "data": {
      "text/plain": [
       "[1] ‘1.8.0’"
      ]
     },
     "metadata": {},
     "output_type": "display_data"
    },
    {
     "data": {
      "text/plain": [
       "[1] ‘3.4.4’"
      ]
     },
     "metadata": {},
     "output_type": "display_data"
    }
   ],
   "source": [
    "# load R packages\n",
    "library(readxl)\n",
    "packageVersion('readxl')\n",
    "library(dplyr)\n",
    "packageVersion('dplyr')\n",
    "library(stringr)\n",
    "packageVersion('stringr')\n",
    "library(fastDummies)\n",
    "packageVersion('fastDummies')\n",
    "library(tidyr)\n",
    "packageVersion('tidyr')\n",
    "library(lubridate)\n",
    "packageVersion('lubridate')\n",
    "library(ggplot2)\n",
    "packageVersion('ggplot2')"
   ]
  },
  {
   "cell_type": "code",
   "execution_count": 2,
   "id": "49c3f76a",
   "metadata": {},
   "outputs": [],
   "source": [
    "# set directory\n",
    "project.dir = '...'\n",
    "data.dir = '...'\n",
    "regeps.dir = '...'\n",
    "raw.rpdr.dir = file.path(regeps.dir, '...')\n",
    "cleaned.rpdr.dir = file.path(regeps.dir, '...')\n",
    "Qingwen.data.dir = file.path(regeps.dir, '...')"
   ]
  },
  {
   "cell_type": "markdown",
   "id": "876587e3",
   "metadata": {},
   "source": [
    "# Prepare data samples"
   ]
  },
  {
   "cell_type": "code",
   "execution_count": 3,
   "id": "a5e31b27",
   "metadata": {},
   "outputs": [
    {
     "data": {
      "text/html": [
       "<style>\n",
       ".list-inline {list-style: none; margin:0; padding: 0}\n",
       ".list-inline>li {display: inline-block}\n",
       ".list-inline>li:not(:last-child)::after {content: \"\\00b7\"; padding: 0 .5ex}\n",
       "</style>\n",
       "<ol class=list-inline><li>1210</li><li>309</li></ol>\n"
      ],
      "text/latex": [
       "\\begin{enumerate*}\n",
       "\\item 1210\n",
       "\\item 309\n",
       "\\end{enumerate*}\n"
      ],
      "text/markdown": [
       "1. 1210\n",
       "2. 309\n",
       "\n",
       "\n"
      ],
      "text/plain": [
       "[1] 1210  309"
      ]
     },
     "metadata": {},
     "output_type": "display_data"
    },
    {
     "data": {
      "text/html": [
       "928"
      ],
      "text/latex": [
       "928"
      ],
      "text/markdown": [
       "928"
      ],
      "text/plain": [
       "[1] 928"
      ]
     },
     "metadata": {},
     "output_type": "display_data"
    }
   ],
   "source": [
    "# load medication file created by Yulu to extract plasma collect date\n",
    "plasma.collect.dates <- read.csv(file.path(Qingwen.data.dir, 'med_corticosteroids_summary.csv'))\n",
    "dim(plasma.collect.dates)\n",
    "length(unique(plasma.collect.dates$EMPI)) # 928"
   ]
  },
  {
   "cell_type": "code",
   "execution_count": 4,
   "id": "d13120b2",
   "metadata": {},
   "outputs": [
    {
     "data": {
      "text/html": [
       "<style>\n",
       ".list-inline {list-style: none; margin:0; padding: 0}\n",
       ".list-inline>li {display: inline-block}\n",
       ".list-inline>li:not(:last-child)::after {content: \"\\00b7\"; padding: 0 .5ex}\n",
       "</style>\n",
       "<ol class=list-inline><li>1210</li><li>2</li></ol>\n"
      ],
      "text/latex": [
       "\\begin{enumerate*}\n",
       "\\item 1210\n",
       "\\item 2\n",
       "\\end{enumerate*}\n"
      ],
      "text/markdown": [
       "1. 1210\n",
       "2. 2\n",
       "\n",
       "\n"
      ],
      "text/plain": [
       "[1] 1210    2"
      ]
     },
     "metadata": {},
     "output_type": "display_data"
    },
    {
     "data": {
      "text/html": [
       "928"
      ],
      "text/latex": [
       "928"
      ],
      "text/markdown": [
       "928"
      ],
      "text/plain": [
       "[1] 928"
      ]
     },
     "metadata": {},
     "output_type": "display_data"
    }
   ],
   "source": [
    "# Subject ID is biobank ID, do not use EMPI because of missing values\n",
    "plasma.collect.dates <- plasma.collect.dates %>% select(Biobank_Subject_ID, COLLECTION_DATE)\n",
    "\n",
    "# assign new names to the columns of the data frame\n",
    "colnames(plasma.collect.dates) <- c('Subject_Id','Plasma_collect_date')\n",
    "dim(plasma.collect.dates)\n",
    "length(unique(plasma.collect.dates$Subject_Id))"
   ]
  },
  {
   "cell_type": "code",
   "execution_count": 5,
   "id": "9bba1245",
   "metadata": {},
   "outputs": [
    {
     "data": {
      "text/html": [
       "<style>\n",
       ".list-inline {list-style: none; margin:0; padding: 0}\n",
       ".list-inline>li {display: inline-block}\n",
       ".list-inline>li:not(:last-child)::after {content: \"\\00b7\"; padding: 0 .5ex}\n",
       "</style>\n",
       "<ol class=list-inline><li>275</li><li>2</li></ol>\n"
      ],
      "text/latex": [
       "\\begin{enumerate*}\n",
       "\\item 275\n",
       "\\item 2\n",
       "\\end{enumerate*}\n"
      ],
      "text/markdown": [
       "1. 275\n",
       "2. 2\n",
       "\n",
       "\n"
      ],
      "text/plain": [
       "[1] 275   2"
      ]
     },
     "metadata": {},
     "output_type": "display_data"
    },
    {
     "data": {
      "text/html": [
       "<style>\n",
       ".list-inline {list-style: none; margin:0; padding: 0}\n",
       ".list-inline>li {display: inline-block}\n",
       ".list-inline>li:not(:last-child)::after {content: \"\\00b7\"; padding: 0 .5ex}\n",
       "</style>\n",
       "<ol class=list-inline><li>935</li><li>2</li></ol>\n"
      ],
      "text/latex": [
       "\\begin{enumerate*}\n",
       "\\item 935\n",
       "\\item 2\n",
       "\\end{enumerate*}\n"
      ],
      "text/markdown": [
       "1. 935\n",
       "2. 2\n",
       "\n",
       "\n"
      ],
      "text/plain": [
       "[1] 935   2"
      ]
     },
     "metadata": {},
     "output_type": "display_data"
    }
   ],
   "source": [
    "# remove duplicated rows\n",
    "dim(plasma.collect.dates[duplicated(plasma.collect.dates), ]) # 275 duplicated rows\n",
    "plasma.collect.dates.no.dup <- plasma.collect.dates[!duplicated(plasma.collect.dates), ]\n",
    "dim(plasma.collect.dates.no.dup)"
   ]
  },
  {
   "cell_type": "code",
   "execution_count": 6,
   "id": "e74eeac8",
   "metadata": {},
   "outputs": [
    {
     "data": {
      "text/plain": [
       "\n",
       "FALSE  TRUE \n",
       "  928     7 "
      ]
     },
     "metadata": {},
     "output_type": "display_data"
    },
    {
     "data": {
      "text/html": [
       "<style>\n",
       ".list-inline {list-style: none; margin:0; padding: 0}\n",
       ".list-inline>li {display: inline-block}\n",
       ".list-inline>li:not(:last-child)::after {content: \"\\00b7\"; padding: 0 .5ex}\n",
       "</style>\n",
       "<ol class=list-inline><li>928</li><li>3</li></ol>\n"
      ],
      "text/latex": [
       "\\begin{enumerate*}\n",
       "\\item 928\n",
       "\\item 3\n",
       "\\end{enumerate*}\n"
      ],
      "text/markdown": [
       "1. 928\n",
       "2. 3\n",
       "\n",
       "\n"
      ],
      "text/plain": [
       "[1] 928   3"
      ]
     },
     "metadata": {},
     "output_type": "display_data"
    }
   ],
   "source": [
    "# remove duplicated Subject ID. Of 935, 7 are duplicated\n",
    "plasma.collect.dates.no.dup$dup.ID <- duplicated(plasma.collect.dates.no.dup$Subject_Id)\n",
    "table(plasma.collect.dates.no.dup$dup.ID) # 7 are duplicated ID\n",
    "\n",
    "plasma.collect.dates.no.dup <- plasma.collect.dates.no.dup %>% filter(plasma.collect.dates.no.dup$dup.ID == 'FALSE')\n",
    "dim(plasma.collect.dates.no.dup)"
   ]
  },
  {
   "cell_type": "code",
   "execution_count": 7,
   "id": "08617296",
   "metadata": {},
   "outputs": [],
   "source": [
    "# extract biobank ID\n",
    "bib.data <- read.delim(file.path(raw.rpdr.dir, 'Bib.txt'), sep = '|')\n",
    "biobank.ID <- bib.data %>% select(Subject_Id, EMPI)"
   ]
  },
  {
   "cell_type": "code",
   "execution_count": 9,
   "id": "fd83c1f5",
   "metadata": {},
   "outputs": [
    {
     "data": {
      "text/html": [
       "<style>\n",
       ".list-inline {list-style: none; margin:0; padding: 0}\n",
       ".list-inline>li {display: inline-block}\n",
       ".list-inline>li:not(:last-child)::after {content: \"\\00b7\"; padding: 0 .5ex}\n",
       "</style>\n",
       "<ol class=list-inline><li>928</li><li>3</li></ol>\n"
      ],
      "text/latex": [
       "\\begin{enumerate*}\n",
       "\\item 928\n",
       "\\item 3\n",
       "\\end{enumerate*}\n"
      ],
      "text/markdown": [
       "1. 928\n",
       "2. 3\n",
       "\n",
       "\n"
      ],
      "text/plain": [
       "[1] 928   3"
      ]
     },
     "metadata": {},
     "output_type": "display_data"
    }
   ],
   "source": [
    "# merge to have plasma collect date\n",
    "data.id <- plasma.collect.dates.no.dup[,c('Subject_Id', 'Plasma_collect_date')] %>% \n",
    "                                        left_join(biobank.ID, by = 'Subject_Id')\n",
    "dim(data.id)"
   ]
  },
  {
   "cell_type": "markdown",
   "id": "bf005f8d",
   "metadata": {},
   "source": [
    "# Diagnosis file"
   ]
  },
  {
   "cell_type": "code",
   "execution_count": 10,
   "id": "6ff9706c",
   "metadata": {},
   "outputs": [
    {
     "data": {
      "text/html": [
       "2618500"
      ],
      "text/latex": [
       "2618500"
      ],
      "text/markdown": [
       "2618500"
      ],
      "text/plain": [
       "[1] 2618500"
      ]
     },
     "metadata": {},
     "output_type": "display_data"
    }
   ],
   "source": [
    "# check diagnosis file to see how many rows\n",
    "diag.lines <-readLines(file.path(raw.rpdr.dir, 'Dia.txt'))\n",
    "length(diag.lines) # 2618500 include headers"
   ]
  },
  {
   "cell_type": "code",
   "execution_count": 11,
   "id": "7cddfd58",
   "metadata": {},
   "outputs": [
    {
     "data": {
      "text/html": [
       "<style>\n",
       ".list-inline {list-style: none; margin:0; padding: 0}\n",
       ".list-inline>li {display: inline-block}\n",
       ".list-inline>li:not(:last-child)::after {content: \"\\00b7\"; padding: 0 .5ex}\n",
       "</style>\n",
       "<ol class=list-inline><li>2618499</li><li>14</li></ol>\n"
      ],
      "text/latex": [
       "\\begin{enumerate*}\n",
       "\\item 2618499\n",
       "\\item 14\n",
       "\\end{enumerate*}\n"
      ],
      "text/markdown": [
       "1. 2618499\n",
       "2. 14\n",
       "\n",
       "\n"
      ],
      "text/plain": [
       "[1] 2618499      14"
      ]
     },
     "metadata": {},
     "output_type": "display_data"
    }
   ],
   "source": [
    "# load diganosis file\n",
    "diag.data <- read.delim(file.path(raw.rpdr.dir, 'Dia.txt'), sep = '|')\n",
    "dim(diag.data)"
   ]
  },
  {
   "cell_type": "code",
   "execution_count": 12,
   "id": "b41cb198",
   "metadata": {},
   "outputs": [
    {
     "data": {
      "text/html": [
       "<style>\n",
       ".list-inline {list-style: none; margin:0; padding: 0}\n",
       ".list-inline>li {display: inline-block}\n",
       ".list-inline>li:not(:last-child)::after {content: \"\\00b7\"; padding: 0 .5ex}\n",
       "</style>\n",
       "<ol class=list-inline><li>2618499</li><li>15</li></ol>\n"
      ],
      "text/latex": [
       "\\begin{enumerate*}\n",
       "\\item 2618499\n",
       "\\item 15\n",
       "\\end{enumerate*}\n"
      ],
      "text/markdown": [
       "1. 2618499\n",
       "2. 15\n",
       "\n",
       "\n"
      ],
      "text/plain": [
       "[1] 2618499      15"
      ]
     },
     "metadata": {},
     "output_type": "display_data"
    }
   ],
   "source": [
    "# merge biobank.ID and diagnosis file to have Subject_Id\n",
    "diag.data.ID <- merge(diag.data, data.id[,c('Subject_Id', 'EMPI')], by = 'EMPI')\n",
    "dim(diag.data.ID)"
   ]
  },
  {
   "cell_type": "code",
   "execution_count": 13,
   "id": "80ee03bf",
   "metadata": {},
   "outputs": [
    {
     "data": {
      "text/html": [
       "'double'"
      ],
      "text/latex": [
       "'double'"
      ],
      "text/markdown": [
       "'double'"
      ],
      "text/plain": [
       "[1] \"double\""
      ]
     },
     "metadata": {},
     "output_type": "display_data"
    }
   ],
   "source": [
    "# format of date is character --> change format\n",
    "diag.data.ID$Date <- as.Date(diag.data.ID$Date, format = '%m/%d/%Y')\n",
    "typeof(diag.data.ID$Date)"
   ]
  },
  {
   "cell_type": "markdown",
   "id": "273ff679",
   "metadata": {},
   "source": [
    "# Asthma"
   ]
  },
  {
   "cell_type": "markdown",
   "id": "0d437fb4",
   "metadata": {},
   "source": [
    "- Asthma diagnosis and category are downloaded from Biobank Portal: asthma_diagnosis.csv\n",
    "- Filter asthma diagnosis in RPDR file by searching asthma or Asthma in Diagnosis_Name column\n",
    "- Compare diagnosis name in RPDR file with Biobank Portal\n",
    "- Some asthma diagnosis do not have category info in Biobank Portal (RPDR does not have asthma category). No Category can replaced to Other and Unspecififed Asthma"
   ]
  },
  {
   "cell_type": "code",
   "execution_count": 14,
   "id": "2527ed21",
   "metadata": {},
   "outputs": [],
   "source": [
    "# load list of asthma categorgy in asthma folder from Biobank portal\n",
    "asth.diag.biobank <- read.csv(file.path(data.dir, 'asthma_diagnosis.csv'))\n",
    "\n",
    "# unique diagnosis name in Biobank Portal\n",
    "diganosis.from.biobank <- unique(asth.diag.biobank$Diagnosis_Name)\n",
    "\n",
    "# subset data with asthma or Asthma in Diganosis_Names\n",
    "asth.diag <- diag.data.ID %>% filter(str_detect(Diagnosis_Name, 'Asthma|asthma'))\n",
    "diganosis.from.rpdr <- unique(asth.diag$Diagnosis_Name)"
   ]
  },
  {
   "cell_type": "code",
   "execution_count": 15,
   "id": "00c0020e",
   "metadata": {},
   "outputs": [
    {
     "data": {
      "text/html": [
       "<style>\n",
       ".list-inline {list-style: none; margin:0; padding: 0}\n",
       ".list-inline>li {display: inline-block}\n",
       ".list-inline>li:not(:last-child)::after {content: \"\\00b7\"; padding: 0 .5ex}\n",
       "</style>\n",
       "<ol class=list-inline><li>'Extrinsic asthma'</li><li>'Intrinsic asthma'</li><li>'Mild persistent asthma with status asthmaticus'</li><li>'Asthma, acute exacerbation-LMR 1288'</li><li>'Exercise induced bronchospasm'</li><li>'Exercise-induced asthma-LMR 1586'</li><li>'Other forms of asthma'</li></ol>\n"
      ],
      "text/latex": [
       "\\begin{enumerate*}\n",
       "\\item 'Extrinsic asthma'\n",
       "\\item 'Intrinsic asthma'\n",
       "\\item 'Mild persistent asthma with status asthmaticus'\n",
       "\\item 'Asthma, acute exacerbation-LMR 1288'\n",
       "\\item 'Exercise induced bronchospasm'\n",
       "\\item 'Exercise-induced asthma-LMR 1586'\n",
       "\\item 'Other forms of asthma'\n",
       "\\end{enumerate*}\n"
      ],
      "text/markdown": [
       "1. 'Extrinsic asthma'\n",
       "2. 'Intrinsic asthma'\n",
       "3. 'Mild persistent asthma with status asthmaticus'\n",
       "4. 'Asthma, acute exacerbation-LMR 1288'\n",
       "5. 'Exercise induced bronchospasm'\n",
       "6. 'Exercise-induced asthma-LMR 1586'\n",
       "7. 'Other forms of asthma'\n",
       "\n",
       "\n"
      ],
      "text/plain": [
       "[1] \"Extrinsic asthma\"                              \n",
       "[2] \"Intrinsic asthma\"                              \n",
       "[3] \"Mild persistent asthma with status asthmaticus\"\n",
       "[4] \"Asthma, acute exacerbation-LMR 1288\"           \n",
       "[5] \"Exercise induced bronchospasm\"                 \n",
       "[6] \"Exercise-induced asthma-LMR 1586\"              \n",
       "[7] \"Other forms of asthma\"                         "
      ]
     },
     "metadata": {},
     "output_type": "display_data"
    }
   ],
   "source": [
    "# diagnosis not in rpdr\n",
    "setdiff(diganosis.from.biobank, diganosis.from.rpdr)"
   ]
  },
  {
   "cell_type": "code",
   "execution_count": 16,
   "id": "0e012954",
   "metadata": {},
   "outputs": [
    {
     "data": {
      "text/html": [
       "<style>\n",
       ".list-inline {list-style: none; margin:0; padding: 0}\n",
       ".list-inline>li {display: inline-block}\n",
       ".list-inline>li:not(:last-child)::after {content: \"\\00b7\"; padding: 0 .5ex}\n",
       "</style>\n",
       "<ol class=list-inline><li>'Bronchitis and asthma age &gt;17 w/o CC (AP v21)'</li><li>'Bronchitis And Asthma Age &gt;17 W/O Cc (MS v24)'</li><li>'Chronic obstructive asthma with acute exacerbation'</li><li>'Bronchitis And Asthma Age &gt;17 W Cc (MS v24)'</li><li>'Chronic obstructive asthma, without mention of status asthmaticus'</li><li>'Bronchitis and asthma age &gt;17 w CC (AP v21)'</li><li>'Family history of asthma'</li><li>'Chronic obstructive asthma, with status asthmaticus'</li><li>'Family history of asthma and other chronic lower respiratory diseases'</li><li>'Asthma (APR v30)'</li><li>'Simple pneumonia and oth respiratory disord exc bronchitis, asthma w major cc (AP v21)'</li><li>'Poisoning by antiasthmatics'</li><li>'Bronchitis And Asthma Age 0-17 (MS v24)'</li><li>'Bronchitis and asthma age &lt;18 w/o CC (AP v21)'</li><li>'Eosinophilic asthma'</li><li>'Adverse effect of antiasthmatics, initial encounter'</li></ol>\n"
      ],
      "text/latex": [
       "\\begin{enumerate*}\n",
       "\\item 'Bronchitis and asthma age >17 w/o CC (AP v21)'\n",
       "\\item 'Bronchitis And Asthma Age >17 W/O Cc (MS v24)'\n",
       "\\item 'Chronic obstructive asthma with acute exacerbation'\n",
       "\\item 'Bronchitis And Asthma Age >17 W Cc (MS v24)'\n",
       "\\item 'Chronic obstructive asthma, without mention of status asthmaticus'\n",
       "\\item 'Bronchitis and asthma age >17 w CC (AP v21)'\n",
       "\\item 'Family history of asthma'\n",
       "\\item 'Chronic obstructive asthma, with status asthmaticus'\n",
       "\\item 'Family history of asthma and other chronic lower respiratory diseases'\n",
       "\\item 'Asthma (APR v30)'\n",
       "\\item 'Simple pneumonia and oth respiratory disord exc bronchitis, asthma w major cc (AP v21)'\n",
       "\\item 'Poisoning by antiasthmatics'\n",
       "\\item 'Bronchitis And Asthma Age 0-17 (MS v24)'\n",
       "\\item 'Bronchitis and asthma age <18 w/o CC (AP v21)'\n",
       "\\item 'Eosinophilic asthma'\n",
       "\\item 'Adverse effect of antiasthmatics, initial encounter'\n",
       "\\end{enumerate*}\n"
      ],
      "text/markdown": [
       "1. 'Bronchitis and asthma age &gt;17 w/o CC (AP v21)'\n",
       "2. 'Bronchitis And Asthma Age &gt;17 W/O Cc (MS v24)'\n",
       "3. 'Chronic obstructive asthma with acute exacerbation'\n",
       "4. 'Bronchitis And Asthma Age &gt;17 W Cc (MS v24)'\n",
       "5. 'Chronic obstructive asthma, without mention of status asthmaticus'\n",
       "6. 'Bronchitis and asthma age &gt;17 w CC (AP v21)'\n",
       "7. 'Family history of asthma'\n",
       "8. 'Chronic obstructive asthma, with status asthmaticus'\n",
       "9. 'Family history of asthma and other chronic lower respiratory diseases'\n",
       "10. 'Asthma (APR v30)'\n",
       "11. 'Simple pneumonia and oth respiratory disord exc bronchitis, asthma w major cc (AP v21)'\n",
       "12. 'Poisoning by antiasthmatics'\n",
       "13. 'Bronchitis And Asthma Age 0-17 (MS v24)'\n",
       "14. 'Bronchitis and asthma age &lt;18 w/o CC (AP v21)'\n",
       "15. 'Eosinophilic asthma'\n",
       "16. 'Adverse effect of antiasthmatics, initial encounter'\n",
       "\n",
       "\n"
      ],
      "text/plain": [
       " [1] \"Bronchitis and asthma age >17 w/o CC (AP v21)\"                                         \n",
       " [2] \"Bronchitis And Asthma Age >17 W/O Cc (MS v24)\"                                         \n",
       " [3] \"Chronic obstructive asthma with acute exacerbation\"                                    \n",
       " [4] \"Bronchitis And Asthma Age >17 W Cc (MS v24)\"                                           \n",
       " [5] \"Chronic obstructive asthma, without mention of status asthmaticus\"                     \n",
       " [6] \"Bronchitis and asthma age >17 w CC (AP v21)\"                                           \n",
       " [7] \"Family history of asthma\"                                                              \n",
       " [8] \"Chronic obstructive asthma, with status asthmaticus\"                                   \n",
       " [9] \"Family history of asthma and other chronic lower respiratory diseases\"                 \n",
       "[10] \"Asthma (APR v30)\"                                                                      \n",
       "[11] \"Simple pneumonia and oth respiratory disord exc bronchitis, asthma w major cc (AP v21)\"\n",
       "[12] \"Poisoning by antiasthmatics\"                                                           \n",
       "[13] \"Bronchitis And Asthma Age 0-17 (MS v24)\"                                               \n",
       "[14] \"Bronchitis and asthma age <18 w/o CC (AP v21)\"                                         \n",
       "[15] \"Eosinophilic asthma\"                                                                   \n",
       "[16] \"Adverse effect of antiasthmatics, initial encounter\"                                   "
      ]
     },
     "metadata": {},
     "output_type": "display_data"
    }
   ],
   "source": [
    "# diagnosis not in biobank\n",
    "setdiff(diganosis.from.rpdr, diganosis.from.biobank)"
   ]
  },
  {
   "cell_type": "markdown",
   "id": "e5c3a300",
   "metadata": {},
   "source": [
    "#### Note:\n",
    "- Above asthma diagnosis are not in asthma folder in Biobank. For example, some are classifed in COPD category in Biobank. They are **Chronic obstructive asthma, without mention of status asthmaticus, Chronic obstructive asthma with acute exacerbation, Asthma (APR v30), Chronic obstructive asthma, with status asthmaticus, Eosinophilic asthma**\n",
    "- Bronchitis and asthma diagnosis are in Bronchitis and asthma (Disease related group), not asthma folder in Biobank\n",
    "\n",
    "-> **use asthma diagnosis name in Biobank Portal to find asthma diagnosis in RPDR file**"
   ]
  },
  {
   "cell_type": "code",
   "execution_count": 17,
   "id": "08d0b8bb",
   "metadata": {},
   "outputs": [
    {
     "data": {
      "text/html": [
       "<style>\n",
       ".list-inline {list-style: none; margin:0; padding: 0}\n",
       ".list-inline>li {display: inline-block}\n",
       ".list-inline>li:not(:last-child)::after {content: \"\\00b7\"; padding: 0 .5ex}\n",
       "</style>\n",
       "<ol class=list-inline><li>64098</li><li>15</li></ol>\n"
      ],
      "text/latex": [
       "\\begin{enumerate*}\n",
       "\\item 64098\n",
       "\\item 15\n",
       "\\end{enumerate*}\n"
      ],
      "text/markdown": [
       "1. 64098\n",
       "2. 15\n",
       "\n",
       "\n"
      ],
      "text/plain": [
       "[1] 64098    15"
      ]
     },
     "metadata": {},
     "output_type": "display_data"
    },
    {
     "data": {
      "text/html": [
       "928"
      ],
      "text/latex": [
       "928"
      ],
      "text/markdown": [
       "928"
      ],
      "text/plain": [
       "[1] 928"
      ]
     },
     "metadata": {},
     "output_type": "display_data"
    }
   ],
   "source": [
    "# filter asthma\n",
    "asth.diag <- filter(diag.data.ID, Diagnosis_Name %in% asth.diag.biobank$Diagnosis_Name) \n",
    "dim(asth.diag)\n",
    "length(unique(asth.diag$Subject_Id)) # all 928 patients have asthma"
   ]
  },
  {
   "cell_type": "code",
   "execution_count": 18,
   "id": "a721af22",
   "metadata": {},
   "outputs": [
    {
     "data": {
      "text/html": [
       "<style>\n",
       ".list-inline {list-style: none; margin:0; padding: 0}\n",
       ".list-inline>li {display: inline-block}\n",
       ".list-inline>li:not(:last-child)::after {content: \"\\00b7\"; padding: 0 .5ex}\n",
       "</style>\n",
       "<ol class=list-inline><li>64098</li><li>10</li></ol>\n"
      ],
      "text/latex": [
       "\\begin{enumerate*}\n",
       "\\item 64098\n",
       "\\item 10\n",
       "\\end{enumerate*}\n"
      ],
      "text/markdown": [
       "1. 64098\n",
       "2. 10\n",
       "\n",
       "\n"
      ],
      "text/plain": [
       "[1] 64098    10"
      ]
     },
     "metadata": {},
     "output_type": "display_data"
    }
   ],
   "source": [
    "# select columns\n",
    "asth.diag <- asth.diag %>% select(Subject_Id, Date, Diagnosis_Name, Code_Type, Code,  \n",
    "                                  Diagnosis_Flag, Inpatient_Outpatient, Provider, \n",
    "                                  Hospital, Encounter_number)\n",
    "dim(asth.diag)"
   ]
  },
  {
   "cell_type": "code",
   "execution_count": 19,
   "id": "ef15fa8c",
   "metadata": {
    "scrolled": true
   },
   "outputs": [
    {
     "data": {
      "text/html": [
       "<style>\n",
       ".list-inline {list-style: none; margin:0; padding: 0}\n",
       ".list-inline>li {display: inline-block}\n",
       ".list-inline>li:not(:last-child)::after {content: \"\\00b7\"; padding: 0 .5ex}\n",
       "</style>\n",
       "<ol class=list-inline><li>497</li><li>10</li></ol>\n"
      ],
      "text/latex": [
       "\\begin{enumerate*}\n",
       "\\item 497\n",
       "\\item 10\n",
       "\\end{enumerate*}\n"
      ],
      "text/markdown": [
       "1. 497\n",
       "2. 10\n",
       "\n",
       "\n"
      ],
      "text/plain": [
       "[1] 497  10"
      ]
     },
     "metadata": {},
     "output_type": "display_data"
    }
   ],
   "source": [
    "dim(asth.diag[duplicated(asth.diag), ]) # check duplication: 497"
   ]
  },
  {
   "cell_type": "code",
   "execution_count": 20,
   "id": "3d8e0672",
   "metadata": {},
   "outputs": [
    {
     "data": {
      "text/html": [
       "<style>\n",
       ".list-inline {list-style: none; margin:0; padding: 0}\n",
       ".list-inline>li {display: inline-block}\n",
       ".list-inline>li:not(:last-child)::after {content: \"\\00b7\"; padding: 0 .5ex}\n",
       "</style>\n",
       "<ol class=list-inline><li>63601</li><li>10</li></ol>\n"
      ],
      "text/latex": [
       "\\begin{enumerate*}\n",
       "\\item 63601\n",
       "\\item 10\n",
       "\\end{enumerate*}\n"
      ],
      "text/markdown": [
       "1. 63601\n",
       "2. 10\n",
       "\n",
       "\n"
      ],
      "text/plain": [
       "[1] 63601    10"
      ]
     },
     "metadata": {},
     "output_type": "display_data"
    }
   ],
   "source": [
    "# remove duplicated rows\n",
    "asth.diag.no.dup <- asth.diag[!duplicated(asth.diag), ]\n",
    "dim(asth.diag.no.dup) # remove 497"
   ]
  },
  {
   "cell_type": "code",
   "execution_count": 21,
   "id": "b838b458",
   "metadata": {},
   "outputs": [
    {
     "data": {
      "text/html": [
       "<style>\n",
       ".list-inline {list-style: none; margin:0; padding: 0}\n",
       ".list-inline>li {display: inline-block}\n",
       ".list-inline>li:not(:last-child)::after {content: \"\\00b7\"; padding: 0 .5ex}\n",
       "</style>\n",
       "<ol class=list-inline><li>63601</li><li>11</li></ol>\n"
      ],
      "text/latex": [
       "\\begin{enumerate*}\n",
       "\\item 63601\n",
       "\\item 11\n",
       "\\end{enumerate*}\n"
      ],
      "text/markdown": [
       "1. 63601\n",
       "2. 11\n",
       "\n",
       "\n"
      ],
      "text/plain": [
       "[1] 63601    11"
      ]
     },
     "metadata": {},
     "output_type": "display_data"
    },
    {
     "data": {
      "text/plain": [
       "\n",
       "     Mild_intermittent_asthma        Mild_persistent_asthma \n",
       "                        12280                          2356 \n",
       "   Moderate_persistent_asthma                   No_category \n",
       "                         6989                           773 \n",
       "Other_and_unspecificed_asthma      Severe_persistent_asthma \n",
       "                        35651                          5552 "
      ]
     },
     "metadata": {},
     "output_type": "display_data"
    }
   ],
   "source": [
    "# match with biobank file to have asthma sub category\n",
    "asth.diag.no.dup <- asth.diag.no.dup %>% left_join(asth.diag.biobank[,c('Diagnosis_Name', 'Asthma_Category')], \n",
    "                                                  by = 'Diagnosis_Name') # remove biobank path\n",
    "dim(asth.diag.no.dup)\n",
    "table(asth.diag.no.dup$Asthma_Category)"
   ]
  },
  {
   "cell_type": "code",
   "execution_count": 22,
   "id": "4c0ccbf7",
   "metadata": {},
   "outputs": [
    {
     "data": {
      "text/plain": [
       "\n",
       "     Mild_intermittent_asthma        Mild_persistent_asthma \n",
       "                        12280                          2356 \n",
       "   Moderate_persistent_asthma Other_and_unspecificed_asthma \n",
       "                         6989                         36424 \n",
       "     Severe_persistent_asthma \n",
       "                         5552 "
      ]
     },
     "metadata": {},
     "output_type": "display_data"
    },
    {
     "data": {
      "text/html": [
       "0"
      ],
      "text/latex": [
       "0"
      ],
      "text/markdown": [
       "0"
      ],
      "text/plain": [
       "[1] 0"
      ]
     },
     "metadata": {},
     "output_type": "display_data"
    }
   ],
   "source": [
    "# change No category to Other_and_unspecificed_asthma\n",
    "asth.diag.no.dup$Asthma_Category[asth.diag.no.dup$Asthma_Category == 'No_category'] <- 'Other_and_unspecificed_asthma'\n",
    "table(asth.diag.no.dup$Asthma_Category)\n",
    "sum(is.na(asth.diag.no.dup$Asthma_Category)) # check missing"
   ]
  },
  {
   "cell_type": "markdown",
   "id": "33df136b",
   "metadata": {},
   "source": [
    "## Asthma: Remove duplication"
   ]
  },
  {
   "cell_type": "code",
   "execution_count": 23,
   "id": "8db2f728",
   "metadata": {},
   "outputs": [
    {
     "data": {
      "text/html": [
       "<style>\n",
       ".list-inline {list-style: none; margin:0; padding: 0}\n",
       ".list-inline>li {display: inline-block}\n",
       ".list-inline>li:not(:last-child)::after {content: \"\\00b7\"; padding: 0 .5ex}\n",
       "</style>\n",
       "<ol class=list-inline><li>9314</li><li>11</li></ol>\n"
      ],
      "text/latex": [
       "\\begin{enumerate*}\n",
       "\\item 9314\n",
       "\\item 11\n",
       "\\end{enumerate*}\n"
      ],
      "text/markdown": [
       "1. 9314\n",
       "2. 11\n",
       "\n",
       "\n"
      ],
      "text/plain": [
       "[1] 9314   11"
      ]
     },
     "metadata": {},
     "output_type": "display_data"
    },
    {
     "data": {
      "text/html": [
       "<style>\n",
       ".list-inline {list-style: none; margin:0; padding: 0}\n",
       ".list-inline>li {display: inline-block}\n",
       ".list-inline>li:not(:last-child)::after {content: \"\\00b7\"; padding: 0 .5ex}\n",
       "</style>\n",
       "<ol class=list-inline><li>26785</li><li>11</li></ol>\n"
      ],
      "text/latex": [
       "\\begin{enumerate*}\n",
       "\\item 26785\n",
       "\\item 11\n",
       "\\end{enumerate*}\n"
      ],
      "text/markdown": [
       "1. 26785\n",
       "2. 11\n",
       "\n",
       "\n"
      ],
      "text/plain": [
       "[1] 26785    11"
      ]
     },
     "metadata": {},
     "output_type": "display_data"
    }
   ],
   "source": [
    "# check duplication\n",
    "dim(asth.diag.no.dup[duplicated(asth.diag.no.dup[,c('Subject_Id', 'Date', 'Asthma_Category', 'Encounter_number')]), ]) # 9314\n",
    "dim(asth.diag.no.dup[duplicated(asth.diag.no.dup[,c('Subject_Id', 'Date', 'Asthma_Category')]), ]) # 26785"
   ]
  },
  {
   "cell_type": "markdown",
   "id": "255a2a37",
   "metadata": {},
   "source": [
    "Because some patients have different diagnosis at the same date, select the more severity asthma. \n",
    "The rank will be **other and unspecified < mild intermittent < mild persistent < severe**"
   ]
  },
  {
   "cell_type": "code",
   "execution_count": 32,
   "id": "96063aee",
   "metadata": {},
   "outputs": [
    {
     "data": {
      "text/plain": [
       "\n",
       "     Mild_intermittent_asthma        Mild_persistent_asthma \n",
       "                        12280                          2356 \n",
       "   Moderate_persistent_asthma Other_and_unspecificed_asthma \n",
       "                         6989                         36424 \n",
       "     Severe_persistent_asthma \n",
       "                         5552 "
      ]
     },
     "metadata": {},
     "output_type": "display_data"
    },
    {
     "data": {
      "text/html": [
       "'double'"
      ],
      "text/latex": [
       "'double'"
      ],
      "text/markdown": [
       "'double'"
      ],
      "text/plain": [
       "[1] \"double\""
      ]
     },
     "metadata": {},
     "output_type": "display_data"
    },
    {
     "data": {
      "text/plain": [
       "\n",
       "    0     1     2     3     4 \n",
       "36424 12280  2356  6989  5552 "
      ]
     },
     "metadata": {},
     "output_type": "display_data"
    }
   ],
   "source": [
    "# rank based on severity\n",
    "table(asth.diag.no.dup$Asthma_Category)\n",
    "asth.diag.no.dup$Cat_prior <- NA\n",
    "asth.diag.no.dup$Cat_prior[asth.diag.no.dup$Asthma_Category == 'Other_and_unspecificed_asthma'] <- 0\n",
    "asth.diag.no.dup$Cat_prior[asth.diag.no.dup$Asthma_Category == 'Mild_intermittent_asthma'] <- 1\n",
    "asth.diag.no.dup$Cat_prior[asth.diag.no.dup$Asthma_Category == 'Mild_persistent_asthma'] <- 2\n",
    "asth.diag.no.dup$Cat_prior[asth.diag.no.dup$Asthma_Category == 'Moderate_persistent_asthma'] <- 3\n",
    "asth.diag.no.dup$Cat_prior[asth.diag.no.dup$Asthma_Category == 'Severe_persistent_asthma'] <- 4\n",
    "typeof(asth.diag.no.dup$Cat_prior)\n",
    "table(asth.diag.no.dup$Cat_prior)"
   ]
  },
  {
   "cell_type": "code",
   "execution_count": 33,
   "id": "c6efad1a",
   "metadata": {},
   "outputs": [
    {
     "data": {
      "text/html": [
       "<style>\n",
       ".list-inline {list-style: none; margin:0; padding: 0}\n",
       ".list-inline>li {display: inline-block}\n",
       ".list-inline>li:not(:last-child)::after {content: \"\\00b7\"; padding: 0 .5ex}\n",
       "</style>\n",
       "<ol class=list-inline><li>34716</li><li>3</li></ol>\n"
      ],
      "text/latex": [
       "\\begin{enumerate*}\n",
       "\\item 34716\n",
       "\\item 3\n",
       "\\end{enumerate*}\n"
      ],
      "text/markdown": [
       "1. 34716\n",
       "2. 3\n",
       "\n",
       "\n"
      ],
      "text/plain": [
       "[1] 34716     3"
      ]
     },
     "metadata": {},
     "output_type": "display_data"
    }
   ],
   "source": [
    "# priority selecting patients with asthma severity\n",
    "asth.cat.prior <- asth.diag.no.dup %>%                                 # Get max by group\n",
    "  group_by(Subject_Id, Date) %>%\n",
    "  summarise_at(vars(Cat_prior),\n",
    "               list(Cat_prior = max))\n",
    "dim(asth.cat.prior)"
   ]
  },
  {
   "cell_type": "code",
   "execution_count": 34,
   "id": "717a36b4",
   "metadata": {},
   "outputs": [
    {
     "data": {
      "text/html": [
       "<style>\n",
       ".list-inline {list-style: none; margin:0; padding: 0}\n",
       ".list-inline>li {display: inline-block}\n",
       ".list-inline>li:not(:last-child)::after {content: \"\\00b7\"; padding: 0 .5ex}\n",
       "</style>\n",
       "<ol class=list-inline><li>0</li><li>3</li></ol>\n"
      ],
      "text/latex": [
       "\\begin{enumerate*}\n",
       "\\item 0\n",
       "\\item 3\n",
       "\\end{enumerate*}\n"
      ],
      "text/markdown": [
       "1. 0\n",
       "2. 3\n",
       "\n",
       "\n"
      ],
      "text/plain": [
       "[1] 0 3"
      ]
     },
     "metadata": {},
     "output_type": "display_data"
    }
   ],
   "source": [
    "dim(asth.cat.prior[duplicated(asth.cat.prior[,c('Subject_Id', 'Date')]), ]) # no dup"
   ]
  },
  {
   "cell_type": "code",
   "execution_count": 35,
   "id": "04da3e5e",
   "metadata": {},
   "outputs": [
    {
     "data": {
      "text/plain": [
       "\n",
       "    0     1     2     3     4 \n",
       "21146  7065  1211  3188  2106 "
      ]
     },
     "metadata": {},
     "output_type": "display_data"
    },
    {
     "data": {
      "text/plain": [
       "\n",
       "    0     1     2     3     4 \n",
       "21146  7065  1211  3188  2106 "
      ]
     },
     "metadata": {},
     "output_type": "display_data"
    },
    {
     "data": {
      "text/html": [
       "<style>\n",
       ".list-inline {list-style: none; margin:0; padding: 0}\n",
       ".list-inline>li {display: inline-block}\n",
       ".list-inline>li:not(:last-child)::after {content: \"\\00b7\"; padding: 0 .5ex}\n",
       "</style>\n",
       "<ol class=list-inline><li>34716</li><li>4</li></ol>\n"
      ],
      "text/latex": [
       "\\begin{enumerate*}\n",
       "\\item 34716\n",
       "\\item 4\n",
       "\\end{enumerate*}\n"
      ],
      "text/markdown": [
       "1. 34716\n",
       "2. 4\n",
       "\n",
       "\n"
      ],
      "text/plain": [
       "[1] 34716     4"
      ]
     },
     "metadata": {},
     "output_type": "display_data"
    }
   ],
   "source": [
    "# change back to Asthma Category\n",
    "table(asth.cat.prior$Cat_prior)\n",
    "asth.cat.prior$Asthma_Category <- NA\n",
    "asth.cat.prior$Asthma_Category[asth.cat.prior$Cat_prior == 0] <- 'Other_and_unspecificed_asthma'\n",
    "asth.cat.prior$Asthma_Category[asth.cat.prior$Cat_prior == 1] <- 'Mild_intermittent_asthma'\n",
    "asth.cat.prior$Asthma_Category[asth.cat.prior$Cat_prior == 2] <- 'Mild_persistent_asthma'\n",
    "asth.cat.prior$Asthma_Category[asth.cat.prior$Cat_prior == 3] <- 'Moderate_persistent_asthma'\n",
    "asth.cat.prior$Asthma_Category[asth.cat.prior$Cat_prior == 4] <- 'Severe_persistent_asthma'\n",
    "table(asth.cat.prior$Cat_prior)\n",
    "dim(asth.cat.prior)"
   ]
  },
  {
   "cell_type": "code",
   "execution_count": 36,
   "id": "ab03fc92",
   "metadata": {},
   "outputs": [],
   "source": [
    "# export data with unique category for each date\n",
    "asth.cat.prior <- asth.cat.prior %>% select(Subject_Id, Date, Asthma_Category)"
   ]
  },
  {
   "cell_type": "code",
   "execution_count": 37,
   "id": "a175752b",
   "metadata": {},
   "outputs": [
    {
     "data": {
      "text/html": [
       "<style>\n",
       ".list-inline {list-style: none; margin:0; padding: 0}\n",
       ".list-inline>li {display: inline-block}\n",
       ".list-inline>li:not(:last-child)::after {content: \"\\00b7\"; padding: 0 .5ex}\n",
       "</style>\n",
       "<ol class=list-inline><li>928</li><li>2</li></ol>\n"
      ],
      "text/latex": [
       "\\begin{enumerate*}\n",
       "\\item 928\n",
       "\\item 2\n",
       "\\end{enumerate*}\n"
      ],
      "text/markdown": [
       "1. 928\n",
       "2. 2\n",
       "\n",
       "\n"
      ],
      "text/plain": [
       "[1] 928   2"
      ]
     },
     "metadata": {},
     "output_type": "display_data"
    }
   ],
   "source": [
    "# Total diagnosis record for each patient\n",
    "asth.cat.prior$Diagnosis <- 1 # assign 1 for asthma diagnosis\n",
    "\n",
    "# Group by Subject_Id and sum of diagnosis date using dplyr\n",
    "asth.counts.per.ind <- asth.cat.prior %>% group_by(Subject_Id) %>% \n",
    "  summarise(Total_Asthma_Diagnosis = sum(Diagnosis),\n",
    "            .groups = 'drop')\n",
    "dim(asth.counts.per.ind)"
   ]
  },
  {
   "cell_type": "code",
   "execution_count": 38,
   "id": "b6547812",
   "metadata": {},
   "outputs": [
    {
     "data": {
      "text/plain": [
       "   Min. 1st Qu.  Median    Mean 3rd Qu.    Max. \n",
       "   1.00   10.00   21.00   37.41   44.25  333.00 "
      ]
     },
     "metadata": {},
     "output_type": "display_data"
    },
    {
     "data": {
      "text/plain": [
       "\n",
       "  1   2   3   4   5   6   7   8   9  10  11  12  13  14  15  16  17  18  19  20 \n",
       " 12  25  20  14  29  22  26  29  34  30  32  32  23  21  17  18  17  25  17  17 \n",
       " 21  22  23  24  25  26  27  28  29  30  31  32  33  34  35  36  37  38  39  40 \n",
       " 21  10  20  17   6  19   8  14  11  10   4  10  11   7   8   8   9   4   7   4 \n",
       " 41  42  43  44  45  46  47  48  49  50  51  52  53  54  55  56  57  58  59  60 \n",
       "  9   8   7   4   4   6   6   7   8   7   3   3   4   3   6   4   6   4   3   2 \n",
       " 61  62  63  64  65  66  67  68  69  70  71  72  73  74  75  76  77  78  79  80 \n",
       "  5   2   3   1   2   1   2   4   3   2   1   2   1   5   3   3   3   1   3   3 \n",
       " 81  82  83  85  86  87  89  90  92  93  94  95  96  97  98  99 100 101 102 103 \n",
       "  3   4   3   1   1   1   3   1   1   1   1   2   2   3   1   2   1   1   1   2 \n",
       "106 107 110 111 112 113 115 117 118 121 124 126 127 128 129 132 135 136 140 141 \n",
       "  1   2   3   2   1   1   1   2   1   1   2   1   1   2   1   2   1   2   1   1 \n",
       "142 143 147 151 155 157 159 160 161 162 165 169 170 173 174 182 184 192 195 199 \n",
       "  1   1   1   1   3   1   1   1   1   1   1   1   1   1   1   1   2   1   1   1 \n",
       "202 209 215 229 230 234 238 239 245 256 269 275 279 306 311 315 333 \n",
       "  1   1   1   2   1   1   1   2   1   1   1   1   1   1   1   1   1 "
      ]
     },
     "metadata": {},
     "output_type": "display_data"
    }
   ],
   "source": [
    "# summary statistic\n",
    "summary(asth.counts.per.ind$Total_Asthma_Diagnosis)\n",
    "table(asth.counts.per.ind$Total_Asthma_Diagnosis)"
   ]
  },
  {
   "cell_type": "markdown",
   "id": "177642eb",
   "metadata": {},
   "source": [
    "## Asthma: Most frequency diagnosis\n",
    "- Find diagnosis have the most number of record for each patient"
   ]
  },
  {
   "cell_type": "code",
   "execution_count": 39,
   "id": "11fc5321",
   "metadata": {},
   "outputs": [
    {
     "data": {
      "text/html": [
       "<style>\n",
       ".list-inline {list-style: none; margin:0; padding: 0}\n",
       ".list-inline>li {display: inline-block}\n",
       ".list-inline>li:not(:last-child)::after {content: \"\\00b7\"; padding: 0 .5ex}\n",
       "</style>\n",
       "<ol class=list-inline><li>34716</li><li>9</li></ol>\n"
      ],
      "text/latex": [
       "\\begin{enumerate*}\n",
       "\\item 34716\n",
       "\\item 9\n",
       "\\end{enumerate*}\n"
      ],
      "text/markdown": [
       "1. 34716\n",
       "2. 9\n",
       "\n",
       "\n"
      ],
      "text/plain": [
       "[1] 34716     9"
      ]
     },
     "metadata": {},
     "output_type": "display_data"
    }
   ],
   "source": [
    "# create dummy variables for each diag category in asth.cat.prior\n",
    "asthma.data.dummy <- dummy_cols(asth.cat.prior,\n",
    "                   select_columns = 'Asthma_Category')\n",
    "dim(asthma.data.dummy)"
   ]
  },
  {
   "cell_type": "code",
   "execution_count": 40,
   "id": "15753bba",
   "metadata": {},
   "outputs": [
    {
     "data": {
      "text/html": [
       "5"
      ],
      "text/latex": [
       "5"
      ],
      "text/markdown": [
       "5"
      ],
      "text/plain": [
       "[1] 5"
      ]
     },
     "metadata": {},
     "output_type": "display_data"
    }
   ],
   "source": [
    "which(colnames(asthma.data.dummy) == 'Asthma_Category_Mild_intermittent_asthma')"
   ]
  },
  {
   "cell_type": "code",
   "execution_count": 41,
   "id": "60bb8635",
   "metadata": {},
   "outputs": [
    {
     "data": {
      "text/html": [
       "<style>\n",
       ".list-inline {list-style: none; margin:0; padding: 0}\n",
       ".list-inline>li {display: inline-block}\n",
       ".list-inline>li:not(:last-child)::after {content: \"\\00b7\"; padding: 0 .5ex}\n",
       "</style>\n",
       "<ol class=list-inline><li>928</li><li>6</li></ol>\n"
      ],
      "text/latex": [
       "\\begin{enumerate*}\n",
       "\\item 928\n",
       "\\item 6\n",
       "\\end{enumerate*}\n"
      ],
      "text/markdown": [
       "1. 928\n",
       "2. 6\n",
       "\n",
       "\n"
      ],
      "text/plain": [
       "[1] 928   6"
      ]
     },
     "metadata": {},
     "output_type": "display_data"
    }
   ],
   "source": [
    "# group by Subject_Id and sum all columns\n",
    "asthma.data.dummy.group <- asthma.data.dummy[,-2:-4] # remove un-neccesary columns\n",
    "sum.asth.diganosis <- asthma.data.dummy.group %>% group_by(Subject_Id) %>% \n",
    "                                                    summarise(across(everything(), sum), .groups = 'drop') %>%\n",
    "                                                    as.data.frame()\n",
    "dim(sum.asth.diganosis)"
   ]
  },
  {
   "cell_type": "code",
   "execution_count": 42,
   "id": "dc496c3c",
   "metadata": {},
   "outputs": [],
   "source": [
    "# add column: Yes or No for each diagnosis\n",
    "exist.sum.asth.diganosis <- sum.asth.diganosis\n",
    "exist.sum.asth.diganosis[,-1] <- ifelse(exist.sum.asth.diganosis[,-1] > 0, 'Yes', 'No')\n",
    "colnames(exist.sum.asth.diganosis)[-1] <- paste(colnames(exist.sum.asth.diganosis[,-1]),'_Existence_Yes_No', sep = '')"
   ]
  },
  {
   "cell_type": "code",
   "execution_count": 43,
   "id": "05414f67",
   "metadata": {},
   "outputs": [],
   "source": [
    "# add suffix count after each diagnosis\n",
    "colnames(sum.asth.diganosis)<- paste(colnames(sum.asth.diganosis),'total_diagnosis',sep='_')\n",
    "colnames(sum.asth.diganosis)[1] <- 'Subject_Id' "
   ]
  },
  {
   "cell_type": "code",
   "execution_count": 44,
   "id": "6e0002d4",
   "metadata": {},
   "outputs": [
    {
     "data": {
      "text/html": [
       "<style>\n",
       ".list-inline {list-style: none; margin:0; padding: 0}\n",
       ".list-inline>li {display: inline-block}\n",
       ".list-inline>li:not(:last-child)::after {content: \"\\00b7\"; padding: 0 .5ex}\n",
       "</style>\n",
       "<ol class=list-inline><li>928</li><li>11</li></ol>\n"
      ],
      "text/latex": [
       "\\begin{enumerate*}\n",
       "\\item 928\n",
       "\\item 11\n",
       "\\end{enumerate*}\n"
      ],
      "text/markdown": [
       "1. 928\n",
       "2. 11\n",
       "\n",
       "\n"
      ],
      "text/plain": [
       "[1] 928  11"
      ]
     },
     "metadata": {},
     "output_type": "display_data"
    }
   ],
   "source": [
    "# merge\n",
    "sum.asth.diganosis.final <- merge(sum.asth.diganosis, exist.sum.asth.diganosis, by = 'Subject_Id')\n",
    "dim(sum.asth.diganosis.final)"
   ]
  },
  {
   "cell_type": "code",
   "execution_count": 45,
   "id": "cff1ef31",
   "metadata": {},
   "outputs": [
    {
     "data": {
      "text/html": [
       "<style>\n",
       ".list-inline {list-style: none; margin:0; padding: 0}\n",
       ".list-inline>li {display: inline-block}\n",
       ".list-inline>li:not(:last-child)::after {content: \"\\00b7\"; padding: 0 .5ex}\n",
       "</style>\n",
       "<ol class=list-inline><li>928</li><li>11</li></ol>\n"
      ],
      "text/latex": [
       "\\begin{enumerate*}\n",
       "\\item 928\n",
       "\\item 11\n",
       "\\end{enumerate*}\n"
      ],
      "text/markdown": [
       "1. 928\n",
       "2. 11\n",
       "\n",
       "\n"
      ],
      "text/plain": [
       "[1] 928  11"
      ]
     },
     "metadata": {},
     "output_type": "display_data"
    }
   ],
   "source": [
    "# Remove the 'Asthma_Category_' prefix from all column names\n",
    "names(sum.asth.diganosis.final) <- gsub('Asthma_Category_', '', names(sum.asth.diganosis.final))\n",
    "dim(sum.asth.diganosis.final)"
   ]
  },
  {
   "cell_type": "code",
   "execution_count": 46,
   "id": "a391b492",
   "metadata": {},
   "outputs": [],
   "source": [
    "# add column: Yes or No for asthma diagnosis total\n",
    "sum.asth.diganosis.final$Any_Asthma_Diagnosis_Existence_Yes_No <- 'Yes' # yes for asthma diagnosis"
   ]
  },
  {
   "cell_type": "code",
   "execution_count": 47,
   "id": "52c8d8d3",
   "metadata": {},
   "outputs": [],
   "source": [
    "# find most frequency asthma diagnosis\n",
    "asthma.cat.count <- sum.asth.diganosis.final[,colnames(sum.asth.diganosis.final[,c(2:6)])]\n",
    "\n",
    "sum.asth.diganosis.final$Most_freq_asthma_diagnosis <- colnames(asthma.cat.count)[apply(asthma.cat.count,1,which.max)]\n",
    "\n",
    "# remove suffix _total_diagnosis\n",
    "sum.asth.diganosis.final <- sum.asth.diganosis.final %>% mutate_at('Most_freq_asthma_diagnosis', str_replace, '_total_diagnosis', '')\n",
    "\n",
    "# relocate \n",
    "sum.asth.diganosis.final <- sum.asth.diganosis.final %>% relocate(Most_freq_asthma_diagnosis, .after = Any_Asthma_Diagnosis_Existence_Yes_No)"
   ]
  },
  {
   "cell_type": "code",
   "execution_count": 48,
   "id": "b9b4a0c4",
   "metadata": {},
   "outputs": [
    {
     "data": {
      "text/plain": [
       "\n",
       "     Mild_intermittent_asthma        Mild_persistent_asthma \n",
       "                          134                            19 \n",
       "   Moderate_persistent_asthma Other_and_unspecificed_asthma \n",
       "                           38                           712 \n",
       "     Severe_persistent_asthma \n",
       "                           25 "
      ]
     },
     "metadata": {},
     "output_type": "display_data"
    }
   ],
   "source": [
    "table(sum.asth.diganosis.final$Most_freq_asthma_diagnosis)"
   ]
  },
  {
   "cell_type": "markdown",
   "id": "85de3e4e",
   "metadata": {},
   "source": [
    "## Asthma: Closest diagnosis before or after plasma collect date"
   ]
  },
  {
   "cell_type": "code",
   "execution_count": 49,
   "id": "dffcfd65",
   "metadata": {},
   "outputs": [
    {
     "data": {
      "text/html": [
       "<style>\n",
       ".list-inline {list-style: none; margin:0; padding: 0}\n",
       ".list-inline>li {display: inline-block}\n",
       ".list-inline>li:not(:last-child)::after {content: \"\\00b7\"; padding: 0 .5ex}\n",
       "</style>\n",
       "<ol class=list-inline><li>34716</li><li>5</li></ol>\n"
      ],
      "text/latex": [
       "\\begin{enumerate*}\n",
       "\\item 34716\n",
       "\\item 5\n",
       "\\end{enumerate*}\n"
      ],
      "text/markdown": [
       "1. 34716\n",
       "2. 5\n",
       "\n",
       "\n"
      ],
      "text/plain": [
       "[1] 34716     5"
      ]
     },
     "metadata": {},
     "output_type": "display_data"
    }
   ],
   "source": [
    "# merge plasma collect date by Subject_ID\n",
    "asth.cat.prior.1 <- merge(asth.cat.prior, data.id[,c('Subject_Id', 'Plasma_collect_date')], \n",
    "                          by = 'Subject_Id')\n",
    "dim(asth.cat.prior.1)"
   ]
  },
  {
   "cell_type": "code",
   "execution_count": 50,
   "id": "91fc46ec",
   "metadata": {},
   "outputs": [
    {
     "data": {
      "text/html": [
       "'double'"
      ],
      "text/latex": [
       "'double'"
      ],
      "text/markdown": [
       "'double'"
      ],
      "text/plain": [
       "[1] \"double\""
      ]
     },
     "metadata": {},
     "output_type": "display_data"
    },
    {
     "data": {
      "text/html": [
       "'double'"
      ],
      "text/latex": [
       "'double'"
      ],
      "text/markdown": [
       "'double'"
      ],
      "text/plain": [
       "[1] \"double\""
      ]
     },
     "metadata": {},
     "output_type": "display_data"
    }
   ],
   "source": [
    "# convert the date column to the Y-M-D format\n",
    "asth.cat.prior.1$Date <- as.Date(asth.cat.prior.1$Date, format = '%m/%d/%Y')\n",
    "typeof(asth.cat.prior.1$Date)\n",
    "\n",
    "# plasma collect date\n",
    "asth.cat.prior.1$Plasma_collect_date <- as.Date(asth.cat.prior.1$Plasma_collect_date, format = '%Y -%m -%d')\n",
    "typeof(asth.cat.prior.1$Plasma_collect_date)"
   ]
  },
  {
   "cell_type": "code",
   "execution_count": 51,
   "id": "80a4ab93",
   "metadata": {},
   "outputs": [
    {
     "data": {
      "text/plain": [
       "Time differences in days\n",
       "[1]  3273  3059  2623  1700  -435 -1419"
      ]
     },
     "metadata": {},
     "output_type": "display_data"
    },
    {
     "data": {
      "text/html": [
       "'double'"
      ],
      "text/latex": [
       "'double'"
      ],
      "text/markdown": [
       "'double'"
      ],
      "text/plain": [
       "[1] \"double\""
      ]
     },
     "metadata": {},
     "output_type": "display_data"
    },
    {
     "data": {
      "text/html": [
       "'double'"
      ],
      "text/latex": [
       "'double'"
      ],
      "text/markdown": [
       "'double'"
      ],
      "text/plain": [
       "[1] \"double\""
      ]
     },
     "metadata": {},
     "output_type": "display_data"
    }
   ],
   "source": [
    "# substract collect date and diag date\n",
    "asth.cat.prior.1['Days_Difference'] <- difftime(asth.cat.prior.1$Plasma_collect_date, \n",
    "                                                asth.cat.prior.1$Date, units = 'days')\n",
    "head(asth.cat.prior.1$Days_Difference)\n",
    "typeof(asth.cat.prior.1$Days_Difference)\n",
    "\n",
    "# absolute values because of including before and after plasma collect date\n",
    "asth.cat.prior.1['Days_Difference_Abs'] <- as.numeric(abs(asth.cat.prior.1$Days_Difference))\n",
    "typeof(asth.cat.prior.1$Days_Difference_Abs)"
   ]
  },
  {
   "cell_type": "code",
   "execution_count": 52,
   "id": "ab2eb306",
   "metadata": {},
   "outputs": [
    {
     "data": {
      "text/html": [
       "<style>\n",
       ".list-inline {list-style: none; margin:0; padding: 0}\n",
       ".list-inline>li {display: inline-block}\n",
       ".list-inline>li:not(:last-child)::after {content: \"\\00b7\"; padding: 0 .5ex}\n",
       "</style>\n",
       "<ol class=list-inline><li>0</li><li>7</li></ol>\n"
      ],
      "text/latex": [
       "\\begin{enumerate*}\n",
       "\\item 0\n",
       "\\item 7\n",
       "\\end{enumerate*}\n"
      ],
      "text/markdown": [
       "1. 0\n",
       "2. 7\n",
       "\n",
       "\n"
      ],
      "text/plain": [
       "[1] 0 7"
      ]
     },
     "metadata": {},
     "output_type": "display_data"
    }
   ],
   "source": [
    "dim(asth.cat.prior.1[duplicated(asth.cat.prior.1), ]) # no dup"
   ]
  },
  {
   "cell_type": "code",
   "execution_count": 53,
   "id": "b77cfca6",
   "metadata": {},
   "outputs": [],
   "source": [
    "# select intersted columns\n",
    "diag.date.closest.collect <- asth.cat.prior.1 %>% select(Subject_Id, Date, Days_Difference_Abs, Asthma_Category)"
   ]
  },
  {
   "cell_type": "code",
   "execution_count": 54,
   "id": "d00f7e3b",
   "metadata": {},
   "outputs": [
    {
     "data": {
      "text/html": [
       "<style>\n",
       ".list-inline {list-style: none; margin:0; padding: 0}\n",
       ".list-inline>li {display: inline-block}\n",
       ".list-inline>li:not(:last-child)::after {content: \"\\00b7\"; padding: 0 .5ex}\n",
       "</style>\n",
       "<ol class=list-inline><li>2268</li><li>3</li></ol>\n"
      ],
      "text/latex": [
       "\\begin{enumerate*}\n",
       "\\item 2268\n",
       "\\item 3\n",
       "\\end{enumerate*}\n"
      ],
      "text/markdown": [
       "1. 2268\n",
       "2. 3\n",
       "\n",
       "\n"
      ],
      "text/plain": [
       "[1] 2268    3"
      ]
     },
     "metadata": {},
     "output_type": "display_data"
    }
   ],
   "source": [
    "# find closest date to plasma collect date in diag.date.closest.collect\n",
    "closest.collect.date <- diag.date.closest.collect %>%         # Get min by group because of positive value\n",
    "  group_by(Subject_Id, Asthma_Category) %>%\n",
    "  summarise_at(vars(Days_Difference_Abs),\n",
    "               list(Closest_collect_date_gap = min))\n",
    "dim(closest.collect.date)"
   ]
  },
  {
   "cell_type": "code",
   "execution_count": 55,
   "id": "4d57e9b8",
   "metadata": {},
   "outputs": [
    {
     "data": {
      "text/html": [
       "<style>\n",
       ".list-inline {list-style: none; margin:0; padding: 0}\n",
       ".list-inline>li {display: inline-block}\n",
       ".list-inline>li:not(:last-child)::after {content: \"\\00b7\"; padding: 0 .5ex}\n",
       "</style>\n",
       "<ol class=list-inline><li>0</li><li>3</li></ol>\n"
      ],
      "text/latex": [
       "\\begin{enumerate*}\n",
       "\\item 0\n",
       "\\item 3\n",
       "\\end{enumerate*}\n"
      ],
      "text/markdown": [
       "1. 0\n",
       "2. 3\n",
       "\n",
       "\n"
      ],
      "text/plain": [
       "[1] 0 3"
      ]
     },
     "metadata": {},
     "output_type": "display_data"
    }
   ],
   "source": [
    "dim(closest.collect.date[duplicated(closest.collect.date), ]) # no dup"
   ]
  },
  {
   "cell_type": "code",
   "execution_count": 56,
   "id": "0cdf5462",
   "metadata": {},
   "outputs": [
    {
     "data": {
      "text/html": [
       "<style>\n",
       ".list-inline {list-style: none; margin:0; padding: 0}\n",
       ".list-inline>li {display: inline-block}\n",
       ".list-inline>li:not(:last-child)::after {content: \"\\00b7\"; padding: 0 .5ex}\n",
       "</style>\n",
       "<ol class=list-inline><li>928</li><li>6</li></ol>\n"
      ],
      "text/latex": [
       "\\begin{enumerate*}\n",
       "\\item 928\n",
       "\\item 6\n",
       "\\end{enumerate*}\n"
      ],
      "text/markdown": [
       "1. 928\n",
       "2. 6\n",
       "\n",
       "\n"
      ],
      "text/plain": [
       "[1] 928   6"
      ]
     },
     "metadata": {},
     "output_type": "display_data"
    }
   ],
   "source": [
    "# group the data frame by 'Subject_Id' and spread the 'closet_collect_date' column\n",
    "closest.collect.date.wide <- closest.collect.date %>% group_by(Subject_Id, Asthma_Category) %>%\n",
    "                                                      pivot_wider(names_from = Asthma_Category, \n",
    "                                                                  values_from = Closest_collect_date_gap)\n",
    "dim(closest.collect.date.wide)"
   ]
  },
  {
   "cell_type": "code",
   "execution_count": 57,
   "id": "6f15e860",
   "metadata": {},
   "outputs": [
    {
     "data": {
      "text/html": [
       "<style>\n",
       ".list-inline {list-style: none; margin:0; padding: 0}\n",
       ".list-inline>li {display: inline-block}\n",
       ".list-inline>li:not(:last-child)::after {content: \"\\00b7\"; padding: 0 .5ex}\n",
       "</style>\n",
       "<ol class=list-inline><li>928</li><li>6</li></ol>\n"
      ],
      "text/latex": [
       "\\begin{enumerate*}\n",
       "\\item 928\n",
       "\\item 6\n",
       "\\end{enumerate*}\n"
      ],
      "text/markdown": [
       "1. 928\n",
       "2. 6\n",
       "\n",
       "\n"
      ],
      "text/plain": [
       "[1] 928   6"
      ]
     },
     "metadata": {},
     "output_type": "display_data"
    }
   ],
   "source": [
    "# add suffix cloest collect date after each diag\n",
    "colnames(closest.collect.date.wide) <- paste(colnames(closest.collect.date.wide),'closest_collect_date_gap',sep='_')\n",
    "colnames(closest.collect.date.wide)[1] = 'Subject_Id'\n",
    "dim(closest.collect.date.wide)"
   ]
  },
  {
   "cell_type": "code",
   "execution_count": 58,
   "id": "a18ed399",
   "metadata": {},
   "outputs": [
    {
     "data": {
      "text/html": [
       "<style>\n",
       ".list-inline {list-style: none; margin:0; padding: 0}\n",
       ".list-inline>li {display: inline-block}\n",
       ".list-inline>li:not(:last-child)::after {content: \"\\00b7\"; padding: 0 .5ex}\n",
       "</style>\n",
       "<ol class=list-inline><li>933</li><li>11</li></ol>\n"
      ],
      "text/latex": [
       "\\begin{enumerate*}\n",
       "\\item 933\n",
       "\\item 11\n",
       "\\end{enumerate*}\n"
      ],
      "text/markdown": [
       "1. 933\n",
       "2. 11\n",
       "\n",
       "\n"
      ],
      "text/plain": [
       "[1] 933  11"
      ]
     },
     "metadata": {},
     "output_type": "display_data"
    }
   ],
   "source": [
    "# filter for all diagnosis to include diagnosis date for each days difference\n",
    "diag.names <- unique(diag.date.closest.collect$Asthma_Category)\n",
    "for (diag.name in diag.names){\n",
    "    diag.date.closest.collect.each.diag <- diag.date.closest.collect %>% filter(Asthma_Category == diag.name)\n",
    "\n",
    "\n",
    "    # remove diagnosis_name and Plasma_collect_date\n",
    "    diag.date.closest.collect.each.diag.1 <- diag.date.closest.collect.each.diag %>% select(-c(Asthma_Category))\n",
    "\n",
    "\n",
    "    # replace Date name with date + diagnosis\n",
    "    names(diag.date.closest.collect.each.diag.1)[names(diag.date.closest.collect.each.diag.1) == 'Date'] <- paste(diag.name, '_closest_collect_date', sep = '')\n",
    "\n",
    "\n",
    "    # test merge date for diagnosis\n",
    "    closest.collect.date.wide <- merge(closest.collect.date.wide, diag.date.closest.collect.each.diag.1, \n",
    "                                                        by.x = c('Subject_Id', paste(diag.name, '_closest_collect_date_gap', sep = '')), \n",
    "                                                        by.y = c('Subject_Id', 'Days_Difference_Abs'), all.x = TRUE)\n",
    "    }\n",
    "\n",
    "\n",
    "dim(closest.collect.date.wide)"
   ]
  },
  {
   "cell_type": "code",
   "execution_count": 59,
   "id": "06bdc7a4",
   "metadata": {},
   "outputs": [
    {
     "data": {
      "text/html": [
       "<style>\n",
       ".list-inline {list-style: none; margin:0; padding: 0}\n",
       ".list-inline>li {display: inline-block}\n",
       ".list-inline>li:not(:last-child)::after {content: \"\\00b7\"; padding: 0 .5ex}\n",
       "</style>\n",
       "<ol class=list-inline><li>928</li><li>11</li></ol>\n"
      ],
      "text/latex": [
       "\\begin{enumerate*}\n",
       "\\item 928\n",
       "\\item 11\n",
       "\\end{enumerate*}\n"
      ],
      "text/markdown": [
       "1. 928\n",
       "2. 11\n",
       "\n",
       "\n"
      ],
      "text/plain": [
       "[1] 928  11"
      ]
     },
     "metadata": {},
     "output_type": "display_data"
    }
   ],
   "source": [
    "# Duplication because of absoluted days difference -> remove duplication\n",
    "check_unique_list <- c('Subject_Id',\n",
    "                       'Severe_persistent_asthma_closest_collect_date_gap',\n",
    "                       'Moderate_persistent_asthma_closest_collect_date_gap',\n",
    "                       'Mild_persistent_asthma_closest_collect_date_gap',\n",
    "                       'Other_and_unspecificed_asthma_closest_collect_date_gap',\n",
    "                       'Mild_intermittent_asthma_closest_collect_date_gap')\n",
    "closest.collect.date.wide <- closest.collect.date.wide[!duplicated(closest.collect.date.wide[,check_unique_list]), ]\n",
    "dim(closest.collect.date.wide)"
   ]
  },
  {
   "cell_type": "code",
   "execution_count": 60,
   "id": "3d6927b9",
   "metadata": {},
   "outputs": [],
   "source": [
    "# find closest asthma diagnosis to collect date\n",
    "asthma.closest.collect.date.cols <- closest.collect.date.wide[,c('Mild_intermittent_asthma_closest_collect_date_gap', \n",
    "                                                'Mild_persistent_asthma_closest_collect_date_gap',\n",
    "                                                'Moderate_persistent_asthma_closest_collect_date_gap',\n",
    "                                                'Severe_persistent_asthma_closest_collect_date_gap',\n",
    "                                                'Other_and_unspecificed_asthma_closest_collect_date_gap')]\n",
    "\n",
    "\n",
    "closest.collect.date.wide$Closest_collect_date_asthma_diagnosis <- colnames(asthma.closest.collect.date.cols)[apply(data.matrix(asthma.closest.collect.date.cols),1,which.min)]\n",
    "\n",
    "# remove suffix _closest_collect_date_gap\n",
    "closest.collect.date.wide <- closest.collect.date.wide %>% mutate_at('Closest_collect_date_asthma_diagnosis', str_replace, '_closest_collect_date_gap', '')"
   ]
  },
  {
   "cell_type": "code",
   "execution_count": 61,
   "id": "9149900d",
   "metadata": {},
   "outputs": [
    {
     "data": {
      "text/plain": [
       "\n",
       "     Mild_intermittent_asthma        Mild_persistent_asthma \n",
       "                          164                            30 \n",
       "   Moderate_persistent_asthma Other_and_unspecificed_asthma \n",
       "                           52                           663 \n",
       "     Severe_persistent_asthma \n",
       "                           19 "
      ]
     },
     "metadata": {},
     "output_type": "display_data"
    }
   ],
   "source": [
    "table(closest.collect.date.wide$Closest_collect_date_asthma_diagnosis)"
   ]
  },
  {
   "cell_type": "code",
   "execution_count": 62,
   "id": "3898347d",
   "metadata": {},
   "outputs": [],
   "source": [
    "# gap between closest date to collect date\n",
    "min.na.rm <- function(x){\n",
    "    min(x, na.rm = TRUE)\n",
    "}\n",
    "\n",
    "closest.collect.date.wide$Closest_collect_date_asthma_diagnosis_gap <- apply(data.matrix(asthma.closest.collect.date.cols),1,min.na.rm)\n",
    "# relocate \n",
    "closest.collect.date.wide <- closest.collect.date.wide %>% relocate(Closest_collect_date_asthma_diagnosis_gap, .after = Closest_collect_date_asthma_diagnosis)"
   ]
  },
  {
   "cell_type": "markdown",
   "id": "7c4c7c12",
   "metadata": {},
   "source": [
    "## Asthma: Recent date"
   ]
  },
  {
   "cell_type": "code",
   "execution_count": 63,
   "id": "aaf1c2c7",
   "metadata": {},
   "outputs": [
    {
     "data": {
      "text/html": [
       "'double'"
      ],
      "text/latex": [
       "'double'"
      ],
      "text/markdown": [
       "'double'"
      ],
      "text/plain": [
       "[1] \"double\""
      ]
     },
     "metadata": {},
     "output_type": "display_data"
    }
   ],
   "source": [
    "typeof(asth.cat.prior.1$Date) # make sure date format is not character"
   ]
  },
  {
   "cell_type": "code",
   "execution_count": 64,
   "id": "7d91f67c",
   "metadata": {},
   "outputs": [
    {
     "data": {
      "text/html": [
       "<style>\n",
       ".list-inline {list-style: none; margin:0; padding: 0}\n",
       ".list-inline>li {display: inline-block}\n",
       ".list-inline>li:not(:last-child)::after {content: \"\\00b7\"; padding: 0 .5ex}\n",
       "</style>\n",
       "<ol class=list-inline><li>2268</li><li>3</li></ol>\n"
      ],
      "text/latex": [
       "\\begin{enumerate*}\n",
       "\\item 2268\n",
       "\\item 3\n",
       "\\end{enumerate*}\n"
      ],
      "text/markdown": [
       "1. 2268\n",
       "2. 3\n",
       "\n",
       "\n"
      ],
      "text/plain": [
       "[1] 2268    3"
      ]
     },
     "metadata": {},
     "output_type": "display_data"
    }
   ],
   "source": [
    "# find recent date in asth.cat.prior.1\n",
    "recent.asth.date <- asth.cat.prior.1 %>%                                       # Get max by group\n",
    "  group_by(Subject_Id, Asthma_Category) %>%\n",
    "  summarise_at(vars(Date),\n",
    "               list(Recent_date = max))\n",
    "dim(recent.asth.date)"
   ]
  },
  {
   "cell_type": "code",
   "execution_count": 65,
   "id": "933838e0",
   "metadata": {},
   "outputs": [
    {
     "data": {
      "text/html": [
       "<style>\n",
       ".list-inline {list-style: none; margin:0; padding: 0}\n",
       ".list-inline>li {display: inline-block}\n",
       ".list-inline>li:not(:last-child)::after {content: \"\\00b7\"; padding: 0 .5ex}\n",
       "</style>\n",
       "<ol class=list-inline><li>928</li><li>6</li></ol>\n"
      ],
      "text/latex": [
       "\\begin{enumerate*}\n",
       "\\item 928\n",
       "\\item 6\n",
       "\\end{enumerate*}\n"
      ],
      "text/markdown": [
       "1. 928\n",
       "2. 6\n",
       "\n",
       "\n"
      ],
      "text/plain": [
       "[1] 928   6"
      ]
     },
     "metadata": {},
     "output_type": "display_data"
    }
   ],
   "source": [
    "# group the data frame by 'Subject_Id' and spread the 'max' column\n",
    "recent.asth.date.wide <- recent.asth.date %>% group_by(Subject_Id, Asthma_Category) %>%\n",
    "                                                    pivot_wider(names_from = Asthma_Category, \n",
    "                                                                values_from = Recent_date)\n",
    "dim(recent.asth.date.wide)"
   ]
  },
  {
   "cell_type": "code",
   "execution_count": 66,
   "id": "33fbba6b",
   "metadata": {},
   "outputs": [],
   "source": [
    "# add suffix recent date after each diagnosis\n",
    "colnames(recent.asth.date.wide) <- paste(colnames(recent.asth.date.wide),'recent_diagnosis_date',sep='_')\n",
    "colnames(recent.asth.date.wide)[1] = 'Subject_Id'"
   ]
  },
  {
   "cell_type": "code",
   "execution_count": 67,
   "id": "2a5af4ba",
   "metadata": {},
   "outputs": [],
   "source": [
    "# find recent asthma diagnosis\n",
    "# because recent date is string -> need to convert date formate\n",
    "asthma.recent.date.cols <- recent.asth.date.wide[,c('Mild_intermittent_asthma_recent_diagnosis_date', \n",
    "                                                'Mild_persistent_asthma_recent_diagnosis_date',\n",
    "                                                'Moderate_persistent_asthma_recent_diagnosis_date',\n",
    "                                                'Severe_persistent_asthma_recent_diagnosis_date',\n",
    "                                                'Other_and_unspecificed_asthma_recent_diagnosis_date')]\n",
    "\n",
    "convert.date <- function(x) as.Date(x, format = '%Y-%m-%d')\n",
    "asthma.recent.date.cols <- data.frame(lapply(asthma.recent.date.cols, convert.date))\n",
    "asthma.recent.date.cols[is.na(asthma.recent.date.cols)] <- as.Date('1900-01-01', format = '%Y-%m-%d')\n",
    "recent.asth.date.wide$Most_recent_asthma_diagnosis <- colnames(asthma.recent.date.cols)[apply(data.matrix(asthma.recent.date.cols),1,which.max)]\n",
    "\n",
    "# remove suffix _recent_diagnosis_date\n",
    "recent.asth.date.wide <- recent.asth.date.wide %>% mutate_at('Most_recent_asthma_diagnosis', str_replace, '_recent_diagnosis_date', '')"
   ]
  },
  {
   "cell_type": "markdown",
   "id": "c6747c43",
   "metadata": {},
   "source": [
    "## Asthma: First date"
   ]
  },
  {
   "cell_type": "code",
   "execution_count": 68,
   "id": "c16e99d4",
   "metadata": {},
   "outputs": [
    {
     "data": {
      "text/html": [
       "<style>\n",
       ".list-inline {list-style: none; margin:0; padding: 0}\n",
       ".list-inline>li {display: inline-block}\n",
       ".list-inline>li:not(:last-child)::after {content: \"\\00b7\"; padding: 0 .5ex}\n",
       "</style>\n",
       "<ol class=list-inline><li>2268</li><li>3</li></ol>\n"
      ],
      "text/latex": [
       "\\begin{enumerate*}\n",
       "\\item 2268\n",
       "\\item 3\n",
       "\\end{enumerate*}\n"
      ],
      "text/markdown": [
       "1. 2268\n",
       "2. 3\n",
       "\n",
       "\n"
      ],
      "text/plain": [
       "[1] 2268    3"
      ]
     },
     "metadata": {},
     "output_type": "display_data"
    }
   ],
   "source": [
    "# find first date in asth.cat.prior.1\n",
    "first.asth.date <- asth.cat.prior.1  %>%                                      # Get min by group\n",
    "  group_by(Subject_Id, Asthma_Category) %>%\n",
    "  summarise_at(vars(Date),\n",
    "               list(First_date = min))\n",
    "dim(first.asth.date)"
   ]
  },
  {
   "cell_type": "code",
   "execution_count": 69,
   "id": "d6cbddc9",
   "metadata": {},
   "outputs": [
    {
     "data": {
      "text/html": [
       "<style>\n",
       ".list-inline {list-style: none; margin:0; padding: 0}\n",
       ".list-inline>li {display: inline-block}\n",
       ".list-inline>li:not(:last-child)::after {content: \"\\00b7\"; padding: 0 .5ex}\n",
       "</style>\n",
       "<ol class=list-inline><li>928</li><li>6</li></ol>\n"
      ],
      "text/latex": [
       "\\begin{enumerate*}\n",
       "\\item 928\n",
       "\\item 6\n",
       "\\end{enumerate*}\n"
      ],
      "text/markdown": [
       "1. 928\n",
       "2. 6\n",
       "\n",
       "\n"
      ],
      "text/plain": [
       "[1] 928   6"
      ]
     },
     "metadata": {},
     "output_type": "display_data"
    }
   ],
   "source": [
    "# group the data frame by 'Subject_Id' and spread the 'min' column\n",
    "first.asth.date.wide <- first.asth.date %>% group_by(Subject_Id, Asthma_Category) %>%\n",
    "                                                    pivot_wider(names_from = Asthma_Category, \n",
    "                                                                values_from = First_date)\n",
    "dim(first.asth.date.wide)"
   ]
  },
  {
   "cell_type": "code",
   "execution_count": 70,
   "id": "240d7bb8",
   "metadata": {},
   "outputs": [],
   "source": [
    "# add suffix first date after each diagnosis\n",
    "colnames(first.asth.date.wide) <- paste(colnames(first.asth.date.wide),'first_diagnosis_date',sep='_')\n",
    "colnames(first.asth.date.wide)[1] = 'Subject_Id'"
   ]
  },
  {
   "cell_type": "code",
   "execution_count": 71,
   "id": "9e535e5c",
   "metadata": {},
   "outputs": [
    {
     "data": {
      "text/html": [
       "<style>\n",
       ".list-inline {list-style: none; margin:0; padding: 0}\n",
       ".list-inline>li {display: inline-block}\n",
       ".list-inline>li:not(:last-child)::after {content: \"\\00b7\"; padding: 0 .5ex}\n",
       "</style>\n",
       "<ol class=list-inline><li>928</li><li>13</li></ol>\n"
      ],
      "text/latex": [
       "\\begin{enumerate*}\n",
       "\\item 928\n",
       "\\item 13\n",
       "\\end{enumerate*}\n"
      ],
      "text/markdown": [
       "1. 928\n",
       "2. 13\n",
       "\n",
       "\n"
      ],
      "text/plain": [
       "[1] 928  13"
      ]
     },
     "metadata": {},
     "output_type": "display_data"
    },
    {
     "data": {
      "text/html": [
       "<style>\n",
       ".list-inline {list-style: none; margin:0; padding: 0}\n",
       ".list-inline>li {display: inline-block}\n",
       ".list-inline>li:not(:last-child)::after {content: \"\\00b7\"; padding: 0 .5ex}\n",
       "</style>\n",
       "<ol class=list-inline><li>928</li><li>7</li></ol>\n"
      ],
      "text/latex": [
       "\\begin{enumerate*}\n",
       "\\item 928\n",
       "\\item 7\n",
       "\\end{enumerate*}\n"
      ],
      "text/markdown": [
       "1. 928\n",
       "2. 7\n",
       "\n",
       "\n"
      ],
      "text/plain": [
       "[1] 928   7"
      ]
     },
     "metadata": {},
     "output_type": "display_data"
    },
    {
     "data": {
      "text/html": [
       "<style>\n",
       ".list-inline {list-style: none; margin:0; padding: 0}\n",
       ".list-inline>li {display: inline-block}\n",
       ".list-inline>li:not(:last-child)::after {content: \"\\00b7\"; padding: 0 .5ex}\n",
       "</style>\n",
       "<ol class=list-inline><li>928</li><li>2</li></ol>\n"
      ],
      "text/latex": [
       "\\begin{enumerate*}\n",
       "\\item 928\n",
       "\\item 2\n",
       "\\end{enumerate*}\n"
      ],
      "text/markdown": [
       "1. 928\n",
       "2. 2\n",
       "\n",
       "\n"
      ],
      "text/plain": [
       "[1] 928   2"
      ]
     },
     "metadata": {},
     "output_type": "display_data"
    },
    {
     "data": {
      "text/html": [
       "<style>\n",
       ".list-inline {list-style: none; margin:0; padding: 0}\n",
       ".list-inline>li {display: inline-block}\n",
       ".list-inline>li:not(:last-child)::after {content: \"\\00b7\"; padding: 0 .5ex}\n",
       "</style>\n",
       "<ol class=list-inline><li>928</li><li>6</li></ol>\n"
      ],
      "text/latex": [
       "\\begin{enumerate*}\n",
       "\\item 928\n",
       "\\item 6\n",
       "\\end{enumerate*}\n"
      ],
      "text/markdown": [
       "1. 928\n",
       "2. 6\n",
       "\n",
       "\n"
      ],
      "text/plain": [
       "[1] 928   6"
      ]
     },
     "metadata": {},
     "output_type": "display_data"
    },
    {
     "data": {
      "text/html": [
       "<style>\n",
       ".list-inline {list-style: none; margin:0; padding: 0}\n",
       ".list-inline>li {display: inline-block}\n",
       ".list-inline>li:not(:last-child)::after {content: \"\\00b7\"; padding: 0 .5ex}\n",
       "</style>\n",
       "<ol class=list-inline><li>928</li><li>13</li></ol>\n"
      ],
      "text/latex": [
       "\\begin{enumerate*}\n",
       "\\item 928\n",
       "\\item 13\n",
       "\\end{enumerate*}\n"
      ],
      "text/markdown": [
       "1. 928\n",
       "2. 13\n",
       "\n",
       "\n"
      ],
      "text/plain": [
       "[1] 928  13"
      ]
     },
     "metadata": {},
     "output_type": "display_data"
    }
   ],
   "source": [
    "# merge files\n",
    "dim(closest.collect.date.wide)\n",
    "dim(recent.asth.date.wide)\n",
    "dim(asth.counts.per.ind)\n",
    "dim(first.asth.date.wide)\n",
    "dim(sum.asth.diganosis.final)"
   ]
  },
  {
   "cell_type": "code",
   "execution_count": 72,
   "id": "e844ba76",
   "metadata": {},
   "outputs": [
    {
     "data": {
      "text/html": [
       "<style>\n",
       ".list-inline {list-style: none; margin:0; padding: 0}\n",
       ".list-inline>li {display: inline-block}\n",
       ".list-inline>li:not(:last-child)::after {content: \"\\00b7\"; padding: 0 .5ex}\n",
       "</style>\n",
       "<ol class=list-inline><li>928</li><li>37</li></ol>\n"
      ],
      "text/latex": [
       "\\begin{enumerate*}\n",
       "\\item 928\n",
       "\\item 37\n",
       "\\end{enumerate*}\n"
      ],
      "text/markdown": [
       "1. 928\n",
       "2. 37\n",
       "\n",
       "\n"
      ],
      "text/plain": [
       "[1] 928  37"
      ]
     },
     "metadata": {},
     "output_type": "display_data"
    }
   ],
   "source": [
    "asthma.final <- sum.asth.diganosis.final %>% left_join(asth.counts.per.ind, by = 'Subject_Id') %>%\n",
    "                                             left_join(closest.collect.date.wide, by = 'Subject_Id') %>%\n",
    "                                             left_join(recent.asth.date.wide, by = 'Subject_Id') %>%\n",
    "                                             left_join(first.asth.date.wide, by = 'Subject_Id')\n",
    "dim(asthma.final)"
   ]
  },
  {
   "cell_type": "code",
   "execution_count": 73,
   "id": "edd96239",
   "metadata": {
    "scrolled": true
   },
   "outputs": [
    {
     "data": {
      "text/html": [
       "<style>\n",
       ".list-inline {list-style: none; margin:0; padding: 0}\n",
       ".list-inline>li {display: inline-block}\n",
       ".list-inline>li:not(:last-child)::after {content: \"\\00b7\"; padding: 0 .5ex}\n",
       "</style>\n",
       "<ol class=list-inline><li>928</li><li>37</li></ol>\n"
      ],
      "text/latex": [
       "\\begin{enumerate*}\n",
       "\\item 928\n",
       "\\item 37\n",
       "\\end{enumerate*}\n"
      ],
      "text/markdown": [
       "1. 928\n",
       "2. 37\n",
       "\n",
       "\n"
      ],
      "text/plain": [
       "[1] 928  37"
      ]
     },
     "metadata": {},
     "output_type": "display_data"
    }
   ],
   "source": [
    "asthma.final <- asthma.final %>% select(Subject_Id,\n",
    "                                        Any_Asthma_Diagnosis_Existence_Yes_No,\n",
    "                                        Total_Asthma_Diagnosis,\n",
    "                                        Most_freq_asthma_diagnosis,\n",
    "                                        Most_recent_asthma_diagnosis,\n",
    "                                        Closest_collect_date_asthma_diagnosis,\n",
    "                                        Closest_collect_date_asthma_diagnosis_gap,\n",
    "                                        \n",
    "                                        Mild_intermittent_asthma_Existence_Yes_No,\n",
    "                                        Mild_intermittent_asthma_total_diagnosis,\n",
    "                                        \n",
    "                                        Mild_intermittent_asthma_first_diagnosis_date,\n",
    "                                        Mild_intermittent_asthma_recent_diagnosis_date,\n",
    "                                        Mild_intermittent_asthma_closest_collect_date,\n",
    "                                        Mild_intermittent_asthma_closest_collect_date_gap,\n",
    "                                        Mild_persistent_asthma_Existence_Yes_No,\n",
    "                                        Mild_persistent_asthma_total_diagnosis,\n",
    "                                        \n",
    "                                        Mild_persistent_asthma_first_diagnosis_date,\n",
    "                                        Mild_persistent_asthma_recent_diagnosis_date,\n",
    "                                        Mild_persistent_asthma_closest_collect_date,\n",
    "                                        Mild_persistent_asthma_closest_collect_date_gap,\n",
    "                                        Moderate_persistent_asthma_Existence_Yes_No,\n",
    "                                        Moderate_persistent_asthma_total_diagnosis,\n",
    "                                        \n",
    "                                        Moderate_persistent_asthma_first_diagnosis_date,\n",
    "                                        Moderate_persistent_asthma_recent_diagnosis_date,\n",
    "                                        Moderate_persistent_asthma_closest_collect_date,\n",
    "                                        Moderate_persistent_asthma_closest_collect_date_gap,\n",
    "                                        Severe_persistent_asthma_Existence_Yes_No,\n",
    "                                        Severe_persistent_asthma_total_diagnosis,\n",
    "                                        \n",
    "                                        Severe_persistent_asthma_first_diagnosis_date,\n",
    "                                        Severe_persistent_asthma_recent_diagnosis_date,\n",
    "                                        Severe_persistent_asthma_closest_collect_date,\n",
    "                                        Severe_persistent_asthma_closest_collect_date_gap,\n",
    "                                        Other_and_unspecificed_asthma_Existence_Yes_No,\n",
    "                                        Other_and_unspecificed_asthma_total_diagnosis,\n",
    "                                        \n",
    "                                        Other_and_unspecificed_asthma_first_diagnosis_date,\n",
    "                                        Other_and_unspecificed_asthma_recent_diagnosis_date,\n",
    "                                        Other_and_unspecificed_asthma_closest_collect_date,\n",
    "                                        Other_and_unspecificed_asthma_closest_collect_date_gap)\n",
    "dim(asthma.final)"
   ]
  },
  {
   "cell_type": "markdown",
   "id": "6d1d964b",
   "metadata": {},
   "source": [
    "# Bronchiectasis"
   ]
  },
  {
   "cell_type": "code",
   "execution_count": 74,
   "id": "9a4b1a77",
   "metadata": {},
   "outputs": [],
   "source": [
    "# check Bronchiectasis based on the folder: Bronchiectasis in biobank\n",
    "bron.list <- c('Bronchiectasis', 'Bronchiectasis with (acute) exacerbation', 'Bronchiectasis with acute exacerbation',\n",
    "               'Bronchiectasis with acute lower respiratory infection', 'Bronchiectasis, uncomplicated', \n",
    "               'Bronchiectasis without acute exacerbation', 'Bronchiectasis-LMR 54', 'Bronchiectasis-Oncall')"
   ]
  },
  {
   "cell_type": "code",
   "execution_count": 75,
   "id": "8a9a2916",
   "metadata": {},
   "outputs": [
    {
     "data": {
      "text/html": [
       "<style>\n",
       ".list-inline {list-style: none; margin:0; padding: 0}\n",
       ".list-inline>li {display: inline-block}\n",
       ".list-inline>li:not(:last-child)::after {content: \"\\00b7\"; padding: 0 .5ex}\n",
       "</style>\n",
       "<ol class=list-inline><li>'Bronchiectasis, uncomplicated'</li><li>'Bronchiectasis without acute exacerbation'</li><li>'Bronchiectasis with (acute) exacerbation'</li><li>'Bronchiectasis with acute lower respiratory infection'</li><li>'Bronchiectasis'</li><li>'Bronchiectasis-LMR 54'</li><li>'Bronchiectasis with acute exacerbation'</li><li>'Bronchiectasis-Oncall'</li><li>'Tuberculous bronchiectasis, unspecified examination'</li><li>'Congenital bronchiectasis'</li></ol>\n"
      ],
      "text/latex": [
       "\\begin{enumerate*}\n",
       "\\item 'Bronchiectasis, uncomplicated'\n",
       "\\item 'Bronchiectasis without acute exacerbation'\n",
       "\\item 'Bronchiectasis with (acute) exacerbation'\n",
       "\\item 'Bronchiectasis with acute lower respiratory infection'\n",
       "\\item 'Bronchiectasis'\n",
       "\\item 'Bronchiectasis-LMR 54'\n",
       "\\item 'Bronchiectasis with acute exacerbation'\n",
       "\\item 'Bronchiectasis-Oncall'\n",
       "\\item 'Tuberculous bronchiectasis, unspecified examination'\n",
       "\\item 'Congenital bronchiectasis'\n",
       "\\end{enumerate*}\n"
      ],
      "text/markdown": [
       "1. 'Bronchiectasis, uncomplicated'\n",
       "2. 'Bronchiectasis without acute exacerbation'\n",
       "3. 'Bronchiectasis with (acute) exacerbation'\n",
       "4. 'Bronchiectasis with acute lower respiratory infection'\n",
       "5. 'Bronchiectasis'\n",
       "6. 'Bronchiectasis-LMR 54'\n",
       "7. 'Bronchiectasis with acute exacerbation'\n",
       "8. 'Bronchiectasis-Oncall'\n",
       "9. 'Tuberculous bronchiectasis, unspecified examination'\n",
       "10. 'Congenital bronchiectasis'\n",
       "\n",
       "\n"
      ],
      "text/plain": [
       " [1] \"Bronchiectasis, uncomplicated\"                        \n",
       " [2] \"Bronchiectasis without acute exacerbation\"            \n",
       " [3] \"Bronchiectasis with (acute) exacerbation\"             \n",
       " [4] \"Bronchiectasis with acute lower respiratory infection\"\n",
       " [5] \"Bronchiectasis\"                                       \n",
       " [6] \"Bronchiectasis-LMR 54\"                                \n",
       " [7] \"Bronchiectasis with acute exacerbation\"               \n",
       " [8] \"Bronchiectasis-Oncall\"                                \n",
       " [9] \"Tuberculous bronchiectasis, unspecified examination\"  \n",
       "[10] \"Congenital bronchiectasis\"                            "
      ]
     },
     "metadata": {},
     "output_type": "display_data"
    }
   ],
   "source": [
    "# filter data\n",
    "bron.diag <- diag.data.ID %>% filter(str_detect(Diagnosis_Name, 'Bronchiectasis|bronchiectasis'))\n",
    "unique(bron.diag$Diagnosis_Name)"
   ]
  },
  {
   "cell_type": "code",
   "execution_count": 76,
   "id": "f65af3d8",
   "metadata": {},
   "outputs": [],
   "source": [
    "# check seven not in the RPDR\n",
    "diganosis.from.rpdr <- unique(bron.diag$Diagnosis_Name)"
   ]
  },
  {
   "cell_type": "code",
   "execution_count": 77,
   "id": "196f8da7",
   "metadata": {},
   "outputs": [
    {
     "data": {
      "text/html": [],
      "text/latex": [],
      "text/markdown": [],
      "text/plain": [
       "character(0)"
      ]
     },
     "metadata": {},
     "output_type": "display_data"
    }
   ],
   "source": [
    "# not in rpdr\n",
    "setdiff(bron.list, diganosis.from.rpdr) # everything in RPDR"
   ]
  },
  {
   "cell_type": "code",
   "execution_count": 78,
   "id": "9590e06e",
   "metadata": {},
   "outputs": [
    {
     "data": {
      "text/html": [
       "<style>\n",
       ".list-inline {list-style: none; margin:0; padding: 0}\n",
       ".list-inline>li {display: inline-block}\n",
       ".list-inline>li:not(:last-child)::after {content: \"\\00b7\"; padding: 0 .5ex}\n",
       "</style>\n",
       "<ol class=list-inline><li>'Tuberculous bronchiectasis, unspecified examination'</li><li>'Congenital bronchiectasis'</li></ol>\n"
      ],
      "text/latex": [
       "\\begin{enumerate*}\n",
       "\\item 'Tuberculous bronchiectasis, unspecified examination'\n",
       "\\item 'Congenital bronchiectasis'\n",
       "\\end{enumerate*}\n"
      ],
      "text/markdown": [
       "1. 'Tuberculous bronchiectasis, unspecified examination'\n",
       "2. 'Congenital bronchiectasis'\n",
       "\n",
       "\n"
      ],
      "text/plain": [
       "[1] \"Tuberculous bronchiectasis, unspecified examination\"\n",
       "[2] \"Congenital bronchiectasis\"                          "
      ]
     },
     "metadata": {},
     "output_type": "display_data"
    }
   ],
   "source": [
    "# not in biobank\n",
    "setdiff(diganosis.from.rpdr, bron.list)"
   ]
  },
  {
   "cell_type": "markdown",
   "id": "deb7e963",
   "metadata": {},
   "source": [
    "- Tuberculous bronchiectasis, unspecified examination is classified in Tuberculous (Biobank portal)\n",
    "- Congenital bronchiectasis is classified in Congenital malformation (Biobank portal)"
   ]
  },
  {
   "cell_type": "code",
   "execution_count": 79,
   "id": "ecd310b5",
   "metadata": {},
   "outputs": [
    {
     "data": {
      "text/html": [
       "<style>\n",
       ".list-inline {list-style: none; margin:0; padding: 0}\n",
       ".list-inline>li {display: inline-block}\n",
       ".list-inline>li:not(:last-child)::after {content: \"\\00b7\"; padding: 0 .5ex}\n",
       "</style>\n",
       "<ol class=list-inline><li>11939</li><li>10</li></ol>\n"
      ],
      "text/latex": [
       "\\begin{enumerate*}\n",
       "\\item 11939\n",
       "\\item 10\n",
       "\\end{enumerate*}\n"
      ],
      "text/markdown": [
       "1. 11939\n",
       "2. 10\n",
       "\n",
       "\n"
      ],
      "text/plain": [
       "[1] 11939    10"
      ]
     },
     "metadata": {},
     "output_type": "display_data"
    }
   ],
   "source": [
    "# select cols\n",
    "bron.diag <- bron.diag %>% select(Subject_Id, Date, Diagnosis_Name, Code_Type, Code,  \n",
    "                                  Diagnosis_Flag, Inpatient_Outpatient, Provider, \n",
    "                                  Hospital, Encounter_number)\n",
    "dim(bron.diag)"
   ]
  },
  {
   "cell_type": "code",
   "execution_count": 80,
   "id": "2db025f5",
   "metadata": {},
   "outputs": [
    {
     "data": {
      "text/html": [
       "<style>\n",
       ".list-inline {list-style: none; margin:0; padding: 0}\n",
       ".list-inline>li {display: inline-block}\n",
       ".list-inline>li:not(:last-child)::after {content: \"\\00b7\"; padding: 0 .5ex}\n",
       "</style>\n",
       "<ol class=list-inline><li>141</li><li>10</li></ol>\n"
      ],
      "text/latex": [
       "\\begin{enumerate*}\n",
       "\\item 141\n",
       "\\item 10\n",
       "\\end{enumerate*}\n"
      ],
      "text/markdown": [
       "1. 141\n",
       "2. 10\n",
       "\n",
       "\n"
      ],
      "text/plain": [
       "[1] 141  10"
      ]
     },
     "metadata": {},
     "output_type": "display_data"
    }
   ],
   "source": [
    "dim(bron.diag[duplicated(bron.diag), ]) # check dup: 141"
   ]
  },
  {
   "cell_type": "code",
   "execution_count": 81,
   "id": "cbd594c1",
   "metadata": {},
   "outputs": [
    {
     "data": {
      "text/html": [
       "<style>\n",
       ".list-inline {list-style: none; margin:0; padding: 0}\n",
       ".list-inline>li {display: inline-block}\n",
       ".list-inline>li:not(:last-child)::after {content: \"\\00b7\"; padding: 0 .5ex}\n",
       "</style>\n",
       "<ol class=list-inline><li>11798</li><li>10</li></ol>\n"
      ],
      "text/latex": [
       "\\begin{enumerate*}\n",
       "\\item 11798\n",
       "\\item 10\n",
       "\\end{enumerate*}\n"
      ],
      "text/markdown": [
       "1. 11798\n",
       "2. 10\n",
       "\n",
       "\n"
      ],
      "text/plain": [
       "[1] 11798    10"
      ]
     },
     "metadata": {},
     "output_type": "display_data"
    }
   ],
   "source": [
    "# remove duplicated rows\n",
    "bron.diag.no.dup <- bron.diag[!duplicated(bron.diag), ]\n",
    "dim(bron.diag.no.dup)"
   ]
  },
  {
   "cell_type": "code",
   "execution_count": 82,
   "id": "3867d5ea",
   "metadata": {},
   "outputs": [
    {
     "data": {
      "text/html": [
       "<style>\n",
       ".list-inline {list-style: none; margin:0; padding: 0}\n",
       ".list-inline>li {display: inline-block}\n",
       ".list-inline>li:not(:last-child)::after {content: \"\\00b7\"; padding: 0 .5ex}\n",
       "</style>\n",
       "<ol class=list-inline><li>5779</li><li>10</li></ol>\n"
      ],
      "text/latex": [
       "\\begin{enumerate*}\n",
       "\\item 5779\n",
       "\\item 10\n",
       "\\end{enumerate*}\n"
      ],
      "text/markdown": [
       "1. 5779\n",
       "2. 10\n",
       "\n",
       "\n"
      ],
      "text/plain": [
       "[1] 5779   10"
      ]
     },
     "metadata": {},
     "output_type": "display_data"
    }
   ],
   "source": [
    "dim(bron.diag.no.dup[duplicated(bron.diag.no.dup[,c('Subject_Id', 'Date')]), ]) # 5779"
   ]
  },
  {
   "cell_type": "code",
   "execution_count": 83,
   "id": "01cd64d4",
   "metadata": {},
   "outputs": [
    {
     "data": {
      "text/html": [
       "<style>\n",
       ".list-inline {list-style: none; margin:0; padding: 0}\n",
       ".list-inline>li {display: inline-block}\n",
       ".list-inline>li:not(:last-child)::after {content: \"\\00b7\"; padding: 0 .5ex}\n",
       "</style>\n",
       "<ol class=list-inline><li>'Bronchiectasis, uncomplicated'</li><li>'Bronchiectasis without acute exacerbation'</li><li>'Bronchiectasis with (acute) exacerbation'</li><li>'Bronchiectasis with acute lower respiratory infection'</li><li>'Bronchiectasis'</li><li>'Bronchiectasis-LMR 54'</li><li>'Bronchiectasis with acute exacerbation'</li><li>'Bronchiectasis-Oncall'</li><li>'Tuberculous bronchiectasis, unspecified examination'</li><li>'Congenital bronchiectasis'</li></ol>\n"
      ],
      "text/latex": [
       "\\begin{enumerate*}\n",
       "\\item 'Bronchiectasis, uncomplicated'\n",
       "\\item 'Bronchiectasis without acute exacerbation'\n",
       "\\item 'Bronchiectasis with (acute) exacerbation'\n",
       "\\item 'Bronchiectasis with acute lower respiratory infection'\n",
       "\\item 'Bronchiectasis'\n",
       "\\item 'Bronchiectasis-LMR 54'\n",
       "\\item 'Bronchiectasis with acute exacerbation'\n",
       "\\item 'Bronchiectasis-Oncall'\n",
       "\\item 'Tuberculous bronchiectasis, unspecified examination'\n",
       "\\item 'Congenital bronchiectasis'\n",
       "\\end{enumerate*}\n"
      ],
      "text/markdown": [
       "1. 'Bronchiectasis, uncomplicated'\n",
       "2. 'Bronchiectasis without acute exacerbation'\n",
       "3. 'Bronchiectasis with (acute) exacerbation'\n",
       "4. 'Bronchiectasis with acute lower respiratory infection'\n",
       "5. 'Bronchiectasis'\n",
       "6. 'Bronchiectasis-LMR 54'\n",
       "7. 'Bronchiectasis with acute exacerbation'\n",
       "8. 'Bronchiectasis-Oncall'\n",
       "9. 'Tuberculous bronchiectasis, unspecified examination'\n",
       "10. 'Congenital bronchiectasis'\n",
       "\n",
       "\n"
      ],
      "text/plain": [
       " [1] \"Bronchiectasis, uncomplicated\"                        \n",
       " [2] \"Bronchiectasis without acute exacerbation\"            \n",
       " [3] \"Bronchiectasis with (acute) exacerbation\"             \n",
       " [4] \"Bronchiectasis with acute lower respiratory infection\"\n",
       " [5] \"Bronchiectasis\"                                       \n",
       " [6] \"Bronchiectasis-LMR 54\"                                \n",
       " [7] \"Bronchiectasis with acute exacerbation\"               \n",
       " [8] \"Bronchiectasis-Oncall\"                                \n",
       " [9] \"Tuberculous bronchiectasis, unspecified examination\"  \n",
       "[10] \"Congenital bronchiectasis\"                            "
      ]
     },
     "metadata": {},
     "output_type": "display_data"
    }
   ],
   "source": [
    "unique(bron.diag.no.dup$Diagnosis_Name)"
   ]
  },
  {
   "cell_type": "code",
   "execution_count": 84,
   "id": "24f55bff",
   "metadata": {},
   "outputs": [],
   "source": [
    "# Bronchiectasis with (acute) exacerbation = Bronchiectasis with acute exacerbation.\n",
    "bron.diag.no.dup$Diagnosis_Name[bron.diag.no.dup$Diagnosis_Name == 'Bronchiectasis with (acute) exacerbation'] <- 'Bronchiectasis with acute exacerbation'"
   ]
  },
  {
   "cell_type": "code",
   "execution_count": 85,
   "id": "74215985",
   "metadata": {},
   "outputs": [
    {
     "data": {
      "text/html": [
       "<style>\n",
       ".list-inline {list-style: none; margin:0; padding: 0}\n",
       ".list-inline>li {display: inline-block}\n",
       ".list-inline>li:not(:last-child)::after {content: \"\\00b7\"; padding: 0 .5ex}\n",
       "</style>\n",
       "<ol class=list-inline><li>5287</li><li>10</li></ol>\n"
      ],
      "text/latex": [
       "\\begin{enumerate*}\n",
       "\\item 5287\n",
       "\\item 10\n",
       "\\end{enumerate*}\n"
      ],
      "text/markdown": [
       "1. 5287\n",
       "2. 10\n",
       "\n",
       "\n"
      ],
      "text/plain": [
       "[1] 5287   10"
      ]
     },
     "metadata": {},
     "output_type": "display_data"
    }
   ],
   "source": [
    "dim(bron.diag.no.dup[duplicated(bron.diag.no.dup[,c('Subject_Id','Diagnosis_Name', 'Date')]), ]) # dup same diag"
   ]
  },
  {
   "cell_type": "code",
   "execution_count": 86,
   "id": "212c06a0",
   "metadata": {},
   "outputs": [
    {
     "data": {
      "text/html": [
       "<style>\n",
       ".list-inline {list-style: none; margin:0; padding: 0}\n",
       ".list-inline>li {display: inline-block}\n",
       ".list-inline>li:not(:last-child)::after {content: \"\\00b7\"; padding: 0 .5ex}\n",
       "</style>\n",
       "<ol class=list-inline><li>6511</li><li>10</li></ol>\n"
      ],
      "text/latex": [
       "\\begin{enumerate*}\n",
       "\\item 6511\n",
       "\\item 10\n",
       "\\end{enumerate*}\n"
      ],
      "text/markdown": [
       "1. 6511\n",
       "2. 10\n",
       "\n",
       "\n"
      ],
      "text/plain": [
       "[1] 6511   10"
      ]
     },
     "metadata": {},
     "output_type": "display_data"
    }
   ],
   "source": [
    "bron.diag.no.dup.1 <- bron.diag.no.dup[!duplicated(bron.diag.no.dup[,c('Subject_Id','Diagnosis_Name', 'Date')]), ]\n",
    "dim(bron.diag.no.dup.1)"
   ]
  },
  {
   "cell_type": "code",
   "execution_count": 88,
   "id": "dce0b540",
   "metadata": {},
   "outputs": [
    {
     "data": {
      "text/html": [
       "<style>\n",
       ".list-inline {list-style: none; margin:0; padding: 0}\n",
       ".list-inline>li {display: inline-block}\n",
       ".list-inline>li:not(:last-child)::after {content: \"\\00b7\"; padding: 0 .5ex}\n",
       "</style>\n",
       "<ol class=list-inline><li>6019</li><li>10</li></ol>\n"
      ],
      "text/latex": [
       "\\begin{enumerate*}\n",
       "\\item 6019\n",
       "\\item 10\n",
       "\\end{enumerate*}\n"
      ],
      "text/markdown": [
       "1. 6019\n",
       "2. 10\n",
       "\n",
       "\n"
      ],
      "text/plain": [
       "[1] 6019   10"
      ]
     },
     "metadata": {},
     "output_type": "display_data"
    },
    {
     "data": {
      "text/html": [
       "<table class=\"dataframe\">\n",
       "<caption>A data.frame: 0 × 10</caption>\n",
       "<thead>\n",
       "\t<tr><th scope=col>Subject_Id</th><th scope=col>Date</th><th scope=col>Diagnosis_Name</th><th scope=col>Code_Type</th><th scope=col>Code</th><th scope=col>Diagnosis_Flag</th><th scope=col>Inpatient_Outpatient</th><th scope=col>Provider</th><th scope=col>Hospital</th><th scope=col>Encounter_number</th></tr>\n",
       "\t<tr><th scope=col>&lt;int&gt;</th><th scope=col>&lt;date&gt;</th><th scope=col>&lt;chr&gt;</th><th scope=col>&lt;chr&gt;</th><th scope=col>&lt;chr&gt;</th><th scope=col>&lt;chr&gt;</th><th scope=col>&lt;chr&gt;</th><th scope=col>&lt;chr&gt;</th><th scope=col>&lt;chr&gt;</th><th scope=col>&lt;chr&gt;</th></tr>\n",
       "</thead>\n",
       "<tbody>\n",
       "</tbody>\n",
       "</table>\n"
      ],
      "text/latex": [
       "A data.frame: 0 × 10\n",
       "\\begin{tabular}{llllllllll}\n",
       " Subject\\_Id & Date & Diagnosis\\_Name & Code\\_Type & Code & Diagnosis\\_Flag & Inpatient\\_Outpatient & Provider & Hospital & Encounter\\_number\\\\\n",
       " <int> & <date> & <chr> & <chr> & <chr> & <chr> & <chr> & <chr> & <chr> & <chr>\\\\\n",
       "\\hline\n",
       "\\end{tabular}\n"
      ],
      "text/markdown": [
       "\n",
       "A data.frame: 0 × 10\n",
       "\n",
       "| Subject_Id &lt;int&gt; | Date &lt;date&gt; | Diagnosis_Name &lt;chr&gt; | Code_Type &lt;chr&gt; | Code &lt;chr&gt; | Diagnosis_Flag &lt;chr&gt; | Inpatient_Outpatient &lt;chr&gt; | Provider &lt;chr&gt; | Hospital &lt;chr&gt; | Encounter_number &lt;chr&gt; |\n",
       "|---|---|---|---|---|---|---|---|---|---|\n",
       "\n"
      ],
      "text/plain": [
       "     Subject_Id Date Diagnosis_Name Code_Type Code Diagnosis_Flag\n",
       "     Inpatient_Outpatient Provider Hospital Encounter_number"
      ]
     },
     "metadata": {},
     "output_type": "display_data"
    }
   ],
   "source": [
    "# because we just want to check patient have bronchectasis or not so just remove duplicated date\n",
    "bron.diag.no.dup.2 <- bron.diag.no.dup.1[!duplicated(bron.diag.no.dup.1[,c('Subject_Id','Date')]), ] \n",
    "dim(bron.diag.no.dup.2)\n",
    "bron.diag.no.dup.2[duplicated(bron.diag.no.dup.2[,c('Subject_Id','Date')]), ] # no dup"
   ]
  },
  {
   "cell_type": "code",
   "execution_count": 89,
   "id": "42e0b3f4",
   "metadata": {},
   "outputs": [],
   "source": [
    "bron.diag.no.dup.2$Diagnosis <- 1 # assign 1 for bronc diagnosis"
   ]
  },
  {
   "cell_type": "code",
   "execution_count": 90,
   "id": "630b59ca",
   "metadata": {},
   "outputs": [
    {
     "data": {
      "text/html": [
       "<style>\n",
       ".list-inline {list-style: none; margin:0; padding: 0}\n",
       ".list-inline>li {display: inline-block}\n",
       ".list-inline>li:not(:last-child)::after {content: \"\\00b7\"; padding: 0 .5ex}\n",
       "</style>\n",
       "<ol class=list-inline><li>194</li><li>2</li></ol>\n"
      ],
      "text/latex": [
       "\\begin{enumerate*}\n",
       "\\item 194\n",
       "\\item 2\n",
       "\\end{enumerate*}\n"
      ],
      "text/markdown": [
       "1. 194\n",
       "2. 2\n",
       "\n",
       "\n"
      ],
      "text/plain": [
       "[1] 194   2"
      ]
     },
     "metadata": {},
     "output_type": "display_data"
    }
   ],
   "source": [
    "# Group by Subject_Id and sum of diagnosis\n",
    "bronc.counts.per.ind <- bron.diag.no.dup.2 %>% group_by(Subject_Id) %>% \n",
    "  summarise(Total_Bronchiectasis_Diagnosis = sum(Diagnosis),\n",
    "            .groups = 'drop')\n",
    "dim(bronc.counts.per.ind)"
   ]
  },
  {
   "cell_type": "code",
   "execution_count": 91,
   "id": "d58e0453",
   "metadata": {},
   "outputs": [],
   "source": [
    "# add column: Yes or No for bronc.data diagnosis total\n",
    "bronc.counts.per.ind$Any_Bronchiectasis_Existence_Yes_No <- 'Yes' # yes for diagnosis"
   ]
  },
  {
   "cell_type": "code",
   "execution_count": 92,
   "id": "067e7c1b",
   "metadata": {},
   "outputs": [],
   "source": [
    "# final flie: bronc.counts.per.ind\n",
    "bronc.final <- bronc.counts.per.ind"
   ]
  },
  {
   "cell_type": "markdown",
   "id": "24006173",
   "metadata": {},
   "source": [
    "# Chronic Bronchitis"
   ]
  },
  {
   "cell_type": "code",
   "execution_count": 93,
   "id": "7173ba78",
   "metadata": {},
   "outputs": [
    {
     "data": {
      "text/html": [
       "<style>\n",
       ".list-inline {list-style: none; margin:0; padding: 0}\n",
       ".list-inline>li {display: inline-block}\n",
       ".list-inline>li:not(:last-child)::after {content: \"\\00b7\"; padding: 0 .5ex}\n",
       "</style>\n",
       "<ol class=list-inline><li>'Obstructive chronic bronchitis, without mention of acute exacerbation'</li><li>'Obstructive chronic bronchitis with acute exacerbation'</li><li>'Mucopurulent chronic bronchitis'</li><li>'Obstructive chronic bronchitis with acute bronchitis'</li><li>'Unspecified chronic bronchitis'</li><li>'Mixed simple and mucopurulent chronic bronchitis'</li><li>'Simple chronic bronchitis'</li><li>'Other chronic bronchitis'</li><li>'Obstructive chronic bronchitis'</li><li>'Chronic bronchitis-Oncall'</li><li>'Chronic bronchitis'</li></ol>\n"
      ],
      "text/latex": [
       "\\begin{enumerate*}\n",
       "\\item 'Obstructive chronic bronchitis, without mention of acute exacerbation'\n",
       "\\item 'Obstructive chronic bronchitis with acute exacerbation'\n",
       "\\item 'Mucopurulent chronic bronchitis'\n",
       "\\item 'Obstructive chronic bronchitis with acute bronchitis'\n",
       "\\item 'Unspecified chronic bronchitis'\n",
       "\\item 'Mixed simple and mucopurulent chronic bronchitis'\n",
       "\\item 'Simple chronic bronchitis'\n",
       "\\item 'Other chronic bronchitis'\n",
       "\\item 'Obstructive chronic bronchitis'\n",
       "\\item 'Chronic bronchitis-Oncall'\n",
       "\\item 'Chronic bronchitis'\n",
       "\\end{enumerate*}\n"
      ],
      "text/markdown": [
       "1. 'Obstructive chronic bronchitis, without mention of acute exacerbation'\n",
       "2. 'Obstructive chronic bronchitis with acute exacerbation'\n",
       "3. 'Mucopurulent chronic bronchitis'\n",
       "4. 'Obstructive chronic bronchitis with acute bronchitis'\n",
       "5. 'Unspecified chronic bronchitis'\n",
       "6. 'Mixed simple and mucopurulent chronic bronchitis'\n",
       "7. 'Simple chronic bronchitis'\n",
       "8. 'Other chronic bronchitis'\n",
       "9. 'Obstructive chronic bronchitis'\n",
       "10. 'Chronic bronchitis-Oncall'\n",
       "11. 'Chronic bronchitis'\n",
       "\n",
       "\n"
      ],
      "text/plain": [
       " [1] \"Obstructive chronic bronchitis, without mention of acute exacerbation\"\n",
       " [2] \"Obstructive chronic bronchitis with acute exacerbation\"               \n",
       " [3] \"Mucopurulent chronic bronchitis\"                                      \n",
       " [4] \"Obstructive chronic bronchitis with acute bronchitis\"                 \n",
       " [5] \"Unspecified chronic bronchitis\"                                       \n",
       " [6] \"Mixed simple and mucopurulent chronic bronchitis\"                     \n",
       " [7] \"Simple chronic bronchitis\"                                            \n",
       " [8] \"Other chronic bronchitis\"                                             \n",
       " [9] \"Obstructive chronic bronchitis\"                                       \n",
       "[10] \"Chronic bronchitis-Oncall\"                                            \n",
       "[11] \"Chronic bronchitis\"                                                   "
      ]
     },
     "metadata": {},
     "output_type": "display_data"
    }
   ],
   "source": [
    "# filter data\n",
    "bronchitis.diag <- diag.data.ID %>% filter(str_detect(Diagnosis_Name, 'Chronic bronchitis|chronic bronchitis'))\n",
    "unique(bronchitis.diag$Diagnosis_Name)"
   ]
  },
  {
   "cell_type": "code",
   "execution_count": 94,
   "id": "17a45c6d",
   "metadata": {},
   "outputs": [
    {
     "data": {
      "text/html": [
       "196"
      ],
      "text/latex": [
       "196"
      ],
      "text/markdown": [
       "196"
      ],
      "text/plain": [
       "[1] 196"
      ]
     },
     "metadata": {},
     "output_type": "display_data"
    }
   ],
   "source": [
    "length(unique(bronchitis.diag$Subject_Id))"
   ]
  },
  {
   "cell_type": "code",
   "execution_count": 95,
   "id": "04f0eb55",
   "metadata": {},
   "outputs": [
    {
     "data": {
      "text/html": [
       "<style>\n",
       ".list-inline {list-style: none; margin:0; padding: 0}\n",
       ".list-inline>li {display: inline-block}\n",
       ".list-inline>li:not(:last-child)::after {content: \"\\00b7\"; padding: 0 .5ex}\n",
       "</style>\n",
       "<ol class=list-inline><li>1093</li><li>15</li></ol>\n"
      ],
      "text/latex": [
       "\\begin{enumerate*}\n",
       "\\item 1093\n",
       "\\item 15\n",
       "\\end{enumerate*}\n"
      ],
      "text/markdown": [
       "1. 1093\n",
       "2. 15\n",
       "\n",
       "\n"
      ],
      "text/plain": [
       "[1] 1093   15"
      ]
     },
     "metadata": {},
     "output_type": "display_data"
    }
   ],
   "source": [
    "dim(bronchitis.diag[duplicated(bronchitis.diag[,c('Subject_Id','Diagnosis_Name', 'Date')]), ])"
   ]
  },
  {
   "cell_type": "code",
   "execution_count": 96,
   "id": "d997a3b7",
   "metadata": {},
   "outputs": [
    {
     "data": {
      "text/html": [
       "<style>\n",
       ".list-inline {list-style: none; margin:0; padding: 0}\n",
       ".list-inline>li {display: inline-block}\n",
       ".list-inline>li:not(:last-child)::after {content: \"\\00b7\"; padding: 0 .5ex}\n",
       "</style>\n",
       "<ol class=list-inline><li>1536</li><li>15</li></ol>\n"
      ],
      "text/latex": [
       "\\begin{enumerate*}\n",
       "\\item 1536\n",
       "\\item 15\n",
       "\\end{enumerate*}\n"
      ],
      "text/markdown": [
       "1. 1536\n",
       "2. 15\n",
       "\n",
       "\n"
      ],
      "text/plain": [
       "[1] 1536   15"
      ]
     },
     "metadata": {},
     "output_type": "display_data"
    },
    {
     "data": {
      "text/html": [
       "<table class=\"dataframe\">\n",
       "<caption>A data.frame: 0 × 15</caption>\n",
       "<thead>\n",
       "\t<tr><th scope=col>EMPI</th><th scope=col>EPIC_PMRN</th><th scope=col>MRN_Type</th><th scope=col>MRN</th><th scope=col>Date</th><th scope=col>Diagnosis_Name</th><th scope=col>Code_Type</th><th scope=col>Code</th><th scope=col>Diagnosis_Flag</th><th scope=col>Provider</th><th scope=col>Clinic</th><th scope=col>Hospital</th><th scope=col>Inpatient_Outpatient</th><th scope=col>Encounter_number</th><th scope=col>Subject_Id</th></tr>\n",
       "\t<tr><th scope=col>&lt;int&gt;</th><th scope=col>&lt;dbl&gt;</th><th scope=col>&lt;chr&gt;</th><th scope=col>&lt;int&gt;</th><th scope=col>&lt;date&gt;</th><th scope=col>&lt;chr&gt;</th><th scope=col>&lt;chr&gt;</th><th scope=col>&lt;chr&gt;</th><th scope=col>&lt;chr&gt;</th><th scope=col>&lt;chr&gt;</th><th scope=col>&lt;chr&gt;</th><th scope=col>&lt;chr&gt;</th><th scope=col>&lt;chr&gt;</th><th scope=col>&lt;chr&gt;</th><th scope=col>&lt;int&gt;</th></tr>\n",
       "</thead>\n",
       "<tbody>\n",
       "</tbody>\n",
       "</table>\n"
      ],
      "text/latex": [
       "A data.frame: 0 × 15\n",
       "\\begin{tabular}{lllllllllllllll}\n",
       " EMPI & EPIC\\_PMRN & MRN\\_Type & MRN & Date & Diagnosis\\_Name & Code\\_Type & Code & Diagnosis\\_Flag & Provider & Clinic & Hospital & Inpatient\\_Outpatient & Encounter\\_number & Subject\\_Id\\\\\n",
       " <int> & <dbl> & <chr> & <int> & <date> & <chr> & <chr> & <chr> & <chr> & <chr> & <chr> & <chr> & <chr> & <chr> & <int>\\\\\n",
       "\\hline\n",
       "\\end{tabular}\n"
      ],
      "text/markdown": [
       "\n",
       "A data.frame: 0 × 15\n",
       "\n",
       "| EMPI &lt;int&gt; | EPIC_PMRN &lt;dbl&gt; | MRN_Type &lt;chr&gt; | MRN &lt;int&gt; | Date &lt;date&gt; | Diagnosis_Name &lt;chr&gt; | Code_Type &lt;chr&gt; | Code &lt;chr&gt; | Diagnosis_Flag &lt;chr&gt; | Provider &lt;chr&gt; | Clinic &lt;chr&gt; | Hospital &lt;chr&gt; | Inpatient_Outpatient &lt;chr&gt; | Encounter_number &lt;chr&gt; | Subject_Id &lt;int&gt; |\n",
       "|---|---|---|---|---|---|---|---|---|---|---|---|---|---|---|\n",
       "\n"
      ],
      "text/plain": [
       "     EMPI EPIC_PMRN MRN_Type MRN Date Diagnosis_Name Code_Type Code\n",
       "     Diagnosis_Flag Provider Clinic Hospital Inpatient_Outpatient\n",
       "     Encounter_number Subject_Id"
      ]
     },
     "metadata": {},
     "output_type": "display_data"
    }
   ],
   "source": [
    "# because we just want to check patient have bronchectasis or not so just remove duplicated date\n",
    "bronchitis.diag.no.dup <- bronchitis.diag[!duplicated(bronchitis.diag[,c('Subject_Id','Date')]), ] \n",
    "dim(bronchitis.diag.no.dup)\n",
    "bronchitis.diag.no.dup[duplicated(bronchitis.diag.no.dup[,c('Subject_Id','Date')]), ] # no dup"
   ]
  },
  {
   "cell_type": "code",
   "execution_count": 97,
   "id": "725cf130",
   "metadata": {},
   "outputs": [
    {
     "data": {
      "text/html": [
       "196"
      ],
      "text/latex": [
       "196"
      ],
      "text/markdown": [
       "196"
      ],
      "text/plain": [
       "[1] 196"
      ]
     },
     "metadata": {},
     "output_type": "display_data"
    }
   ],
   "source": [
    "length(unique(bronchitis.diag.no.dup$Subject_Id))"
   ]
  },
  {
   "cell_type": "code",
   "execution_count": 98,
   "id": "cd15a04b",
   "metadata": {},
   "outputs": [],
   "source": [
    "bronchitis.diag.no.dup$Diagnosis <- 1 # assign 1 for bronc diagnosis"
   ]
  },
  {
   "cell_type": "code",
   "execution_count": 99,
   "id": "08104307",
   "metadata": {},
   "outputs": [
    {
     "data": {
      "text/html": [
       "<style>\n",
       ".list-inline {list-style: none; margin:0; padding: 0}\n",
       ".list-inline>li {display: inline-block}\n",
       ".list-inline>li:not(:last-child)::after {content: \"\\00b7\"; padding: 0 .5ex}\n",
       "</style>\n",
       "<ol class=list-inline><li>196</li><li>2</li></ol>\n"
      ],
      "text/latex": [
       "\\begin{enumerate*}\n",
       "\\item 196\n",
       "\\item 2\n",
       "\\end{enumerate*}\n"
      ],
      "text/markdown": [
       "1. 196\n",
       "2. 2\n",
       "\n",
       "\n"
      ],
      "text/plain": [
       "[1] 196   2"
      ]
     },
     "metadata": {},
     "output_type": "display_data"
    }
   ],
   "source": [
    "# Group by Subject_Id and sum of diagnosis\n",
    "bronchtitis.counts.per.ind <- bronchitis.diag.no.dup %>% group_by(Subject_Id) %>% \n",
    "  summarise(Total_Chronic_Bronchitis_Diagnosis = sum(Diagnosis),\n",
    "            .groups = 'drop')\n",
    "dim(bronchtitis.counts.per.ind)"
   ]
  },
  {
   "cell_type": "code",
   "execution_count": 100,
   "id": "ebb0eb0b",
   "metadata": {},
   "outputs": [],
   "source": [
    "# add column: Yes or No for bronc.data diagnosis total\n",
    "bronchtitis.counts.per.ind$Any_Chronic_Bronchitis_Existence_Yes_No <- 'Yes' # yes for diagnosis"
   ]
  },
  {
   "cell_type": "code",
   "execution_count": 101,
   "id": "5c118dd0",
   "metadata": {},
   "outputs": [],
   "source": [
    "bronchtitis.final <- bronchtitis.counts.per.ind"
   ]
  },
  {
   "cell_type": "markdown",
   "id": "05fa9d75",
   "metadata": {},
   "source": [
    "# Acute exacerbation"
   ]
  },
  {
   "cell_type": "code",
   "execution_count": 102,
   "id": "a31258a2",
   "metadata": {},
   "outputs": [],
   "source": [
    "# Acute exacerbation variables under 'Chronic lower respiratory diseases' folder in Biobank\n",
    "acu.exa.list <- c('Asthma, acute exacerbation-LMR 1288',\n",
    "                             'Mild intermittent asthma with (acute) exacerbation', \n",
    "                             'Mild persistent asthma with (acute) exacerbation', \n",
    "                             'Moderate persistent asthma with (acute) exacerbation', \n",
    "                             'Asthma, unspecified type, with acute exacerbation', \n",
    "                             'Unspecified asthma with (acute) exacerbation',\n",
    "                             'Severe persistent asthma with (acute) exacerbation', \n",
    "                             'Extrinsic asthma with acute exacerbation', \n",
    "                             'Intrinsic asthma, with acute exacerbation',\n",
    "                             'Chronic obstructive asthma with acute exacerbation', \n",
    "                             'Obstructive chronic bronchitis with acute exacerbation')"
   ]
  },
  {
   "cell_type": "code",
   "execution_count": 103,
   "id": "738369b8",
   "metadata": {},
   "outputs": [
    {
     "data": {
      "text/html": [
       "<style>\n",
       ".list-inline {list-style: none; margin:0; padding: 0}\n",
       ".list-inline>li {display: inline-block}\n",
       ".list-inline>li:not(:last-child)::after {content: \"\\00b7\"; padding: 0 .5ex}\n",
       "</style>\n",
       "<ol class=list-inline><li>'Severe persistent asthma with (acute) exacerbation'</li><li>'Asthma, unspecified type, with acute exacerbation'</li><li>'Unspecified asthma with (acute) exacerbation'</li><li>'Chronic obstructive asthma with acute exacerbation'</li><li>'Intrinsic asthma, with acute exacerbation'</li><li>'Extrinsic asthma with acute exacerbation'</li><li>'Mild persistent asthma with (acute) exacerbation'</li><li>'Mild intermittent asthma with (acute) exacerbation'</li><li>'Moderate persistent asthma with (acute) exacerbation'</li></ol>\n"
      ],
      "text/latex": [
       "\\begin{enumerate*}\n",
       "\\item 'Severe persistent asthma with (acute) exacerbation'\n",
       "\\item 'Asthma, unspecified type, with acute exacerbation'\n",
       "\\item 'Unspecified asthma with (acute) exacerbation'\n",
       "\\item 'Chronic obstructive asthma with acute exacerbation'\n",
       "\\item 'Intrinsic asthma, with acute exacerbation'\n",
       "\\item 'Extrinsic asthma with acute exacerbation'\n",
       "\\item 'Mild persistent asthma with (acute) exacerbation'\n",
       "\\item 'Mild intermittent asthma with (acute) exacerbation'\n",
       "\\item 'Moderate persistent asthma with (acute) exacerbation'\n",
       "\\end{enumerate*}\n"
      ],
      "text/markdown": [
       "1. 'Severe persistent asthma with (acute) exacerbation'\n",
       "2. 'Asthma, unspecified type, with acute exacerbation'\n",
       "3. 'Unspecified asthma with (acute) exacerbation'\n",
       "4. 'Chronic obstructive asthma with acute exacerbation'\n",
       "5. 'Intrinsic asthma, with acute exacerbation'\n",
       "6. 'Extrinsic asthma with acute exacerbation'\n",
       "7. 'Mild persistent asthma with (acute) exacerbation'\n",
       "8. 'Mild intermittent asthma with (acute) exacerbation'\n",
       "9. 'Moderate persistent asthma with (acute) exacerbation'\n",
       "\n",
       "\n"
      ],
      "text/plain": [
       "[1] \"Severe persistent asthma with (acute) exacerbation\"  \n",
       "[2] \"Asthma, unspecified type, with acute exacerbation\"   \n",
       "[3] \"Unspecified asthma with (acute) exacerbation\"        \n",
       "[4] \"Chronic obstructive asthma with acute exacerbation\"  \n",
       "[5] \"Intrinsic asthma, with acute exacerbation\"           \n",
       "[6] \"Extrinsic asthma with acute exacerbation\"            \n",
       "[7] \"Mild persistent asthma with (acute) exacerbation\"    \n",
       "[8] \"Mild intermittent asthma with (acute) exacerbation\"  \n",
       "[9] \"Moderate persistent asthma with (acute) exacerbation\""
      ]
     },
     "metadata": {},
     "output_type": "display_data"
    }
   ],
   "source": [
    "# filter acute exacerbation related to asthma\n",
    "exar.patterns <- c('Asthma|asthma', 'acute|Acute', 'exacerbation|Exacerbation')\n",
    "exar.diag <- diag.data.ID %>% filter(str_detect(Diagnosis_Name, exar.patterns[1]) & \n",
    "                                    str_detect(Diagnosis_Name, exar.patterns[2]) &\n",
    "                                    str_detect(Diagnosis_Name, exar.patterns[3]))\n",
    "unique(exar.diag$Diagnosis_Name)"
   ]
  },
  {
   "cell_type": "code",
   "execution_count": 104,
   "id": "c69c3c60",
   "metadata": {},
   "outputs": [
    {
     "data": {
      "text/html": [
       "<style>\n",
       ".list-inline {list-style: none; margin:0; padding: 0}\n",
       ".list-inline>li {display: inline-block}\n",
       ".list-inline>li:not(:last-child)::after {content: \"\\00b7\"; padding: 0 .5ex}\n",
       "</style>\n",
       "<ol class=list-inline><li>'Asthma, acute exacerbation-LMR 1288'</li><li>'Obstructive chronic bronchitis with acute exacerbation'</li></ol>\n"
      ],
      "text/latex": [
       "\\begin{enumerate*}\n",
       "\\item 'Asthma, acute exacerbation-LMR 1288'\n",
       "\\item 'Obstructive chronic bronchitis with acute exacerbation'\n",
       "\\end{enumerate*}\n"
      ],
      "text/markdown": [
       "1. 'Asthma, acute exacerbation-LMR 1288'\n",
       "2. 'Obstructive chronic bronchitis with acute exacerbation'\n",
       "\n",
       "\n"
      ],
      "text/plain": [
       "[1] \"Asthma, acute exacerbation-LMR 1288\"                   \n",
       "[2] \"Obstructive chronic bronchitis with acute exacerbation\""
      ]
     },
     "metadata": {},
     "output_type": "display_data"
    }
   ],
   "source": [
    "# not in rpdr\n",
    "setdiff(acu.exa.list, exar.diag$Diagnosis_Name)"
   ]
  },
  {
   "cell_type": "code",
   "execution_count": 105,
   "id": "9dfaf402",
   "metadata": {},
   "outputs": [
    {
     "data": {
      "text/html": [],
      "text/latex": [],
      "text/markdown": [],
      "text/plain": [
       "character(0)"
      ]
     },
     "metadata": {},
     "output_type": "display_data"
    }
   ],
   "source": [
    "# not in biobank\n",
    "setdiff(exar.diag$Diagnosis_Name, acu.exa.list)"
   ]
  },
  {
   "cell_type": "code",
   "execution_count": 106,
   "id": "deb58d0d",
   "metadata": {},
   "outputs": [
    {
     "data": {
      "text/html": [
       "<style>\n",
       ".list-inline {list-style: none; margin:0; padding: 0}\n",
       ".list-inline>li {display: inline-block}\n",
       ".list-inline>li:not(:last-child)::after {content: \"\\00b7\"; padding: 0 .5ex}\n",
       "</style>\n",
       "<ol class=list-inline><li>'Severe persistent asthma with (acute) exacerbation'</li><li>'Asthma, unspecified type, with acute exacerbation'</li><li>'Unspecified asthma with (acute) exacerbation'</li><li>'Chronic obstructive asthma with acute exacerbation'</li><li>'Intrinsic asthma, with acute exacerbation'</li><li>'Extrinsic asthma with acute exacerbation'</li><li>'Obstructive chronic bronchitis with acute exacerbation'</li><li>'Mild persistent asthma with (acute) exacerbation'</li><li>'Mild intermittent asthma with (acute) exacerbation'</li><li>'Moderate persistent asthma with (acute) exacerbation'</li></ol>\n"
      ],
      "text/latex": [
       "\\begin{enumerate*}\n",
       "\\item 'Severe persistent asthma with (acute) exacerbation'\n",
       "\\item 'Asthma, unspecified type, with acute exacerbation'\n",
       "\\item 'Unspecified asthma with (acute) exacerbation'\n",
       "\\item 'Chronic obstructive asthma with acute exacerbation'\n",
       "\\item 'Intrinsic asthma, with acute exacerbation'\n",
       "\\item 'Extrinsic asthma with acute exacerbation'\n",
       "\\item 'Obstructive chronic bronchitis with acute exacerbation'\n",
       "\\item 'Mild persistent asthma with (acute) exacerbation'\n",
       "\\item 'Mild intermittent asthma with (acute) exacerbation'\n",
       "\\item 'Moderate persistent asthma with (acute) exacerbation'\n",
       "\\end{enumerate*}\n"
      ],
      "text/markdown": [
       "1. 'Severe persistent asthma with (acute) exacerbation'\n",
       "2. 'Asthma, unspecified type, with acute exacerbation'\n",
       "3. 'Unspecified asthma with (acute) exacerbation'\n",
       "4. 'Chronic obstructive asthma with acute exacerbation'\n",
       "5. 'Intrinsic asthma, with acute exacerbation'\n",
       "6. 'Extrinsic asthma with acute exacerbation'\n",
       "7. 'Obstructive chronic bronchitis with acute exacerbation'\n",
       "8. 'Mild persistent asthma with (acute) exacerbation'\n",
       "9. 'Mild intermittent asthma with (acute) exacerbation'\n",
       "10. 'Moderate persistent asthma with (acute) exacerbation'\n",
       "\n",
       "\n"
      ],
      "text/plain": [
       " [1] \"Severe persistent asthma with (acute) exacerbation\"    \n",
       " [2] \"Asthma, unspecified type, with acute exacerbation\"     \n",
       " [3] \"Unspecified asthma with (acute) exacerbation\"          \n",
       " [4] \"Chronic obstructive asthma with acute exacerbation\"    \n",
       " [5] \"Intrinsic asthma, with acute exacerbation\"             \n",
       " [6] \"Extrinsic asthma with acute exacerbation\"              \n",
       " [7] \"Obstructive chronic bronchitis with acute exacerbation\"\n",
       " [8] \"Mild persistent asthma with (acute) exacerbation\"      \n",
       " [9] \"Mild intermittent asthma with (acute) exacerbation\"    \n",
       "[10] \"Moderate persistent asthma with (acute) exacerbation\"  "
      ]
     },
     "metadata": {},
     "output_type": "display_data"
    }
   ],
   "source": [
    "# filter data in acute exacerbation list\n",
    "exar.diag <- filter(diag.data.ID, Diagnosis_Name %in% acu.exa.list)\n",
    "unique(exar.diag$Diagnosis_Name)"
   ]
  },
  {
   "cell_type": "code",
   "execution_count": 107,
   "id": "e4e27cc6",
   "metadata": {},
   "outputs": [
    {
     "data": {
      "text/html": [
       "<style>\n",
       ".list-inline {list-style: none; margin:0; padding: 0}\n",
       ".list-inline>li {display: inline-block}\n",
       ".list-inline>li:not(:last-child)::after {content: \"\\00b7\"; padding: 0 .5ex}\n",
       "</style>\n",
       "<ol class=list-inline><li>8601</li><li>10</li></ol>\n"
      ],
      "text/latex": [
       "\\begin{enumerate*}\n",
       "\\item 8601\n",
       "\\item 10\n",
       "\\end{enumerate*}\n"
      ],
      "text/markdown": [
       "1. 8601\n",
       "2. 10\n",
       "\n",
       "\n"
      ],
      "text/plain": [
       "[1] 8601   10"
      ]
     },
     "metadata": {},
     "output_type": "display_data"
    }
   ],
   "source": [
    "# select columns\n",
    "exar.diag <- exar.diag %>% select(Subject_Id, Date, Diagnosis_Name, Code_Type, Code, \n",
    "                                  Diagnosis_Flag, Inpatient_Outpatient, Provider, \n",
    "                                  Hospital, Encounter_number) %>% arrange(Subject_Id, Date)\n",
    "dim(exar.diag)"
   ]
  },
  {
   "cell_type": "markdown",
   "id": "3b535bb0",
   "metadata": {},
   "source": [
    "## Acute exacerbation: Remove duplication"
   ]
  },
  {
   "cell_type": "code",
   "execution_count": 108,
   "id": "459baf81",
   "metadata": {},
   "outputs": [
    {
     "data": {
      "text/html": [
       "<style>\n",
       ".list-inline {list-style: none; margin:0; padding: 0}\n",
       ".list-inline>li {display: inline-block}\n",
       ".list-inline>li:not(:last-child)::after {content: \"\\00b7\"; padding: 0 .5ex}\n",
       "</style>\n",
       "<ol class=list-inline><li>107</li><li>10</li></ol>\n"
      ],
      "text/latex": [
       "\\begin{enumerate*}\n",
       "\\item 107\n",
       "\\item 10\n",
       "\\end{enumerate*}\n"
      ],
      "text/markdown": [
       "1. 107\n",
       "2. 10\n",
       "\n",
       "\n"
      ],
      "text/plain": [
       "[1] 107  10"
      ]
     },
     "metadata": {},
     "output_type": "display_data"
    }
   ],
   "source": [
    "dim(exar.diag[duplicated(exar.diag), ]) # check duplication: 107"
   ]
  },
  {
   "cell_type": "code",
   "execution_count": 109,
   "id": "9dc61d05",
   "metadata": {},
   "outputs": [
    {
     "data": {
      "text/html": [
       "<style>\n",
       ".list-inline {list-style: none; margin:0; padding: 0}\n",
       ".list-inline>li {display: inline-block}\n",
       ".list-inline>li:not(:last-child)::after {content: \"\\00b7\"; padding: 0 .5ex}\n",
       "</style>\n",
       "<ol class=list-inline><li>8494</li><li>10</li></ol>\n"
      ],
      "text/latex": [
       "\\begin{enumerate*}\n",
       "\\item 8494\n",
       "\\item 10\n",
       "\\end{enumerate*}\n"
      ],
      "text/markdown": [
       "1. 8494\n",
       "2. 10\n",
       "\n",
       "\n"
      ],
      "text/plain": [
       "[1] 8494   10"
      ]
     },
     "metadata": {},
     "output_type": "display_data"
    }
   ],
   "source": [
    "# remove duplicated rows\n",
    "exar.diag.no.dup <- exar.diag[!duplicated(exar.diag), ] # remove 107\n",
    "dim(exar.diag.no.dup)"
   ]
  },
  {
   "cell_type": "code",
   "execution_count": 110,
   "id": "7966345c",
   "metadata": {},
   "outputs": [
    {
     "data": {
      "text/plain": [
       "\n",
       "Chronic obstructive pulmonary disease with (acute) exacerbation \n",
       "                                                           1113 \n",
       "             Mild intermittent asthma with (acute) exacerbation \n",
       "                                                           1539 \n",
       "               Mild persistent asthma with (acute) exacerbation \n",
       "                                                            285 \n",
       "           Moderate persistent asthma with (acute) exacerbation \n",
       "                                                           1164 \n",
       "             Severe persistent asthma with (acute) exacerbation \n",
       "                                                            764 \n",
       "                   Unspecified asthma with (acute) exacerbation \n",
       "                                                           3629 "
      ]
     },
     "metadata": {},
     "output_type": "display_data"
    }
   ],
   "source": [
    "# some categories are same sub set -> change name\n",
    "exar.diag.no.dup$Diagnosis_Name[exar.diag.no.dup$Diagnosis_Name == 'Chronic obstructive asthma with acute exacerbation'] <- 'Chronic obstructive pulmonary disease with (acute) exacerbation'\n",
    "exar.diag.no.dup$Diagnosis_Name[exar.diag.no.dup$Diagnosis_Name == 'Obstructive chronic bronchitis with acute exacerbation'] <- 'Chronic obstructive pulmonary disease with (acute) exacerbation'\n",
    "exar.diag.no.dup$Diagnosis_Name[exar.diag.no.dup$Diagnosis_Name == 'Extrinsic asthma with acute exacerbation'] <- 'Mild intermittent asthma with (acute) exacerbation'\n",
    "exar.diag.no.dup$Diagnosis_Name[exar.diag.no.dup$Diagnosis_Name == 'Intrinsic asthma, with acute exacerbation'] <- 'Mild intermittent asthma with (acute) exacerbation'\n",
    "exar.diag.no.dup$Diagnosis_Name[exar.diag.no.dup$Diagnosis_Name == 'Asthma, unspecified type, with acute exacerbation'] <- 'Unspecified asthma with (acute) exacerbation'\n",
    "table(exar.diag.no.dup$Diagnosis_Name)"
   ]
  },
  {
   "cell_type": "code",
   "execution_count": 111,
   "id": "da6f9ff1",
   "metadata": {},
   "outputs": [
    {
     "data": {
      "text/html": [
       "<style>\n",
       ".list-inline {list-style: none; margin:0; padding: 0}\n",
       ".list-inline>li {display: inline-block}\n",
       ".list-inline>li:not(:last-child)::after {content: \"\\00b7\"; padding: 0 .5ex}\n",
       "</style>\n",
       "<ol class=list-inline><li>0</li><li>10</li></ol>\n"
      ],
      "text/latex": [
       "\\begin{enumerate*}\n",
       "\\item 0\n",
       "\\item 10\n",
       "\\end{enumerate*}\n"
      ],
      "text/markdown": [
       "1. 0\n",
       "2. 10\n",
       "\n",
       "\n"
      ],
      "text/plain": [
       "[1]  0 10"
      ]
     },
     "metadata": {},
     "output_type": "display_data"
    },
    {
     "data": {
      "text/html": [
       "<style>\n",
       ".list-inline {list-style: none; margin:0; padding: 0}\n",
       ".list-inline>li {display: inline-block}\n",
       ".list-inline>li:not(:last-child)::after {content: \"\\00b7\"; padding: 0 .5ex}\n",
       "</style>\n",
       "<ol class=list-inline><li>0</li><li>10</li></ol>\n"
      ],
      "text/latex": [
       "\\begin{enumerate*}\n",
       "\\item 0\n",
       "\\item 10\n",
       "\\end{enumerate*}\n"
      ],
      "text/markdown": [
       "1. 0\n",
       "2. 10\n",
       "\n",
       "\n"
      ],
      "text/plain": [
       "[1]  0 10"
      ]
     },
     "metadata": {},
     "output_type": "display_data"
    }
   ],
   "source": [
    "dim(exar.diag.no.dup[duplicated(exar.diag.no.dup), ])\n",
    "exar.diag.no.dup.1 <- exar.diag.no.dup[!duplicated(exar.diag.no.dup), ]\n",
    "dim(exar.diag.no.dup.1[duplicated(exar.diag.no.dup.1), ])"
   ]
  },
  {
   "cell_type": "code",
   "execution_count": 112,
   "id": "b3685bff",
   "metadata": {},
   "outputs": [
    {
     "data": {
      "text/html": [
       "<style>\n",
       ".list-inline {list-style: none; margin:0; padding: 0}\n",
       ".list-inline>li {display: inline-block}\n",
       ".list-inline>li:not(:last-child)::after {content: \"\\00b7\"; padding: 0 .5ex}\n",
       "</style>\n",
       "<ol class=list-inline><li>7381</li><li>10</li></ol>\n"
      ],
      "text/latex": [
       "\\begin{enumerate*}\n",
       "\\item 7381\n",
       "\\item 10\n",
       "\\end{enumerate*}\n"
      ],
      "text/markdown": [
       "1. 7381\n",
       "2. 10\n",
       "\n",
       "\n"
      ],
      "text/plain": [
       "[1] 7381   10"
      ]
     },
     "metadata": {},
     "output_type": "display_data"
    },
    {
     "data": {
      "text/plain": [
       "\n",
       "  Mild intermittent asthma with (acute) exacerbation \n",
       "                                                1539 \n",
       "    Mild persistent asthma with (acute) exacerbation \n",
       "                                                 285 \n",
       "Moderate persistent asthma with (acute) exacerbation \n",
       "                                                1164 \n",
       "  Severe persistent asthma with (acute) exacerbation \n",
       "                                                 764 \n",
       "        Unspecified asthma with (acute) exacerbation \n",
       "                                                3629 "
      ]
     },
     "metadata": {},
     "output_type": "display_data"
    },
    {
     "data": {
      "text/html": [
       "483"
      ],
      "text/latex": [
       "483"
      ],
      "text/markdown": [
       "483"
      ],
      "text/plain": [
       "[1] 483"
      ]
     },
     "metadata": {},
     "output_type": "display_data"
    }
   ],
   "source": [
    "# remove COPD\n",
    "acute.exacer <- exar.diag.no.dup.1 %>% filter(Diagnosis_Name != 'Chronic obstructive pulmonary disease with (acute) exacerbation')\n",
    "dim(acute.exacer)\n",
    "table(acute.exacer$Diagnosis_Name)\n",
    "length(unique(acute.exacer$Subject_Id)) # 483"
   ]
  },
  {
   "cell_type": "code",
   "execution_count": 113,
   "id": "996b9e85",
   "metadata": {},
   "outputs": [
    {
     "data": {
      "text/html": [
       "<style>\n",
       ".list-inline {list-style: none; margin:0; padding: 0}\n",
       ".list-inline>li {display: inline-block}\n",
       ".list-inline>li:not(:last-child)::after {content: \"\\00b7\"; padding: 0 .5ex}\n",
       "</style>\n",
       "<ol class=list-inline><li>0</li><li>10</li></ol>\n"
      ],
      "text/latex": [
       "\\begin{enumerate*}\n",
       "\\item 0\n",
       "\\item 10\n",
       "\\end{enumerate*}\n"
      ],
      "text/markdown": [
       "1. 0\n",
       "2. 10\n",
       "\n",
       "\n"
      ],
      "text/plain": [
       "[1]  0 10"
      ]
     },
     "metadata": {},
     "output_type": "display_data"
    }
   ],
   "source": [
    "dim(acute.exacer[duplicated(acute.exacer), ]) # 0"
   ]
  },
  {
   "cell_type": "code",
   "execution_count": 114,
   "id": "a389e4b8",
   "metadata": {},
   "outputs": [
    {
     "data": {
      "text/html": [
       "<style>\n",
       ".list-inline {list-style: none; margin:0; padding: 0}\n",
       ".list-inline>li {display: inline-block}\n",
       ".list-inline>li:not(:last-child)::after {content: \"\\00b7\"; padding: 0 .5ex}\n",
       "</style>\n",
       "<ol class=list-inline><li>7381</li><li>3</li></ol>\n"
      ],
      "text/latex": [
       "\\begin{enumerate*}\n",
       "\\item 7381\n",
       "\\item 3\n",
       "\\end{enumerate*}\n"
      ],
      "text/markdown": [
       "1. 7381\n",
       "2. 3\n",
       "\n",
       "\n"
      ],
      "text/plain": [
       "[1] 7381    3"
      ]
     },
     "metadata": {},
     "output_type": "display_data"
    }
   ],
   "source": [
    "# export acute exacerbation diagnosis all\n",
    "acute.exacer.diag.all <- acute.exacer %>% select(Subject_Id, Date, Diagnosis_Name) %>% arrange(Subject_Id, Date)\n",
    "dim(acute.exacer.diag.all)"
   ]
  },
  {
   "cell_type": "code",
   "execution_count": 115,
   "id": "41e96a8d",
   "metadata": {
    "scrolled": true
   },
   "outputs": [
    {
     "data": {
      "text/html": [
       "<style>\n",
       ".list-inline {list-style: none; margin:0; padding: 0}\n",
       ".list-inline>li {display: inline-block}\n",
       ".list-inline>li:not(:last-child)::after {content: \"\\00b7\"; padding: 0 .5ex}\n",
       "</style>\n",
       "<ol class=list-inline><li>3621</li><li>10</li></ol>\n"
      ],
      "text/latex": [
       "\\begin{enumerate*}\n",
       "\\item 3621\n",
       "\\item 10\n",
       "\\end{enumerate*}\n"
      ],
      "text/markdown": [
       "1. 3621\n",
       "2. 10\n",
       "\n",
       "\n"
      ],
      "text/plain": [
       "[1] 3621   10"
      ]
     },
     "metadata": {},
     "output_type": "display_data"
    }
   ],
   "source": [
    "# test duplication\n",
    "dim(acute.exacer[duplicated(acute.exacer[,c('Subject_Id', 'Date')]), ]) # 3621"
   ]
  },
  {
   "cell_type": "markdown",
   "id": "63527c13",
   "metadata": {},
   "source": [
    "**Different diagnosis on the same date. So prioritize based on severity**"
   ]
  },
  {
   "cell_type": "code",
   "execution_count": 116,
   "id": "722554d8",
   "metadata": {},
   "outputs": [
    {
     "data": {
      "text/plain": [
       "\n",
       "  Mild intermittent asthma with (acute) exacerbation \n",
       "                                                1539 \n",
       "    Mild persistent asthma with (acute) exacerbation \n",
       "                                                 285 \n",
       "Moderate persistent asthma with (acute) exacerbation \n",
       "                                                1164 \n",
       "  Severe persistent asthma with (acute) exacerbation \n",
       "                                                 764 \n",
       "        Unspecified asthma with (acute) exacerbation \n",
       "                                                3629 "
      ]
     },
     "metadata": {},
     "output_type": "display_data"
    },
    {
     "data": {
      "text/plain": [
       "\n",
       "   0    1    2    3    4 \n",
       "3629 1539  285 1164  764 "
      ]
     },
     "metadata": {},
     "output_type": "display_data"
    }
   ],
   "source": [
    "# convert Cat_prior to acute exacerbation Category\n",
    "table(acute.exacer$Diagnosis_Name)\n",
    "acute.exacer$Cat_prior <- NA\n",
    "acute.exacer$Cat_prior[acute.exacer$Diagnosis_Name == 'Unspecified asthma with (acute) exacerbation'] <- 0\n",
    "acute.exacer$Cat_prior[acute.exacer$Diagnosis_Name == 'Mild intermittent asthma with (acute) exacerbation'] <- 1\n",
    "acute.exacer$Cat_prior[acute.exacer$Diagnosis_Name == 'Mild persistent asthma with (acute) exacerbation'] <- 2\n",
    "acute.exacer$Cat_prior[acute.exacer$Diagnosis_Name == 'Moderate persistent asthma with (acute) exacerbation'] <- 3\n",
    "acute.exacer$Cat_prior[acute.exacer$Diagnosis_Name == 'Severe persistent asthma with (acute) exacerbation'] <- 4\n",
    "table(acute.exacer$Cat_prior)"
   ]
  },
  {
   "cell_type": "code",
   "execution_count": 117,
   "id": "46a3ec75",
   "metadata": {},
   "outputs": [
    {
     "data": {
      "text/html": [
       "<style>\n",
       ".list-inline {list-style: none; margin:0; padding: 0}\n",
       ".list-inline>li {display: inline-block}\n",
       ".list-inline>li:not(:last-child)::after {content: \"\\00b7\"; padding: 0 .5ex}\n",
       "</style>\n",
       "<ol class=list-inline><li>3760</li><li>3</li></ol>\n"
      ],
      "text/latex": [
       "\\begin{enumerate*}\n",
       "\\item 3760\n",
       "\\item 3\n",
       "\\end{enumerate*}\n"
      ],
      "text/markdown": [
       "1. 3760\n",
       "2. 3\n",
       "\n",
       "\n"
      ],
      "text/plain": [
       "[1] 3760    3"
      ]
     },
     "metadata": {},
     "output_type": "display_data"
    }
   ],
   "source": [
    "# priority selecting patients with acute.exacer\n",
    "acute.exacer.cat.prior <- acute.exacer %>%                                 # Get max by group\n",
    "  group_by(Subject_Id, Date) %>%\n",
    "  summarise_at(vars(Cat_prior),\n",
    "               list(Cat_prior = max))\n",
    "dim(acute.exacer.cat.prior)\n",
    "# from 3911 to 3760"
   ]
  },
  {
   "cell_type": "code",
   "execution_count": 118,
   "id": "a65a603a",
   "metadata": {},
   "outputs": [
    {
     "data": {
      "text/html": [
       "<style>\n",
       ".list-inline {list-style: none; margin:0; padding: 0}\n",
       ".list-inline>li {display: inline-block}\n",
       ".list-inline>li:not(:last-child)::after {content: \"\\00b7\"; padding: 0 .5ex}\n",
       "</style>\n",
       "<ol class=list-inline><li>0</li><li>3</li></ol>\n"
      ],
      "text/latex": [
       "\\begin{enumerate*}\n",
       "\\item 0\n",
       "\\item 3\n",
       "\\end{enumerate*}\n"
      ],
      "text/markdown": [
       "1. 0\n",
       "2. 3\n",
       "\n",
       "\n"
      ],
      "text/plain": [
       "[1] 0 3"
      ]
     },
     "metadata": {},
     "output_type": "display_data"
    }
   ],
   "source": [
    "dim(acute.exacer.cat.prior[duplicated(acute.exacer.cat.prior[,c('Subject_Id', 'Date')]), ]) # no dup"
   ]
  },
  {
   "cell_type": "code",
   "execution_count": 119,
   "id": "2b5ce204",
   "metadata": {},
   "outputs": [
    {
     "data": {
      "text/plain": [
       "\n",
       "   0    1    2    3    4 \n",
       "1871  768  149  646  326 "
      ]
     },
     "metadata": {},
     "output_type": "display_data"
    },
    {
     "data": {
      "text/plain": [
       "\n",
       "  Mild_intermittent_asthma_with_acute_exacerbation \n",
       "                                               768 \n",
       "    Mild_persistent_asthma_with_acute_exacerbation \n",
       "                                               149 \n",
       "Moderate_persistent_asthma_with_acute_exacerbation \n",
       "                                               646 \n",
       "  Severe_persistent_asthma_with_acute_exacerbation \n",
       "                                               326 \n",
       "        Unspecified_asthma_with_acute_exacerbation \n",
       "                                              1871 "
      ]
     },
     "metadata": {},
     "output_type": "display_data"
    }
   ],
   "source": [
    "# convert Cat_prior to Asthma Category\n",
    "table(acute.exacer.cat.prior$Cat_prior)\n",
    "acute.exacer.cat.prior$Acute_Exacerbation_Category <- NA\n",
    "acute.exacer.cat.prior$Acute_Exacerbation_Category[acute.exacer.cat.prior$Cat_prior == 0] <- 'Unspecified_asthma_with_acute_exacerbation'\n",
    "acute.exacer.cat.prior$Acute_Exacerbation_Category[acute.exacer.cat.prior$Cat_prior == 1] <- 'Mild_intermittent_asthma_with_acute_exacerbation'\n",
    "acute.exacer.cat.prior$Acute_Exacerbation_Category[acute.exacer.cat.prior$Cat_prior == 2] <- 'Mild_persistent_asthma_with_acute_exacerbation'\n",
    "acute.exacer.cat.prior$Acute_Exacerbation_Category[acute.exacer.cat.prior$Cat_prior == 3] <- 'Moderate_persistent_asthma_with_acute_exacerbation'\n",
    "acute.exacer.cat.prior$Acute_Exacerbation_Category[acute.exacer.cat.prior$Cat_prior == 4] <- 'Severe_persistent_asthma_with_acute_exacerbation'\n",
    "table(acute.exacer.cat.prior$Acute_Exacerbation_Category)"
   ]
  },
  {
   "cell_type": "code",
   "execution_count": 120,
   "id": "051a4cee",
   "metadata": {},
   "outputs": [],
   "source": [
    "# export data with unique category for each date\n",
    "acute.exacer.cat.prior <- acute.exacer.cat.prior %>% select(Subject_Id, Date, Acute_Exacerbation_Category)"
   ]
  },
  {
   "cell_type": "code",
   "execution_count": 121,
   "id": "527a82b7",
   "metadata": {},
   "outputs": [
    {
     "data": {
      "text/html": [
       "<style>\n",
       ".list-inline {list-style: none; margin:0; padding: 0}\n",
       ".list-inline>li {display: inline-block}\n",
       ".list-inline>li:not(:last-child)::after {content: \"\\00b7\"; padding: 0 .5ex}\n",
       "</style>\n",
       "<ol class=list-inline><li>3760</li><li>4</li></ol>\n"
      ],
      "text/latex": [
       "\\begin{enumerate*}\n",
       "\\item 3760\n",
       "\\item 4\n",
       "\\end{enumerate*}\n"
      ],
      "text/markdown": [
       "1. 3760\n",
       "2. 4\n",
       "\n",
       "\n"
      ],
      "text/plain": [
       "[1] 3760    4"
      ]
     },
     "metadata": {},
     "output_type": "display_data"
    }
   ],
   "source": [
    "# calculate total diagnosis\n",
    "acute.exacer.cat.prior$Diagnosis <- 1 # assign 1 for diagnosis\n",
    "dim(acute.exacer.cat.prior)"
   ]
  },
  {
   "cell_type": "code",
   "execution_count": 122,
   "id": "d59ee7a5",
   "metadata": {},
   "outputs": [
    {
     "data": {
      "text/html": [
       "<style>\n",
       ".list-inline {list-style: none; margin:0; padding: 0}\n",
       ".list-inline>li {display: inline-block}\n",
       ".list-inline>li:not(:last-child)::after {content: \"\\00b7\"; padding: 0 .5ex}\n",
       "</style>\n",
       "<ol class=list-inline><li>483</li><li>2</li></ol>\n"
      ],
      "text/latex": [
       "\\begin{enumerate*}\n",
       "\\item 483\n",
       "\\item 2\n",
       "\\end{enumerate*}\n"
      ],
      "text/markdown": [
       "1. 483\n",
       "2. 2\n",
       "\n",
       "\n"
      ],
      "text/plain": [
       "[1] 483   2"
      ]
     },
     "metadata": {},
     "output_type": "display_data"
    }
   ],
   "source": [
    "# Group by Subject_Id and sum of diagnosis using dplyr\n",
    "acute.exacer.counts.per.ind <- acute.exacer.cat.prior %>% group_by(Subject_Id) %>% \n",
    "                                                      summarise(Total_Acute_Exacerbation_Diagnosis = sum(Diagnosis),\n",
    "                                                                .groups = 'drop')\n",
    "dim(acute.exacer.counts.per.ind)"
   ]
  },
  {
   "cell_type": "code",
   "execution_count": 123,
   "id": "ef026f29",
   "metadata": {},
   "outputs": [
    {
     "data": {
      "text/plain": [
       "   Min. 1st Qu.  Median    Mean 3rd Qu.    Max. \n",
       "  1.000   1.000   3.000   7.785   8.000  87.000 "
      ]
     },
     "metadata": {},
     "output_type": "display_data"
    },
    {
     "data": {
      "text/plain": [
       "\n",
       "  1   2   3   4   5   6   7   8   9  10  11  12  13  14  15  16  17  18  19  20 \n",
       "138  69  45  32  24  18  21  16  10   9  10  11   9   4   5   6   2   4   3   4 \n",
       " 21  22  23  24  25  26  28  29  30  31  32  34  36  37  38  42  47  52  60  67 \n",
       "  3   4   4   1   3   1   3   1   1   1   1   2   2   1   1   2   1   2   1   1 \n",
       " 74  76  81  82  84  87 \n",
       "  2   1   1   1   1   1 "
      ]
     },
     "metadata": {},
     "output_type": "display_data"
    }
   ],
   "source": [
    "summary(acute.exacer.counts.per.ind$Total_Acute_Exacerbation_Diagnosis)\n",
    "table(acute.exacer.counts.per.ind$Total_Acute_Exacerbation_Diagnosis)"
   ]
  },
  {
   "cell_type": "markdown",
   "id": "23dbc4a8",
   "metadata": {},
   "source": [
    "## Acute exacerbation: Most frequency diagnosis"
   ]
  },
  {
   "cell_type": "code",
   "execution_count": 124,
   "id": "388893c3",
   "metadata": {},
   "outputs": [
    {
     "data": {
      "text/html": [
       "<style>\n",
       ".list-inline {list-style: none; margin:0; padding: 0}\n",
       ".list-inline>li {display: inline-block}\n",
       ".list-inline>li:not(:last-child)::after {content: \"\\00b7\"; padding: 0 .5ex}\n",
       "</style>\n",
       "<ol class=list-inline><li>3760</li><li>9</li></ol>\n"
      ],
      "text/latex": [
       "\\begin{enumerate*}\n",
       "\\item 3760\n",
       "\\item 9\n",
       "\\end{enumerate*}\n"
      ],
      "text/markdown": [
       "1. 3760\n",
       "2. 9\n",
       "\n",
       "\n"
      ],
      "text/plain": [
       "[1] 3760    9"
      ]
     },
     "metadata": {},
     "output_type": "display_data"
    }
   ],
   "source": [
    "# create dummy variables for each diag category in acute.exacer.cat.prior\n",
    "acute.exacer.dummy <- dummy_cols(acute.exacer.cat.prior,\n",
    "                                   select_columns = 'Acute_Exacerbation_Category')\n",
    "dim(acute.exacer.dummy)"
   ]
  },
  {
   "cell_type": "code",
   "execution_count": 125,
   "id": "ac80fac4",
   "metadata": {},
   "outputs": [
    {
     "data": {
      "text/html": [
       "<style>\n",
       ".list-inline {list-style: none; margin:0; padding: 0}\n",
       ".list-inline>li {display: inline-block}\n",
       ".list-inline>li:not(:last-child)::after {content: \"\\00b7\"; padding: 0 .5ex}\n",
       "</style>\n",
       "<ol class=list-inline><li>483</li><li>6</li></ol>\n"
      ],
      "text/latex": [
       "\\begin{enumerate*}\n",
       "\\item 483\n",
       "\\item 6\n",
       "\\end{enumerate*}\n"
      ],
      "text/markdown": [
       "1. 483\n",
       "2. 6\n",
       "\n",
       "\n"
      ],
      "text/plain": [
       "[1] 483   6"
      ]
     },
     "metadata": {},
     "output_type": "display_data"
    }
   ],
   "source": [
    "# group by Subject_Id and sum all columns\n",
    "acute.exacer.dummy.group <- acute.exacer.dummy[,-2:-4] # remove un-neccesary columns\n",
    "sum.acute.exacer.diganosis <- acute.exacer.dummy.group %>% group_by(Subject_Id) %>% \n",
    "                                                    summarise(across(everything(), sum), .groups = 'drop') %>%\n",
    "                                                    as.data.frame()\n",
    "dim(sum.acute.exacer.diganosis)"
   ]
  },
  {
   "cell_type": "code",
   "execution_count": 126,
   "id": "9d7dda52",
   "metadata": {},
   "outputs": [],
   "source": [
    "# add column: Yes or No for each diagnosis\n",
    "exist.sum.acute.exacer.diganosis <- sum.acute.exacer.diganosis\n",
    "exist.sum.acute.exacer.diganosis[,-1] <- ifelse(exist.sum.acute.exacer.diganosis[,-1] > 0, 'Yes', 'No')\n",
    "colnames(exist.sum.acute.exacer.diganosis)[-1] <- paste(colnames(exist.sum.acute.exacer.diganosis[,-1]),'_Existence_Yes_No', sep = '')"
   ]
  },
  {
   "cell_type": "code",
   "execution_count": 127,
   "id": "00b0f2ba",
   "metadata": {},
   "outputs": [],
   "source": [
    "# add suffix count after each diagnosis\n",
    "colnames(sum.acute.exacer.diganosis)<- paste(colnames(sum.acute.exacer.diganosis),'total_diagnosis',sep='_')\n",
    "colnames(sum.acute.exacer.diganosis)[1] <- 'Subject_Id'"
   ]
  },
  {
   "cell_type": "code",
   "execution_count": 128,
   "id": "418d5841",
   "metadata": {},
   "outputs": [
    {
     "data": {
      "text/html": [
       "<style>\n",
       ".list-inline {list-style: none; margin:0; padding: 0}\n",
       ".list-inline>li {display: inline-block}\n",
       ".list-inline>li:not(:last-child)::after {content: \"\\00b7\"; padding: 0 .5ex}\n",
       "</style>\n",
       "<ol class=list-inline><li>483</li><li>11</li></ol>\n"
      ],
      "text/latex": [
       "\\begin{enumerate*}\n",
       "\\item 483\n",
       "\\item 11\n",
       "\\end{enumerate*}\n"
      ],
      "text/markdown": [
       "1. 483\n",
       "2. 11\n",
       "\n",
       "\n"
      ],
      "text/plain": [
       "[1] 483  11"
      ]
     },
     "metadata": {},
     "output_type": "display_data"
    }
   ],
   "source": [
    "# merge\n",
    "sum.acute.exacer.diganosis.final <- merge(sum.acute.exacer.diganosis, exist.sum.acute.exacer.diganosis, by = 'Subject_Id')\n",
    "dim(sum.acute.exacer.diganosis.final)"
   ]
  },
  {
   "cell_type": "code",
   "execution_count": 129,
   "id": "098cecf4",
   "metadata": {},
   "outputs": [
    {
     "data": {
      "text/html": [
       "<style>\n",
       ".list-inline {list-style: none; margin:0; padding: 0}\n",
       ".list-inline>li {display: inline-block}\n",
       ".list-inline>li:not(:last-child)::after {content: \"\\00b7\"; padding: 0 .5ex}\n",
       "</style>\n",
       "<ol class=list-inline><li>483</li><li>11</li></ol>\n"
      ],
      "text/latex": [
       "\\begin{enumerate*}\n",
       "\\item 483\n",
       "\\item 11\n",
       "\\end{enumerate*}\n"
      ],
      "text/markdown": [
       "1. 483\n",
       "2. 11\n",
       "\n",
       "\n"
      ],
      "text/plain": [
       "[1] 483  11"
      ]
     },
     "metadata": {},
     "output_type": "display_data"
    }
   ],
   "source": [
    "# Remove the 'Acute_Exacerbation_Category' prefix from all column names\n",
    "names(sum.acute.exacer.diganosis.final) <- gsub('Acute_Exacerbation_Category_', '', names(sum.acute.exacer.diganosis.final))\n",
    "dim(sum.acute.exacer.diganosis.final)"
   ]
  },
  {
   "cell_type": "code",
   "execution_count": 130,
   "id": "1071988e",
   "metadata": {},
   "outputs": [],
   "source": [
    "# add column: Yes or No for diagnosis total\n",
    "sum.acute.exacer.diganosis.final$Any_Acute_Exacerbation_Existence_Yes_No <- 'Yes' # yes for diagnosis"
   ]
  },
  {
   "cell_type": "code",
   "execution_count": 131,
   "id": "724c377d",
   "metadata": {},
   "outputs": [],
   "source": [
    "# find most frequency diagnosis\n",
    "acute.exacer.cat.count <- sum.acute.exacer.diganosis.final[,c('Mild_intermittent_asthma_with_acute_exacerbation_total_diagnosis', \n",
    "                                       'Mild_persistent_asthma_with_acute_exacerbation_total_diagnosis',\n",
    "                                       'Moderate_persistent_asthma_with_acute_exacerbation_total_diagnosis',\n",
    "                                       'Severe_persistent_asthma_with_acute_exacerbation_total_diagnosis',\n",
    "                                       'Unspecified_asthma_with_acute_exacerbation_total_diagnosis')]\n",
    "\n",
    "sum.acute.exacer.diganosis.final$Most_freq_acute_exacerbarion_diagnosis <- colnames(acute.exacer.cat.count)[apply(acute.exacer.cat.count,1,which.max)]\n",
    "\n",
    "# remove suffix _total_diagnosis\n",
    "sum.acute.exacer.diganosis.final <- sum.acute.exacer.diganosis.final %>% mutate_at('Most_freq_acute_exacerbarion_diagnosis', str_replace, '_total_diagnosis', '')"
   ]
  },
  {
   "cell_type": "markdown",
   "id": "9ba0f806",
   "metadata": {},
   "source": [
    "## Acute exacerbation: Closest date before or after plasma collect date"
   ]
  },
  {
   "cell_type": "code",
   "execution_count": 132,
   "id": "741c59df",
   "metadata": {},
   "outputs": [
    {
     "data": {
      "text/html": [
       "<style>\n",
       ".list-inline {list-style: none; margin:0; padding: 0}\n",
       ".list-inline>li {display: inline-block}\n",
       ".list-inline>li:not(:last-child)::after {content: \"\\00b7\"; padding: 0 .5ex}\n",
       "</style>\n",
       "<ol class=list-inline><li>3760</li><li>5</li></ol>\n"
      ],
      "text/latex": [
       "\\begin{enumerate*}\n",
       "\\item 3760\n",
       "\\item 5\n",
       "\\end{enumerate*}\n"
      ],
      "text/markdown": [
       "1. 3760\n",
       "2. 5\n",
       "\n",
       "\n"
      ],
      "text/plain": [
       "[1] 3760    5"
      ]
     },
     "metadata": {},
     "output_type": "display_data"
    }
   ],
   "source": [
    "# merge collect date with acute.exacer.cat.prior by Subject_ID\n",
    "acute.exacer.cat.prior.1 <- merge(acute.exacer.cat.prior, \n",
    "                                  data.id[,c('Subject_Id', 'Plasma_collect_date')], \n",
    "                                  by = 'Subject_Id')\n",
    "dim(acute.exacer.cat.prior.1)"
   ]
  },
  {
   "cell_type": "code",
   "execution_count": 133,
   "id": "13f15a9c",
   "metadata": {},
   "outputs": [
    {
     "data": {
      "text/html": [
       "'double'"
      ],
      "text/latex": [
       "'double'"
      ],
      "text/markdown": [
       "'double'"
      ],
      "text/plain": [
       "[1] \"double\""
      ]
     },
     "metadata": {},
     "output_type": "display_data"
    },
    {
     "data": {
      "text/html": [
       "'double'"
      ],
      "text/latex": [
       "'double'"
      ],
      "text/markdown": [
       "'double'"
      ],
      "text/plain": [
       "[1] \"double\""
      ]
     },
     "metadata": {},
     "output_type": "display_data"
    }
   ],
   "source": [
    "# convert the date column to the Y-M-D format\n",
    "acute.exacer.cat.prior.1$Date <- as.Date(acute.exacer.cat.prior.1$Date, format = '%m/%d/%Y')\n",
    "typeof(acute.exacer.cat.prior.1$Date)\n",
    "\n",
    "# plasma collect date\n",
    "acute.exacer.cat.prior.1$Plasma_collect_date <- as.Date(acute.exacer.cat.prior.1$Plasma_collect_date, format = '%Y -%m -%d')\n",
    "typeof(acute.exacer.cat.prior.1$Plasma_collect_date)"
   ]
  },
  {
   "cell_type": "code",
   "execution_count": 134,
   "id": "98c54a01",
   "metadata": {},
   "outputs": [
    {
     "data": {
      "text/plain": [
       "Time differences in days\n",
       " [1] 2827 2826 2713 2664 2618 2443 2345 2343 2341 2338 2336 2327 2079 2078 2072\n",
       "[16] 2069 2067 1625 1624 1432 1430 1428 1421 1381 1379 1344 1274 1249 1248 1244\n",
       "[31] 1240 1238 1171 1170 1168 1167 1166 1165  795  604  603 -367 -368 -369 -493\n",
       "[46] -636 -722 -894 -895 -896"
      ]
     },
     "metadata": {},
     "output_type": "display_data"
    },
    {
     "data": {
      "text/html": [
       "'double'"
      ],
      "text/latex": [
       "'double'"
      ],
      "text/markdown": [
       "'double'"
      ],
      "text/plain": [
       "[1] \"double\""
      ]
     },
     "metadata": {},
     "output_type": "display_data"
    },
    {
     "data": {
      "text/html": [
       "'double'"
      ],
      "text/latex": [
       "'double'"
      ],
      "text/markdown": [
       "'double'"
      ],
      "text/plain": [
       "[1] \"double\""
      ]
     },
     "metadata": {},
     "output_type": "display_data"
    }
   ],
   "source": [
    "# substract collect date and diag date\n",
    "acute.exacer.cat.prior.1['Days_Difference'] <- difftime(acute.exacer.cat.prior.1$Plasma_collect_date, \n",
    "                                                        acute.exacer.cat.prior.1$Date, units = 'days')\n",
    "head(acute.exacer.cat.prior.1$Days_Difference,50)\n",
    "typeof(acute.exacer.cat.prior.1$Days_Difference)\n",
    "\n",
    "# absolute values\n",
    "acute.exacer.cat.prior.1['Days_Difference_Abs'] <- as.numeric(abs(acute.exacer.cat.prior.1$Days_Difference))\n",
    "typeof(acute.exacer.cat.prior.1$Days_Difference_Abs)"
   ]
  },
  {
   "cell_type": "code",
   "execution_count": 135,
   "id": "fa3e6887",
   "metadata": {},
   "outputs": [
    {
     "data": {
      "text/html": [
       "<style>\n",
       ".list-inline {list-style: none; margin:0; padding: 0}\n",
       ".list-inline>li {display: inline-block}\n",
       ".list-inline>li:not(:last-child)::after {content: \"\\00b7\"; padding: 0 .5ex}\n",
       "</style>\n",
       "<ol class=list-inline><li>0</li><li>7</li></ol>\n"
      ],
      "text/latex": [
       "\\begin{enumerate*}\n",
       "\\item 0\n",
       "\\item 7\n",
       "\\end{enumerate*}\n"
      ],
      "text/markdown": [
       "1. 0\n",
       "2. 7\n",
       "\n",
       "\n"
      ],
      "text/plain": [
       "[1] 0 7"
      ]
     },
     "metadata": {},
     "output_type": "display_data"
    }
   ],
   "source": [
    "dim(acute.exacer.cat.prior.1[duplicated(acute.exacer.cat.prior.1), ]) # no dup"
   ]
  },
  {
   "cell_type": "code",
   "execution_count": 136,
   "id": "50d25c89",
   "metadata": {},
   "outputs": [],
   "source": [
    "# Find closest date to plasma collect date\n",
    "acute.exacer.date.closest.collect <- acute.exacer.cat.prior.1 %>% select(Subject_Id, Date, \n",
    "                                                                         Days_Difference_Abs, \n",
    "                                                                         Acute_Exacerbation_Category)"
   ]
  },
  {
   "cell_type": "code",
   "execution_count": 137,
   "id": "1b0215bb",
   "metadata": {},
   "outputs": [
    {
     "data": {
      "text/html": [
       "<style>\n",
       ".list-inline {list-style: none; margin:0; padding: 0}\n",
       ".list-inline>li {display: inline-block}\n",
       ".list-inline>li:not(:last-child)::after {content: \"\\00b7\"; padding: 0 .5ex}\n",
       "</style>\n",
       "<ol class=list-inline><li>816</li><li>3</li></ol>\n"
      ],
      "text/latex": [
       "\\begin{enumerate*}\n",
       "\\item 816\n",
       "\\item 3\n",
       "\\end{enumerate*}\n"
      ],
      "text/markdown": [
       "1. 816\n",
       "2. 3\n",
       "\n",
       "\n"
      ],
      "text/plain": [
       "[1] 816   3"
      ]
     },
     "metadata": {},
     "output_type": "display_data"
    }
   ],
   "source": [
    "# find closest date to plasma collect date \n",
    "acute.exacer.closest.collect.date <- acute.exacer.date.closest.collect %>%                     # Get min by group\n",
    "  group_by(Subject_Id, Acute_Exacerbation_Category) %>%\n",
    "  summarise_at(vars(Days_Difference_Abs),\n",
    "               list(Closest_collect_date_gap = min))\n",
    "dim(acute.exacer.closest.collect.date)"
   ]
  },
  {
   "cell_type": "code",
   "execution_count": 138,
   "id": "b1684511",
   "metadata": {},
   "outputs": [
    {
     "data": {
      "text/html": [
       "<style>\n",
       ".list-inline {list-style: none; margin:0; padding: 0}\n",
       ".list-inline>li {display: inline-block}\n",
       ".list-inline>li:not(:last-child)::after {content: \"\\00b7\"; padding: 0 .5ex}\n",
       "</style>\n",
       "<ol class=list-inline><li>0</li><li>3</li></ol>\n"
      ],
      "text/latex": [
       "\\begin{enumerate*}\n",
       "\\item 0\n",
       "\\item 3\n",
       "\\end{enumerate*}\n"
      ],
      "text/markdown": [
       "1. 0\n",
       "2. 3\n",
       "\n",
       "\n"
      ],
      "text/plain": [
       "[1] 0 3"
      ]
     },
     "metadata": {},
     "output_type": "display_data"
    }
   ],
   "source": [
    "dim(acute.exacer.closest.collect.date[duplicated(acute.exacer.closest.collect.date), ]) # no dup"
   ]
  },
  {
   "cell_type": "code",
   "execution_count": 139,
   "id": "fcedac56",
   "metadata": {},
   "outputs": [
    {
     "data": {
      "text/html": [
       "<style>\n",
       ".list-inline {list-style: none; margin:0; padding: 0}\n",
       ".list-inline>li {display: inline-block}\n",
       ".list-inline>li:not(:last-child)::after {content: \"\\00b7\"; padding: 0 .5ex}\n",
       "</style>\n",
       "<ol class=list-inline><li>483</li><li>6</li></ol>\n"
      ],
      "text/latex": [
       "\\begin{enumerate*}\n",
       "\\item 483\n",
       "\\item 6\n",
       "\\end{enumerate*}\n"
      ],
      "text/markdown": [
       "1. 483\n",
       "2. 6\n",
       "\n",
       "\n"
      ],
      "text/plain": [
       "[1] 483   6"
      ]
     },
     "metadata": {},
     "output_type": "display_data"
    }
   ],
   "source": [
    "# group the data frame by 'Subject_Id' and spread the 'closet_collect_date' column\n",
    "acute.exacer.closest.collect.date.wide <- acute.exacer.closest.collect.date %>% group_by(Subject_Id, \n",
    "                                                                                    Acute_Exacerbation_Category) %>%\n",
    "                                                    pivot_wider(names_from = Acute_Exacerbation_Category, \n",
    "                                                                values_from = Closest_collect_date_gap)\n",
    "dim(acute.exacer.closest.collect.date.wide)"
   ]
  },
  {
   "cell_type": "code",
   "execution_count": 140,
   "id": "19ad0fa5",
   "metadata": {},
   "outputs": [
    {
     "data": {
      "text/html": [
       "<style>\n",
       ".list-inline {list-style: none; margin:0; padding: 0}\n",
       ".list-inline>li {display: inline-block}\n",
       ".list-inline>li:not(:last-child)::after {content: \"\\00b7\"; padding: 0 .5ex}\n",
       "</style>\n",
       "<ol class=list-inline><li>483</li><li>6</li></ol>\n"
      ],
      "text/latex": [
       "\\begin{enumerate*}\n",
       "\\item 483\n",
       "\\item 6\n",
       "\\end{enumerate*}\n"
      ],
      "text/markdown": [
       "1. 483\n",
       "2. 6\n",
       "\n",
       "\n"
      ],
      "text/plain": [
       "[1] 483   6"
      ]
     },
     "metadata": {},
     "output_type": "display_data"
    }
   ],
   "source": [
    "# add suffix cloest collect date after each diag\n",
    "colnames(acute.exacer.closest.collect.date.wide) <- paste(colnames(acute.exacer.closest.collect.date.wide),\n",
    "                                                          'closest_collect_date_gap',sep='_')\n",
    "colnames(acute.exacer.closest.collect.date.wide)[1] = 'Subject_Id'\n",
    "dim(acute.exacer.closest.collect.date.wide)"
   ]
  },
  {
   "cell_type": "code",
   "execution_count": 141,
   "id": "58094639",
   "metadata": {},
   "outputs": [
    {
     "data": {
      "text/html": [
       "<style>\n",
       ".list-inline {list-style: none; margin:0; padding: 0}\n",
       ".list-inline>li {display: inline-block}\n",
       ".list-inline>li:not(:last-child)::after {content: \"\\00b7\"; padding: 0 .5ex}\n",
       "</style>\n",
       "<ol class=list-inline><li>483</li><li>11</li></ol>\n"
      ],
      "text/latex": [
       "\\begin{enumerate*}\n",
       "\\item 483\n",
       "\\item 11\n",
       "\\end{enumerate*}\n"
      ],
      "text/markdown": [
       "1. 483\n",
       "2. 11\n",
       "\n",
       "\n"
      ],
      "text/plain": [
       "[1] 483  11"
      ]
     },
     "metadata": {},
     "output_type": "display_data"
    }
   ],
   "source": [
    "# filter for all diagnosis to include diagnosis date for each days difference\n",
    "acute.exacer.names <- unique(acute.exacer.date.closest.collect$Acute_Exacerbation_Category)\n",
    "for (acute.exacer.name in acute.exacer.names){\n",
    "    acute.exacer.date.closest.collect.each.diag <- acute.exacer.date.closest.collect %>% filter(Acute_Exacerbation_Category == acute.exacer.name)\n",
    "\n",
    "\n",
    "    # remove diagnosis_name and Plasma_collect_date\n",
    "    acute.exacer.date.closest.collect.each.diag.1 <- acute.exacer.date.closest.collect.each.diag %>% select(-c(Acute_Exacerbation_Category))\n",
    "\n",
    "\n",
    "    # replace Date name with date + diagnosis\n",
    "    names(acute.exacer.date.closest.collect.each.diag.1)[names(acute.exacer.date.closest.collect.each.diag.1) == 'Date'] <- paste(acute.exacer.name, '_closest_collect_date', sep = '')\n",
    "\n",
    "\n",
    "    # test merge date for diagnosis\n",
    "    acute.exacer.closest.collect.date.wide <- merge(acute.exacer.closest.collect.date.wide, acute.exacer.date.closest.collect.each.diag.1, \n",
    "                                                        by.x = c('Subject_Id', paste(acute.exacer.name, '_closest_collect_date_gap', sep = '')), \n",
    "                                                        by.y = c('Subject_Id', 'Days_Difference_Abs'), all.x = TRUE)\n",
    "    }\n",
    "\n",
    "\n",
    "dim(acute.exacer.closest.collect.date.wide)"
   ]
  },
  {
   "cell_type": "code",
   "execution_count": 142,
   "id": "f112f7b4",
   "metadata": {},
   "outputs": [
    {
     "data": {
      "text/html": [
       "<style>\n",
       ".list-inline {list-style: none; margin:0; padding: 0}\n",
       ".list-inline>li {display: inline-block}\n",
       ".list-inline>li:not(:last-child)::after {content: \"\\00b7\"; padding: 0 .5ex}\n",
       "</style>\n",
       "<ol class=list-inline><li>483</li><li>11</li></ol>\n"
      ],
      "text/latex": [
       "\\begin{enumerate*}\n",
       "\\item 483\n",
       "\\item 11\n",
       "\\end{enumerate*}\n"
      ],
      "text/markdown": [
       "1. 483\n",
       "2. 11\n",
       "\n",
       "\n"
      ],
      "text/plain": [
       "[1] 483  11"
      ]
     },
     "metadata": {},
     "output_type": "display_data"
    }
   ],
   "source": [
    "# remove duplication\n",
    "acute.exacer.check.unique.list <- c('Subject_Id',\n",
    "                       'Mild_persistent_asthma_with_acute_exacerbation_closest_collect_date_gap',\n",
    "                       'Severe_persistent_asthma_with_acute_exacerbation_closest_collect_date_gap',\n",
    "                       'Moderate_persistent_asthma_with_acute_exacerbation_closest_collect_date_gap',\n",
    "                       'Mild_intermittent_asthma_with_acute_exacerbation_closest_collect_date_gap',\n",
    "                       'Unspecified_asthma_with_acute_exacerbation_closest_collect_date_gap')\n",
    "acute.exacer.closest.collect.date.wide <- acute.exacer.closest.collect.date.wide[!duplicated(acute.exacer.closest.collect.date.wide[,acute.exacer.check.unique.list]), ]\n",
    "dim(acute.exacer.closest.collect.date.wide)"
   ]
  },
  {
   "cell_type": "code",
   "execution_count": 143,
   "id": "5d9633cb",
   "metadata": {},
   "outputs": [],
   "source": [
    "# find closest asthma diagnosis to collect date\n",
    "acute.exacer.closest.collect.date.cols <- acute.exacer.closest.collect.date.wide[,c('Mild_persistent_asthma_with_acute_exacerbation_closest_collect_date_gap',\n",
    "                       'Severe_persistent_asthma_with_acute_exacerbation_closest_collect_date_gap',\n",
    "                       'Moderate_persistent_asthma_with_acute_exacerbation_closest_collect_date_gap',\n",
    "                       'Mild_intermittent_asthma_with_acute_exacerbation_closest_collect_date_gap',\n",
    "                       'Unspecified_asthma_with_acute_exacerbation_closest_collect_date_gap')]\n",
    "\n",
    "\n",
    "acute.exacer.closest.collect.date.wide$Closest_collect_date_acute_exacerbation_diagnosis <- colnames(acute.exacer.closest.collect.date.cols)[apply(data.matrix(acute.exacer.closest.collect.date.cols),1,which.min)]\n",
    "\n",
    "# remove suffix _closest_collect_date_gap\n",
    "acute.exacer.closest.collect.date.wide <- acute.exacer.closest.collect.date.wide %>% mutate_at('Closest_collect_date_acute_exacerbation_diagnosis', str_replace, '_closest_collect_date_gap', '')"
   ]
  },
  {
   "cell_type": "code",
   "execution_count": 144,
   "id": "3c9acf3b",
   "metadata": {},
   "outputs": [],
   "source": [
    "# gap between closest date to collect date\n",
    "min.na.rm <- function(x){\n",
    "    min(x, na.rm = TRUE)\n",
    "}\n",
    "\n",
    "acute.exacer.closest.collect.date.wide$Closest_collect_date_acute_exacerbation_diagnosis_gap <- apply(data.matrix(acute.exacer.closest.collect.date.cols),1,min.na.rm)"
   ]
  },
  {
   "cell_type": "markdown",
   "id": "dfa738dd",
   "metadata": {},
   "source": [
    "## Acute exacerbation: Most recent diagnosis"
   ]
  },
  {
   "cell_type": "code",
   "execution_count": 145,
   "id": "22382eaa",
   "metadata": {},
   "outputs": [
    {
     "data": {
      "text/html": [
       "'double'"
      ],
      "text/latex": [
       "'double'"
      ],
      "text/markdown": [
       "'double'"
      ],
      "text/plain": [
       "[1] \"double\""
      ]
     },
     "metadata": {},
     "output_type": "display_data"
    }
   ],
   "source": [
    "typeof(acute.exacer.cat.prior$Date)"
   ]
  },
  {
   "cell_type": "code",
   "execution_count": 146,
   "id": "b69d07a6",
   "metadata": {},
   "outputs": [
    {
     "data": {
      "text/html": [
       "<style>\n",
       ".list-inline {list-style: none; margin:0; padding: 0}\n",
       ".list-inline>li {display: inline-block}\n",
       ".list-inline>li:not(:last-child)::after {content: \"\\00b7\"; padding: 0 .5ex}\n",
       "</style>\n",
       "<ol class=list-inline><li>816</li><li>3</li></ol>\n"
      ],
      "text/latex": [
       "\\begin{enumerate*}\n",
       "\\item 816\n",
       "\\item 3\n",
       "\\end{enumerate*}\n"
      ],
      "text/markdown": [
       "1. 816\n",
       "2. 3\n",
       "\n",
       "\n"
      ],
      "text/plain": [
       "[1] 816   3"
      ]
     },
     "metadata": {},
     "output_type": "display_data"
    }
   ],
   "source": [
    "# find recent date\n",
    "recent.acute.exacer.date <- acute.exacer.cat.prior %>%                                   # Get max by group\n",
    "  group_by(Subject_Id, Acute_Exacerbation_Category) %>%\n",
    "  summarise_at(vars(Date),\n",
    "               list(Recent_date = max))\n",
    "dim(recent.acute.exacer.date)"
   ]
  },
  {
   "cell_type": "code",
   "execution_count": 147,
   "id": "3888d356",
   "metadata": {},
   "outputs": [
    {
     "data": {
      "text/html": [
       "<style>\n",
       ".list-inline {list-style: none; margin:0; padding: 0}\n",
       ".list-inline>li {display: inline-block}\n",
       ".list-inline>li:not(:last-child)::after {content: \"\\00b7\"; padding: 0 .5ex}\n",
       "</style>\n",
       "<ol class=list-inline><li>483</li><li>6</li></ol>\n"
      ],
      "text/latex": [
       "\\begin{enumerate*}\n",
       "\\item 483\n",
       "\\item 6\n",
       "\\end{enumerate*}\n"
      ],
      "text/markdown": [
       "1. 483\n",
       "2. 6\n",
       "\n",
       "\n"
      ],
      "text/plain": [
       "[1] 483   6"
      ]
     },
     "metadata": {},
     "output_type": "display_data"
    }
   ],
   "source": [
    "# group the data frame by 'Subject_Id' and spread the 'max' column\n",
    "recent.acute.exacer.date.wide <- recent.acute.exacer.date %>% group_by(Subject_Id, Acute_Exacerbation_Category) %>%\n",
    "                                                    pivot_wider(names_from = Acute_Exacerbation_Category, \n",
    "                                                                values_from = Recent_date)\n",
    "dim(recent.acute.exacer.date.wide)"
   ]
  },
  {
   "cell_type": "code",
   "execution_count": 148,
   "id": "279b5f44",
   "metadata": {},
   "outputs": [],
   "source": [
    "# add suffix recent date after each diagnosis\n",
    "colnames(recent.acute.exacer.date.wide) <- paste(colnames(recent.acute.exacer.date.wide),'recent_diagnosis_date',sep='_')\n",
    "colnames(recent.acute.exacer.date.wide)[1] = 'Subject_Id'"
   ]
  },
  {
   "cell_type": "code",
   "execution_count": 149,
   "id": "3ed33159",
   "metadata": {},
   "outputs": [],
   "source": [
    "# find recent acute.exacer diagnosis\n",
    "# because recent date is string -> need to convert date formate\n",
    "acute.exacer.recent.date.cols <- recent.acute.exacer.date.wide[,c('Mild_intermittent_asthma_with_acute_exacerbation_recent_diagnosis_date', \n",
    "                                                            'Mild_persistent_asthma_with_acute_exacerbation_recent_diagnosis_date',\n",
    "                                                            'Moderate_persistent_asthma_with_acute_exacerbation_recent_diagnosis_date',\n",
    "                                                            'Severe_persistent_asthma_with_acute_exacerbation_recent_diagnosis_date',\n",
    "                                                            'Unspecified_asthma_with_acute_exacerbation_recent_diagnosis_date')]\n",
    "\n",
    "convert.date <- function(x) as.Date(x, format = '%Y-%m-%d')\n",
    "acute.exacer.recent.date.cols <- data.frame(lapply(acute.exacer.recent.date.cols, convert.date))\n",
    "acute.exacer.recent.date.cols[is.na(acute.exacer.recent.date.cols)] <- as.Date('1900-01-01', format = '%Y-%m-%d')\n",
    "recent.acute.exacer.date.wide$Most_recent_acute_exacerbation_diagnosis <- colnames(acute.exacer.recent.date.cols)[apply(data.matrix(acute.exacer.recent.date.cols),1,which.max)]\n",
    "\n",
    "# remove suffix _recent_diagnosis_date\n",
    "recent.acute.exacer.date.wide <- recent.acute.exacer.date.wide %>% mutate_at('Most_recent_acute_exacerbation_diagnosis', str_replace, '_recent_diagnosis_date', '')"
   ]
  },
  {
   "cell_type": "markdown",
   "id": "0fd0af5e",
   "metadata": {},
   "source": [
    "## Acute exacerbation: First date"
   ]
  },
  {
   "cell_type": "code",
   "execution_count": 150,
   "id": "20fd54a1",
   "metadata": {},
   "outputs": [
    {
     "data": {
      "text/html": [
       "<style>\n",
       ".list-inline {list-style: none; margin:0; padding: 0}\n",
       ".list-inline>li {display: inline-block}\n",
       ".list-inline>li:not(:last-child)::after {content: \"\\00b7\"; padding: 0 .5ex}\n",
       "</style>\n",
       "<ol class=list-inline><li>816</li><li>3</li></ol>\n"
      ],
      "text/latex": [
       "\\begin{enumerate*}\n",
       "\\item 816\n",
       "\\item 3\n",
       "\\end{enumerate*}\n"
      ],
      "text/markdown": [
       "1. 816\n",
       "2. 3\n",
       "\n",
       "\n"
      ],
      "text/plain": [
       "[1] 816   3"
      ]
     },
     "metadata": {},
     "output_type": "display_data"
    }
   ],
   "source": [
    "# find first date in acute.exacer.cat.prior\n",
    "first.acute.exacer.date <- acute.exacer.cat.prior  %>%                                      # Get min by group\n",
    "  group_by(Subject_Id, Acute_Exacerbation_Category) %>%\n",
    "  summarise_at(vars(Date),\n",
    "               list(First_date = min))\n",
    "dim(first.acute.exacer.date)"
   ]
  },
  {
   "cell_type": "code",
   "execution_count": 151,
   "id": "d78a27a6",
   "metadata": {},
   "outputs": [
    {
     "data": {
      "text/html": [
       "<style>\n",
       ".list-inline {list-style: none; margin:0; padding: 0}\n",
       ".list-inline>li {display: inline-block}\n",
       ".list-inline>li:not(:last-child)::after {content: \"\\00b7\"; padding: 0 .5ex}\n",
       "</style>\n",
       "<ol class=list-inline><li>483</li><li>6</li></ol>\n"
      ],
      "text/latex": [
       "\\begin{enumerate*}\n",
       "\\item 483\n",
       "\\item 6\n",
       "\\end{enumerate*}\n"
      ],
      "text/markdown": [
       "1. 483\n",
       "2. 6\n",
       "\n",
       "\n"
      ],
      "text/plain": [
       "[1] 483   6"
      ]
     },
     "metadata": {},
     "output_type": "display_data"
    }
   ],
   "source": [
    "# group the data frame by 'Subject_Id' and spread the 'min' column\n",
    "first.acute.exacer.date.wide <- first.acute.exacer.date %>% group_by(Subject_Id, Acute_Exacerbation_Category) %>%\n",
    "                                                    pivot_wider(names_from = Acute_Exacerbation_Category, \n",
    "                                                                values_from = First_date)\n",
    "dim(first.acute.exacer.date.wide)"
   ]
  },
  {
   "cell_type": "code",
   "execution_count": 152,
   "id": "7458087f",
   "metadata": {},
   "outputs": [],
   "source": [
    "# add suffix first date after each diagnosis\n",
    "colnames(first.acute.exacer.date.wide) <- paste(colnames(first.acute.exacer.date.wide),'first_diagnosis_date',sep='_')\n",
    "colnames(first.acute.exacer.date.wide)[1] = 'Subject_Id'"
   ]
  },
  {
   "cell_type": "code",
   "execution_count": 153,
   "id": "96fb6723",
   "metadata": {},
   "outputs": [
    {
     "data": {
      "text/html": [
       "<style>\n",
       ".list-inline {list-style: none; margin:0; padding: 0}\n",
       ".list-inline>li {display: inline-block}\n",
       ".list-inline>li:not(:last-child)::after {content: \"\\00b7\"; padding: 0 .5ex}\n",
       "</style>\n",
       "<ol class=list-inline><li>483</li><li>6</li></ol>\n"
      ],
      "text/latex": [
       "\\begin{enumerate*}\n",
       "\\item 483\n",
       "\\item 6\n",
       "\\end{enumerate*}\n"
      ],
      "text/markdown": [
       "1. 483\n",
       "2. 6\n",
       "\n",
       "\n"
      ],
      "text/plain": [
       "[1] 483   6"
      ]
     },
     "metadata": {},
     "output_type": "display_data"
    },
    {
     "data": {
      "text/html": [
       "483"
      ],
      "text/latex": [
       "483"
      ],
      "text/markdown": [
       "483"
      ],
      "text/plain": [
       "[1] 483"
      ]
     },
     "metadata": {},
     "output_type": "display_data"
    }
   ],
   "source": [
    "dim(first.acute.exacer.date.wide)\n",
    "length(unique(first.acute.exacer.date.wide$Subject_Id)) # 483"
   ]
  },
  {
   "cell_type": "code",
   "execution_count": 154,
   "id": "7b3b1ee0",
   "metadata": {},
   "outputs": [
    {
     "data": {
      "text/html": [
       "<style>\n",
       ".list-inline {list-style: none; margin:0; padding: 0}\n",
       ".list-inline>li {display: inline-block}\n",
       ".list-inline>li:not(:last-child)::after {content: \"\\00b7\"; padding: 0 .5ex}\n",
       "</style>\n",
       "<ol class=list-inline><li>483</li><li>13</li></ol>\n"
      ],
      "text/latex": [
       "\\begin{enumerate*}\n",
       "\\item 483\n",
       "\\item 13\n",
       "\\end{enumerate*}\n"
      ],
      "text/markdown": [
       "1. 483\n",
       "2. 13\n",
       "\n",
       "\n"
      ],
      "text/plain": [
       "[1] 483  13"
      ]
     },
     "metadata": {},
     "output_type": "display_data"
    },
    {
     "data": {
      "text/html": [
       "<style>\n",
       ".list-inline {list-style: none; margin:0; padding: 0}\n",
       ".list-inline>li {display: inline-block}\n",
       ".list-inline>li:not(:last-child)::after {content: \"\\00b7\"; padding: 0 .5ex}\n",
       "</style>\n",
       "<ol class=list-inline><li>483</li><li>7</li></ol>\n"
      ],
      "text/latex": [
       "\\begin{enumerate*}\n",
       "\\item 483\n",
       "\\item 7\n",
       "\\end{enumerate*}\n"
      ],
      "text/markdown": [
       "1. 483\n",
       "2. 7\n",
       "\n",
       "\n"
      ],
      "text/plain": [
       "[1] 483   7"
      ]
     },
     "metadata": {},
     "output_type": "display_data"
    },
    {
     "data": {
      "text/html": [
       "<style>\n",
       ".list-inline {list-style: none; margin:0; padding: 0}\n",
       ".list-inline>li {display: inline-block}\n",
       ".list-inline>li:not(:last-child)::after {content: \"\\00b7\"; padding: 0 .5ex}\n",
       "</style>\n",
       "<ol class=list-inline><li>483</li><li>6</li></ol>\n"
      ],
      "text/latex": [
       "\\begin{enumerate*}\n",
       "\\item 483\n",
       "\\item 6\n",
       "\\end{enumerate*}\n"
      ],
      "text/markdown": [
       "1. 483\n",
       "2. 6\n",
       "\n",
       "\n"
      ],
      "text/plain": [
       "[1] 483   6"
      ]
     },
     "metadata": {},
     "output_type": "display_data"
    },
    {
     "data": {
      "text/html": [
       "<style>\n",
       ".list-inline {list-style: none; margin:0; padding: 0}\n",
       ".list-inline>li {display: inline-block}\n",
       ".list-inline>li:not(:last-child)::after {content: \"\\00b7\"; padding: 0 .5ex}\n",
       "</style>\n",
       "<ol class=list-inline><li>483</li><li>13</li></ol>\n"
      ],
      "text/latex": [
       "\\begin{enumerate*}\n",
       "\\item 483\n",
       "\\item 13\n",
       "\\end{enumerate*}\n"
      ],
      "text/markdown": [
       "1. 483\n",
       "2. 13\n",
       "\n",
       "\n"
      ],
      "text/plain": [
       "[1] 483  13"
      ]
     },
     "metadata": {},
     "output_type": "display_data"
    }
   ],
   "source": [
    "# merge files\n",
    "dim(acute.exacer.closest.collect.date.wide)\n",
    "\n",
    "dim(recent.acute.exacer.date.wide)\n",
    "\n",
    "dim(first.acute.exacer.date.wide)\n",
    "\n",
    "dim(sum.acute.exacer.diganosis.final)"
   ]
  },
  {
   "cell_type": "code",
   "execution_count": 155,
   "id": "0e50d366",
   "metadata": {},
   "outputs": [
    {
     "data": {
      "text/html": [
       "<style>\n",
       ".list-inline {list-style: none; margin:0; padding: 0}\n",
       ".list-inline>li {display: inline-block}\n",
       ".list-inline>li:not(:last-child)::after {content: \"\\00b7\"; padding: 0 .5ex}\n",
       "</style>\n",
       "<ol class=list-inline><li>483</li><li>37</li></ol>\n"
      ],
      "text/latex": [
       "\\begin{enumerate*}\n",
       "\\item 483\n",
       "\\item 37\n",
       "\\end{enumerate*}\n"
      ],
      "text/markdown": [
       "1. 483\n",
       "2. 37\n",
       "\n",
       "\n"
      ],
      "text/plain": [
       "[1] 483  37"
      ]
     },
     "metadata": {},
     "output_type": "display_data"
    }
   ],
   "source": [
    "acute.exacer.final <- sum.acute.exacer.diganosis.final %>% left_join(acute.exacer.counts.per.ind, by = 'Subject_Id') %>%\n",
    "                                             left_join(acute.exacer.closest.collect.date.wide, by = 'Subject_Id') %>%\n",
    "                                             left_join(recent.acute.exacer.date.wide, by = 'Subject_Id') %>%\n",
    "                                             left_join(first.acute.exacer.date.wide, by = 'Subject_Id')\n",
    "dim(acute.exacer.final)"
   ]
  },
  {
   "cell_type": "code",
   "execution_count": 156,
   "id": "def3b787",
   "metadata": {},
   "outputs": [
    {
     "data": {
      "text/html": [
       "<style>\n",
       ".list-inline {list-style: none; margin:0; padding: 0}\n",
       ".list-inline>li {display: inline-block}\n",
       ".list-inline>li:not(:last-child)::after {content: \"\\00b7\"; padding: 0 .5ex}\n",
       "</style>\n",
       "<ol class=list-inline><li>483</li><li>37</li></ol>\n"
      ],
      "text/latex": [
       "\\begin{enumerate*}\n",
       "\\item 483\n",
       "\\item 37\n",
       "\\end{enumerate*}\n"
      ],
      "text/markdown": [
       "1. 483\n",
       "2. 37\n",
       "\n",
       "\n"
      ],
      "text/plain": [
       "[1] 483  37"
      ]
     },
     "metadata": {},
     "output_type": "display_data"
    }
   ],
   "source": [
    "acute.exacer.final <- acute.exacer.final %>% select(Subject_Id,\n",
    "                                            Any_Acute_Exacerbation_Existence_Yes_No,\n",
    "                                            Total_Acute_Exacerbation_Diagnosis,\n",
    "                                            Most_freq_acute_exacerbarion_diagnosis,\n",
    "                                            Most_recent_acute_exacerbation_diagnosis,\n",
    "                                            Closest_collect_date_acute_exacerbation_diagnosis,\n",
    "                                            Closest_collect_date_acute_exacerbation_diagnosis_gap,\n",
    "                                            \n",
    "                                            Mild_intermittent_asthma_with_acute_exacerbation_Existence_Yes_No,\n",
    "                                            Mild_intermittent_asthma_with_acute_exacerbation_total_diagnosis,\n",
    "                                            \n",
    "                                            Mild_intermittent_asthma_with_acute_exacerbation_first_diagnosis_date,\n",
    "                                            Mild_intermittent_asthma_with_acute_exacerbation_recent_diagnosis_date,\n",
    "                                            Mild_intermittent_asthma_with_acute_exacerbation_closest_collect_date,\n",
    "                                            Mild_intermittent_asthma_with_acute_exacerbation_closest_collect_date_gap,\n",
    "                                            Mild_persistent_asthma_with_acute_exacerbation_Existence_Yes_No,\n",
    "                                            Mild_persistent_asthma_with_acute_exacerbation_total_diagnosis,\n",
    "                                            \n",
    "                                            Mild_persistent_asthma_with_acute_exacerbation_first_diagnosis_date,\n",
    "                                            Mild_persistent_asthma_with_acute_exacerbation_recent_diagnosis_date,\n",
    "                                            Mild_persistent_asthma_with_acute_exacerbation_closest_collect_date,\n",
    "                                            Mild_persistent_asthma_with_acute_exacerbation_closest_collect_date_gap,\n",
    "                                            Moderate_persistent_asthma_with_acute_exacerbation_Existence_Yes_No,\n",
    "                                            Moderate_persistent_asthma_with_acute_exacerbation_total_diagnosis,\n",
    "                                            \n",
    "                                            Moderate_persistent_asthma_with_acute_exacerbation_first_diagnosis_date,\n",
    "                                            Moderate_persistent_asthma_with_acute_exacerbation_recent_diagnosis_date,\n",
    "                                            Moderate_persistent_asthma_with_acute_exacerbation_closest_collect_date,\n",
    "                                            Moderate_persistent_asthma_with_acute_exacerbation_closest_collect_date_gap,\n",
    "                                            Severe_persistent_asthma_with_acute_exacerbation_Existence_Yes_No,\n",
    "                                            Severe_persistent_asthma_with_acute_exacerbation_total_diagnosis,\n",
    "                                            \n",
    "                                            Severe_persistent_asthma_with_acute_exacerbation_first_diagnosis_date,\n",
    "                                            Severe_persistent_asthma_with_acute_exacerbation_recent_diagnosis_date,\n",
    "                                            Severe_persistent_asthma_with_acute_exacerbation_closest_collect_date,\n",
    "                                            Severe_persistent_asthma_with_acute_exacerbation_closest_collect_date_gap,\n",
    "                                            Unspecified_asthma_with_acute_exacerbation_Existence_Yes_No,\n",
    "                                            Unspecified_asthma_with_acute_exacerbation_total_diagnosis,\n",
    "                                            \n",
    "                                            Unspecified_asthma_with_acute_exacerbation_first_diagnosis_date,\n",
    "                                            Unspecified_asthma_with_acute_exacerbation_recent_diagnosis_date,\n",
    "                                            Unspecified_asthma_with_acute_exacerbation_closest_collect_date,\n",
    "                                            Unspecified_asthma_with_acute_exacerbation_closest_collect_date_gap)\n",
    "dim(acute.exacer.final)"
   ]
  },
  {
   "cell_type": "markdown",
   "id": "b8188a41",
   "metadata": {},
   "source": [
    "# Adrenal insufficiency"
   ]
  },
  {
   "cell_type": "code",
   "execution_count": 157,
   "id": "d2da4448",
   "metadata": {},
   "outputs": [],
   "source": [
    "# adrenal insufficiency\n",
    "adr.insuff <- c('Corticoadrenal insufficiency', 'Other adrenocortical insufficiency', \n",
    "                'Primary adrenocortical insufficiency', 'Unspecified adrenocortical insufficiency')"
   ]
  },
  {
   "cell_type": "code",
   "execution_count": 158,
   "id": "bc544ed6",
   "metadata": {},
   "outputs": [
    {
     "data": {
      "text/html": [
       "<style>\n",
       ".list-inline {list-style: none; margin:0; padding: 0}\n",
       ".list-inline>li {display: inline-block}\n",
       ".list-inline>li:not(:last-child)::after {content: \"\\00b7\"; padding: 0 .5ex}\n",
       "</style>\n",
       "<ol class=list-inline><li>5054</li><li>15</li></ol>\n"
      ],
      "text/latex": [
       "\\begin{enumerate*}\n",
       "\\item 5054\n",
       "\\item 15\n",
       "\\end{enumerate*}\n"
      ],
      "text/markdown": [
       "1. 5054\n",
       "2. 15\n",
       "\n",
       "\n"
      ],
      "text/plain": [
       "[1] 5054   15"
      ]
     },
     "metadata": {},
     "output_type": "display_data"
    }
   ],
   "source": [
    "# filter interested diagnosis based on biobank folder\n",
    "adr.insuff.diag <- filter(diag.data.ID, Diagnosis_Name %in% adr.insuff) \n",
    "dim(adr.insuff.diag)"
   ]
  },
  {
   "cell_type": "code",
   "execution_count": 159,
   "id": "12b31f5a",
   "metadata": {},
   "outputs": [
    {
     "data": {
      "text/html": [
       "4"
      ],
      "text/latex": [
       "4"
      ],
      "text/markdown": [
       "4"
      ],
      "text/plain": [
       "[1] 4"
      ]
     },
     "metadata": {},
     "output_type": "display_data"
    },
    {
     "data": {
      "text/plain": [
       "\n",
       "            Corticoadrenal insufficiency \n",
       "                                     276 \n",
       "      Other adrenocortical insufficiency \n",
       "                                     841 \n",
       "    Primary adrenocortical insufficiency \n",
       "                                     809 \n",
       "Unspecified adrenocortical insufficiency \n",
       "                                    3128 "
      ]
     },
     "metadata": {},
     "output_type": "display_data"
    },
    {
     "data": {
      "text/plain": [
       "\n",
       "ICD10  ICD9 \n",
       " 4778   276 "
      ]
     },
     "metadata": {},
     "output_type": "display_data"
    },
    {
     "data": {
      "text/plain": [
       "\n",
       " 255.4  E27.1 E27.40 E27.49 \n",
       "   276    809   3128    841 "
      ]
     },
     "metadata": {},
     "output_type": "display_data"
    }
   ],
   "source": [
    "length(unique(adr.insuff.diag$Diagnosis_Name)) # 4 different diagnosis\n",
    "table(adr.insuff.diag$Diagnosis_Name)\n",
    "table(adr.insuff.diag$Code_Type)\n",
    "table(adr.insuff.diag$Code)"
   ]
  },
  {
   "cell_type": "code",
   "execution_count": 160,
   "id": "04e4b61c",
   "metadata": {},
   "outputs": [
    {
     "data": {
      "text/html": [
       "<style>\n",
       ".list-inline {list-style: none; margin:0; padding: 0}\n",
       ".list-inline>li {display: inline-block}\n",
       ".list-inline>li:not(:last-child)::after {content: \"\\00b7\"; padding: 0 .5ex}\n",
       "</style>\n",
       "<ol class=list-inline><li>5054</li><li>10</li></ol>\n"
      ],
      "text/latex": [
       "\\begin{enumerate*}\n",
       "\\item 5054\n",
       "\\item 10\n",
       "\\end{enumerate*}\n"
      ],
      "text/markdown": [
       "1. 5054\n",
       "2. 10\n",
       "\n",
       "\n"
      ],
      "text/plain": [
       "[1] 5054   10"
      ]
     },
     "metadata": {},
     "output_type": "display_data"
    }
   ],
   "source": [
    "adr.insuff.diag <- adr.insuff.diag %>% select(Subject_Id, Date, Diagnosis_Name, Code_Type, Code,  \n",
    "                                  Diagnosis_Flag, Inpatient_Outpatient, Provider, \n",
    "                                  Hospital, Encounter_number)\n",
    "dim(adr.insuff.diag)"
   ]
  },
  {
   "cell_type": "code",
   "execution_count": 161,
   "id": "e062e9cb",
   "metadata": {},
   "outputs": [
    {
     "data": {
      "text/html": [
       "<style>\n",
       ".list-inline {list-style: none; margin:0; padding: 0}\n",
       ".list-inline>li {display: inline-block}\n",
       ".list-inline>li:not(:last-child)::after {content: \"\\00b7\"; padding: 0 .5ex}\n",
       "</style>\n",
       "<ol class=list-inline><li>101</li><li>10</li></ol>\n"
      ],
      "text/latex": [
       "\\begin{enumerate*}\n",
       "\\item 101\n",
       "\\item 10\n",
       "\\end{enumerate*}\n"
      ],
      "text/markdown": [
       "1. 101\n",
       "2. 10\n",
       "\n",
       "\n"
      ],
      "text/plain": [
       "[1] 101  10"
      ]
     },
     "metadata": {},
     "output_type": "display_data"
    }
   ],
   "source": [
    "dim(adr.insuff.diag[duplicated(adr.insuff.diag), ]) # 101"
   ]
  },
  {
   "cell_type": "code",
   "execution_count": 162,
   "id": "92bd3541",
   "metadata": {},
   "outputs": [
    {
     "data": {
      "text/html": [
       "<style>\n",
       ".list-inline {list-style: none; margin:0; padding: 0}\n",
       ".list-inline>li {display: inline-block}\n",
       ".list-inline>li:not(:last-child)::after {content: \"\\00b7\"; padding: 0 .5ex}\n",
       "</style>\n",
       "<ol class=list-inline><li>4953</li><li>10</li></ol>\n"
      ],
      "text/latex": [
       "\\begin{enumerate*}\n",
       "\\item 4953\n",
       "\\item 10\n",
       "\\end{enumerate*}\n"
      ],
      "text/markdown": [
       "1. 4953\n",
       "2. 10\n",
       "\n",
       "\n"
      ],
      "text/plain": [
       "[1] 4953   10"
      ]
     },
     "metadata": {},
     "output_type": "display_data"
    }
   ],
   "source": [
    "# remove duplicated rows\n",
    "adr.insuff.diag.no.dup <- adr.insuff.diag[!duplicated(adr.insuff.diag), ]\n",
    "dim(adr.insuff.diag.no.dup)"
   ]
  },
  {
   "cell_type": "code",
   "execution_count": 163,
   "id": "244aa1c4",
   "metadata": {},
   "outputs": [
    {
     "data": {
      "text/html": [
       "<style>\n",
       ".list-inline {list-style: none; margin:0; padding: 0}\n",
       ".list-inline>li {display: inline-block}\n",
       ".list-inline>li:not(:last-child)::after {content: \"\\00b7\"; padding: 0 .5ex}\n",
       "</style>\n",
       "<ol class=list-inline><li>0</li><li>10</li></ol>\n"
      ],
      "text/latex": [
       "\\begin{enumerate*}\n",
       "\\item 0\n",
       "\\item 10\n",
       "\\end{enumerate*}\n"
      ],
      "text/markdown": [
       "1. 0\n",
       "2. 10\n",
       "\n",
       "\n"
      ],
      "text/plain": [
       "[1]  0 10"
      ]
     },
     "metadata": {},
     "output_type": "display_data"
    }
   ],
   "source": [
    "dim(adr.insuff.diag.no.dup[duplicated(adr.insuff.diag.no.dup), ]) # no dup"
   ]
  },
  {
   "cell_type": "code",
   "execution_count": 164,
   "id": "ba24b66f",
   "metadata": {},
   "outputs": [],
   "source": [
    "# export adr.insuff. diagnosis all\n",
    "adr.insuff.diag.all <- adr.insuff.diag.no.dup %>% select(Subject_Id, Date, Diagnosis_Name) %>% arrange(Subject_Id, Date)"
   ]
  },
  {
   "cell_type": "code",
   "execution_count": 165,
   "id": "cf3592f2",
   "metadata": {},
   "outputs": [
    {
     "data": {
      "text/html": [
       "<style>\n",
       ".list-inline {list-style: none; margin:0; padding: 0}\n",
       ".list-inline>li {display: inline-block}\n",
       ".list-inline>li:not(:last-child)::after {content: \"\\00b7\"; padding: 0 .5ex}\n",
       "</style>\n",
       "<ol class=list-inline><li>2094</li><li>10</li></ol>\n"
      ],
      "text/latex": [
       "\\begin{enumerate*}\n",
       "\\item 2094\n",
       "\\item 10\n",
       "\\end{enumerate*}\n"
      ],
      "text/markdown": [
       "1. 2094\n",
       "2. 10\n",
       "\n",
       "\n"
      ],
      "text/plain": [
       "[1] 2094   10"
      ]
     },
     "metadata": {},
     "output_type": "display_data"
    }
   ],
   "source": [
    "# test duplication before remove\n",
    "dim(adr.insuff.diag.no.dup[duplicated(adr.insuff.diag.no.dup[,c('Subject_Id', 'Date')]), ]) # 2094"
   ]
  },
  {
   "cell_type": "code",
   "execution_count": 166,
   "id": "8dd4a2d8",
   "metadata": {},
   "outputs": [
    {
     "data": {
      "text/plain": [
       "\n",
       "            Corticoadrenal insufficiency \n",
       "                                     276 \n",
       "      Other adrenocortical insufficiency \n",
       "                                     803 \n",
       "    Primary adrenocortical insufficiency \n",
       "                                     806 \n",
       "Unspecified adrenocortical insufficiency \n",
       "                                    3068 "
      ]
     },
     "metadata": {},
     "output_type": "display_data"
    },
    {
     "data": {
      "text/plain": [
       "\n",
       "   0    1    2    3 \n",
       "3068  803  276  806 "
      ]
     },
     "metadata": {},
     "output_type": "display_data"
    }
   ],
   "source": [
    "# convert Cat_prior to adrenal insufficiency Category\n",
    "table(adr.insuff.diag.no.dup$Diagnosis_Name)\n",
    "adr.insuff.diag.no.dup$Cat_prior <- NA\n",
    "\n",
    "adr.insuff.diag.no.dup$Cat_prior[adr.insuff.diag.no.dup$Diagnosis_Name == 'Unspecified adrenocortical insufficiency'] <- 0\n",
    "adr.insuff.diag.no.dup$Cat_prior[adr.insuff.diag.no.dup$Diagnosis_Name == 'Other adrenocortical insufficiency'] <- 1\n",
    "adr.insuff.diag.no.dup$Cat_prior[adr.insuff.diag.no.dup$Diagnosis_Name == 'Corticoadrenal insufficiency'] <- 2\n",
    "adr.insuff.diag.no.dup$Cat_prior[adr.insuff.diag.no.dup$Diagnosis_Name == 'Primary adrenocortical insufficiency'] <- 3\n",
    "table(adr.insuff.diag.no.dup$Cat_prior)"
   ]
  },
  {
   "cell_type": "code",
   "execution_count": 167,
   "id": "6e440a49",
   "metadata": {},
   "outputs": [
    {
     "data": {
      "text/html": [
       "<style>\n",
       ".list-inline {list-style: none; margin:0; padding: 0}\n",
       ".list-inline>li {display: inline-block}\n",
       ".list-inline>li:not(:last-child)::after {content: \"\\00b7\"; padding: 0 .5ex}\n",
       "</style>\n",
       "<ol class=list-inline><li>2859</li><li>3</li></ol>\n"
      ],
      "text/latex": [
       "\\begin{enumerate*}\n",
       "\\item 2859\n",
       "\\item 3\n",
       "\\end{enumerate*}\n"
      ],
      "text/markdown": [
       "1. 2859\n",
       "2. 3\n",
       "\n",
       "\n"
      ],
      "text/plain": [
       "[1] 2859    3"
      ]
     },
     "metadata": {},
     "output_type": "display_data"
    }
   ],
   "source": [
    "# priority selecting patients with adr.insuff.diag.no.dup\n",
    "adr.insuff.cat.prior <- adr.insuff.diag.no.dup %>%                                 # Get max by group\n",
    "  group_by(Subject_Id, Date) %>%\n",
    "  summarise_at(vars(Cat_prior),\n",
    "               list(Cat_prior = max))\n",
    "dim(adr.insuff.cat.prior)\n",
    "# from 2954 to 2859"
   ]
  },
  {
   "cell_type": "code",
   "execution_count": 168,
   "id": "61a79436",
   "metadata": {},
   "outputs": [
    {
     "data": {
      "text/html": [
       "<style>\n",
       ".list-inline {list-style: none; margin:0; padding: 0}\n",
       ".list-inline>li {display: inline-block}\n",
       ".list-inline>li:not(:last-child)::after {content: \"\\00b7\"; padding: 0 .5ex}\n",
       "</style>\n",
       "<ol class=list-inline><li>0</li><li>3</li></ol>\n"
      ],
      "text/latex": [
       "\\begin{enumerate*}\n",
       "\\item 0\n",
       "\\item 3\n",
       "\\end{enumerate*}\n"
      ],
      "text/markdown": [
       "1. 0\n",
       "2. 3\n",
       "\n",
       "\n"
      ],
      "text/plain": [
       "[1] 0 3"
      ]
     },
     "metadata": {},
     "output_type": "display_data"
    }
   ],
   "source": [
    "dim(adr.insuff.cat.prior[duplicated(adr.insuff.cat.prior[,c('Subject_Id', 'Date')]), ]) # no dup"
   ]
  },
  {
   "cell_type": "code",
   "execution_count": 169,
   "id": "26eee369",
   "metadata": {},
   "outputs": [
    {
     "data": {
      "text/plain": [
       "\n",
       "   0    1    2    3 \n",
       "1771  404  216  468 "
      ]
     },
     "metadata": {},
     "output_type": "display_data"
    },
    {
     "data": {
      "text/plain": [
       "\n",
       "            Corticoadrenal_insufficiency \n",
       "                                     216 \n",
       "      Other_adrenocortical_insufficiency \n",
       "                                     404 \n",
       "    Primary_adrenocortical_insufficiency \n",
       "                                     468 \n",
       "Unspecified_adrenocortical_insufficiency \n",
       "                                    1771 "
      ]
     },
     "metadata": {},
     "output_type": "display_data"
    }
   ],
   "source": [
    "# convert Cat_prior to Adrenal_Insufficiency Category\n",
    "table(adr.insuff.cat.prior$Cat_prior)\n",
    "adr.insuff.cat.prior$Adrenal_Insufficiency_Category <- NA\n",
    "adr.insuff.cat.prior$Adrenal_Insufficiency_Category[adr.insuff.cat.prior$Cat_prior == 0] <- 'Unspecified_adrenocortical_insufficiency'\n",
    "adr.insuff.cat.prior$Adrenal_Insufficiency_Category[adr.insuff.cat.prior$Cat_prior == 1] <- 'Other_adrenocortical_insufficiency'\n",
    "adr.insuff.cat.prior$Adrenal_Insufficiency_Category[adr.insuff.cat.prior$Cat_prior == 2] <- 'Corticoadrenal_insufficiency'\n",
    "adr.insuff.cat.prior$Adrenal_Insufficiency_Category[adr.insuff.cat.prior$Cat_prior == 3] <- 'Primary_adrenocortical_insufficiency'\n",
    "\n",
    "table(adr.insuff.cat.prior$Adrenal_Insufficiency_Category)"
   ]
  },
  {
   "cell_type": "code",
   "execution_count": 170,
   "id": "328a5c09",
   "metadata": {},
   "outputs": [],
   "source": [
    "# export data with unique category for each date\n",
    "adr.insuff.cat.prior <- adr.insuff.cat.prior %>% select(Subject_Id, Date, Adrenal_Insufficiency_Category) %>%\n",
    "                                                 arrange(Subject_Id, Date)"
   ]
  },
  {
   "cell_type": "code",
   "execution_count": 171,
   "id": "526d1721",
   "metadata": {},
   "outputs": [],
   "source": [
    "# calculate for total diagnosis\n",
    "adr.insuff.cat.prior$Diagnosis <- 1 # assign 1 for diagnosis"
   ]
  },
  {
   "cell_type": "code",
   "execution_count": 172,
   "id": "f30aa6fc",
   "metadata": {},
   "outputs": [
    {
     "data": {
      "text/html": [
       "<style>\n",
       ".list-inline {list-style: none; margin:0; padding: 0}\n",
       ".list-inline>li {display: inline-block}\n",
       ".list-inline>li:not(:last-child)::after {content: \"\\00b7\"; padding: 0 .5ex}\n",
       "</style>\n",
       "<ol class=list-inline><li>171</li><li>2</li></ol>\n"
      ],
      "text/latex": [
       "\\begin{enumerate*}\n",
       "\\item 171\n",
       "\\item 2\n",
       "\\end{enumerate*}\n"
      ],
      "text/markdown": [
       "1. 171\n",
       "2. 2\n",
       "\n",
       "\n"
      ],
      "text/plain": [
       "[1] 171   2"
      ]
     },
     "metadata": {},
     "output_type": "display_data"
    }
   ],
   "source": [
    "# Group by Subject_Id and sum of diagnosis using dplyr\n",
    "adr.insuff.counts.per.ind <- adr.insuff.cat.prior %>% group_by(Subject_Id) %>% \n",
    "  summarise(Total_Adrenal_Insufficiency_Diagnosis = sum(Diagnosis),\n",
    "            .groups = 'drop')\n",
    "dim(adr.insuff.counts.per.ind)"
   ]
  },
  {
   "cell_type": "code",
   "execution_count": 173,
   "id": "76643168",
   "metadata": {},
   "outputs": [
    {
     "data": {
      "text/plain": [
       "   Min. 1st Qu.  Median    Mean 3rd Qu.    Max. \n",
       "   1.00    2.00    4.00   16.72   16.00  608.00 "
      ]
     },
     "metadata": {},
     "output_type": "display_data"
    },
    {
     "data": {
      "text/plain": [
       "\n",
       "  1   2   3   4   5   6   7   8   9  11  12  13  15  16  18  19  20  21  22  23 \n",
       " 41  21  13  11  14   4   2   8   1   2   3   5   2   2   4   1   3   2   4   3 \n",
       " 24  25  26  27  28  29  33  34  35  36  46  51  53  54  55  66  81  99 121 319 \n",
       "  2   1   1   1   1   1   2   1   3   1   1   1   1   1   1   1   1   1   1   1 \n",
       "608 \n",
       "  1 "
      ]
     },
     "metadata": {},
     "output_type": "display_data"
    }
   ],
   "source": [
    "summary(adr.insuff.counts.per.ind$Total_Adrenal_Insufficiency_Diagnosis)\n",
    "table(adr.insuff.counts.per.ind$Total_Adrenal_Insufficiency_Diagnosis)"
   ]
  },
  {
   "cell_type": "markdown",
   "id": "1c53eff2",
   "metadata": {},
   "source": [
    "## Adrenal insufficiency: Most frequency diagnosis"
   ]
  },
  {
   "cell_type": "code",
   "execution_count": 174,
   "id": "22d74cc1",
   "metadata": {},
   "outputs": [
    {
     "data": {
      "text/html": [
       "<style>\n",
       ".list-inline {list-style: none; margin:0; padding: 0}\n",
       ".list-inline>li {display: inline-block}\n",
       ".list-inline>li:not(:last-child)::after {content: \"\\00b7\"; padding: 0 .5ex}\n",
       "</style>\n",
       "<ol class=list-inline><li>2859</li><li>8</li></ol>\n"
      ],
      "text/latex": [
       "\\begin{enumerate*}\n",
       "\\item 2859\n",
       "\\item 8\n",
       "\\end{enumerate*}\n"
      ],
      "text/markdown": [
       "1. 2859\n",
       "2. 8\n",
       "\n",
       "\n"
      ],
      "text/plain": [
       "[1] 2859    8"
      ]
     },
     "metadata": {},
     "output_type": "display_data"
    }
   ],
   "source": [
    "# create dummy variables for each diag category in adr.insuff.cat.prior\n",
    "adr.insuff.dummy <- dummy_cols(adr.insuff.cat.prior,\n",
    "                   select_columns = 'Adrenal_Insufficiency_Category')\n",
    "dim(adr.insuff.dummy)"
   ]
  },
  {
   "cell_type": "code",
   "execution_count": 175,
   "id": "e7984390",
   "metadata": {},
   "outputs": [
    {
     "data": {
      "text/html": [
       "<style>\n",
       ".list-inline {list-style: none; margin:0; padding: 0}\n",
       ".list-inline>li {display: inline-block}\n",
       ".list-inline>li:not(:last-child)::after {content: \"\\00b7\"; padding: 0 .5ex}\n",
       "</style>\n",
       "<ol class=list-inline><li>171</li><li>5</li></ol>\n"
      ],
      "text/latex": [
       "\\begin{enumerate*}\n",
       "\\item 171\n",
       "\\item 5\n",
       "\\end{enumerate*}\n"
      ],
      "text/markdown": [
       "1. 171\n",
       "2. 5\n",
       "\n",
       "\n"
      ],
      "text/plain": [
       "[1] 171   5"
      ]
     },
     "metadata": {},
     "output_type": "display_data"
    }
   ],
   "source": [
    "# group by Subject_Id and sum all columns\n",
    "adr.insuff.dummy.group <- adr.insuff.dummy[,-2:-4] # remove un-neccesary columns\n",
    "sum.adr.insuff.diganosis <- adr.insuff.dummy.group %>% group_by(Subject_Id) %>% \n",
    "                                                    summarise(across(everything(), sum), .groups = 'drop') %>%\n",
    "                                                    as.data.frame()\n",
    "dim(sum.adr.insuff.diganosis)"
   ]
  },
  {
   "cell_type": "code",
   "execution_count": 176,
   "id": "923c5476",
   "metadata": {},
   "outputs": [],
   "source": [
    "# add column: Yes or No for each diagnosis\n",
    "exist.sum.adr.insuff.diganosis <- sum.adr.insuff.diganosis\n",
    "exist.sum.adr.insuff.diganosis[,-1] <- ifelse(exist.sum.adr.insuff.diganosis[,-1] > 0, 'Yes', 'No')\n",
    "colnames(exist.sum.adr.insuff.diganosis)[-1] <- paste(colnames(exist.sum.adr.insuff.diganosis[,-1]),'_Existence_Yes_No', sep = '')"
   ]
  },
  {
   "cell_type": "code",
   "execution_count": 177,
   "id": "047d1708",
   "metadata": {},
   "outputs": [],
   "source": [
    "# add suffix count after each diagnosis\n",
    "colnames(sum.adr.insuff.diganosis)<- paste(colnames(sum.adr.insuff.diganosis),'total_diagnosis',sep='_')\n",
    "colnames(sum.adr.insuff.diganosis)[1] <- 'Subject_Id'"
   ]
  },
  {
   "cell_type": "code",
   "execution_count": 178,
   "id": "2e21d9ea",
   "metadata": {},
   "outputs": [
    {
     "data": {
      "text/html": [
       "<style>\n",
       ".list-inline {list-style: none; margin:0; padding: 0}\n",
       ".list-inline>li {display: inline-block}\n",
       ".list-inline>li:not(:last-child)::after {content: \"\\00b7\"; padding: 0 .5ex}\n",
       "</style>\n",
       "<ol class=list-inline><li>171</li><li>9</li></ol>\n"
      ],
      "text/latex": [
       "\\begin{enumerate*}\n",
       "\\item 171\n",
       "\\item 9\n",
       "\\end{enumerate*}\n"
      ],
      "text/markdown": [
       "1. 171\n",
       "2. 9\n",
       "\n",
       "\n"
      ],
      "text/plain": [
       "[1] 171   9"
      ]
     },
     "metadata": {},
     "output_type": "display_data"
    }
   ],
   "source": [
    "# merge\n",
    "sum.adr.insuff.diganosis.final <- merge(sum.adr.insuff.diganosis, exist.sum.adr.insuff.diganosis, by = 'Subject_Id')\n",
    "dim(sum.adr.insuff.diganosis.final)"
   ]
  },
  {
   "cell_type": "code",
   "execution_count": 179,
   "id": "2ecaeb77",
   "metadata": {},
   "outputs": [
    {
     "data": {
      "text/html": [
       "<style>\n",
       ".list-inline {list-style: none; margin:0; padding: 0}\n",
       ".list-inline>li {display: inline-block}\n",
       ".list-inline>li:not(:last-child)::after {content: \"\\00b7\"; padding: 0 .5ex}\n",
       "</style>\n",
       "<ol class=list-inline><li>171</li><li>9</li></ol>\n"
      ],
      "text/latex": [
       "\\begin{enumerate*}\n",
       "\\item 171\n",
       "\\item 9\n",
       "\\end{enumerate*}\n"
      ],
      "text/markdown": [
       "1. 171\n",
       "2. 9\n",
       "\n",
       "\n"
      ],
      "text/plain": [
       "[1] 171   9"
      ]
     },
     "metadata": {},
     "output_type": "display_data"
    }
   ],
   "source": [
    "# Remove the 'Diagnosis_Name_' prefix from all column names\n",
    "names(sum.adr.insuff.diganosis.final) <- gsub('Adrenal_Insufficiency_Category_', '', names(sum.adr.insuff.diganosis.final))\n",
    "dim(sum.adr.insuff.diganosis.final)"
   ]
  },
  {
   "cell_type": "code",
   "execution_count": 180,
   "id": "8d2a581c",
   "metadata": {},
   "outputs": [],
   "source": [
    "# add column: Yes or No for diagnosis total\n",
    "sum.adr.insuff.diganosis.final$Any_Adrenal_Insufficiency_Existence_Yes_No <- 'Yes' # yes for diagnosis"
   ]
  },
  {
   "cell_type": "code",
   "execution_count": 181,
   "id": "f5465432",
   "metadata": {},
   "outputs": [],
   "source": [
    "# find most frequency diagnosis\n",
    "adr.insuff.cat.count <- sum.adr.insuff.diganosis.final[,c('Corticoadrenal_insufficiency_total_diagnosis', \n",
    "                                       'Other_adrenocortical_insufficiency_total_diagnosis',\n",
    "                                       'Primary_adrenocortical_insufficiency_total_diagnosis',\n",
    "                                       'Unspecified_adrenocortical_insufficiency_total_diagnosis')]\n",
    "\n",
    "sum.adr.insuff.diganosis.final$Most_freq_adrenal_insufficiency_diagnosis <- colnames(adr.insuff.cat.count)[apply(adr.insuff.cat.count,1,which.max)]\n",
    "\n",
    "# remove suffix _total_diagnosis\n",
    "sum.adr.insuff.diganosis.final <- sum.adr.insuff.diganosis.final %>% mutate_at('Most_freq_adrenal_insufficiency_diagnosis', str_replace, '_total_diagnosis', '')"
   ]
  },
  {
   "cell_type": "markdown",
   "id": "c7d6677e",
   "metadata": {},
   "source": [
    "## Adrenal insufficiency: Most recent diagnosis"
   ]
  },
  {
   "cell_type": "code",
   "execution_count": 182,
   "id": "5d841d5c",
   "metadata": {},
   "outputs": [
    {
     "data": {
      "text/html": [
       "'double'"
      ],
      "text/latex": [
       "'double'"
      ],
      "text/markdown": [
       "'double'"
      ],
      "text/plain": [
       "[1] \"double\""
      ]
     },
     "metadata": {},
     "output_type": "display_data"
    }
   ],
   "source": [
    "typeof(adr.insuff.cat.prior$Date)"
   ]
  },
  {
   "cell_type": "code",
   "execution_count": 183,
   "id": "579c10b9",
   "metadata": {},
   "outputs": [
    {
     "data": {
      "text/html": [
       "<style>\n",
       ".list-inline {list-style: none; margin:0; padding: 0}\n",
       ".list-inline>li {display: inline-block}\n",
       ".list-inline>li:not(:last-child)::after {content: \"\\00b7\"; padding: 0 .5ex}\n",
       "</style>\n",
       "<ol class=list-inline><li>255</li><li>3</li></ol>\n"
      ],
      "text/latex": [
       "\\begin{enumerate*}\n",
       "\\item 255\n",
       "\\item 3\n",
       "\\end{enumerate*}\n"
      ],
      "text/markdown": [
       "1. 255\n",
       "2. 3\n",
       "\n",
       "\n"
      ],
      "text/plain": [
       "[1] 255   3"
      ]
     },
     "metadata": {},
     "output_type": "display_data"
    }
   ],
   "source": [
    "# find recent date\n",
    "recent.adr.insuff.date <- adr.insuff.cat.prior %>%                                       # Get max by group\n",
    "  group_by(Subject_Id, Adrenal_Insufficiency_Category) %>%\n",
    "  summarise_at(vars(Date),\n",
    "               list(Recent_date = max))\n",
    "dim(recent.adr.insuff.date)"
   ]
  },
  {
   "cell_type": "code",
   "execution_count": 184,
   "id": "c9118e80",
   "metadata": {},
   "outputs": [
    {
     "data": {
      "text/html": [
       "<style>\n",
       ".list-inline {list-style: none; margin:0; padding: 0}\n",
       ".list-inline>li {display: inline-block}\n",
       ".list-inline>li:not(:last-child)::after {content: \"\\00b7\"; padding: 0 .5ex}\n",
       "</style>\n",
       "<ol class=list-inline><li>171</li><li>5</li></ol>\n"
      ],
      "text/latex": [
       "\\begin{enumerate*}\n",
       "\\item 171\n",
       "\\item 5\n",
       "\\end{enumerate*}\n"
      ],
      "text/markdown": [
       "1. 171\n",
       "2. 5\n",
       "\n",
       "\n"
      ],
      "text/plain": [
       "[1] 171   5"
      ]
     },
     "metadata": {},
     "output_type": "display_data"
    }
   ],
   "source": [
    "# group the data frame by 'Subject_Id' and spread the 'max' column\n",
    "recent.adr.insuff.date.wide <- recent.adr.insuff.date %>% group_by(Subject_Id, Adrenal_Insufficiency_Category) %>%\n",
    "                                                    pivot_wider(names_from = Adrenal_Insufficiency_Category, \n",
    "                                                                values_from = Recent_date)\n",
    "dim(recent.adr.insuff.date.wide)"
   ]
  },
  {
   "cell_type": "code",
   "execution_count": 185,
   "id": "d270abfb",
   "metadata": {},
   "outputs": [
    {
     "data": {
      "text/html": [
       "<style>\n",
       ".list-inline {list-style: none; margin:0; padding: 0}\n",
       ".list-inline>li {display: inline-block}\n",
       ".list-inline>li:not(:last-child)::after {content: \"\\00b7\"; padding: 0 .5ex}\n",
       "</style>\n",
       "<ol class=list-inline><li>171</li><li>5</li></ol>\n"
      ],
      "text/latex": [
       "\\begin{enumerate*}\n",
       "\\item 171\n",
       "\\item 5\n",
       "\\end{enumerate*}\n"
      ],
      "text/markdown": [
       "1. 171\n",
       "2. 5\n",
       "\n",
       "\n"
      ],
      "text/plain": [
       "[1] 171   5"
      ]
     },
     "metadata": {},
     "output_type": "display_data"
    }
   ],
   "source": [
    "# group the data frame by 'Subject_Id' and spread the 'max' column\n",
    "recent.adr.insuff.date.wide <- recent.adr.insuff.date %>% group_by(Subject_Id, Adrenal_Insufficiency_Category) %>%\n",
    "                                                    pivot_wider(names_from = Adrenal_Insufficiency_Category, \n",
    "                                                                values_from = Recent_date)\n",
    "dim(recent.adr.insuff.date.wide)"
   ]
  },
  {
   "cell_type": "code",
   "execution_count": 186,
   "id": "57da79fc",
   "metadata": {},
   "outputs": [],
   "source": [
    "# add suffix recent date after each diagnosis\n",
    "colnames(recent.adr.insuff.date.wide) <- paste(colnames(recent.adr.insuff.date.wide),'recent_diagnosis_date',sep='_')\n",
    "colnames(recent.adr.insuff.date.wide)[1] = 'Subject_Id'"
   ]
  },
  {
   "cell_type": "code",
   "execution_count": 187,
   "id": "a52f7554",
   "metadata": {},
   "outputs": [],
   "source": [
    "# find recent adr.insuff diagnosis\n",
    "# because recent date is string -> need to convert date formate\n",
    "adr.insuff.recent.date.cols <- recent.adr.insuff.date.wide[,c('Corticoadrenal_insufficiency_recent_diagnosis_date', \n",
    "                                                            'Unspecified_adrenocortical_insufficiency_recent_diagnosis_date',\n",
    "                                                            'Other_adrenocortical_insufficiency_recent_diagnosis_date',\n",
    "                                                            'Primary_adrenocortical_insufficiency_recent_diagnosis_date')]\n",
    "\n",
    "convert.date <- function(x) as.Date(x, format = '%Y-%m-%d')\n",
    "adr.insuff.recent.date.cols <- data.frame(lapply(adr.insuff.recent.date.cols, convert.date))\n",
    "adr.insuff.recent.date.cols[is.na(adr.insuff.recent.date.cols)] <- as.Date('1900-01-01', format = '%Y-%m-%d')\n",
    "recent.adr.insuff.date.wide$Most_recent_adrenal_insufficiency_diagnosis <- colnames(adr.insuff.recent.date.cols)[apply(data.matrix(adr.insuff.recent.date.cols),1,which.max)]"
   ]
  },
  {
   "cell_type": "markdown",
   "id": "5705efc3",
   "metadata": {},
   "source": [
    "## Adrenal insufficiency: Closest date before or after plasma collect date"
   ]
  },
  {
   "cell_type": "code",
   "execution_count": 189,
   "id": "a9452a23",
   "metadata": {},
   "outputs": [
    {
     "data": {
      "text/html": [
       "<style>\n",
       ".list-inline {list-style: none; margin:0; padding: 0}\n",
       ".list-inline>li {display: inline-block}\n",
       ".list-inline>li:not(:last-child)::after {content: \"\\00b7\"; padding: 0 .5ex}\n",
       "</style>\n",
       "<ol class=list-inline><li>2859</li><li>5</li></ol>\n"
      ],
      "text/latex": [
       "\\begin{enumerate*}\n",
       "\\item 2859\n",
       "\\item 5\n",
       "\\end{enumerate*}\n"
      ],
      "text/markdown": [
       "1. 2859\n",
       "2. 5\n",
       "\n",
       "\n"
      ],
      "text/plain": [
       "[1] 2859    5"
      ]
     },
     "metadata": {},
     "output_type": "display_data"
    }
   ],
   "source": [
    "# merge collect date with adr.insuff.cat.prior by Subject_ID\n",
    "adr.insuff.cat.prior.1 <- merge(adr.insuff.cat.prior, data.id[,c('Subject_Id', 'Plasma_collect_date')], \n",
    "                                by = 'Subject_Id')\n",
    "dim(adr.insuff.cat.prior.1)"
   ]
  },
  {
   "cell_type": "code",
   "execution_count": 190,
   "id": "e6c6eafc",
   "metadata": {},
   "outputs": [
    {
     "data": {
      "text/html": [
       "'double'"
      ],
      "text/latex": [
       "'double'"
      ],
      "text/markdown": [
       "'double'"
      ],
      "text/plain": [
       "[1] \"double\""
      ]
     },
     "metadata": {},
     "output_type": "display_data"
    }
   ],
   "source": [
    "# convert the date column to the Y-M-D format\n",
    "adr.insuff.cat.prior.1$Date <- as.Date(adr.insuff.cat.prior.1$Date, format = '%m/%d/%Y')\n",
    "typeof(adr.insuff.cat.prior.1$Date)\n",
    "# plasma collect date\n",
    "adr.insuff.cat.prior.1$Plasma_collect_date <- as.Date(adr.insuff.cat.prior.1$Plasma_collect_date, format = '%Y -%m -%d')"
   ]
  },
  {
   "cell_type": "code",
   "execution_count": 191,
   "id": "95a4ed87",
   "metadata": {},
   "outputs": [],
   "source": [
    "# substract collect date and diag date\n",
    "adr.insuff.cat.prior.1['Days_Difference'] <- difftime(adr.insuff.cat.prior.1$Plasma_collect_date, \n",
    "                                                      adr.insuff.cat.prior.1$Date, units = 'days')\n",
    "\n",
    "\n",
    "# absolute values\n",
    "adr.insuff.cat.prior.1['Days_Difference_Abs'] <- as.numeric(abs(adr.insuff.cat.prior.1$Days_Difference))"
   ]
  },
  {
   "cell_type": "code",
   "execution_count": 192,
   "id": "9990f6e7",
   "metadata": {},
   "outputs": [
    {
     "data": {
      "text/html": [
       "<style>\n",
       ".list-inline {list-style: none; margin:0; padding: 0}\n",
       ".list-inline>li {display: inline-block}\n",
       ".list-inline>li:not(:last-child)::after {content: \"\\00b7\"; padding: 0 .5ex}\n",
       "</style>\n",
       "<ol class=list-inline><li>0</li><li>7</li></ol>\n"
      ],
      "text/latex": [
       "\\begin{enumerate*}\n",
       "\\item 0\n",
       "\\item 7\n",
       "\\end{enumerate*}\n"
      ],
      "text/markdown": [
       "1. 0\n",
       "2. 7\n",
       "\n",
       "\n"
      ],
      "text/plain": [
       "[1] 0 7"
      ]
     },
     "metadata": {},
     "output_type": "display_data"
    }
   ],
   "source": [
    "dim(adr.insuff.cat.prior.1[duplicated(adr.insuff.cat.prior.1), ]) # no dup"
   ]
  },
  {
   "cell_type": "code",
   "execution_count": 193,
   "id": "bc83c736",
   "metadata": {},
   "outputs": [],
   "source": [
    "# Find closest date to plasma collect date\n",
    "adr.insuff.date.closest.collect <- adr.insuff.cat.prior.1 %>% select(Subject_Id, Date, \n",
    "                                                                     Days_Difference_Abs, \n",
    "                                                                     Adrenal_Insufficiency_Category)"
   ]
  },
  {
   "cell_type": "code",
   "execution_count": 194,
   "id": "ab8aa947",
   "metadata": {},
   "outputs": [
    {
     "data": {
      "text/html": [
       "<style>\n",
       ".list-inline {list-style: none; margin:0; padding: 0}\n",
       ".list-inline>li {display: inline-block}\n",
       ".list-inline>li:not(:last-child)::after {content: \"\\00b7\"; padding: 0 .5ex}\n",
       "</style>\n",
       "<ol class=list-inline><li>255</li><li>3</li></ol>\n"
      ],
      "text/latex": [
       "\\begin{enumerate*}\n",
       "\\item 255\n",
       "\\item 3\n",
       "\\end{enumerate*}\n"
      ],
      "text/markdown": [
       "1. 255\n",
       "2. 3\n",
       "\n",
       "\n"
      ],
      "text/plain": [
       "[1] 255   3"
      ]
     },
     "metadata": {},
     "output_type": "display_data"
    }
   ],
   "source": [
    "# find closest date to plasma collect date in adr.insuff.date.closest.collect\n",
    "adr.insuff.closest.collect.date <- adr.insuff.date.closest.collect %>%                        # Get min by group\n",
    "  group_by(Subject_Id, Adrenal_Insufficiency_Category) %>%\n",
    "  summarise_at(vars(Days_Difference_Abs),\n",
    "               list(Closest_collect_date_gap = min))\n",
    "dim(adr.insuff.closest.collect.date)"
   ]
  },
  {
   "cell_type": "code",
   "execution_count": 195,
   "id": "ce75d16d",
   "metadata": {},
   "outputs": [
    {
     "data": {
      "text/html": [
       "<style>\n",
       ".list-inline {list-style: none; margin:0; padding: 0}\n",
       ".list-inline>li {display: inline-block}\n",
       ".list-inline>li:not(:last-child)::after {content: \"\\00b7\"; padding: 0 .5ex}\n",
       "</style>\n",
       "<ol class=list-inline><li>0</li><li>3</li></ol>\n"
      ],
      "text/latex": [
       "\\begin{enumerate*}\n",
       "\\item 0\n",
       "\\item 3\n",
       "\\end{enumerate*}\n"
      ],
      "text/markdown": [
       "1. 0\n",
       "2. 3\n",
       "\n",
       "\n"
      ],
      "text/plain": [
       "[1] 0 3"
      ]
     },
     "metadata": {},
     "output_type": "display_data"
    }
   ],
   "source": [
    "dim(adr.insuff.closest.collect.date[duplicated(adr.insuff.closest.collect.date), ]) # no dup"
   ]
  },
  {
   "cell_type": "code",
   "execution_count": 196,
   "id": "32a836b8",
   "metadata": {},
   "outputs": [
    {
     "data": {
      "text/html": [
       "<style>\n",
       ".list-inline {list-style: none; margin:0; padding: 0}\n",
       ".list-inline>li {display: inline-block}\n",
       ".list-inline>li:not(:last-child)::after {content: \"\\00b7\"; padding: 0 .5ex}\n",
       "</style>\n",
       "<ol class=list-inline><li>171</li><li>5</li></ol>\n"
      ],
      "text/latex": [
       "\\begin{enumerate*}\n",
       "\\item 171\n",
       "\\item 5\n",
       "\\end{enumerate*}\n"
      ],
      "text/markdown": [
       "1. 171\n",
       "2. 5\n",
       "\n",
       "\n"
      ],
      "text/plain": [
       "[1] 171   5"
      ]
     },
     "metadata": {},
     "output_type": "display_data"
    }
   ],
   "source": [
    "# group the data frame by 'Subject_Id' and spread the 'closet_collect_date' column\n",
    "adr.insuff.closest.collect.date.wide <- adr.insuff.closest.collect.date %>% group_by(Subject_Id, \n",
    "                                                                                     Adrenal_Insufficiency_Category) %>%\n",
    "                                                    pivot_wider(names_from = Adrenal_Insufficiency_Category, \n",
    "                                                                values_from = Closest_collect_date_gap)\n",
    "dim(adr.insuff.closest.collect.date.wide)"
   ]
  },
  {
   "cell_type": "code",
   "execution_count": 197,
   "id": "d0fc637b",
   "metadata": {},
   "outputs": [
    {
     "data": {
      "text/html": [
       "<style>\n",
       ".list-inline {list-style: none; margin:0; padding: 0}\n",
       ".list-inline>li {display: inline-block}\n",
       ".list-inline>li:not(:last-child)::after {content: \"\\00b7\"; padding: 0 .5ex}\n",
       "</style>\n",
       "<ol class=list-inline><li>171</li><li>5</li></ol>\n"
      ],
      "text/latex": [
       "\\begin{enumerate*}\n",
       "\\item 171\n",
       "\\item 5\n",
       "\\end{enumerate*}\n"
      ],
      "text/markdown": [
       "1. 171\n",
       "2. 5\n",
       "\n",
       "\n"
      ],
      "text/plain": [
       "[1] 171   5"
      ]
     },
     "metadata": {},
     "output_type": "display_data"
    }
   ],
   "source": [
    "# add suffix cloest collect date after each diag\n",
    "colnames(adr.insuff.closest.collect.date.wide) <- paste(colnames(adr.insuff.closest.collect.date.wide),\n",
    "                                                        'closest_collect_date_gap',sep='_')\n",
    "colnames(adr.insuff.closest.collect.date.wide)[1] = 'Subject_Id'\n",
    "dim(adr.insuff.closest.collect.date.wide)"
   ]
  },
  {
   "cell_type": "code",
   "execution_count": 198,
   "id": "b672dd06",
   "metadata": {},
   "outputs": [
    {
     "data": {
      "text/html": [
       "<style>\n",
       ".list-inline {list-style: none; margin:0; padding: 0}\n",
       ".list-inline>li {display: inline-block}\n",
       ".list-inline>li:not(:last-child)::after {content: \"\\00b7\"; padding: 0 .5ex}\n",
       "</style>\n",
       "<ol class=list-inline><li>171</li><li>9</li></ol>\n"
      ],
      "text/latex": [
       "\\begin{enumerate*}\n",
       "\\item 171\n",
       "\\item 9\n",
       "\\end{enumerate*}\n"
      ],
      "text/markdown": [
       "1. 171\n",
       "2. 9\n",
       "\n",
       "\n"
      ],
      "text/plain": [
       "[1] 171   9"
      ]
     },
     "metadata": {},
     "output_type": "display_data"
    }
   ],
   "source": [
    "# filter for all diagnosis to include diagnosis date for each days difference\n",
    "adr.insuff.names <- unique(adr.insuff.date.closest.collect$Adrenal_Insufficiency_Category)\n",
    "for (adr.insuff.name in adr.insuff.names){\n",
    "    adr.insuff.date.closest.collect.each.diag <- adr.insuff.date.closest.collect %>% filter(Adrenal_Insufficiency_Category == adr.insuff.name)\n",
    "\n",
    "\n",
    "    # remove diagnosis_name and Plasma_collect_date\n",
    "    adr.insuff.date.closest.collect.each.diag.1 <- adr.insuff.date.closest.collect.each.diag %>% select(-c(Adrenal_Insufficiency_Category))\n",
    "\n",
    "\n",
    "    # replace Date name with date + diagnosis\n",
    "    names(adr.insuff.date.closest.collect.each.diag.1)[names(adr.insuff.date.closest.collect.each.diag.1) == 'Date'] <- paste(adr.insuff.name, '_closest_collect_date', sep = '')\n",
    "\n",
    "\n",
    "    # test merge date for diagnosis\n",
    "    adr.insuff.closest.collect.date.wide <- merge(adr.insuff.closest.collect.date.wide, adr.insuff.date.closest.collect.each.diag.1, \n",
    "                                                        by.x = c('Subject_Id', paste(adr.insuff.name, '_closest_collect_date_gap', sep = '')), \n",
    "                                                        by.y = c('Subject_Id', 'Days_Difference_Abs'), all.x = TRUE)\n",
    "    }\n",
    "\n",
    "\n",
    "dim(adr.insuff.closest.collect.date.wide)"
   ]
  },
  {
   "cell_type": "code",
   "execution_count": 199,
   "id": "53b5400b",
   "metadata": {},
   "outputs": [
    {
     "data": {
      "text/html": [
       "<style>\n",
       ".list-inline {list-style: none; margin:0; padding: 0}\n",
       ".list-inline>li {display: inline-block}\n",
       ".list-inline>li:not(:last-child)::after {content: \"\\00b7\"; padding: 0 .5ex}\n",
       "</style>\n",
       "<ol class=list-inline><li>171</li><li>9</li></ol>\n"
      ],
      "text/latex": [
       "\\begin{enumerate*}\n",
       "\\item 171\n",
       "\\item 9\n",
       "\\end{enumerate*}\n"
      ],
      "text/markdown": [
       "1. 171\n",
       "2. 9\n",
       "\n",
       "\n"
      ],
      "text/plain": [
       "[1] 171   9"
      ]
     },
     "metadata": {},
     "output_type": "display_data"
    }
   ],
   "source": [
    "# remove duplication\n",
    "adr.insuff.check.unique.list <- c('Subject_Id',\n",
    "                       'Primary_adrenocortical_insufficiency_closest_collect_date_gap',\n",
    "                       'Other_adrenocortical_insufficiency_closest_collect_date_gap',\n",
    "                       'Unspecified_adrenocortical_insufficiency_closest_collect_date_gap',\n",
    "                       'Corticoadrenal_insufficiency_closest_collect_date_gap')\n",
    "adr.insuff.closest.collect.date.wide <- adr.insuff.closest.collect.date.wide[!duplicated(adr.insuff.closest.collect.date.wide[,adr.insuff.check.unique.list]), ]\n",
    "dim(adr.insuff.closest.collect.date.wide)"
   ]
  },
  {
   "cell_type": "code",
   "execution_count": 200,
   "id": "4378ede1",
   "metadata": {},
   "outputs": [],
   "source": [
    "# find closest adr.insuff diagnosis to collect date\n",
    "adr.insuff.closest.collect.date.cols <- adr.insuff.closest.collect.date.wide[,c('Primary_adrenocortical_insufficiency_closest_collect_date_gap',\n",
    "                       'Other_adrenocortical_insufficiency_closest_collect_date_gap',\n",
    "                       'Unspecified_adrenocortical_insufficiency_closest_collect_date_gap',\n",
    "                       'Corticoadrenal_insufficiency_closest_collect_date_gap')]\n",
    "\n",
    "\n",
    "adr.insuff.closest.collect.date.wide$Closest_collect_date_adrenal_insufficiency_diagnosis <- colnames(adr.insuff.closest.collect.date.cols)[apply(data.matrix(adr.insuff.closest.collect.date.cols),1,which.min)]\n",
    "\n",
    "# remove suffix _closest_collect_date_gap\n",
    "adr.insuff.closest.collect.date.wide <- adr.insuff.closest.collect.date.wide %>% mutate_at('Closest_collect_date_adrenal_insufficiency_diagnosis', str_replace, '_closest_collect_date_gap', '')"
   ]
  },
  {
   "cell_type": "code",
   "execution_count": 201,
   "id": "8c6f99e2",
   "metadata": {},
   "outputs": [],
   "source": [
    "# gap between closest date to collect date\n",
    "min.na.rm <- function(x){\n",
    "    min(x, na.rm = TRUE)\n",
    "}\n",
    "\n",
    "adr.insuff.closest.collect.date.wide$Closest_collect_date_adrenal_insufficiency_diagnosis_gap <- apply(data.matrix(adr.insuff.closest.collect.date.cols),1,min.na.rm)"
   ]
  },
  {
   "cell_type": "markdown",
   "id": "887a4467",
   "metadata": {},
   "source": [
    "## Adrenal insufficiency: First date"
   ]
  },
  {
   "cell_type": "code",
   "execution_count": 202,
   "id": "f6dc9460",
   "metadata": {},
   "outputs": [
    {
     "data": {
      "text/html": [
       "<style>\n",
       ".list-inline {list-style: none; margin:0; padding: 0}\n",
       ".list-inline>li {display: inline-block}\n",
       ".list-inline>li:not(:last-child)::after {content: \"\\00b7\"; padding: 0 .5ex}\n",
       "</style>\n",
       "<ol class=list-inline><li>255</li><li>3</li></ol>\n"
      ],
      "text/latex": [
       "\\begin{enumerate*}\n",
       "\\item 255\n",
       "\\item 3\n",
       "\\end{enumerate*}\n"
      ],
      "text/markdown": [
       "1. 255\n",
       "2. 3\n",
       "\n",
       "\n"
      ],
      "text/plain": [
       "[1] 255   3"
      ]
     },
     "metadata": {},
     "output_type": "display_data"
    }
   ],
   "source": [
    "# find first date in adr.insuff.cat.prior\n",
    "first.adr.insuff.date <- adr.insuff.cat.prior  %>%                                      # Get min by group\n",
    "  group_by(Subject_Id, Adrenal_Insufficiency_Category) %>%\n",
    "  summarise_at(vars(Date),\n",
    "               list(First_date = min))\n",
    "dim(first.adr.insuff.date)"
   ]
  },
  {
   "cell_type": "code",
   "execution_count": 203,
   "id": "69cb761a",
   "metadata": {},
   "outputs": [
    {
     "data": {
      "text/html": [
       "<style>\n",
       ".list-inline {list-style: none; margin:0; padding: 0}\n",
       ".list-inline>li {display: inline-block}\n",
       ".list-inline>li:not(:last-child)::after {content: \"\\00b7\"; padding: 0 .5ex}\n",
       "</style>\n",
       "<ol class=list-inline><li>171</li><li>5</li></ol>\n"
      ],
      "text/latex": [
       "\\begin{enumerate*}\n",
       "\\item 171\n",
       "\\item 5\n",
       "\\end{enumerate*}\n"
      ],
      "text/markdown": [
       "1. 171\n",
       "2. 5\n",
       "\n",
       "\n"
      ],
      "text/plain": [
       "[1] 171   5"
      ]
     },
     "metadata": {},
     "output_type": "display_data"
    }
   ],
   "source": [
    "# group the data frame by 'Subject_Id' and spread the 'min' column\n",
    "first.adr.insuff.date.wide <- first.adr.insuff.date %>% group_by(Subject_Id, Adrenal_Insufficiency_Category) %>%\n",
    "                                                    pivot_wider(names_from = Adrenal_Insufficiency_Category, \n",
    "                                                                values_from = First_date)\n",
    "dim(first.adr.insuff.date.wide)"
   ]
  },
  {
   "cell_type": "code",
   "execution_count": 204,
   "id": "b1b7dcfc",
   "metadata": {},
   "outputs": [],
   "source": [
    "# add suffix first date after each diagnosis\n",
    "colnames(first.adr.insuff.date.wide) <- paste(colnames(first.adr.insuff.date.wide),'first_diagnosis_date',sep='_')\n",
    "colnames(first.adr.insuff.date.wide)[1] = 'Subject_Id'"
   ]
  },
  {
   "cell_type": "code",
   "execution_count": 205,
   "id": "68be63eb",
   "metadata": {},
   "outputs": [
    {
     "data": {
      "text/html": [
       "<style>\n",
       ".list-inline {list-style: none; margin:0; padding: 0}\n",
       ".list-inline>li {display: inline-block}\n",
       ".list-inline>li:not(:last-child)::after {content: \"\\00b7\"; padding: 0 .5ex}\n",
       "</style>\n",
       "<ol class=list-inline><li>171</li><li>5</li></ol>\n"
      ],
      "text/latex": [
       "\\begin{enumerate*}\n",
       "\\item 171\n",
       "\\item 5\n",
       "\\end{enumerate*}\n"
      ],
      "text/markdown": [
       "1. 171\n",
       "2. 5\n",
       "\n",
       "\n"
      ],
      "text/plain": [
       "[1] 171   5"
      ]
     },
     "metadata": {},
     "output_type": "display_data"
    },
    {
     "data": {
      "text/html": [
       "171"
      ],
      "text/latex": [
       "171"
      ],
      "text/markdown": [
       "171"
      ],
      "text/plain": [
       "[1] 171"
      ]
     },
     "metadata": {},
     "output_type": "display_data"
    }
   ],
   "source": [
    "dim(first.adr.insuff.date.wide)\n",
    "length(unique(first.adr.insuff.date.wide$Subject_Id)) # 171"
   ]
  },
  {
   "cell_type": "code",
   "execution_count": 206,
   "id": "19210833",
   "metadata": {},
   "outputs": [
    {
     "data": {
      "text/html": [
       "<style>\n",
       ".list-inline {list-style: none; margin:0; padding: 0}\n",
       ".list-inline>li {display: inline-block}\n",
       ".list-inline>li:not(:last-child)::after {content: \"\\00b7\"; padding: 0 .5ex}\n",
       "</style>\n",
       "<ol class=list-inline><li>171</li><li>11</li></ol>\n"
      ],
      "text/latex": [
       "\\begin{enumerate*}\n",
       "\\item 171\n",
       "\\item 11\n",
       "\\end{enumerate*}\n"
      ],
      "text/markdown": [
       "1. 171\n",
       "2. 11\n",
       "\n",
       "\n"
      ],
      "text/plain": [
       "[1] 171  11"
      ]
     },
     "metadata": {},
     "output_type": "display_data"
    },
    {
     "data": {
      "text/html": [
       "<style>\n",
       ".list-inline {list-style: none; margin:0; padding: 0}\n",
       ".list-inline>li {display: inline-block}\n",
       ".list-inline>li:not(:last-child)::after {content: \"\\00b7\"; padding: 0 .5ex}\n",
       "</style>\n",
       "<ol class=list-inline><li>171</li><li>6</li></ol>\n"
      ],
      "text/latex": [
       "\\begin{enumerate*}\n",
       "\\item 171\n",
       "\\item 6\n",
       "\\end{enumerate*}\n"
      ],
      "text/markdown": [
       "1. 171\n",
       "2. 6\n",
       "\n",
       "\n"
      ],
      "text/plain": [
       "[1] 171   6"
      ]
     },
     "metadata": {},
     "output_type": "display_data"
    },
    {
     "data": {
      "text/html": [
       "<style>\n",
       ".list-inline {list-style: none; margin:0; padding: 0}\n",
       ".list-inline>li {display: inline-block}\n",
       ".list-inline>li:not(:last-child)::after {content: \"\\00b7\"; padding: 0 .5ex}\n",
       "</style>\n",
       "<ol class=list-inline><li>171</li><li>5</li></ol>\n"
      ],
      "text/latex": [
       "\\begin{enumerate*}\n",
       "\\item 171\n",
       "\\item 5\n",
       "\\end{enumerate*}\n"
      ],
      "text/markdown": [
       "1. 171\n",
       "2. 5\n",
       "\n",
       "\n"
      ],
      "text/plain": [
       "[1] 171   5"
      ]
     },
     "metadata": {},
     "output_type": "display_data"
    },
    {
     "data": {
      "text/html": [
       "<style>\n",
       ".list-inline {list-style: none; margin:0; padding: 0}\n",
       ".list-inline>li {display: inline-block}\n",
       ".list-inline>li:not(:last-child)::after {content: \"\\00b7\"; padding: 0 .5ex}\n",
       "</style>\n",
       "<ol class=list-inline><li>171</li><li>11</li></ol>\n"
      ],
      "text/latex": [
       "\\begin{enumerate*}\n",
       "\\item 171\n",
       "\\item 11\n",
       "\\end{enumerate*}\n"
      ],
      "text/markdown": [
       "1. 171\n",
       "2. 11\n",
       "\n",
       "\n"
      ],
      "text/plain": [
       "[1] 171  11"
      ]
     },
     "metadata": {},
     "output_type": "display_data"
    }
   ],
   "source": [
    "# merge files\n",
    "dim(adr.insuff.closest.collect.date.wide)\n",
    "\n",
    "dim(recent.adr.insuff.date.wide)\n",
    "\n",
    "dim(first.adr.insuff.date.wide)\n",
    "\n",
    "dim(sum.adr.insuff.diganosis.final)"
   ]
  },
  {
   "cell_type": "code",
   "execution_count": 207,
   "id": "580459a1",
   "metadata": {},
   "outputs": [
    {
     "data": {
      "text/html": [
       "<style>\n",
       ".list-inline {list-style: none; margin:0; padding: 0}\n",
       ".list-inline>li {display: inline-block}\n",
       ".list-inline>li:not(:last-child)::after {content: \"\\00b7\"; padding: 0 .5ex}\n",
       "</style>\n",
       "<ol class=list-inline><li>171</li><li>31</li></ol>\n"
      ],
      "text/latex": [
       "\\begin{enumerate*}\n",
       "\\item 171\n",
       "\\item 31\n",
       "\\end{enumerate*}\n"
      ],
      "text/markdown": [
       "1. 171\n",
       "2. 31\n",
       "\n",
       "\n"
      ],
      "text/plain": [
       "[1] 171  31"
      ]
     },
     "metadata": {},
     "output_type": "display_data"
    }
   ],
   "source": [
    "adr.insuff.final <- sum.adr.insuff.diganosis.final %>% left_join(adr.insuff.counts.per.ind, by = 'Subject_Id') %>%\n",
    "                                             left_join(adr.insuff.closest.collect.date.wide, by = 'Subject_Id') %>%\n",
    "                                             left_join(recent.adr.insuff.date.wide, by = 'Subject_Id') %>%\n",
    "                                             left_join(first.adr.insuff.date.wide, by = 'Subject_Id')\n",
    "                                            \n",
    "dim(adr.insuff.final)"
   ]
  },
  {
   "cell_type": "code",
   "execution_count": 208,
   "id": "9efca0d7",
   "metadata": {},
   "outputs": [
    {
     "data": {
      "text/html": [
       "<style>\n",
       ".list-inline {list-style: none; margin:0; padding: 0}\n",
       ".list-inline>li {display: inline-block}\n",
       ".list-inline>li:not(:last-child)::after {content: \"\\00b7\"; padding: 0 .5ex}\n",
       "</style>\n",
       "<ol class=list-inline><li>171</li><li>31</li></ol>\n"
      ],
      "text/latex": [
       "\\begin{enumerate*}\n",
       "\\item 171\n",
       "\\item 31\n",
       "\\end{enumerate*}\n"
      ],
      "text/markdown": [
       "1. 171\n",
       "2. 31\n",
       "\n",
       "\n"
      ],
      "text/plain": [
       "[1] 171  31"
      ]
     },
     "metadata": {},
     "output_type": "display_data"
    }
   ],
   "source": [
    "adr.insuff.final<- adr.insuff.final %>% select(Subject_Id,\n",
    "                                                    Any_Adrenal_Insufficiency_Existence_Yes_No,\n",
    "                                                    Total_Adrenal_Insufficiency_Diagnosis,\n",
    "                                                    Most_freq_adrenal_insufficiency_diagnosis,\n",
    "                                                    Most_recent_adrenal_insufficiency_diagnosis,\n",
    "                                                    Closest_collect_date_adrenal_insufficiency_diagnosis,\n",
    "                                                    Closest_collect_date_adrenal_insufficiency_diagnosis_gap,\n",
    "                                                    \n",
    "                                                    Corticoadrenal_insufficiency_Existence_Yes_No,\n",
    "                                                    Corticoadrenal_insufficiency_total_diagnosis,\n",
    "                                                    \n",
    "                                                    Corticoadrenal_insufficiency_first_diagnosis_date,\n",
    "                                                    Corticoadrenal_insufficiency_recent_diagnosis_date,\n",
    "                                                    Corticoadrenal_insufficiency_closest_collect_date,\n",
    "                                                    Corticoadrenal_insufficiency_closest_collect_date_gap,\n",
    "                                                    Primary_adrenocortical_insufficiency_Existence_Yes_No,\n",
    "                                                    Primary_adrenocortical_insufficiency_total_diagnosis,\n",
    "                                                    \n",
    "                                                    Primary_adrenocortical_insufficiency_first_diagnosis_date,\n",
    "                                                    Primary_adrenocortical_insufficiency_recent_diagnosis_date,\n",
    "                                                    Primary_adrenocortical_insufficiency_closest_collect_date,\n",
    "                                                    Primary_adrenocortical_insufficiency_closest_collect_date_gap,\n",
    "                                                    Unspecified_adrenocortical_insufficiency_Existence_Yes_No,\n",
    "                                                    Unspecified_adrenocortical_insufficiency_total_diagnosis,\n",
    "                                                    \n",
    "                                                    Unspecified_adrenocortical_insufficiency_first_diagnosis_date,\n",
    "                                                    Unspecified_adrenocortical_insufficiency_recent_diagnosis_date,\n",
    "                                                    Unspecified_adrenocortical_insufficiency_closest_collect_date,\n",
    "                                                    Unspecified_adrenocortical_insufficiency_closest_collect_date_gap,\n",
    "                                                    Other_adrenocortical_insufficiency_Existence_Yes_No,\n",
    "                                                    Other_adrenocortical_insufficiency_total_diagnosis,\n",
    "                                                    \n",
    "                                                    Other_adrenocortical_insufficiency_first_diagnosis_date,\n",
    "                                                    Other_adrenocortical_insufficiency_recent_diagnosis_date,\n",
    "                                                    Other_adrenocortical_insufficiency_closest_collect_date,\n",
    "                                                    Other_adrenocortical_insufficiency_closest_collect_date_gap)\n",
    "dim(adr.insuff.final)"
   ]
  },
  {
   "cell_type": "markdown",
   "id": "175370a3",
   "metadata": {},
   "source": [
    "# COPD"
   ]
  },
  {
   "cell_type": "code",
   "execution_count": 210,
   "id": "b9c53b1d",
   "metadata": {},
   "outputs": [
    {
     "data": {
      "text/html": [
       "<style>\n",
       ".list-inline {list-style: none; margin:0; padding: 0}\n",
       ".list-inline>li {display: inline-block}\n",
       ".list-inline>li:not(:last-child)::after {content: \"\\00b7\"; padding: 0 .5ex}\n",
       "</style>\n",
       "<ol class=list-inline><li>927</li><li>8</li></ol>\n"
      ],
      "text/latex": [
       "\\begin{enumerate*}\n",
       "\\item 927\n",
       "\\item 8\n",
       "\\end{enumerate*}\n"
      ],
      "text/markdown": [
       "1. 927\n",
       "2. 8\n",
       "\n",
       "\n"
      ],
      "text/plain": [
       "[1] 927   8"
      ]
     },
     "metadata": {},
     "output_type": "display_data"
    },
    {
     "data": {
      "text/html": [
       "927"
      ],
      "text/latex": [
       "927"
      ],
      "text/markdown": [
       "927"
      ],
      "text/plain": [
       "[1] 927"
      ]
     },
     "metadata": {},
     "output_type": "display_data"
    }
   ],
   "source": [
    "# load COPD file\n",
    "copd.data <- read.csv(file.path(raw.rpdr.dir, 'COPD_PPV_Biobank.csv'))\n",
    "dim(copd.data)\n",
    "length(unique(copd.data$Subject_Id)) # only 927 indviduals\n",
    "\n",
    "copd.data <- copd.data %>% select(Subject_Id, COPD_current_or_past_history_custom_PPV_greater_0.80PPV_Existence_Yes_No,\n",
    "                                    COPD_current_or_past_history_custom_PPV_greater_0.90PPV_Existence_Yes_No)"
   ]
  },
  {
   "cell_type": "markdown",
   "id": "d9e32869",
   "metadata": {},
   "source": [
    "# Merge all files"
   ]
  },
  {
   "cell_type": "code",
   "execution_count": 211,
   "id": "0c5f8b1d",
   "metadata": {},
   "outputs": [
    {
     "data": {
      "text/html": [
       "<style>\n",
       ".list-inline {list-style: none; margin:0; padding: 0}\n",
       ".list-inline>li {display: inline-block}\n",
       ".list-inline>li:not(:last-child)::after {content: \"\\00b7\"; padding: 0 .5ex}\n",
       "</style>\n",
       "<ol class=list-inline><li>928</li><li>109</li></ol>\n"
      ],
      "text/latex": [
       "\\begin{enumerate*}\n",
       "\\item 928\n",
       "\\item 109\n",
       "\\end{enumerate*}\n"
      ],
      "text/markdown": [
       "1. 928\n",
       "2. 109\n",
       "\n",
       "\n"
      ],
      "text/plain": [
       "[1] 928 109"
      ]
     },
     "metadata": {},
     "output_type": "display_data"
    }
   ],
   "source": [
    "data.diag <- asthma.final %>% left_join(bronc.final, by = 'Subject_Id') %>% \n",
    "                                    left_join(copd.data, by = 'Subject_Id') %>%\n",
    "                                    left_join(bronchtitis.final, by = 'Subject_Id') %>%\n",
    "                                    left_join(acute.exacer.final, by = 'Subject_Id') %>% \n",
    "                                    left_join(adr.insuff.final, by = 'Subject_Id')\n",
    "dim(data.diag)"
   ]
  },
  {
   "cell_type": "code",
   "execution_count": 212,
   "id": "2de6d6e0",
   "metadata": {},
   "outputs": [
    {
     "name": "stdout",
     "output_type": "stream",
     "text": [
      "[1] \"Any_Asthma_Diagnosis_Existence_Yes_No\"\n",
      "\n",
      "Yes \n",
      "928 \n",
      "[1] \"Mild_intermittent_asthma_Existence_Yes_No\"\n",
      "\n",
      " No Yes \n",
      "274 654 \n",
      "[1] \"Mild_persistent_asthma_Existence_Yes_No\"\n",
      "\n",
      " No Yes \n",
      "698 230 \n",
      "[1] \"Moderate_persistent_asthma_Existence_Yes_No\"\n",
      "\n",
      " No Yes \n",
      "584 344 \n",
      "[1] \"Severe_persistent_asthma_Existence_Yes_No\"\n",
      "\n",
      " No Yes \n",
      "803 125 \n",
      "[1] \"Other_and_unspecificed_asthma_Existence_Yes_No\"\n",
      "\n",
      " No Yes \n",
      " 13 915 \n",
      "[1] \"Any_Bronchiectasis_Existence_Yes_No\"\n",
      "\n",
      "Yes \n",
      "194 \n",
      "[1] \"COPD_current_or_past_history_custom_PPV_greater_0.80PPV_Existence_Yes_No\"\n",
      "\n",
      " No Yes \n",
      "845  82 \n",
      "[1] \"COPD_current_or_past_history_custom_PPV_greater_0.90PPV_Existence_Yes_No\"\n",
      "\n",
      " No Yes \n",
      "883  44 \n",
      "[1] \"Any_Chronic_Bronchitis_Existence_Yes_No\"\n",
      "\n",
      "Yes \n",
      "196 \n",
      "[1] \"Any_Acute_Exacerbation_Existence_Yes_No\"\n",
      "\n",
      "Yes \n",
      "483 \n",
      "[1] \"Mild_intermittent_asthma_with_acute_exacerbation_Existence_Yes_No\"\n",
      "\n",
      " No Yes \n",
      "286 197 \n",
      "[1] \"Mild_persistent_asthma_with_acute_exacerbation_Existence_Yes_No\"\n",
      "\n",
      " No Yes \n",
      "430  53 \n",
      "[1] \"Moderate_persistent_asthma_with_acute_exacerbation_Existence_Yes_No\"\n",
      "\n",
      " No Yes \n",
      "325 158 \n",
      "[1] \"Severe_persistent_asthma_with_acute_exacerbation_Existence_Yes_No\"\n",
      "\n",
      " No Yes \n",
      "419  64 \n",
      "[1] \"Unspecified_asthma_with_acute_exacerbation_Existence_Yes_No\"\n",
      "\n",
      " No Yes \n",
      "139 344 \n",
      "[1] \"Any_Adrenal_Insufficiency_Existence_Yes_No\"\n",
      "\n",
      "Yes \n",
      "171 \n",
      "[1] \"Corticoadrenal_insufficiency_Existence_Yes_No\"\n",
      "\n",
      " No Yes \n",
      "133  38 \n",
      "[1] \"Primary_adrenocortical_insufficiency_Existence_Yes_No\"\n",
      "\n",
      " No Yes \n",
      "151  20 \n",
      "[1] \"Unspecified_adrenocortical_insufficiency_Existence_Yes_No\"\n",
      "\n",
      " No Yes \n",
      " 42 129 \n",
      "[1] \"Other_adrenocortical_insufficiency_Existence_Yes_No\"\n",
      "\n",
      " No Yes \n",
      "103  68 \n"
     ]
    }
   ],
   "source": [
    "diag.existence.cols <- colnames(data.diag %>% select(matches('Existence_Yes_No')))\n",
    "# summary statistic of diagnosis existence\n",
    "for (i in c(1:length(diag.existence.cols))){\n",
    "    print(diag.existence.cols[i])\n",
    "    print(table(data.diag[,diag.existence.cols[i]]))\n",
    "}"
   ]
  },
  {
   "cell_type": "code",
   "execution_count": 213,
   "id": "bc97725b",
   "metadata": {},
   "outputs": [],
   "source": [
    "# change empty value in existence columns to NO\n",
    "for (i in c(1:length(diag.existence.cols))){\n",
    "    data.diag[,diag.existence.cols[i]][is.na(data.diag[,diag.existence.cols[i]])] <- 'No'\n",
    "}"
   ]
  },
  {
   "cell_type": "code",
   "execution_count": 214,
   "id": "5257a89c",
   "metadata": {},
   "outputs": [
    {
     "name": "stdout",
     "output_type": "stream",
     "text": [
      "[1] \"Any_Asthma_Diagnosis_Existence_Yes_No\"\n",
      "\n",
      "Yes \n",
      "928 \n",
      "[1] \"Mild_intermittent_asthma_Existence_Yes_No\"\n",
      "\n",
      " No Yes \n",
      "274 654 \n",
      "[1] \"Mild_persistent_asthma_Existence_Yes_No\"\n",
      "\n",
      " No Yes \n",
      "698 230 \n",
      "[1] \"Moderate_persistent_asthma_Existence_Yes_No\"\n",
      "\n",
      " No Yes \n",
      "584 344 \n",
      "[1] \"Severe_persistent_asthma_Existence_Yes_No\"\n",
      "\n",
      " No Yes \n",
      "803 125 \n",
      "[1] \"Other_and_unspecificed_asthma_Existence_Yes_No\"\n",
      "\n",
      " No Yes \n",
      " 13 915 \n",
      "[1] \"Any_Bronchiectasis_Existence_Yes_No\"\n",
      "\n",
      " No Yes \n",
      "734 194 \n",
      "[1] \"COPD_current_or_past_history_custom_PPV_greater_0.80PPV_Existence_Yes_No\"\n",
      "\n",
      " No Yes \n",
      "846  82 \n",
      "[1] \"COPD_current_or_past_history_custom_PPV_greater_0.90PPV_Existence_Yes_No\"\n",
      "\n",
      " No Yes \n",
      "884  44 \n",
      "[1] \"Any_Chronic_Bronchitis_Existence_Yes_No\"\n",
      "\n",
      " No Yes \n",
      "732 196 \n",
      "[1] \"Any_Acute_Exacerbation_Existence_Yes_No\"\n",
      "\n",
      " No Yes \n",
      "445 483 \n",
      "[1] \"Mild_intermittent_asthma_with_acute_exacerbation_Existence_Yes_No\"\n",
      "\n",
      " No Yes \n",
      "731 197 \n",
      "[1] \"Mild_persistent_asthma_with_acute_exacerbation_Existence_Yes_No\"\n",
      "\n",
      " No Yes \n",
      "875  53 \n",
      "[1] \"Moderate_persistent_asthma_with_acute_exacerbation_Existence_Yes_No\"\n",
      "\n",
      " No Yes \n",
      "770 158 \n",
      "[1] \"Severe_persistent_asthma_with_acute_exacerbation_Existence_Yes_No\"\n",
      "\n",
      " No Yes \n",
      "864  64 \n",
      "[1] \"Unspecified_asthma_with_acute_exacerbation_Existence_Yes_No\"\n",
      "\n",
      " No Yes \n",
      "584 344 \n",
      "[1] \"Any_Adrenal_Insufficiency_Existence_Yes_No\"\n",
      "\n",
      " No Yes \n",
      "757 171 \n",
      "[1] \"Corticoadrenal_insufficiency_Existence_Yes_No\"\n",
      "\n",
      " No Yes \n",
      "890  38 \n",
      "[1] \"Primary_adrenocortical_insufficiency_Existence_Yes_No\"\n",
      "\n",
      " No Yes \n",
      "908  20 \n",
      "[1] \"Unspecified_adrenocortical_insufficiency_Existence_Yes_No\"\n",
      "\n",
      " No Yes \n",
      "799 129 \n",
      "[1] \"Other_adrenocortical_insufficiency_Existence_Yes_No\"\n",
      "\n",
      " No Yes \n",
      "860  68 \n"
     ]
    }
   ],
   "source": [
    "# check table of all existence columns\n",
    "for (i in c(1:length(diag.existence.cols))){\n",
    "    print(diag.existence.cols[i])\n",
    "    print(table(data.diag[,diag.existence.cols[i]]))\n",
    "}"
   ]
  },
  {
   "cell_type": "code",
   "execution_count": null,
   "id": "ac916d06",
   "metadata": {},
   "outputs": [],
   "source": []
  }
 ],
 "metadata": {
  "kernelspec": {
   "display_name": "R",
   "language": "R",
   "name": "ir"
  },
  "language_info": {
   "codemirror_mode": "r",
   "file_extension": ".r",
   "mimetype": "text/x-r-source",
   "name": "R",
   "pygments_lexer": "r",
   "version": "4.1.0"
  }
 },
 "nbformat": 4,
 "nbformat_minor": 5
}
